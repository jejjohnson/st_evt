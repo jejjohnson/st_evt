{
 "cells": [
  {
   "cell_type": "markdown",
   "id": "7f7136cb-b848-47b8-9a2e-549c124f544d",
   "metadata": {},
   "source": [
    "# Extreme Distributions"
   ]
  },
  {
   "cell_type": "code",
   "execution_count": 1,
   "id": "127299ea-ea4a-4aa7-81ee-3dfa2be31178",
   "metadata": {},
   "outputs": [],
   "source": [
    "import os\n",
    "os.environ[\"CUDA_VISIBLE_DEVICES\"] = \"\" # first gpu\n",
    "os.environ['XLA_PYTHON_CLIENT_PREALLOCATE'] = 'FALSE'\n",
    "\n",
    "import jax\n",
    "jax.config.update('jax_platform_name', 'cpu')\n",
    "\n",
    "import numpyro\n",
    "numpyro.set_platform(\"cpu\")"
   ]
  },
  {
   "cell_type": "code",
   "execution_count": 2,
   "id": "6b6b5a0e-ac73-4594-84fa-a33912ae2570",
   "metadata": {},
   "outputs": [],
   "source": [
    "import autoroot\n",
    "from pathlib import Path\n",
    "import numpy as np\n",
    "import xarray as xr\n",
    "import pandas as pd\n",
    "import pint_xarray\n",
    "\n",
    "\n",
    "\n",
    "from loguru import logger\n",
    "\n",
    "\n",
    "from numpyro.infer import Predictive\n",
    "import arviz as az\n",
    "\n",
    "import xarray as xr\n",
    "\n",
    "import matplotlib.pyplot as plt\n",
    "import seaborn as sns\n",
    "sns.reset_defaults()\n",
    "sns.set_context(context=\"talk\", font_scale=0.7)\n",
    "\n",
    "\n",
    "\n",
    "# num_devices = 5\n",
    "# numpyro.set_host_device_count(num_devices)\n",
    "\n",
    "\n",
    "%matplotlib inline\n",
    "%load_ext autoreload\n",
    "%autoreload 2"
   ]
  },
  {
   "cell_type": "markdown",
   "id": "5b96b0a2-400f-4d97-8794-da8d4892461e",
   "metadata": {},
   "source": [
    "## Temperature"
   ]
  },
  {
   "cell_type": "code",
   "execution_count": 3,
   "id": "fc8b43b8-2a06-43de-ac01-dc909a1363fa",
   "metadata": {},
   "outputs": [
    {
     "name": "stderr",
     "output_type": "stream",
     "text": [
      "\u001b[32m2024-12-04 14:25:54.167\u001b[0m | \u001b[1mINFO    \u001b[0m | \u001b[36m__main__\u001b[0m:\u001b[36m<module>\u001b[0m:\u001b[36m4\u001b[0m - \u001b[1mInitializaing paths...\u001b[0m\n"
     ]
    }
   ],
   "source": [
    "import os\n",
    "from pathlib import Path\n",
    "\n",
    "logger.info(\"Initializaing paths...\")\n",
    "\n",
    "raw_data_dir = Path(os.getenv(\"RAW_DATA_SAVEDIR\"))\n",
    "clean_data_dir = Path(os.getenv(\"CLEAN_DATA_SAVEDIR\"))\n",
    "\n",
    "DATA_URL = clean_data_dir.joinpath(\"t2m_stations_spain.zarr\")"
   ]
  },
  {
   "cell_type": "markdown",
   "id": "7716fcff-4865-4faa-9fa0-7e083a71f6e2",
   "metadata": {},
   "source": [
    "### Data"
   ]
  },
  {
   "cell_type": "code",
   "execution_count": 4,
   "id": "be2feb87-660b-4604-9835-c88d36a6a773",
   "metadata": {},
   "outputs": [],
   "source": [
    "ds = xr.open_dataset(DATA_URL, engine=\"zarr\")\n",
    "ds = ds.sel(time=slice(None, \"2019\"))\n",
    "\n",
    "variable_name = \"t2m_max\""
   ]
  },
  {
   "cell_type": "markdown",
   "id": "5d72204b-03a2-465e-9f44-c5cb9cb459cd",
   "metadata": {},
   "source": [
    "## Block Maximum Extremes"
   ]
  },
  {
   "cell_type": "markdown",
   "id": "395aa16b-412c-4107-a4f6-4ec70d505de0",
   "metadata": {},
   "source": [
    "### Method I - Masks"
   ]
  },
  {
   "cell_type": "code",
   "execution_count": 5,
   "id": "be5787e2-6f20-4890-a716-cfc17ed11038",
   "metadata": {},
   "outputs": [],
   "source": [
    "from st_evt.extremes import block_maxima_year, block_maxima_yearly_group"
   ]
  },
  {
   "cell_type": "code",
   "execution_count": 6,
   "id": "81126213-0a6f-4a79-a2c4-86d824252940",
   "metadata": {},
   "outputs": [
    {
     "name": "stderr",
     "output_type": "stream",
     "text": [
      "\u001b[32m2024-12-04 14:25:59.453\u001b[0m | \u001b[1mINFO    \u001b[0m | \u001b[36m__main__\u001b[0m:\u001b[36m<module>\u001b[0m:\u001b[36m4\u001b[0m - \u001b[1mT2M_MAX | Calculating BM (Year) ...\u001b[0m\n",
      "\u001b[32m2024-12-04 14:26:02.312\u001b[0m | \u001b[1mINFO    \u001b[0m | \u001b[36m__main__\u001b[0m:\u001b[36m<module>\u001b[0m:\u001b[36m8\u001b[0m - \u001b[1mT2M_MAX | Calculating BM (Season) ...\u001b[0m\n",
      "\u001b[32m2024-12-04 14:26:08.369\u001b[0m | \u001b[1mINFO    \u001b[0m | \u001b[36m__main__\u001b[0m:\u001b[36m<module>\u001b[0m:\u001b[36m13\u001b[0m - \u001b[1mT2M_MAX | Calculating BM (Month) ...\u001b[0m\n"
     ]
    },
    {
     "name": "stdout",
     "output_type": "stream",
     "text": [
      "CPU times: user 18.6 s, sys: 2.89 s, total: 21.5 s\n",
      "Wall time: 21.8 s\n"
     ]
    }
   ],
   "source": [
    "%%time\n",
    "ds_bm = ds.copy()\n",
    "\n",
    "# block maximum (YEAR)\n",
    "logger.info(f\"{variable_name.upper()} | Calculating BM (Year) ...\")\n",
    "ds_bm[f\"{variable_name}_bm_year\"] = block_maxima_year(ds_bm[variable_name].transpose(\"time\", \"station_id\"))\n",
    "\n",
    "# block maximum (Season)\n",
    "logger.info(f\"{variable_name.upper()} | Calculating BM (Season) ...\")\n",
    "group = \"time.season\"\n",
    "ds_bm[f\"{variable_name}_bm_season\"] = block_maxima_yearly_group(ds_bm[variable_name].transpose(\"time\", \"station_id\"), group=group)\n",
    "\n",
    "# block maximum (Month)\n",
    "logger.info(f\"{variable_name.upper()} | Calculating BM (Month) ...\")\n",
    "group = \"time.month\"\n",
    "ds_bm[f\"{variable_name}_bm_month\"] = block_maxima_yearly_group(ds_bm[variable_name].transpose(\"time\", \"station_id\"), group=group)\n"
   ]
  },
  {
   "cell_type": "markdown",
   "id": "a2b8f201-9234-48e4-8fe2-426b2617e76f",
   "metadata": {},
   "source": [
    "#### Saving"
   ]
  },
  {
   "cell_type": "code",
   "execution_count": 7,
   "id": "c937465d-c4e4-4e29-a19e-4f3647d56f47",
   "metadata": {},
   "outputs": [
    {
     "name": "stderr",
     "output_type": "stream",
     "text": [
      "\u001b[32m2024-12-04 14:26:21.475\u001b[0m | \u001b[1mINFO    \u001b[0m | \u001b[36m__main__\u001b[0m:\u001b[36m<module>\u001b[0m:\u001b[36m1\u001b[0m - \u001b[1mT2M_MAX | Saving Yearly BM to disk ...\u001b[0m\n",
      "\u001b[32m2024-12-04 14:26:21.475\u001b[0m | \u001b[34m\u001b[1mDEBUG   \u001b[0m | \u001b[36m__main__\u001b[0m:\u001b[36m<module>\u001b[0m:\u001b[36m4\u001b[0m - \u001b[34m\u001b[1mSave file: /home/juanjohn/pool_data/dynev4eo/data/clean/t2m_max_stations_spain_gmst_bm.zarr\u001b[0m\n"
     ]
    }
   ],
   "source": [
    "logger.info(f\"{variable_name.upper()} | Saving Yearly BM to disk ...\")\n",
    "save_name = f\"{variable_name}_stations_spain_gmst_bm.zarr\"\n",
    "full_save_path = clean_data_dir.joinpath(save_name)\n",
    "logger.debug(f\"Save file: {full_save_path}\")\n",
    "ds_bm.to_zarr(full_save_path, mode=\"w\");"
   ]
  },
  {
   "cell_type": "markdown",
   "id": "34118ccd-4865-41f3-bc15-54c008eec9fc",
   "metadata": {},
   "source": [
    "### Method II - Resampling"
   ]
  },
  {
   "cell_type": "markdown",
   "id": "7857df00-45cb-4518-9b40-3355cb8efbe1",
   "metadata": {},
   "source": [
    "Alternatively, we can resample using the blocks that we wish to use.\n",
    "This method is arguably simpler to implement.\n",
    "However, we lose all of the information regarding which actual date we have an extreme event.\n",
    "\n",
    "\n",
    "In other words, using the above method with the mask, we can always obtain a resampled array at a particular frequency. \n",
    "However, resampling first will lose information."
   ]
  },
  {
   "cell_type": "code",
   "execution_count": 8,
   "id": "27896137-8662-47d8-9caf-a49a7603e98c",
   "metadata": {},
   "outputs": [
    {
     "name": "stderr",
     "output_type": "stream",
     "text": [
      "\u001b[32m2024-12-04 14:26:26.962\u001b[0m | \u001b[1mINFO    \u001b[0m | \u001b[36m__main__\u001b[0m:\u001b[36m<module>\u001b[0m:\u001b[36m2\u001b[0m - \u001b[1mT2M_MAX | Calculating BM (Year) ...\u001b[0m\n",
      "\u001b[32m2024-12-04 14:26:27.431\u001b[0m | \u001b[1mINFO    \u001b[0m | \u001b[36m__main__\u001b[0m:\u001b[36m<module>\u001b[0m:\u001b[36m6\u001b[0m - \u001b[1mT2M_MAX | Calculating BM (Season) ...\u001b[0m\n",
      "\u001b[32m2024-12-04 14:26:28.541\u001b[0m | \u001b[1mINFO    \u001b[0m | \u001b[36m__main__\u001b[0m:\u001b[36m<module>\u001b[0m:\u001b[36m10\u001b[0m - \u001b[1mT2M_MAX | Calculating BM (Month) ...\u001b[0m\n"
     ]
    },
    {
     "name": "stdout",
     "output_type": "stream",
     "text": [
      "CPU times: user 3.95 s, sys: 809 ms, total: 4.76 s\n",
      "Wall time: 4.84 s\n"
     ]
    }
   ],
   "source": [
    "%%time\n",
    "\n",
    "# block maximum (YEAR)\n",
    "logger.info(f\"{variable_name.upper()} | Calculating BM (Year) ...\")\n",
    "ds_bm_year = ds.resample(time=\"1YE\").max().sel(time=slice(None, \"2019\"))\n",
    "\n",
    "# block maximum (SEASON)\n",
    "logger.info(f\"{variable_name.upper()} | Calculating BM (Season) ...\")\n",
    "ds_bm_season = ds.resample(time='QS-DEC').max().sel(time=slice(None, \"2019\"))\n",
    "\n",
    "# block maximum (MONTH)\n",
    "logger.info(f\"{variable_name.upper()} | Calculating BM (Month) ...\")\n",
    "ds_bm_month = ds.resample(time=\"1ME\").max().sel(time=slice(None, \"2019\"))"
   ]
  },
  {
   "cell_type": "markdown",
   "id": "80d59ac1-2370-46b3-bbad-9973f93a5c06",
   "metadata": {},
   "source": [
    "#### Saving"
   ]
  },
  {
   "cell_type": "code",
   "execution_count": 9,
   "id": "5c5ef5e1-85c7-4a69-8f8e-5df1917a932e",
   "metadata": {},
   "outputs": [
    {
     "name": "stderr",
     "output_type": "stream",
     "text": [
      "\u001b[32m2024-12-04 14:26:37.057\u001b[0m | \u001b[1mINFO    \u001b[0m | \u001b[36m__main__\u001b[0m:\u001b[36m<module>\u001b[0m:\u001b[36m1\u001b[0m - \u001b[1mT2M_MAX | Saving Yearly BM to disk...\u001b[0m\n",
      "\u001b[32m2024-12-04 14:26:37.058\u001b[0m | \u001b[34m\u001b[1mDEBUG   \u001b[0m | \u001b[36m__main__\u001b[0m:\u001b[36m<module>\u001b[0m:\u001b[36m4\u001b[0m - \u001b[34m\u001b[1mSave file: /home/juanjohn/pool_data/dynev4eo/data/clean/t2m_stations_spain.zarr/t2m_max_stations_spain_gmst_bm_year.zarr\u001b[0m\n",
      "\u001b[32m2024-12-04 14:26:37.692\u001b[0m | \u001b[1mINFO    \u001b[0m | \u001b[36m__main__\u001b[0m:\u001b[36m<module>\u001b[0m:\u001b[36m8\u001b[0m - \u001b[1mT2M_MAX | Saving Seasonal BM to disk...\u001b[0m\n",
      "\u001b[32m2024-12-04 14:26:37.693\u001b[0m | \u001b[34m\u001b[1mDEBUG   \u001b[0m | \u001b[36m__main__\u001b[0m:\u001b[36m<module>\u001b[0m:\u001b[36m11\u001b[0m - \u001b[34m\u001b[1mSave file: /home/juanjohn/pool_data/dynev4eo/data/clean/t2m_stations_spain.zarr/t2m_max_stations_spain_gmst_bm_season.zarr\u001b[0m\n",
      "\u001b[32m2024-12-04 14:26:38.300\u001b[0m | \u001b[1mINFO    \u001b[0m | \u001b[36m__main__\u001b[0m:\u001b[36m<module>\u001b[0m:\u001b[36m14\u001b[0m - \u001b[1mT2M_MAX | Saving Monthly BM to disk...\u001b[0m\n",
      "\u001b[32m2024-12-04 14:26:38.300\u001b[0m | \u001b[34m\u001b[1mDEBUG   \u001b[0m | \u001b[36m__main__\u001b[0m:\u001b[36m<module>\u001b[0m:\u001b[36m17\u001b[0m - \u001b[34m\u001b[1mSave file: /home/juanjohn/pool_data/dynev4eo/data/clean/t2m_stations_spain.zarr/t2m_max_stations_spain_gmst_bm_month.zarr\u001b[0m\n"
     ]
    }
   ],
   "source": [
    "logger.info(f\"{variable_name.upper()} | Saving Yearly BM to disk...\")\n",
    "save_name = f\"{variable_name}_stations_spain_gmst_bm_year.zarr\"\n",
    "full_save_path = DATA_URL.joinpath(save_name)\n",
    "logger.debug(f\"Save file: {full_save_path}\")\n",
    "ds_bm_year.to_zarr(full_save_path, mode=\"w\");\n",
    "\n",
    "\n",
    "logger.info(f\"{variable_name.upper()} | Saving Seasonal BM to disk...\")\n",
    "save_name = f\"{variable_name}_stations_spain_gmst_bm_season.zarr\"\n",
    "full_save_path = DATA_URL.joinpath(save_name)\n",
    "logger.debug(f\"Save file: {full_save_path}\")\n",
    "ds_bm_season.to_zarr(full_save_path, mode=\"w\");\n",
    "\n",
    "logger.info(f\"{variable_name.upper()} | Saving Monthly BM to disk...\")\n",
    "save_name = f\"{variable_name}_stations_spain_gmst_bm_month.zarr\"\n",
    "full_save_path = DATA_URL.joinpath(save_name)\n",
    "logger.debug(f\"Save file: {full_save_path}\")\n",
    "ds_bm_month.to_zarr(full_save_path, mode=\"w\");"
   ]
  },
  {
   "cell_type": "markdown",
   "id": "1253df5c-2a89-4e23-b81d-df834e89eb61",
   "metadata": {},
   "source": [
    "## Precipitation"
   ]
  },
  {
   "cell_type": "code",
   "execution_count": 14,
   "id": "a9f00425-cd5a-4f3b-a54a-c328f0ed6e50",
   "metadata": {},
   "outputs": [],
   "source": [
    "DATA_URL = clean_data_dir.joinpath(\"pr_stations_spain.zarr\")"
   ]
  },
  {
   "cell_type": "markdown",
   "id": "cb606269-8cee-4f30-9742-177c362b9682",
   "metadata": {},
   "source": [
    "### Data"
   ]
  },
  {
   "cell_type": "code",
   "execution_count": 15,
   "id": "511ed0f8-aa46-4344-8a2b-2cb23dfdc5d4",
   "metadata": {},
   "outputs": [],
   "source": [
    "ds = xr.open_dataset(DATA_URL, engine=\"zarr\")\n",
    "ds = ds.sel(time=slice(None, \"2019\"))\n",
    "\n",
    "variable_name = \"pr\""
   ]
  },
  {
   "cell_type": "markdown",
   "id": "65813440-d3f6-452c-879f-64035d18a66c",
   "metadata": {},
   "source": [
    "## Block Maximum Extremes"
   ]
  },
  {
   "cell_type": "markdown",
   "id": "3054cc28-be8f-4434-9e2c-77abd29cf0b3",
   "metadata": {},
   "source": [
    "### Method I - Masks"
   ]
  },
  {
   "cell_type": "code",
   "execution_count": 18,
   "id": "beb3f119-8217-40ab-8245-dc32317ce2b2",
   "metadata": {},
   "outputs": [
    {
     "name": "stderr",
     "output_type": "stream",
     "text": [
      "\u001b[32m2024-12-04 14:28:00.442\u001b[0m | \u001b[1mINFO    \u001b[0m | \u001b[36m__main__\u001b[0m:\u001b[36m<module>\u001b[0m:\u001b[36m4\u001b[0m - \u001b[1mPR | Calculating BM (Year)...\u001b[0m\n",
      "\u001b[32m2024-12-04 14:28:05.501\u001b[0m | \u001b[1mINFO    \u001b[0m | \u001b[36m__main__\u001b[0m:\u001b[36m<module>\u001b[0m:\u001b[36m8\u001b[0m - \u001b[1mPR | Calculating BM (Season)...\u001b[0m\n"
     ]
    },
    {
     "name": "stdout",
     "output_type": "stream",
     "text": [
      "CPU times: user 15.6 s, sys: 1.55 s, total: 17.1 s\n",
      "Wall time: 17.2 s\n"
     ]
    }
   ],
   "source": [
    "%%time\n",
    "ds_bm = ds.copy()\n",
    "\n",
    "# block maximum (YEAR)\n",
    "logger.info(f\"{variable_name.upper()} | Calculating BM (Year)...\")\n",
    "ds_bm[f\"{variable_name}_bm_year\"] = block_maxima_year(ds_bm[variable_name].transpose(\"time\", \"station_id\"))\n",
    "\n",
    "# block maximum (Season)\n",
    "logger.info(f\"{variable_name.upper()} | Calculating BM (Season)...\")\n",
    "group = \"time.season\"\n",
    "ds_bm[f\"{variable_name}_bm_season\"] = block_maxima_yearly_group(ds_bm[variable_name].transpose(\"time\", \"station_id\"), group=group)\n",
    "\n",
    "# # block maximum (Month)\n",
    "# logger.info(f\"{variable_name.upper()} | Calculating BM (Month)...\")\n",
    "# group = \"time.month\"\n",
    "# ds_bm[f\"{variable_name}_bm_month\"] = block_maxima_yearly_group(ds_bm[variable_name].transpose(\"time\", \"station_id\"), group=group)\n"
   ]
  },
  {
   "cell_type": "markdown",
   "id": "0e34cb6d-35a6-4d1f-82e1-a0276d152a60",
   "metadata": {},
   "source": [
    "#### Saving"
   ]
  },
  {
   "cell_type": "code",
   "execution_count": 19,
   "id": "b3a82b32-74e5-48d5-942f-1eaeb8770ac2",
   "metadata": {},
   "outputs": [
    {
     "name": "stderr",
     "output_type": "stream",
     "text": [
      "\u001b[32m2024-12-04 14:28:17.761\u001b[0m | \u001b[1mINFO    \u001b[0m | \u001b[36m__main__\u001b[0m:\u001b[36m<module>\u001b[0m:\u001b[36m1\u001b[0m - \u001b[1mPR | Saving Yearly BM to disk...\u001b[0m\n",
      "\u001b[32m2024-12-04 14:28:17.762\u001b[0m | \u001b[34m\u001b[1mDEBUG   \u001b[0m | \u001b[36m__main__\u001b[0m:\u001b[36m<module>\u001b[0m:\u001b[36m4\u001b[0m - \u001b[34m\u001b[1mSave file: /home/juanjohn/pool_data/dynev4eo/data/clean/pr_stations_spain_bm.zarr\u001b[0m\n"
     ]
    }
   ],
   "source": [
    "logger.info(f\"{variable_name.upper()} | Saving Yearly BM to disk...\")\n",
    "save_name = f\"{variable_name}_stations_spain_bm.zarr\"\n",
    "full_save_path = clean_data_dir.joinpath(save_name)\n",
    "logger.debug(f\"Save file: {full_save_path}\")\n",
    "ds_bm.to_zarr(full_save_path, mode=\"w\");"
   ]
  },
  {
   "cell_type": "markdown",
   "id": "cff9343b-85fe-4752-8a6d-5dabc7c8aa9f",
   "metadata": {},
   "source": [
    "### Method II - Resampling"
   ]
  },
  {
   "cell_type": "markdown",
   "id": "6a67d329-64e8-41ea-949c-8d289285aa10",
   "metadata": {},
   "source": [
    "Alternatively, we can resample using the blocks that we wish to use.\n",
    "This method is arguably simpler to implement.\n",
    "However, we lose all of the information regarding which actual date we have an extreme event.\n",
    "\n",
    "\n",
    "In other words, using the above method with the mask, we can always obtain a resampled array at a particular frequency. \n",
    "However, resampling first will lose information."
   ]
  },
  {
   "cell_type": "code",
   "execution_count": 20,
   "id": "5a9eae12-914e-4da6-9bc4-50d75ef85cab",
   "metadata": {},
   "outputs": [
    {
     "name": "stderr",
     "output_type": "stream",
     "text": [
      "\u001b[32m2024-12-04 14:28:20.609\u001b[0m | \u001b[1mINFO    \u001b[0m | \u001b[36m__main__\u001b[0m:\u001b[36m<module>\u001b[0m:\u001b[36m2\u001b[0m - \u001b[1mPR | Calculating BM (Year)...\u001b[0m\n",
      "\u001b[32m2024-12-04 14:28:21.260\u001b[0m | \u001b[1mINFO    \u001b[0m | \u001b[36m__main__\u001b[0m:\u001b[36m<module>\u001b[0m:\u001b[36m6\u001b[0m - \u001b[1mPR | Calculating BM (Season)...\u001b[0m\n",
      "\u001b[32m2024-12-04 14:28:23.654\u001b[0m | \u001b[1mINFO    \u001b[0m | \u001b[36m__main__\u001b[0m:\u001b[36m<module>\u001b[0m:\u001b[36m10\u001b[0m - \u001b[1mPR | Calculating BM (Month) ...\u001b[0m\n"
     ]
    },
    {
     "name": "stdout",
     "output_type": "stream",
     "text": [
      "CPU times: user 9.13 s, sys: 1.04 s, total: 10.2 s\n",
      "Wall time: 10.3 s\n"
     ]
    }
   ],
   "source": [
    "%%time\n",
    "\n",
    "# block maximum (YEAR)\n",
    "logger.info(f\"{variable_name.upper()} | Calculating BM (Year)...\")\n",
    "ds_bm_year = ds.resample(time=\"1YE\").max().sel(time=slice(None, \"2019\"))\n",
    "\n",
    "# block maximum (SEASON)\n",
    "logger.info(f\"{variable_name.upper()} | Calculating BM (Season)...\")\n",
    "ds_bm_season = ds.resample(time='QS-DEC').max().sel(time=slice(None, \"2019\"))\n",
    "\n",
    "# block maximum (MONTH)\n",
    "logger.info(f\"{variable_name.upper()} | Calculating BM (Month) ...\")\n",
    "ds_bm_month = ds.resample(time=\"1ME\").max().sel(time=slice(None, \"2019\"))"
   ]
  },
  {
   "cell_type": "markdown",
   "id": "a77b84d9-10ed-4187-a08b-57e920a70399",
   "metadata": {},
   "source": [
    "#### Saving"
   ]
  },
  {
   "cell_type": "code",
   "execution_count": 21,
   "id": "9d8f2cc6-e3bc-4869-b234-81df2ea61f27",
   "metadata": {},
   "outputs": [
    {
     "name": "stderr",
     "output_type": "stream",
     "text": [
      "\u001b[32m2024-12-04 14:28:30.994\u001b[0m | \u001b[1mINFO    \u001b[0m | \u001b[36m__main__\u001b[0m:\u001b[36m<module>\u001b[0m:\u001b[36m1\u001b[0m - \u001b[1mPR | Saving Yearly BM to disk...\u001b[0m\n",
      "\u001b[32m2024-12-04 14:28:30.995\u001b[0m | \u001b[34m\u001b[1mDEBUG   \u001b[0m | \u001b[36m__main__\u001b[0m:\u001b[36m<module>\u001b[0m:\u001b[36m4\u001b[0m - \u001b[34m\u001b[1mSave file: /home/juanjohn/pool_data/dynev4eo/data/clean/pr_stations_spain_gmst_bm_year.zarr\u001b[0m\n",
      "\u001b[32m2024-12-04 14:28:33.180\u001b[0m | \u001b[1mINFO    \u001b[0m | \u001b[36m__main__\u001b[0m:\u001b[36m<module>\u001b[0m:\u001b[36m8\u001b[0m - \u001b[1mPR | Saving Seasonal BM to disk...\u001b[0m\n",
      "\u001b[32m2024-12-04 14:28:33.181\u001b[0m | \u001b[34m\u001b[1mDEBUG   \u001b[0m | \u001b[36m__main__\u001b[0m:\u001b[36m<module>\u001b[0m:\u001b[36m11\u001b[0m - \u001b[34m\u001b[1mSave file: /home/juanjohn/pool_data/dynev4eo/data/clean/pr_stations_spain_gmst_bm_season.zarr\u001b[0m\n",
      "\u001b[32m2024-12-04 14:28:35.316\u001b[0m | \u001b[1mINFO    \u001b[0m | \u001b[36m__main__\u001b[0m:\u001b[36m<module>\u001b[0m:\u001b[36m14\u001b[0m - \u001b[1mPR | Saving Monthly BM to disk...\u001b[0m\n",
      "\u001b[32m2024-12-04 14:28:35.317\u001b[0m | \u001b[34m\u001b[1mDEBUG   \u001b[0m | \u001b[36m__main__\u001b[0m:\u001b[36m<module>\u001b[0m:\u001b[36m17\u001b[0m - \u001b[34m\u001b[1mSave file: /home/juanjohn/pool_data/dynev4eo/data/clean/pr_stations_spain_gmst_bm_month.zarr\u001b[0m\n"
     ]
    }
   ],
   "source": [
    "logger.info(f\"{variable_name.upper()} | Saving Yearly BM to disk...\")\n",
    "save_name = f\"{variable_name}_stations_spain_gmst_bm_year.zarr\"\n",
    "full_save_path = clean_data_dir.joinpath(save_name)\n",
    "logger.debug(f\"Save file: {full_save_path}\")\n",
    "ds_bm_year.to_zarr(full_save_path, mode=\"w\");\n",
    "\n",
    "\n",
    "logger.info(f\"{variable_name.upper()} | Saving Seasonal BM to disk...\")\n",
    "save_name = f\"{variable_name}_stations_spain_gmst_bm_season.zarr\"\n",
    "full_save_path = clean_data_dir.joinpath(save_name)\n",
    "logger.debug(f\"Save file: {full_save_path}\")\n",
    "ds_bm_season.to_zarr(full_save_path, mode=\"w\");\n",
    "\n",
    "logger.info(f\"{variable_name.upper()} | Saving Monthly BM to disk...\")\n",
    "save_name = f\"{variable_name}_stations_spain_gmst_bm_month.zarr\"\n",
    "full_save_path = clean_data_dir.joinpath(save_name)\n",
    "logger.debug(f\"Save file: {full_save_path}\")\n",
    "ds_bm_month.to_zarr(full_save_path, mode=\"w\");"
   ]
  },
  {
   "cell_type": "code",
   "execution_count": null,
   "id": "43a258a9-7d25-444b-b668-90557f2ac596",
   "metadata": {},
   "outputs": [],
   "source": []
  }
 ],
 "metadata": {
  "kernelspec": {
   "display_name": "Python [conda env:stevt]",
   "language": "python",
   "name": "conda-env-stevt-py"
  },
  "language_info": {
   "codemirror_mode": {
    "name": "ipython",
    "version": 3
   },
   "file_extension": ".py",
   "mimetype": "text/x-python",
   "name": "python",
   "nbconvert_exporter": "python",
   "pygments_lexer": "ipython3",
   "version": "3.12.7"
  }
 },
 "nbformat": 4,
 "nbformat_minor": 5
}
