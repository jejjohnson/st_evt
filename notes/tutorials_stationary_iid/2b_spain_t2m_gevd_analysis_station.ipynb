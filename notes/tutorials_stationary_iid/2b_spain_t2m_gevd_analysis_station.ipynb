{
 "cells": [
  {
   "cell_type": "markdown",
   "id": "8f16d7da-2b7a-45d0-91a9-297855c442df",
   "metadata": {
    "editable": true,
    "slideshow": {
     "slide_type": ""
    },
    "tags": []
   },
   "source": [
    "# Modeling Extremes - Numpyro Pt 2 - MAP"
   ]
  },
  {
   "cell_type": "code",
   "execution_count": 1,
   "id": "47b6a690-2d66-437b-b76d-12750a3f322c",
   "metadata": {
    "editable": true,
    "slideshow": {
     "slide_type": ""
    },
    "tags": []
   },
   "outputs": [],
   "source": [
    "import os\n",
    "os.environ[\"CUDA_VISIBLE_DEVICES\"] = \"\" # first gpu\n",
    "os.environ['XLA_PYTHON_CLIENT_PREALLOCATE'] = 'FALSE'\n",
    "\n",
    "import jax\n",
    "jax.config.update('jax_platform_name', 'cpu')\n",
    "\n",
    "import numpyro\n",
    "import multiprocessing\n",
    "\n",
    "num_devices = multiprocessing.cpu_count()\n",
    "numpyro.set_platform(\"cpu\")\n",
    "numpyro.set_host_device_count(num_devices)\n",
    "jax.config.update(\"jax_enable_x64\", True)"
   ]
  },
  {
   "cell_type": "code",
   "execution_count": 2,
   "id": "9f80b777-1fb0-4154-99e1-287866770c31",
   "metadata": {
    "editable": true,
    "slideshow": {
     "slide_type": ""
    },
    "tags": []
   },
   "outputs": [
    {
     "name": "stderr",
     "output_type": "stream",
     "text": [
      "An NVIDIA GPU may be present on this machine, but a CUDA-enabled jaxlib is not installed. Falling back to cpu.\n"
     ]
    }
   ],
   "source": [
    "import autoroot\n",
    "from pathlib import Path\n",
    "import numpy as np\n",
    "import xarray as xr\n",
    "import pandas as pd\n",
    "import pint_xarray\n",
    "import arviz as az\n",
    "\n",
    "from st_evt.viz import plot_histogram, plot_density\n",
    "from omegaconf import OmegaConf\n",
    "\n",
    "import jax\n",
    "import jax.random as jrandom\n",
    "import jax.numpy as jnp\n",
    "import pandas as pd\n",
    "\n",
    "rng_key = jrandom.PRNGKey(123)\n",
    "\n",
    "from numpyro.infer import Predictive\n",
    "import arviz as az\n",
    "\n",
    "import numpyro\n",
    "from numpyro.diagnostics import hpdi\n",
    "import numpyro.distributions as dist\n",
    "from numpyro import handlers\n",
    "from numpyro.infer import MCMC, NUTS\n",
    "import xarray as xr\n",
    "import regionmask\n",
    "\n",
    "import matplotlib.pyplot as plt\n",
    "from matplotlib.ticker import ScalarFormatter, FuncFormatter\n",
    "import seaborn as sns\n",
    "sns.reset_defaults()\n",
    "sns.set_context(context=\"talk\", font_scale=0.7)\n",
    "\n",
    "%config InlineBackend.figure_format = 'retina'\n",
    "plt.style.use(\n",
    "    \"https://raw.githubusercontent.com/ClimateMatchAcademy/course-content/main/cma.mplstyle\"\n",
    ")\n",
    "\n",
    "from loguru import logger\n",
    "\n",
    "# num_devices = 5\n",
    "# numpyro.set_host_device_count(num_devices)\n",
    "\n",
    "\n",
    "%matplotlib inline\n",
    "%load_ext autoreload\n",
    "%autoreload 2"
   ]
  },
  {
   "cell_type": "markdown",
   "id": "7eb92100-da47-4dd6-8d69-1b5ce0583198",
   "metadata": {},
   "source": [
    "## Paths"
   ]
  },
  {
   "cell_type": "code",
   "execution_count": 3,
   "id": "784faf4b-a3dc-4204-bc3d-4390a099f0fa",
   "metadata": {
    "editable": true,
    "slideshow": {
     "slide_type": ""
    },
    "tags": []
   },
   "outputs": [],
   "source": [
    "results_root_path = \"/home/juanjohn/pool_data/dynev4eo/experiments/walkthrough/aemet/t2max/stationary_iid_mcmc_redfeten/results\"\n",
    "results_file_name = \"stationary_iid_mcmc_redfeten.zarr\"\n",
    "results_data_path = Path(results_root_path).joinpath(results_file_name)\n",
    "\n",
    "figures_path = Path(results_root_path).joinpath(\"figures/stations\")"
   ]
  },
  {
   "cell_type": "markdown",
   "id": "61023d79-5d76-43a0-8a69-1f74c08b92bb",
   "metadata": {},
   "source": [
    "## Data"
   ]
  },
  {
   "cell_type": "code",
   "execution_count": 4,
   "id": "f6c0232c-b089-4448-a7fc-3fd2b8ea63c4",
   "metadata": {},
   "outputs": [],
   "source": [
    "DATA_URL = autoroot.root.joinpath(\"data/ml_ready/aemet/t2max_stations_bm_summer.zarr\")\n",
    "variable = \"t2max\"\n",
    "covariate = \"gmst\"\n",
    "spatial_dim_name = \"station_id\"\n",
    "\n",
    "\n",
    "# LOAD DATA\n",
    "with xr.open_dataset(DATA_URL, engine=\"zarr\") as f:\n",
    "    ds_bm = f.load()\n",
    "    # ds_bm = ds_bm.where(ds_bm.red_feten_mask == 1, drop=True)"
   ]
  },
  {
   "cell_type": "markdown",
   "id": "01ff2dbc-b463-4ddf-8858-97bd75359c44",
   "metadata": {},
   "source": [
    "### Likelihood Statistics\n",
    "\n",
    "There are some useful statistics that we can use to evaluate how well our model does.\n",
    "\n",
    "$$\n",
    "\\begin{aligned}\n",
    "\\text{ELPD WAIC}: && && \\\\\n",
    "\\text{ELPD WAIC SE}: && && \\\\\n",
    "\\text{P-Value WAIC}: && && \\\\\n",
    "\\end{aligned}\n",
    "$$"
   ]
  },
  {
   "cell_type": "code",
   "execution_count": 5,
   "id": "10fa477f-25d3-461d-970d-99b699eab496",
   "metadata": {},
   "outputs": [],
   "source": [
    "variable = \"t2max\""
   ]
  },
  {
   "cell_type": "markdown",
   "id": "be2be7c8-f9e1-444c-88da-d0df0796ddf4",
   "metadata": {},
   "source": [
    "## Station Selection"
   ]
  },
  {
   "cell_type": "markdown",
   "id": "a04f58a1-9e74-4b1c-8558-3e8f8467987c",
   "metadata": {},
   "source": [
    "### a - Predetermined Station"
   ]
  },
  {
   "cell_type": "code",
   "execution_count": 6,
   "id": "b0f56281-14d6-47a6-9d01-3c2911b0da5e",
   "metadata": {},
   "outputs": [
    {
     "data": {
      "text/plain": [
       "{'madrid': ['3129A', 'Madrid (Barajas)'],\n",
       " 'valencia': ['8414A', 'Valencia (Aeropuerto)'],\n",
       " 'zaragoza': ['9434', 'Zaragoza (Aeropuerto)'],\n",
       " 'santiago': ['1475X', 'Santiago De Compostela'],\n",
       " 'murcia': ['7178I', 'Murcia'],\n",
       " 'cordoba': ['9434', 'Viallanueva de Cordoba (Sea)']}"
      ]
     },
     "execution_count": 6,
     "metadata": {},
     "output_type": "execute_result"
    }
   ],
   "source": [
    "from st_evt import CANDIDATE_STATIONS\n",
    "CANDIDATE_STATIONS"
   ]
  },
  {
   "cell_type": "code",
   "execution_count": 7,
   "id": "6aa6811c-b27a-4d3a-9f35-98bd1686dee1",
   "metadata": {},
   "outputs": [],
   "source": [
    "candidate_station = CANDIDATE_STATIONS[\"valencia\"][0]\n",
    "candidate_station = '3129A'"
   ]
  },
  {
   "cell_type": "code",
   "execution_count": 8,
   "id": "2c889a47-a453-484a-9250-4e56770baaeb",
   "metadata": {},
   "outputs": [],
   "source": [
    "figures_path = figures_path.joinpath(f\"{candidate_station}\")\n",
    "figures_path.mkdir(parents=True, exist_ok=True)"
   ]
  },
  {
   "cell_type": "markdown",
   "id": "d2aff844-ea9e-44f4-b442-1a1161c569e5",
   "metadata": {},
   "source": [
    "### MCMC Results"
   ]
  },
  {
   "cell_type": "code",
   "execution_count": 9,
   "id": "7b2b1132-338e-4ef9-b024-7058d161b655",
   "metadata": {},
   "outputs": [],
   "source": [
    "az_ds = az.from_zarr(str(results_data_path))\n",
    "az_ds_station = az_ds.sel(station_id = candidate_station)\n",
    "ds_station = ds_bm.sel(station_id = candidate_station)"
   ]
  },
  {
   "cell_type": "code",
   "execution_count": 10,
   "id": "0ea28f5c-5abd-47b8-8d3d-30c14c1aa83f",
   "metadata": {},
   "outputs": [
    {
     "data": {
      "text/plain": [
       "Computed from 8000 posterior samples and 59 observations log-likelihood matrix.\n",
       "\n",
       "          Estimate       SE\n",
       "elpd_waic   -95.83     4.57\n",
       "p_waic        1.77        -"
      ]
     },
     "execution_count": 10,
     "metadata": {},
     "output_type": "execute_result"
    }
   ],
   "source": [
    "az.waic(az_ds_station)"
   ]
  },
  {
   "cell_type": "markdown",
   "id": "4aded88e-c232-4f60-94a2-a82300c8b587",
   "metadata": {},
   "source": [
    "### EDA Stuff"
   ]
  },
  {
   "cell_type": "code",
   "execution_count": 11,
   "id": "460c2fec-f66a-464d-8685-0a97925ed9d2",
   "metadata": {},
   "outputs": [],
   "source": [
    "from st_evt._src.modules.models.aemet import utils_station"
   ]
  },
  {
   "cell_type": "code",
   "execution_count": 12,
   "id": "1345f9c9-b915-4e85-b570-74eafba4421d",
   "metadata": {},
   "outputs": [
    {
     "name": "stderr",
     "output_type": "stream",
     "text": [
      "\u001b[32m2025-01-10 06:45:45.710\u001b[0m | \u001b[1mINFO    \u001b[0m | \u001b[36mst_evt._src.modules.models.aemet.utils_station\u001b[0m:\u001b[36mplot_eda\u001b[0m:\u001b[36m114\u001b[0m - \u001b[1mPlotting BM Data Time Series...\u001b[0m\n",
      "\u001b[32m2025-01-10 06:45:45.982\u001b[0m | \u001b[34m\u001b[1mDEBUG   \u001b[0m | \u001b[36mst_evt._src.modules.models.aemet.utils_station\u001b[0m:\u001b[36mplot_eda\u001b[0m:\u001b[36m130\u001b[0m - \u001b[34m\u001b[1mSaved Figure:\n",
      "/home/juanjohn/pool_data/dynev4eo/experiments/walkthrough/aemet/t2max/stationary_iid_mcmc_redfeten/results/figures/stations/3129A/eda/ts_bm_data.pdf\u001b[0m\n",
      "\u001b[32m2025-01-10 06:45:45.982\u001b[0m | \u001b[1mINFO    \u001b[0m | \u001b[36mst_evt._src.modules.models.aemet.utils_station\u001b[0m:\u001b[36mplot_eda\u001b[0m:\u001b[36m132\u001b[0m - \u001b[1mPlotting BM Data Histogram...\u001b[0m\n",
      "\u001b[32m2025-01-10 06:45:46.274\u001b[0m | \u001b[34m\u001b[1mDEBUG   \u001b[0m | \u001b[36mst_evt._src.modules.models.aemet.utils_station\u001b[0m:\u001b[36mplot_eda\u001b[0m:\u001b[36m146\u001b[0m - \u001b[34m\u001b[1mSaved Figure:\n",
      "/home/juanjohn/pool_data/dynev4eo/experiments/walkthrough/aemet/t2max/stationary_iid_mcmc_redfeten/results/figures/stations/3129A/eda/hist_bm_data.pdf\u001b[0m\n",
      "\u001b[32m2025-01-10 06:45:46.275\u001b[0m | \u001b[1mINFO    \u001b[0m | \u001b[36mst_evt._src.modules.models.aemet.utils_station\u001b[0m:\u001b[36mplot_eda\u001b[0m:\u001b[36m148\u001b[0m - \u001b[1mPlotting BM Data Density...\u001b[0m\n",
      "\u001b[32m2025-01-10 06:45:46.525\u001b[0m | \u001b[34m\u001b[1mDEBUG   \u001b[0m | \u001b[36mst_evt._src.modules.models.aemet.utils_station\u001b[0m:\u001b[36mplot_eda\u001b[0m:\u001b[36m162\u001b[0m - \u001b[34m\u001b[1mSaved Figure:\n",
      "/home/juanjohn/pool_data/dynev4eo/experiments/walkthrough/aemet/t2max/stationary_iid_mcmc_redfeten/results/figures/stations/3129A/eda/density_bm_data.pdf\u001b[0m\n"
     ]
    }
   ],
   "source": [
    "utils_station.plot_eda(\n",
    "    da=ds_station[variable].squeeze(),\n",
    "    variable_label=\"2m Max Temperature [°C]\",\n",
    "    # figures_path=\"./\", \n",
    "    figures_path=figures_path, \n",
    "    figure_dpi=300,\n",
    ")"
   ]
  },
  {
   "cell_type": "markdown",
   "id": "45ea0073-27bb-4cc1-b660-3c538b8bc7cf",
   "metadata": {},
   "source": [
    "## Posterior Calculations"
   ]
  },
  {
   "cell_type": "markdown",
   "id": "0004bdaa-518f-47fc-9747-59fd394ea649",
   "metadata": {},
   "source": [
    "## Model Inspection"
   ]
  },
  {
   "cell_type": "code",
   "execution_count": 13,
   "id": "22348705-e0c2-4e2a-9a39-4ff4e3e95362",
   "metadata": {},
   "outputs": [],
   "source": [
    "# calculate model return periods\n",
    "az_ds_station.posterior = utils_station.calculate_ds_return_periods(az_ds_station.posterior)"
   ]
  },
  {
   "cell_type": "markdown",
   "id": "4a1babfb-c4e4-4fa1-a8d4-eff44d6ce4d8",
   "metadata": {},
   "source": [
    "### Trace Plot"
   ]
  },
  {
   "cell_type": "code",
   "execution_count": 14,
   "id": "78f1563b-2e47-4658-9872-5283d9c2143c",
   "metadata": {},
   "outputs": [
    {
     "name": "stderr",
     "output_type": "stream",
     "text": [
      "\u001b[32m2025-01-10 06:45:52.439\u001b[0m | \u001b[1mINFO    \u001b[0m | \u001b[36mst_evt._src.modules.models.aemet.utils_station\u001b[0m:\u001b[36mplot_model_params_critique\u001b[0m:\u001b[36m39\u001b[0m - \u001b[1mPlotting Parameter Traces...\u001b[0m\n",
      "\u001b[32m2025-01-10 06:45:53.312\u001b[0m | \u001b[34m\u001b[1mDEBUG   \u001b[0m | \u001b[36mst_evt._src.modules.models.aemet.utils_station\u001b[0m:\u001b[36mplot_model_params_critique\u001b[0m:\u001b[36m53\u001b[0m - \u001b[34m\u001b[1mSaved Figure:\n",
      "/home/juanjohn/pool_data/dynev4eo/experiments/walkthrough/aemet/t2max/stationary_iid_mcmc_redfeten/results/figures/stations/3129A/params/trace.pdf\u001b[0m\n",
      "\u001b[32m2025-01-10 06:45:53.312\u001b[0m | \u001b[1mINFO    \u001b[0m | \u001b[36mst_evt._src.modules.models.aemet.utils_station\u001b[0m:\u001b[36mplot_model_params_critique\u001b[0m:\u001b[36m55\u001b[0m - \u001b[1mPlotting Parameter Jonts...\u001b[0m\n",
      "\u001b[32m2025-01-10 06:45:54.814\u001b[0m | \u001b[34m\u001b[1mDEBUG   \u001b[0m | \u001b[36mst_evt._src.modules.models.aemet.utils_station\u001b[0m:\u001b[36mplot_model_params_critique\u001b[0m:\u001b[36m76\u001b[0m - \u001b[34m\u001b[1mSaved Figure:\n",
      "/home/juanjohn/pool_data/dynev4eo/experiments/walkthrough/aemet/t2max/stationary_iid_mcmc_redfeten/results/figures/stations/3129A/params/joint.pdf\u001b[0m\n",
      "\u001b[32m2025-01-10 06:45:54.815\u001b[0m | \u001b[1mINFO    \u001b[0m | \u001b[36mst_evt._src.modules.models.aemet.utils_station\u001b[0m:\u001b[36mplot_model_params_critique\u001b[0m:\u001b[36m77\u001b[0m - \u001b[1mPlotting AutoCorrelation...\u001b[0m\n",
      "\u001b[32m2025-01-10 06:45:55.101\u001b[0m | \u001b[34m\u001b[1mDEBUG   \u001b[0m | \u001b[36mst_evt._src.modules.models.aemet.utils_station\u001b[0m:\u001b[36mplot_model_params_critique\u001b[0m:\u001b[36m89\u001b[0m - \u001b[34m\u001b[1mSaved Figure: \n",
      "/home/juanjohn/pool_data/dynev4eo/experiments/walkthrough/aemet/t2max/stationary_iid_mcmc_redfeten/results/figures/stations/3129A/autocorr.pdf\u001b[0m\n",
      "\u001b[32m2025-01-10 06:45:55.102\u001b[0m | \u001b[1mINFO    \u001b[0m | \u001b[36mst_evt._src.modules.models.aemet.utils_station\u001b[0m:\u001b[36mplot_model_params_critique\u001b[0m:\u001b[36m92\u001b[0m - \u001b[1mPlotting ESS...\u001b[0m\n",
      "\u001b[32m2025-01-10 06:45:56.128\u001b[0m | \u001b[34m\u001b[1mDEBUG   \u001b[0m | \u001b[36mst_evt._src.modules.models.aemet.utils_station\u001b[0m:\u001b[36mplot_model_params_critique\u001b[0m:\u001b[36m104\u001b[0m - \u001b[34m\u001b[1mSaved Figure: \n",
      "/home/juanjohn/pool_data/dynev4eo/experiments/walkthrough/aemet/t2max/stationary_iid_mcmc_redfeten/results/figures/stations/3129A/_ess.pdf\u001b[0m\n"
     ]
    }
   ],
   "source": [
    "variables = [\n",
    "    \"concentration\",\n",
    "    \"scale\",\n",
    "    \"location\",\n",
    "    \"return_level_100\"\n",
    "    ]\n",
    "\n",
    "utils_station.plot_model_params_critique(\n",
    "    ds=az_ds_station.posterior,\n",
    "    variables=variables,\n",
    "    # figures_path=\"./\", \n",
    "    figures_path=figures_path, \n",
    "    \n",
    ")"
   ]
  },
  {
   "cell_type": "markdown",
   "id": "04cdf93b-64e1-4118-9c48-d5af482e81e4",
   "metadata": {},
   "source": [
    "## Model Critique"
   ]
  },
  {
   "cell_type": "code",
   "execution_count": 15,
   "id": "160a309a-2499-4082-8b72-9d27b2d3d2a8",
   "metadata": {},
   "outputs": [],
   "source": [
    "idata = az.extract(az_ds_station, group=\"posterior_predictive\", num_samples=10_000)\n",
    "\n",
    "\n",
    "y_pred = az_ds_station.posterior_predictive[variable].rename(\"y_pred\")\n",
    "y_true = az_ds_station.observed_data[variable]"
   ]
  },
  {
   "cell_type": "code",
   "execution_count": 16,
   "id": "fbc9a417-a375-4876-a077-3d47d4b2532e",
   "metadata": {},
   "outputs": [
    {
     "name": "stderr",
     "output_type": "stream",
     "text": [
      "\u001b[32m2025-01-10 06:46:02.901\u001b[0m | \u001b[1mINFO    \u001b[0m | \u001b[36mst_evt._src.modules.models.aemet.utils_station\u001b[0m:\u001b[36mplot_residual_error_metric\u001b[0m:\u001b[36m235\u001b[0m - \u001b[1mCalculating residual error...\u001b[0m\n",
      "\u001b[32m2025-01-10 06:46:03.364\u001b[0m | \u001b[34m\u001b[1mDEBUG   \u001b[0m | \u001b[36mst_evt._src.modules.models.aemet.utils_station\u001b[0m:\u001b[36mplot_residual_error_metric\u001b[0m:\u001b[36m252\u001b[0m - \u001b[34m\u001b[1mSaved Figure:\n",
      "/home/juanjohn/pool_data/dynev4eo/experiments/walkthrough/aemet/t2max/stationary_iid_mcmc_redfeten/results/figures/stations/3129A/metrics/density_residuals.pdf\u001b[0m\n",
      "\u001b[32m2025-01-10 06:46:03.365\u001b[0m | \u001b[1mINFO    \u001b[0m | \u001b[36mst_evt._src.modules.models.aemet.utils_station\u001b[0m:\u001b[36mplot_residual_abs_error_metric\u001b[0m:\u001b[36m266\u001b[0m - \u001b[1mCalculating residual error...\u001b[0m\n",
      "\u001b[32m2025-01-10 06:46:03.591\u001b[0m | \u001b[34m\u001b[1mDEBUG   \u001b[0m | \u001b[36mst_evt._src.modules.models.aemet.utils_station\u001b[0m:\u001b[36mplot_residual_abs_error_metric\u001b[0m:\u001b[36m283\u001b[0m - \u001b[34m\u001b[1mSaved Figure:\n",
      "/home/juanjohn/pool_data/dynev4eo/experiments/walkthrough/aemet/t2max/stationary_iid_mcmc_redfeten/results/figures/stations/3129A/metrics/density_residuals_abs.pdf\u001b[0m\n"
     ]
    }
   ],
   "source": [
    "utils_station.plot_residual_error_metric(\n",
    "    y_pred=y_pred,\n",
    "    y_true=y_true,\n",
    "    figures_dpi=300,\n",
    "    # figures_path=\"./\", \n",
    "    figures_path=figures_path, \n",
    "    units=\"[°C]\"\n",
    ")\n",
    "utils_station.plot_residual_abs_error_metric(\n",
    "    y_pred=y_pred,\n",
    "    y_true=y_true,\n",
    "    figures_dpi=300,\n",
    "    # figures_path=\"./\", \n",
    "    figures_path=figures_path, \n",
    "    units=\"[°C]\"\n",
    ")"
   ]
  },
  {
   "cell_type": "markdown",
   "id": "90e9783c-adcb-4528-932d-e044088f3c4e",
   "metadata": {},
   "source": [
    "### QQ-Plot"
   ]
  },
  {
   "cell_type": "code",
   "execution_count": 17,
   "id": "b8e6701b-db4f-4bec-a343-1a270895fb40",
   "metadata": {},
   "outputs": [
    {
     "name": "stderr",
     "output_type": "stream",
     "text": [
      "\u001b[32m2025-01-10 06:46:09.119\u001b[0m | \u001b[1mINFO    \u001b[0m | \u001b[36mst_evt._src.modules.models.aemet.utils_station\u001b[0m:\u001b[36mplot_qq\u001b[0m:\u001b[36m301\u001b[0m - \u001b[1mCalculating Metrics (RMSE, MAE, MAPD)...\u001b[0m\n",
      "\u001b[32m2025-01-10 06:46:09.321\u001b[0m | \u001b[1mINFO    \u001b[0m | \u001b[36mst_evt._src.modules.models.aemet.utils_station\u001b[0m:\u001b[36mplot_qq\u001b[0m:\u001b[36m314\u001b[0m - \u001b[1mPlotting QQ-Plot...\u001b[0m\n",
      "\u001b[32m2025-01-10 06:46:09.457\u001b[0m | \u001b[34m\u001b[1mDEBUG   \u001b[0m | \u001b[36mst_evt._src.modules.models.aemet.utils_station\u001b[0m:\u001b[36mplot_qq\u001b[0m:\u001b[36m340\u001b[0m - \u001b[34m\u001b[1mSaved Figure:\n",
      "/home/juanjohn/pool_data/dynev4eo/experiments/walkthrough/aemet/t2max/stationary_iid_mcmc_redfeten/results/figures/stations/3129A/metrics/qq_plot.pdf\u001b[0m\n"
     ]
    }
   ],
   "source": [
    "y_pred_median = y_pred.mean(dim=[\"draw\", \"chain\"])\n",
    "# fig, ax = plot_qq(\n",
    "#     y_true=y_true,\n",
    "#     y_pred=y_pred_median,\n",
    "#     figures_dpi=300,\n",
    "# )\n",
    "# plt.show()\n",
    "\n",
    "utils_station.plot_qq(\n",
    "    y_true=y_true,\n",
    "    y_pred=y_pred_median,\n",
    "    # figures_path=\"./\", \n",
    "    figures_path=figures_path, \n",
    "    figures_dpi=300,\n",
    ")"
   ]
  },
  {
   "cell_type": "markdown",
   "id": "fe4dd825-6333-4f7f-aaed-eec96725c641",
   "metadata": {},
   "source": [
    "## Return Levels"
   ]
  },
  {
   "cell_type": "markdown",
   "id": "ac634121-c527-464e-b6ba-e49c13c1adc1",
   "metadata": {},
   "source": [
    "#### Empirical Return Levels"
   ]
  },
  {
   "cell_type": "code",
   "execution_count": 18,
   "id": "b106c041-bf14-4347-8ff8-df96dd8d9691",
   "metadata": {},
   "outputs": [
    {
     "name": "stderr",
     "output_type": "stream",
     "text": [
      "\u001b[32m2025-01-10 06:46:18.145\u001b[0m | \u001b[1mINFO    \u001b[0m | \u001b[36mst_evt._src.modules.models.aemet.utils_station\u001b[0m:\u001b[36mcalculate_empirical_return_level_gevd_ds\u001b[0m:\u001b[36m354\u001b[0m - \u001b[1mCalculating Return Level...\u001b[0m\n",
      "\u001b[32m2025-01-10 06:46:18.146\u001b[0m | \u001b[1mINFO    \u001b[0m | \u001b[36mst_evt._src.modules.models.aemet.utils_station\u001b[0m:\u001b[36mcalculate_empirical_return_level_gevd_ds\u001b[0m:\u001b[36m362\u001b[0m - \u001b[1mSwapping Dims...\u001b[0m\n"
     ]
    }
   ],
   "source": [
    "# select clean data\n",
    "y_clean = az_ds_station.observed_data.dropna(dim=covariate)[variable]\n",
    "\n",
    "# calculate return period\n",
    "y_clean = utils_station.calculate_empirical_return_level_gevd_ds(y_clean, covariate=covariate)\n",
    "\n",
    "# calculate model return periods\n",
    "az_ds_station.posterior_predictive = utils_station.calculate_ds_return_periods(az_ds_station.posterior_predictive)\n",
    "\n",
    "# Calculate Quantiles\n",
    "rl_model_quantiles = az_ds_station.posterior_predictive[\"return_level\"].quantile(q=[0.025, 0.5, 0.975], dim=[\"chain\", \"draw\"])"
   ]
  },
  {
   "cell_type": "markdown",
   "id": "27045937-d1fb-4009-880f-31d51542ab59",
   "metadata": {},
   "source": [
    "### Viz - Return Level "
   ]
  },
  {
   "cell_type": "code",
   "execution_count": 19,
   "id": "8f09f721-e54d-4ca0-9809-aefdc82cf7a8",
   "metadata": {},
   "outputs": [
    {
     "name": "stderr",
     "output_type": "stream",
     "text": [
      "\u001b[32m2025-01-10 06:46:21.672\u001b[0m | \u001b[1mINFO    \u001b[0m | \u001b[36mst_evt._src.modules.models.aemet.utils_station\u001b[0m:\u001b[36mplot_return_periods_ds\u001b[0m:\u001b[36m375\u001b[0m - \u001b[1mIntialize Returns...\u001b[0m\n",
      "\u001b[32m2025-01-10 06:46:21.672\u001b[0m | \u001b[1mINFO    \u001b[0m | \u001b[36mst_evt._src.modules.models.aemet.utils_station\u001b[0m:\u001b[36mplot_return_periods_ds\u001b[0m:\u001b[36m379\u001b[0m - \u001b[1mCreating Data structures...\u001b[0m\n",
      "\u001b[32m2025-01-10 06:46:21.673\u001b[0m | \u001b[1mINFO    \u001b[0m | \u001b[36mst_evt._src.modules.models.aemet.utils_station\u001b[0m:\u001b[36mplot_return_periods_ds\u001b[0m:\u001b[36m389\u001b[0m - \u001b[1mPlotting...\u001b[0m\n",
      "\u001b[32m2025-01-10 06:46:22.653\u001b[0m | \u001b[34m\u001b[1mDEBUG   \u001b[0m | \u001b[36mst_evt._src.modules.models.aemet.utils_station\u001b[0m:\u001b[36mplot_return_periods_ds\u001b[0m:\u001b[36m406\u001b[0m - \u001b[34m\u001b[1mSaved Figure:\n",
      "/home/juanjohn/pool_data/dynev4eo/experiments/walkthrough/aemet/t2max/stationary_iid_mcmc_redfeten/results/figures/stations/3129A/returns/returns_prob_posterior_vs_empirical.pdf\u001b[0m\n"
     ]
    }
   ],
   "source": [
    "# fig, ax = model_eval_station.plot_return_periods_ds(\n",
    "#     rl_model_quantiles=rl_model_quantiles,\n",
    "#     y=y_clean,\n",
    "#     covariate=covariate,\n",
    "#     y_label=\"2m Max Temperature, $R_a$ [°C]\"\n",
    "# )\n",
    "# plt.show()\n",
    "\n",
    "utils_station.plot_return_periods_ds(\n",
    "    rl_model_quantiles=rl_model_quantiles,\n",
    "    y=y_clean,\n",
    "    # figures_path=\"./\", \n",
    "    figures_path=figures_path, \n",
    "    y_label=\"2m Max Temperature, $R_a$ [°C]\"\n",
    ")"
   ]
  },
  {
   "cell_type": "markdown",
   "id": "b88eb754-4b92-4f29-8b77-0bb0c0238b85",
   "metadata": {},
   "source": [
    "### Viz - 100-Year Return Period"
   ]
  },
  {
   "cell_type": "code",
   "execution_count": 20,
   "id": "b806f40c-2f0c-4703-ab82-2f9ef19ee66b",
   "metadata": {},
   "outputs": [],
   "source": [
    "# calculate model return periods\n",
    "az_ds_station.posterior_predictive = utils_station.calculate_ds_return_periods(az_ds_station.posterior_predictive)\n",
    "\n",
    "# Calculate Quantiles\n",
    "rl_model_quantiles = az_ds_station.posterior_predictive[\"return_level_100\"]"
   ]
  },
  {
   "cell_type": "code",
   "execution_count": 21,
   "id": "eafcc4dc-f5ec-4d56-bbcf-bc7c91f8c372",
   "metadata": {},
   "outputs": [
    {
     "name": "stderr",
     "output_type": "stream",
     "text": [
      "\u001b[32m2025-01-10 06:46:28.777\u001b[0m | \u001b[1mINFO    \u001b[0m | \u001b[36mst_evt._src.modules.models.aemet.utils_station\u001b[0m:\u001b[36mplot_return_periods_100_ds\u001b[0m:\u001b[36m532\u001b[0m - \u001b[1mPlotting...\u001b[0m\n",
      "\u001b[32m2025-01-10 06:46:28.777\u001b[0m | \u001b[1mINFO    \u001b[0m | \u001b[36mst_evt._src.modules.models.aemet.utils_station\u001b[0m:\u001b[36mplot_return_periods_100_ds\u001b[0m:\u001b[36m542\u001b[0m - \u001b[1mPlotting...\u001b[0m\n",
      "\u001b[32m2025-01-10 06:46:29.067\u001b[0m | \u001b[34m\u001b[1mDEBUG   \u001b[0m | \u001b[36mst_evt._src.modules.models.aemet.utils_station\u001b[0m:\u001b[36mplot_return_periods_100_ds\u001b[0m:\u001b[36m559\u001b[0m - \u001b[34m\u001b[1mSaved Figure:\n",
      "/home/juanjohn/pool_data/dynev4eo/experiments/walkthrough/aemet/t2max/stationary_iid_mcmc_redfeten/results/figures/stations/3129A/returns/returns_100years_density.pdf\u001b[0m\n"
     ]
    }
   ],
   "source": [
    "# fig, ax = plot_return_periods_100_ds(\n",
    "#     rl_model_quantiles=rl_model_quantiles,\n",
    "#     covariate=covariate,\n",
    "#     x_label=\"2m Max Temperature, $R_a$ [°C]\"\n",
    "# )\n",
    "# plt.show()\n",
    "\n",
    "utils_station.plot_return_periods_100_ds(\n",
    "    rl_model=rl_model_quantiles,\n",
    "    # figures_path=\"./\", \n",
    "    figures_path=figures_path, \n",
    "    x_label=\"2m Max Temperature, $R_{100}$ [°C]\"\n",
    ")"
   ]
  },
  {
   "cell_type": "code",
   "execution_count": null,
   "id": "16fa61ac-e36a-4b26-9d32-80b9cfdb8f35",
   "metadata": {},
   "outputs": [],
   "source": []
  }
 ],
 "metadata": {
  "kernelspec": {
   "display_name": "Python [conda env:dynev4eo_gpu]",
   "language": "python",
   "name": "conda-env-dynev4eo_gpu-py"
  },
  "language_info": {
   "codemirror_mode": {
    "name": "ipython",
    "version": 3
   },
   "file_extension": ".py",
   "mimetype": "text/x-python",
   "name": "python",
   "nbconvert_exporter": "python",
   "pygments_lexer": "ipython3",
   "version": "3.11.10"
  }
 },
 "nbformat": 4,
 "nbformat_minor": 5
}
