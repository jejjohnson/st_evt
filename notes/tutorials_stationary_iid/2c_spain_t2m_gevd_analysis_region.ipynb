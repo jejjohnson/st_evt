{
 "cells": [
  {
   "cell_type": "markdown",
   "id": "2a6407e7-b23f-49c5-b092-5871ccc924ed",
   "metadata": {},
   "source": [
    "---\n",
    "title: SpatioTemporal Field - T2M - Stationary\n",
    "subject: AEMET T2M\n",
    "short_title: d - Region Analysis\n",
    "authors:\n",
    "  - name: J. Emmanuel Johnson\n",
    "    affiliations:\n",
    "      - CSIC\n",
    "      - UCM\n",
    "      - IGEO\n",
    "    orcid: 0000-0002-6739-0053\n",
    "    email: juanjohn@ucm.es\n",
    "license: CC-BY-4.0\n",
    "keywords: notation\n",
    "---"
   ]
  },
  {
   "cell_type": "code",
   "execution_count": null,
   "id": "47b6a690-2d66-437b-b76d-12750a3f322c",
   "metadata": {},
   "outputs": [],
   "source": [
    "import os\n",
    "os.environ[\"CUDA_VISIBLE_DEVICES\"] = \"\" # first gpu\n",
    "os.environ['XLA_PYTHON_CLIENT_PREALLOCATE'] = 'FALSE'\n",
    "\n",
    "import jax\n",
    "jax.config.update('jax_platform_name', 'cpu')\n",
    "\n",
    "import numpyro\n",
    "import multiprocessing\n",
    "\n",
    "num_devices = multiprocessing.cpu_count()\n",
    "numpyro.set_platform(\"cpu\")\n",
    "numpyro.set_host_device_count(num_devices)"
   ]
  },
  {
   "cell_type": "code",
   "execution_count": null,
   "id": "9f80b777-1fb0-4154-99e1-287866770c31",
   "metadata": {
    "tags": []
   },
   "outputs": [],
   "source": [
    "import autoroot\n",
    "from pathlib import Path\n",
    "import numpy as np\n",
    "import xarray as xr\n",
    "import pandas as pd\n",
    "import pint_xarray\n",
    "import arviz as az\n",
    "\n",
    "from st_evt import CANDIDATE_STATIONS\n",
    "from st_evt.utils import ExperimentPath\n",
    "from st_evt.viz import (\n",
    "    plot_scatter_ts,\n",
    "    plot_histogram,\n",
    "    plot_density,\n",
    "    plot_return_level_gevd_manual_unc_multiple,\n",
    "    plot_periods,\n",
    "    plot_periods_diff,\n",
    "    plot_spain,\n",
    "    plot_density_multiple\n",
    ")\n",
    "from st_evt.extremes import estimate_return_level_gevd, calculate_exceedence_probs\n",
    "from omegaconf import OmegaConf\n",
    "\n",
    "import jax\n",
    "import jax.random as jrandom\n",
    "import jax.numpy as jnp\n",
    "import pandas as pd\n",
    "\n",
    "rng_key = jrandom.PRNGKey(123)\n",
    "\n",
    "from numpyro.infer import Predictive\n",
    "import arviz as az\n",
    "\n",
    "import numpyro\n",
    "from numpyro.diagnostics import hpdi\n",
    "import numpyro.distributions as dist\n",
    "from numpyro import handlers\n",
    "from numpyro.infer import MCMC, NUTS\n",
    "import xarray as xr\n",
    "import regionmask\n",
    "\n",
    "import matplotlib.pyplot as plt\n",
    "from matplotlib.ticker import ScalarFormatter, FuncFormatter\n",
    "from st_evt._src.modules.models.aemet import utils_region\n",
    "import seaborn as sns\n",
    "from loguru import logger\n",
    "sns.reset_defaults()\n",
    "sns.set_context(context=\"talk\", font_scale=0.7)\n",
    "\n",
    "\n",
    "%config InlineBackend.figure_format = 'retina'\n",
    "plt.style.use(\n",
    "    \"https://raw.githubusercontent.com/ClimateMatchAcademy/course-content/main/cma.mplstyle\"\n",
    ")\n",
    "\n",
    "\n",
    "%matplotlib inline\n",
    "%load_ext autoreload\n",
    "%autoreload 2"
   ]
  },
  {
   "cell_type": "markdown",
   "id": "61023d79-5d76-43a0-8a69-1f74c08b92bb",
   "metadata": {},
   "source": [
    "## Data"
   ]
  },
  {
   "cell_type": "code",
   "execution_count": null,
   "id": "25ce883d-dd7a-4d99-bfca-106f25770ea8",
   "metadata": {
    "editable": true,
    "slideshow": {
     "slide_type": ""
    },
    "tags": []
   },
   "outputs": [],
   "source": [
    "# results_data_path = \"/home/juanjohn/pool_data/dynev4eo/temp/scratch_pipelines/results/az_nonstationary_gp_mcmc_redfeten.zarr\"\n",
    "# figures_path = Path(\"/home/juanjohn/pool_data/dynev4eo/temp/scratch_pipelines/figures/nonstationary_gp_mcmc_redfeten/spain\")"
   ]
  },
  {
   "cell_type": "code",
   "execution_count": null,
   "id": "40644d31-ac8f-4e6f-ac6a-2b475a390e3f",
   "metadata": {},
   "outputs": [],
   "source": [
    "results_root_path = \"/home/juanjohn/pool_data/dynev4eo/experiments/walkthrough/aemet/t2max/stationary_iid_mcmc_redfeten/results\"\n",
    "results_file_name = \"stationary_iid_mcmc_redfeten.zarr\"\n",
    "results_data_path = Path(results_root_path).joinpath(results_file_name)\n",
    "\n",
    "figures_path = Path(results_root_path).joinpath(\"figures/spain\")"
   ]
  },
  {
   "cell_type": "markdown",
   "id": "d2aff844-ea9e-44f4-b442-1a1161c569e5",
   "metadata": {},
   "source": [
    "### MCMC Results"
   ]
  },
  {
   "cell_type": "code",
   "execution_count": null,
   "id": "7258c343-8640-4b50-8d95-c9c80f6f4cd7",
   "metadata": {},
   "outputs": [],
   "source": [
    "variable = \"t2max\"\n",
    "covariate = \"gmst\""
   ]
  },
  {
   "cell_type": "markdown",
   "id": "aa9021d9-ffbc-452c-88a4-dead5e47e4ea",
   "metadata": {},
   "source": [
    "## Model Errors - Posterior"
   ]
  },
  {
   "cell_type": "markdown",
   "id": "48c56c2b-d7a0-4f6c-9fa0-307e860e346a",
   "metadata": {},
   "source": [
    "### Negative Log-Likelihood"
   ]
  },
  {
   "cell_type": "code",
   "execution_count": null,
   "id": "d274a0f9-4977-410a-a956-0cdf1a4b4b3d",
   "metadata": {},
   "outputs": [],
   "source": [
    "PLOT_VARIABLE = \"nll\"\n",
    "VARIABLE = \"t2max\"\n",
    "COVARIATE = \"gmst\"\n",
    "num_samples = 5_000"
   ]
  },
  {
   "cell_type": "code",
   "execution_count": null,
   "id": "5e250af4-9363-4e8c-a5f0-22b2005ac2e5",
   "metadata": {},
   "outputs": [],
   "source": [
    "az_ds = az.from_zarr(str(results_data_path))\n",
    "data_results = az.extract(az_ds, group=\"log_likelihood\", num_samples=num_samples).median(dim=[\"sample\"]).load()\n",
    "data_results = data_results.sortby(covariate)\n",
    "idata = data_results[VARIABLE].rename(PLOT_VARIABLE).sum(dim=covariate)\n",
    "idata = idata.where(idata.red_feten_mask == 1, drop=True)"
   ]
  },
  {
   "cell_type": "code",
   "execution_count": null,
   "id": "c5b230eb-b52e-4132-8ae7-88472618a58b",
   "metadata": {},
   "outputs": [],
   "source": [
    "subfigures_path = Path(figures_path).joinpath(f\"{PLOT_VARIABLE}/posterior\")\n",
    "subfigures_path.mkdir(parents=True, exist_ok=True)\n",
    "\n",
    "utils_region.plot_static_spatial_variable(\n",
    "    idata,\n",
    "    figures_path=subfigures_path,\n",
    "    cbar_label=utils_region.VARIABLE_LABELS[PLOT_VARIABLE],\n",
    "    cmap=\"Reds_r\",\n",
    "    bounds = (-160, 10, -50)\n",
    ")"
   ]
  },
  {
   "cell_type": "markdown",
   "id": "95b64a57-00ee-40df-b975-9c5dfb2b3f56",
   "metadata": {},
   "source": [
    "## Model Errors - Posterior Predictive"
   ]
  },
  {
   "cell_type": "markdown",
   "id": "5ab93b4e-1afa-47ca-a356-5ae2e1967c05",
   "metadata": {
    "editable": true,
    "slideshow": {
     "slide_type": ""
    },
    "tags": []
   },
   "source": [
    "### I - Negative Log-Likelihood"
   ]
  },
  {
   "cell_type": "code",
   "execution_count": null,
   "id": "d11c13de-6ae5-4a14-a4c3-65c9193a2ff6",
   "metadata": {},
   "outputs": [],
   "source": [
    "PLOT_VARIABLE = \"nll\"\n",
    "VARIABLE = \"t2max\"\n",
    "COVARIATE = \"gmst\"\n",
    "num_samples = 5_000"
   ]
  },
  {
   "cell_type": "code",
   "execution_count": null,
   "id": "a49653b5-d4f1-4ed1-b40b-786b38604441",
   "metadata": {},
   "outputs": [],
   "source": [
    "az_ds = az.from_zarr(store=str(results_data_path))\n",
    "data_results = az.extract(az_ds, group=\"posterior_predictive\", num_samples=num_samples).median(dim=[\"sample\"]).load()\n",
    "data_results = data_results.sortby(covariate)\n",
    "idata = data_results[\"nll\"].rename(PLOT_VARIABLE).sum(dim=covariate)"
   ]
  },
  {
   "cell_type": "code",
   "execution_count": null,
   "id": "fe8b8d39-ba83-4c2c-bbe0-3ff0d582e380",
   "metadata": {},
   "outputs": [],
   "source": [
    "subfigures_path = Path(figures_path).joinpath(f\"{PLOT_VARIABLE}/posterior_predictive\")\n",
    "subfigures_path.mkdir(parents=True, exist_ok=True)\n",
    "\n",
    "utils_region.plot_static_spatial_variable_redfeten(\n",
    "    idata,\n",
    "    figures_path=subfigures_path,\n",
    "    cbar_label=utils_region.VARIABLE_LABELS[PLOT_VARIABLE],\n",
    "    cmap=\"Reds_r\",\n",
    "    bounds = (-160, 10, -50)\n",
    ")"
   ]
  },
  {
   "cell_type": "markdown",
   "id": "62a7c213-d7ed-407a-813a-fd07ab02cb82",
   "metadata": {},
   "source": [
    "### II - Residuals"
   ]
  },
  {
   "cell_type": "code",
   "execution_count": null,
   "id": "014061cb-569a-4d84-ba5d-ff921336c510",
   "metadata": {},
   "outputs": [],
   "source": [
    "from sklearn.metrics import root_mean_squared_error, mean_absolute_error, r2_score"
   ]
  },
  {
   "cell_type": "code",
   "execution_count": null,
   "id": "d5731377-e056-4415-9c77-d24e32206681",
   "metadata": {},
   "outputs": [],
   "source": [
    "PLOT_VARIABLE = \"residuals\"\n",
    "VARIABLE = \"t2max\"\n",
    "COVARIATE = \"gmst\"\n",
    "num_samples = 5_000"
   ]
  },
  {
   "cell_type": "code",
   "execution_count": null,
   "id": "f138355a-c5fe-4af1-ae4a-9687809ae58b",
   "metadata": {},
   "outputs": [],
   "source": [
    "data_results = az.extract(az_ds, group=\"posterior_predictive\", num_samples=num_samples).median(dim=[\"sample\"]).load()\n",
    "data_results = data_results.sortby(\"gmst\")\n",
    "y_pred = data_results[variable].rename(\"y_pred\")\n",
    "y_true = data_results[f\"{variable}_true\"].rename(\"y_true\")\n",
    "idata = (y_true - y_pred).mean(dim=[covariate]).load().rename(PLOT_VARIABLE)"
   ]
  },
  {
   "cell_type": "code",
   "execution_count": null,
   "id": "8618d328-e298-42ec-afdf-a79a3410bff3",
   "metadata": {},
   "outputs": [],
   "source": [
    "subfigures_path = Path(figures_path).joinpath(f\"{PLOT_VARIABLE}/posterior_predictive\")\n",
    "subfigures_path.mkdir(parents=True, exist_ok=True)\n",
    "\n",
    "utils_region.plot_static_spatial_variable_redfeten(\n",
    "    idata,\n",
    "    figures_path=subfigures_path,\n",
    "    cbar_label=utils_region.VARIABLE_LABELS[PLOT_VARIABLE],\n",
    "    cmap=\"Reds_r\",\n",
    "    bounds = (-7.5, 10, 7.5)\n",
    ")"
   ]
  },
  {
   "cell_type": "markdown",
   "id": "307c0864-630e-4224-935b-e327521cac92",
   "metadata": {},
   "source": [
    "### III - Absolute Residuals"
   ]
  },
  {
   "cell_type": "code",
   "execution_count": null,
   "id": "1de0b148-d934-4faf-b4d0-0622904d538e",
   "metadata": {},
   "outputs": [],
   "source": [
    "PLOT_VARIABLE = \"residuals_abs\"\n",
    "VARIABLE = \"t2max\"\n",
    "COVARIATE = \"gmst\"\n",
    "num_samples = 5_000"
   ]
  },
  {
   "cell_type": "code",
   "execution_count": null,
   "id": "8c53eb4f-85ee-4845-b10d-8d131c21324c",
   "metadata": {},
   "outputs": [],
   "source": [
    "data_results = az.extract(az_ds, group=\"posterior_predictive\", num_samples=num_samples).median(dim=[\"sample\"]).load()\n",
    "data_results = data_results.sortby(\"gmst\")\n",
    "y_pred = data_results[variable].rename(\"y_pred\")\n",
    "y_true = data_results[f\"{variable}_true\"].rename(\"y_true\")\n",
    "idata = np.abs(y_true - y_pred).mean(dim=[covariate]).load().rename(PLOT_VARIABLE)"
   ]
  },
  {
   "cell_type": "code",
   "execution_count": null,
   "id": "a1074ecf-44c9-4ff7-b91e-38393e32ceb8",
   "metadata": {},
   "outputs": [],
   "source": [
    "subfigures_path = Path(figures_path).joinpath(f\"{PLOT_VARIABLE}/posterior_predictive\")\n",
    "subfigures_path.mkdir(parents=True, exist_ok=True)\n",
    "\n",
    "utils_region.plot_static_spatial_variable_redfeten(\n",
    "    idata,\n",
    "    figures_path=subfigures_path,\n",
    "    cbar_label=utils_region.VARIABLE_LABELS[PLOT_VARIABLE],\n",
    "    cmap=\"Reds\",\n",
    "    bounds = (0.0, 10, 7.5)\n",
    ")"
   ]
  },
  {
   "cell_type": "markdown",
   "id": "c2a8d3a6-e568-4c36-adbd-7c3a6420c02c",
   "metadata": {},
   "source": [
    "## Model Errors - All"
   ]
  },
  {
   "cell_type": "markdown",
   "id": "3db19107-9438-4e3d-9cd1-37b7ccaf6dfb",
   "metadata": {
    "editable": true,
    "slideshow": {
     "slide_type": ""
    },
    "tags": []
   },
   "source": [
    "### Negative Log-Likelihood - All"
   ]
  },
  {
   "cell_type": "code",
   "execution_count": null,
   "id": "f9833de0-f0d2-4ceb-bb69-00e8b01987b3",
   "metadata": {},
   "outputs": [],
   "source": [
    "subfigures_path = figures_path.joinpath(\"posterior_predictive/nll\")\n",
    "subfigures_path.mkdir(parents=True, exist_ok=True)"
   ]
  },
  {
   "cell_type": "markdown",
   "id": "226b847d-3549-4cb1-a164-7106b35757f4",
   "metadata": {},
   "source": [
    "#### Posterior"
   ]
  },
  {
   "cell_type": "code",
   "execution_count": null,
   "id": "9219d584-cccb-4697-a65b-7bd06b3763be",
   "metadata": {},
   "outputs": [],
   "source": [
    "variable = \"t2max\"\n",
    "az_ds = az.from_zarr(store=str(results_data_path))\n",
    "idata = az.extract(az_ds, group=\"log_likelihood\", num_samples=4000).median(dim=[\"sample\"]).load()\n",
    "isub_post = idata.sortby(\"gmst\")[variable].rename(\"nll\").sum(dim=covariate)"
   ]
  },
  {
   "cell_type": "markdown",
   "id": "a6514d31-1e04-49ca-986d-a872cd8f22af",
   "metadata": {},
   "source": [
    "#### Posterior - Predictive"
   ]
  },
  {
   "cell_type": "code",
   "execution_count": null,
   "id": "9a011a67-b120-4469-bde4-8452f941b94a",
   "metadata": {},
   "outputs": [],
   "source": [
    "\n",
    "az_ds = az.from_zarr(store=str(results_data_path))\n",
    "idata = az.extract(az_ds, group=\"posterior_predictive\", num_samples=4000).median(dim=[\"sample\"]).load()\n",
    "isub_postpred = idata.sortby(\"gmst\")[\"nll\"].sum(dim=covariate)"
   ]
  },
  {
   "cell_type": "code",
   "execution_count": null,
   "id": "c51b488f-dce8-48b1-b5c8-fc6673076df9",
   "metadata": {},
   "outputs": [],
   "source": [
    "# labels\n",
    "cbar_label = \"Negative Log Predictive Density\\n\"\n",
    "cbar_label += r\"$\\boldsymbol{L}(\\mathbf{y};\\boldsymbol{\\theta},\\boldsymbol{\\phi},\\mathcal{D})$\""
   ]
  },
  {
   "cell_type": "markdown",
   "id": "b8ae9586-6c89-4bd2-bf34-964ad0c4c260",
   "metadata": {},
   "source": [
    "#### Density"
   ]
  },
  {
   "cell_type": "code",
   "execution_count": null,
   "id": "724c83c7-e4bd-4ed3-995f-cbf1d66b057b",
   "metadata": {},
   "outputs": [],
   "source": [
    "returns = []\n",
    "\n",
    "returns.append({\n",
    "    \"period\": \"Red Feten (Posterior)\",\n",
    "    \"color\": \"gray\",\n",
    "    \"values\":  isub_post.values.ravel(),\n",
    "    \"linestyle\": \"-\",\n",
    "    \"values_units\": \"\", # \"[mm/day]\",\n",
    "})\n",
    "\n",
    "returns.append({\n",
    "    \"period\": \"Red Feten (Posterior Predictive)\",\n",
    "    \"color\": \"tab:blue\",\n",
    "    \"values\":  isub_postpred.where(isub_postpred.red_feten_mask == 1, drop=True).values.ravel(),\n",
    "    \"linestyle\": \"-\",\n",
    "    \"values_units\": \"\", # \"[mm/day]\",\n",
    "})\n",
    "returns.append({\n",
    "    \"period\": \"Not Red Feten (Posterior Predictive)\",\n",
    "    \"color\": \"tab:red\",\n",
    "    \"linestyle\": \"--\",\n",
    "    \"values\":  isub_postpred.where(isub_postpred.red_feten_mask == 0, drop=True).values.ravel(),\n",
    "    \"values_units\": \"\", # \"[mm/day]\",\n",
    "})"
   ]
  },
  {
   "cell_type": "code",
   "execution_count": null,
   "id": "f85c176c-49e6-4375-a19b-5189b0857c2a",
   "metadata": {
    "editable": true,
    "slideshow": {
     "slide_type": ""
    },
    "tags": []
   },
   "outputs": [],
   "source": [
    "fig, ax = plot_density_multiple(returns, log_bins=False)\n",
    "fig.set_size_inches(6, 5)\n",
    "# fig.set_size_inches(8, 4.5)\n",
    "ax.set(\n",
    "    xlabel=cbar_label,\n",
    ")\n",
    "\n",
    "formatter = ScalarFormatter()\n",
    "formatter.set_scientific(False)\n",
    "ax.xaxis.set_major_formatter(formatter)\n",
    "plt.legend(fontsize=10, loc=\"upper left\")\n",
    "plt.tight_layout()\n",
    "fig.savefig(subfigures_path.joinpath(\"density_all.png\"))\n",
    "plt.show()"
   ]
  },
  {
   "cell_type": "markdown",
   "id": "8bebad2e-6515-4740-956f-dfa5572a21fe",
   "metadata": {},
   "source": [
    "## Global Parameters"
   ]
  },
  {
   "cell_type": "markdown",
   "id": "350537b9-b8f2-4be5-8cd4-07e8859ef869",
   "metadata": {},
   "source": [
    "### Concentration - Posterior"
   ]
  },
  {
   "cell_type": "code",
   "execution_count": null,
   "id": "50ac5f1a-4a34-47c6-9832-ac8ff435d5bd",
   "metadata": {},
   "outputs": [],
   "source": [
    "PLOT_VARIABLE = \"concentration\"\n",
    "VARIABLE = \"t2max\"\n",
    "COVARIATE = \"gmst\"\n",
    "num_samples = 5_000"
   ]
  },
  {
   "cell_type": "code",
   "execution_count": null,
   "id": "aec6973f-0c55-43dc-9be9-11316efa46ad",
   "metadata": {},
   "outputs": [],
   "source": [
    "az_ds = az.from_zarr(store=str(results_data_path))\n",
    "idata = az.extract(az_ds, group=\"posterior\", num_samples=num_samples)\n",
    "idata = idata.sortby(\"gmst\")\n",
    "idata = data_results[PLOT_VARIABLE]"
   ]
  },
  {
   "cell_type": "code",
   "execution_count": null,
   "id": "677ee17e-7271-413b-9cff-9bf6e671f116",
   "metadata": {},
   "outputs": [],
   "source": [
    "subfigures_path = Path(figures_path).joinpath(f\"{PLOT_VARIABLE}/posterior\")\n",
    "subfigures_path.mkdir(parents=True, exist_ok=True)\n",
    "\n",
    "utils_region.plot_static_spatial_variable(\n",
    "    idata,\n",
    "    figures_path=subfigures_path,\n",
    "    cbar_label=utils_region.VARIABLE_LABELS[f\"{PLOT_VARIABLE}_iid\"],\n",
    "    cmap=\"Reds\",\n",
    "    bounds = (-1, 10, 0.0)\n",
    ")"
   ]
  },
  {
   "cell_type": "markdown",
   "id": "87b87601-8847-46e1-b3f7-bc5d34b57e84",
   "metadata": {},
   "source": [
    "### Concentration - Posterior Predictive"
   ]
  },
  {
   "cell_type": "code",
   "execution_count": null,
   "id": "cb425fda-1fbe-45c2-9d2d-1fc624df8b95",
   "metadata": {},
   "outputs": [],
   "source": [
    "PLOT_VARIABLE = \"concentration\"\n",
    "VARIABLE = \"t2max\"\n",
    "COVARIATE = \"gmst\"\n",
    "num_samples = 5_000"
   ]
  },
  {
   "cell_type": "code",
   "execution_count": null,
   "id": "ffa182b9-45a8-40c7-9d4c-c8935239a8da",
   "metadata": {},
   "outputs": [],
   "source": [
    "az_ds = az.from_zarr(store=str(results_data_path))\n",
    "idata = az.extract(az_ds, group=\"posterior_predictive\", num_samples=num_samples)\n",
    "idata = idata.sortby(\"gmst\")\n",
    "idata = data_results[PLOT_VARIABLE]"
   ]
  },
  {
   "cell_type": "code",
   "execution_count": null,
   "id": "427f407a-77b6-422d-b067-9e29e2e3e26a",
   "metadata": {},
   "outputs": [],
   "source": [
    "subfigures_path = Path(figures_path).joinpath(f\"{PLOT_VARIABLE}/posterior_predictive\")\n",
    "subfigures_path.mkdir(parents=True, exist_ok=True)\n",
    "\n",
    "utils_region.plot_static_spatial_variable(\n",
    "    idata,\n",
    "    figures_path=subfigures_path,\n",
    "    cbar_label=utils_region.VARIABLE_LABELS[f\"{PLOT_VARIABLE}_iid\"],\n",
    "    cmap=\"Reds\",\n",
    "    bounds = (-1, 10, 0.0)\n",
    ")"
   ]
  },
  {
   "cell_type": "markdown",
   "id": "9278be5b-e406-4de0-9d44-06da99b1a865",
   "metadata": {},
   "source": [
    "### Scale - Posterior"
   ]
  },
  {
   "cell_type": "code",
   "execution_count": null,
   "id": "7ab41842-ca25-4193-89c2-7c94effe115c",
   "metadata": {},
   "outputs": [],
   "source": [
    "PLOT_VARIABLE = \"scale\"\n",
    "VARIABLE = \"t2max\"\n",
    "COVARIATE = \"gmst\"\n",
    "num_samples = 5_000"
   ]
  },
  {
   "cell_type": "code",
   "execution_count": null,
   "id": "9736fe7f-decc-46a3-8532-619cb4812330",
   "metadata": {},
   "outputs": [],
   "source": [
    "az_ds = az.from_zarr(store=str(results_data_path))\n",
    "idata = az.extract(az_ds, group=\"posterior\", num_samples=num_samples)\n",
    "idata = idata.sortby(\"gmst\")\n",
    "idata = data_results[PLOT_VARIABLE]"
   ]
  },
  {
   "cell_type": "code",
   "execution_count": null,
   "id": "925e0673-5b4a-47c6-b531-af366ba2033c",
   "metadata": {},
   "outputs": [],
   "source": [
    "subfigures_path = Path(figures_path).joinpath(f\"{PLOT_VARIABLE}/posterior\")\n",
    "subfigures_path.mkdir(parents=True, exist_ok=True)\n",
    "\n",
    "utils_region.plot_static_spatial_variable(\n",
    "    idata,\n",
    "    figures_path=subfigures_path,\n",
    "    cbar_label=utils_region.VARIABLE_LABELS[f\"{PLOT_VARIABLE}_iid\"],\n",
    "    cmap=\"Reds\",\n",
    "    bounds = (0.5, 10, 3.0)\n",
    ")"
   ]
  },
  {
   "cell_type": "markdown",
   "id": "51d94291-6dac-4fd1-8cd1-e89c00547d2b",
   "metadata": {},
   "source": [
    "### Scale - Posterior Predictive"
   ]
  },
  {
   "cell_type": "code",
   "execution_count": null,
   "id": "e169e554-a0a3-48b3-a136-fd3820fe0eb2",
   "metadata": {},
   "outputs": [],
   "source": [
    "PLOT_VARIABLE = \"scale\"\n",
    "VARIABLE = \"t2max\"\n",
    "COVARIATE = \"gmst\"\n",
    "num_samples = 5_000"
   ]
  },
  {
   "cell_type": "code",
   "execution_count": null,
   "id": "4cf564db-e794-426c-b8eb-11e0ac89ac66",
   "metadata": {},
   "outputs": [],
   "source": [
    "az_ds = az.from_zarr(store=str(results_data_path))\n",
    "idata = az.extract(az_ds, group=\"posterior_predictive\", num_samples=num_samples)\n",
    "idata = idata.sortby(\"gmst\")\n",
    "idata = data_results[PLOT_VARIABLE]"
   ]
  },
  {
   "cell_type": "code",
   "execution_count": null,
   "id": "fe8ff32f-22ae-4829-a824-435a64d39fd2",
   "metadata": {},
   "outputs": [],
   "source": [
    "subfigures_path = Path(figures_path).joinpath(f\"{PLOT_VARIABLE}/posterior_predictive\")\n",
    "subfigures_path.mkdir(parents=True, exist_ok=True)\n",
    "\n",
    "utils_region.plot_static_spatial_variable(\n",
    "    idata,\n",
    "    figures_path=subfigures_path,\n",
    "    cbar_label=utils_region.VARIABLE_LABELS[f\"{PLOT_VARIABLE}_iid\"],\n",
    "    cmap=\"Reds\",\n",
    "    bounds = (0.5, 10, 3.0)\n",
    ")"
   ]
  },
  {
   "cell_type": "markdown",
   "id": "db87e0d4-2e1d-4797-b5f5-b03eca001fc1",
   "metadata": {},
   "source": [
    "### Location - Posterior"
   ]
  },
  {
   "cell_type": "code",
   "execution_count": null,
   "id": "24128aa9-62eb-4a42-abbd-bd63d1723d9b",
   "metadata": {},
   "outputs": [],
   "source": [
    "PLOT_VARIABLE = \"location\"\n",
    "VARIABLE = \"t2max\"\n",
    "COVARIATE = \"gmst\"\n",
    "num_samples = 5_000"
   ]
  },
  {
   "cell_type": "code",
   "execution_count": null,
   "id": "bafa4430-818e-4013-b8e0-b88265175570",
   "metadata": {},
   "outputs": [],
   "source": [
    "az_ds = az.from_zarr(store=str(results_data_path))\n",
    "idata = az.extract(az_ds, group=\"posterior\", num_samples=num_samples)\n",
    "idata = idata.sortby(\"gmst\")\n",
    "idata = data_results[PLOT_VARIABLE]"
   ]
  },
  {
   "cell_type": "code",
   "execution_count": null,
   "id": "cd6d1eb5-878a-454e-85f8-558c5a850a57",
   "metadata": {},
   "outputs": [],
   "source": [
    "subfigures_path = Path(figures_path).joinpath(f\"{PLOT_VARIABLE}/posterior\")\n",
    "subfigures_path.mkdir(parents=True, exist_ok=True)\n",
    "\n",
    "utils_region.plot_static_spatial_variable(\n",
    "    idata,\n",
    "    figures_path=subfigures_path,\n",
    "    cbar_label=utils_region.VARIABLE_LABELS[f\"{PLOT_VARIABLE}_iid\"],\n",
    "    cmap=\"Reds\",\n",
    "    bounds = (20.0, 10, 45.0)\n",
    ")"
   ]
  },
  {
   "cell_type": "markdown",
   "id": "8ad4b1b2-98cf-4bdc-862d-6063ea627069",
   "metadata": {},
   "source": [
    "### Location - Posterior Predictive"
   ]
  },
  {
   "cell_type": "code",
   "execution_count": null,
   "id": "14012888-c654-4e2e-ae7c-7db6491bcb13",
   "metadata": {},
   "outputs": [],
   "source": [
    "PLOT_VARIABLE = \"location\"\n",
    "VARIABLE = \"t2max\"\n",
    "COVARIATE = \"gmst\"\n",
    "num_samples = 5_000"
   ]
  },
  {
   "cell_type": "code",
   "execution_count": null,
   "id": "4bdaea22-fe7f-4b34-a2b7-9865f4a80c71",
   "metadata": {},
   "outputs": [],
   "source": [
    "az_ds = az.from_zarr(store=str(results_data_path))\n",
    "idata = az.extract(az_ds, group=\"posterior_predictive\", num_samples=num_samples)\n",
    "idata = idata.sortby(\"gmst\")\n",
    "idata = data_results[PLOT_VARIABLE]"
   ]
  },
  {
   "cell_type": "code",
   "execution_count": null,
   "id": "690f006c-e0ec-4172-b9dc-88f3bd5a7261",
   "metadata": {},
   "outputs": [],
   "source": [
    "subfigures_path = Path(figures_path).joinpath(f\"{PLOT_VARIABLE}/posterior_predictive\")\n",
    "subfigures_path.mkdir(parents=True, exist_ok=True)\n",
    "\n",
    "utils_region.plot_static_spatial_variable(\n",
    "    idata,\n",
    "    figures_path=subfigures_path,\n",
    "    cbar_label=utils_region.VARIABLE_LABELS[f\"{PLOT_VARIABLE}_iid\"],\n",
    "    cmap=\"Reds\",\n",
    "    bounds = (20.0, 10, 45.0)\n",
    ")"
   ]
  },
  {
   "cell_type": "markdown",
   "id": "e92140ad-32c3-429a-b10a-1711f3aa3a16",
   "metadata": {},
   "source": [
    "### 100-Year Return Period - Posterior"
   ]
  },
  {
   "cell_type": "code",
   "execution_count": null,
   "id": "e8f7a230-2220-4f98-a44e-8159c3507fb2",
   "metadata": {},
   "outputs": [],
   "source": [
    "PLOT_VARIABLE = \"return_level_100\"\n",
    "VARIABLE = \"t2max\"\n",
    "COVARIATE = \"gmst\"\n",
    "num_samples = 5_000"
   ]
  },
  {
   "cell_type": "code",
   "execution_count": null,
   "id": "92469759-bc75-4096-8b74-956e91f54fca",
   "metadata": {},
   "outputs": [],
   "source": [
    "data_results = az.extract(az_ds, group=\"posterior\", num_samples=num_samples)\n",
    "data_results = data_results.sortby(\"gmst\")\n",
    "data_results = utils_region.calculate_ds_return_periods(data_results, [\"sample\"])\n",
    "idata = data_results[PLOT_VARIABLE].median(dim=[\"sample\"]).load()\n",
    "# idata = idata.where(idata.red_feten_mask == 1, drop=True)"
   ]
  },
  {
   "cell_type": "code",
   "execution_count": null,
   "id": "d97c1cae-ed6c-4a81-acd0-268b84960688",
   "metadata": {},
   "outputs": [],
   "source": [
    "subfigures_path = Path(figures_path).joinpath(f\"{PLOT_VARIABLE}/posterior\")\n",
    "subfigures_path.mkdir(parents=True, exist_ok=True)\n",
    "\n",
    "utils_region.plot_static_spatial_variable(\n",
    "    idata,\n",
    "    figures_path=subfigures_path,\n",
    "    cbar_label=utils_region.VARIABLE_LABELS[f\"{PLOT_VARIABLE}_spatial\"],\n",
    "    cmap=\"Reds\",\n",
    "    bounds = (25, 10, 50),\n",
    ")"
   ]
  },
  {
   "cell_type": "markdown",
   "id": "ba22f8f3-89d6-49c0-bdbb-e5415b7313c1",
   "metadata": {},
   "source": [
    "### 100-Year Return Period - Posterior Predictive"
   ]
  },
  {
   "cell_type": "code",
   "execution_count": null,
   "id": "f3fef4b1-a051-4225-85bc-417b718c1af2",
   "metadata": {},
   "outputs": [],
   "source": [
    "PLOT_VARIABLE = \"return_level_100\"\n",
    "VARIABLE = \"t2max\"\n",
    "COVARIATE = \"gmst\"\n",
    "num_samples = 5_000"
   ]
  },
  {
   "cell_type": "code",
   "execution_count": null,
   "id": "160f3679-91b7-4e30-b73e-9a35cdc3f95f",
   "metadata": {},
   "outputs": [],
   "source": [
    "data_results = az.extract(az_ds, group=\"posterior_predictive\", num_samples=num_samples)\n",
    "data_results = data_results.sortby(\"gmst\")\n",
    "data_results = utils_region.calculate_ds_return_periods(data_results, [\"sample\"])\n",
    "idata = data_results[PLOT_VARIABLE].median(dim=[\"sample\"]).load()"
   ]
  },
  {
   "cell_type": "code",
   "execution_count": null,
   "id": "4dae3063-c817-4fca-9059-3048231639d5",
   "metadata": {},
   "outputs": [],
   "source": [
    "subfigures_path = Path(figures_path).joinpath(f\"{PLOT_VARIABLE}/posterior_predictive\")\n",
    "subfigures_path.mkdir(parents=True, exist_ok=True)\n",
    "\n",
    "utils_region.plot_static_spatial_variable(\n",
    "    idata,\n",
    "    figures_path=subfigures_path,\n",
    "    cbar_label=utils_region.VARIABLE_LABELS[f\"{PLOT_VARIABLE}_spatial\"],\n",
    "    cmap=\"Reds\",\n",
    "    bounds = (25, 10, 50),\n",
    ")"
   ]
  },
  {
   "cell_type": "code",
   "execution_count": null,
   "id": "25fbfda1-256a-46ec-92f8-20aee1558034",
   "metadata": {},
   "outputs": [],
   "source": []
  }
 ],
 "metadata": {
  "kernelspec": {
   "display_name": "Python [conda env:dynev4eo_gpu]",
   "language": "python",
   "name": "conda-env-dynev4eo_gpu-py"
  },
  "language_info": {
   "codemirror_mode": {
    "name": "ipython",
    "version": 3
   },
   "file_extension": ".py",
   "mimetype": "text/x-python",
   "name": "python",
   "nbconvert_exporter": "python",
   "pygments_lexer": "ipython3",
   "version": "3.11.10"
  }
 },
 "nbformat": 4,
 "nbformat_minor": 5
}
