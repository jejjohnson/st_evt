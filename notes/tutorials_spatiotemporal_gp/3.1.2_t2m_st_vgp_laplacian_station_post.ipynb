{
 "cells": [
  {
   "cell_type": "markdown",
   "id": "8f16d7da-2b7a-45d0-91a9-297855c442df",
   "metadata": {
    "editable": true,
    "slideshow": {
     "slide_type": ""
    },
    "tags": []
   },
   "source": [
    "# Modeling Extremes - Numpyro Pt 2 - MAP"
   ]
  },
  {
   "cell_type": "code",
   "execution_count": 1,
   "id": "47b6a690-2d66-437b-b76d-12750a3f322c",
   "metadata": {
    "editable": true,
    "slideshow": {
     "slide_type": ""
    },
    "tags": []
   },
   "outputs": [],
   "source": [
    "import os\n",
    "os.environ[\"CUDA_VISIBLE_DEVICES\"] = \"\" # first gpu\n",
    "os.environ['XLA_PYTHON_CLIENT_PREALLOCATE'] = 'FALSE'\n",
    "\n",
    "import jax\n",
    "jax.config.update('jax_platform_name', 'cpu')\n",
    "\n",
    "import numpyro\n",
    "import multiprocessing\n",
    "\n",
    "num_devices = multiprocessing.cpu_count()\n",
    "numpyro.set_platform(\"cpu\")\n",
    "numpyro.set_host_device_count(num_devices)\n",
    "jax.config.update(\"jax_enable_x64\", True)"
   ]
  },
  {
   "cell_type": "code",
   "execution_count": 2,
   "id": "9f80b777-1fb0-4154-99e1-287866770c31",
   "metadata": {
    "editable": true,
    "slideshow": {
     "slide_type": ""
    },
    "tags": []
   },
   "outputs": [
    {
     "name": "stderr",
     "output_type": "stream",
     "text": [
      "An NVIDIA GPU may be present on this machine, but a CUDA-enabled jaxlib is not installed. Falling back to cpu.\n"
     ]
    }
   ],
   "source": [
    "import autoroot\n",
    "from pathlib import Path\n",
    "import numpy as np\n",
    "import xarray as xr\n",
    "import pandas as pd\n",
    "import pint_xarray\n",
    "import arviz as az\n",
    "\n",
    "from st_evt.viz import plot_histogram, plot_density\n",
    "from omegaconf import OmegaConf\n",
    "\n",
    "import jax\n",
    "import jax.random as jrandom\n",
    "import jax.numpy as jnp\n",
    "import pandas as pd\n",
    "\n",
    "rng_key = jrandom.PRNGKey(123)\n",
    "\n",
    "import arviz as az\n",
    "\n",
    "import xarray as xr\n",
    "import regionmask\n",
    "\n",
    "import matplotlib.pyplot as plt\n",
    "from matplotlib.ticker import ScalarFormatter, FuncFormatter\n",
    "import seaborn as sns\n",
    "sns.reset_defaults()\n",
    "sns.set_context(context=\"talk\", font_scale=0.7)\n",
    "\n",
    "%config InlineBackend.figure_format = 'retina'\n",
    "plt.style.use(\n",
    "    \"https://raw.githubusercontent.com/ClimateMatchAcademy/course-content/main/cma.mplstyle\"\n",
    ")\n",
    "\n",
    "from loguru import logger\n",
    "\n",
    "# num_devices = 5\n",
    "# numpyro.set_host_device_count(num_devices)\n",
    "\n",
    "\n",
    "%matplotlib inline\n",
    "%load_ext autoreload\n",
    "%autoreload 2"
   ]
  },
  {
   "cell_type": "markdown",
   "id": "7eb92100-da47-4dd6-8d69-1b5ce0583198",
   "metadata": {},
   "source": [
    "## Paths"
   ]
  },
  {
   "cell_type": "code",
   "execution_count": 3,
   "id": "784faf4b-a3dc-4204-bc3d-4390a099f0fa",
   "metadata": {
    "editable": true,
    "slideshow": {
     "slide_type": ""
    },
    "tags": []
   },
   "outputs": [],
   "source": [
    "results_root_path = \"/home/juanjohn/pool_projects/scratch/stevt_tutorial/models/nonstationary_gp_lap_demo/\"\n",
    "results_file_name = \"results.nc\"\n",
    "results_data_path = Path(results_root_path).joinpath(results_file_name)\n",
    "\n",
    "figures_path = Path(results_root_path).joinpath(\"figures/stations/posterior\")"
   ]
  },
  {
   "cell_type": "code",
   "execution_count": 4,
   "id": "18bac9c7-bdeb-4e46-aa76-ba1eb9a546dd",
   "metadata": {},
   "outputs": [
    {
     "data": {
      "text/plain": [
       "PosixPath('/home/juanjohn/pool_projects/scratch/stevt_tutorial/models/nonstationary_gp_lap_demo/figures/stations/posterior')"
      ]
     },
     "execution_count": 4,
     "metadata": {},
     "output_type": "execute_result"
    }
   ],
   "source": [
    "figures_path"
   ]
  },
  {
   "cell_type": "markdown",
   "id": "61023d79-5d76-43a0-8a69-1f74c08b92bb",
   "metadata": {},
   "source": [
    "## Data"
   ]
  },
  {
   "cell_type": "code",
   "execution_count": 5,
   "id": "f6c0232c-b089-4448-a7fc-3fd2b8ea63c4",
   "metadata": {},
   "outputs": [],
   "source": [
    "DATA_URL = autoroot.root.joinpath(\"data/ml_ready/aemet/t2max_stations_bm_summer.zarr\")\n",
    "variable = \"t2max\"\n",
    "covariate = \"gmst\"\n",
    "spatial_dim_name = \"station_id\"\n",
    "\n",
    "\n",
    "# LOAD DATA\n",
    "with xr.open_dataset(DATA_URL, engine=\"zarr\") as f:\n",
    "    ds_bm = f.load()\n",
    "    # ds_bm = ds_bm.where(ds_bm.red_feten_mask == 1, drop=True)"
   ]
  },
  {
   "cell_type": "markdown",
   "id": "01ff2dbc-b463-4ddf-8858-97bd75359c44",
   "metadata": {},
   "source": [
    "### Likelihood Statistics\n",
    "\n",
    "There are some useful statistics that we can use to evaluate how well our model does.\n",
    "\n",
    "$$\n",
    "\\begin{aligned}\n",
    "\\text{ELPD WAIC}: && && \\\\\n",
    "\\text{ELPD WAIC SE}: && && \\\\\n",
    "\\text{P-Value WAIC}: && && \\\\\n",
    "\\end{aligned}\n",
    "$$"
   ]
  },
  {
   "cell_type": "code",
   "execution_count": 6,
   "id": "10fa477f-25d3-461d-970d-99b699eab496",
   "metadata": {},
   "outputs": [],
   "source": [
    "variable = \"t2max\""
   ]
  },
  {
   "cell_type": "markdown",
   "id": "be2be7c8-f9e1-444c-88da-d0df0796ddf4",
   "metadata": {},
   "source": [
    "## Station Selection"
   ]
  },
  {
   "cell_type": "code",
   "execution_count": 7,
   "id": "06e09db4-390a-450a-b4ff-762ea8d7859b",
   "metadata": {},
   "outputs": [],
   "source": [
    "from st_evt import AEMET_GOOD_STATIONS, AEMET_BAD_STATIONS"
   ]
  },
  {
   "cell_type": "code",
   "execution_count": 8,
   "id": "4e526069-de37-4059-939d-1d14f38c0ff7",
   "metadata": {},
   "outputs": [
    {
     "data": {
      "text/plain": [
       "['3407Y', '9677', 'C018J', 'C426R']"
      ]
     },
     "execution_count": 8,
     "metadata": {},
     "output_type": "execute_result"
    }
   ],
   "source": [
    "AEMET_BAD_STATIONS[\"red_feten\"]"
   ]
  },
  {
   "cell_type": "markdown",
   "id": "a04f58a1-9e74-4b1c-8558-3e8f8467987c",
   "metadata": {},
   "source": [
    "### a - Predetermined Station"
   ]
  },
  {
   "cell_type": "code",
   "execution_count": 9,
   "id": "b0f56281-14d6-47a6-9d01-3c2911b0da5e",
   "metadata": {},
   "outputs": [
    {
     "data": {
      "text/plain": [
       "{'madrid': ['3129A', 'Madrid (Barajas)'],\n",
       " 'valencia': ['8414A', 'Valencia (Aeropuerto)'],\n",
       " 'zaragoza': ['9434', 'Zaragoza (Aeropuerto)'],\n",
       " 'santiago': ['1475X', 'Santiago De Compostela'],\n",
       " 'murcia': ['7178I', 'Murcia'],\n",
       " 'cordoba': ['9434', 'Viallanueva de Cordoba (Sea)']}"
      ]
     },
     "execution_count": 9,
     "metadata": {},
     "output_type": "execute_result"
    }
   ],
   "source": [
    "from st_evt import CANDIDATE_STATIONS\n",
    "CANDIDATE_STATIONS"
   ]
  },
  {
   "cell_type": "code",
   "execution_count": 10,
   "id": "6aa6811c-b27a-4d3a-9f35-98bd1686dee1",
   "metadata": {},
   "outputs": [],
   "source": [
    "candidate_station = CANDIDATE_STATIONS[\"valencia\"][0]\n",
    "candidate_station = '8354X'"
   ]
  },
  {
   "cell_type": "code",
   "execution_count": 11,
   "id": "2c889a47-a453-484a-9250-4e56770baaeb",
   "metadata": {},
   "outputs": [],
   "source": [
    "figures_path = figures_path.joinpath(f\"{candidate_station}\")\n",
    "figures_path.mkdir(parents=True, exist_ok=True)"
   ]
  },
  {
   "cell_type": "markdown",
   "id": "d2aff844-ea9e-44f4-b442-1a1161c569e5",
   "metadata": {},
   "source": [
    "### MCMC Results"
   ]
  },
  {
   "cell_type": "code",
   "execution_count": 12,
   "id": "7b2b1132-338e-4ef9-b024-7058d161b655",
   "metadata": {},
   "outputs": [],
   "source": [
    "az_ds = az.from_netcdf(str(results_data_path))\n",
    "az_ds_station = az_ds.sel(station_id = candidate_station)\n",
    "ds_station = ds_bm.sel(station_id = candidate_station)\n",
    "# az_ds"
   ]
  },
  {
   "cell_type": "markdown",
   "id": "4aded88e-c232-4f60-94a2-a82300c8b587",
   "metadata": {},
   "source": [
    "### EDA Stuff"
   ]
  },
  {
   "cell_type": "code",
   "execution_count": 13,
   "id": "460c2fec-f66a-464d-8685-0a97925ed9d2",
   "metadata": {},
   "outputs": [],
   "source": [
    "from st_evt._src.modules.models.aemet import utils_station"
   ]
  },
  {
   "cell_type": "code",
   "execution_count": 14,
   "id": "1345f9c9-b915-4e85-b570-74eafba4421d",
   "metadata": {},
   "outputs": [
    {
     "name": "stderr",
     "output_type": "stream",
     "text": [
      "\u001b[32m2025-01-09 20:17:27.194\u001b[0m | \u001b[1mINFO    \u001b[0m | \u001b[36mst_evt._src.modules.models.aemet.utils_station\u001b[0m:\u001b[36mplot_eda\u001b[0m:\u001b[36m114\u001b[0m - \u001b[1mPlotting BM Data Time Series...\u001b[0m\n",
      "\u001b[32m2025-01-09 20:17:27.807\u001b[0m | \u001b[34m\u001b[1mDEBUG   \u001b[0m | \u001b[36mst_evt._src.modules.models.aemet.utils_station\u001b[0m:\u001b[36mplot_eda\u001b[0m:\u001b[36m130\u001b[0m - \u001b[34m\u001b[1mSaved Figure:\n",
      "/home/juanjohn/pool_projects/scratch/stevt_tutorial/models/nonstationary_gp_lap_demo/figures/stations/posterior/8354X/eda/ts_bm_data.pdf\u001b[0m\n",
      "\u001b[32m2025-01-09 20:17:27.808\u001b[0m | \u001b[1mINFO    \u001b[0m | \u001b[36mst_evt._src.modules.models.aemet.utils_station\u001b[0m:\u001b[36mplot_eda\u001b[0m:\u001b[36m132\u001b[0m - \u001b[1mPlotting BM Data Histogram...\u001b[0m\n",
      "\u001b[32m2025-01-09 20:17:27.936\u001b[0m | \u001b[34m\u001b[1mDEBUG   \u001b[0m | \u001b[36mst_evt._src.modules.models.aemet.utils_station\u001b[0m:\u001b[36mplot_eda\u001b[0m:\u001b[36m146\u001b[0m - \u001b[34m\u001b[1mSaved Figure:\n",
      "/home/juanjohn/pool_projects/scratch/stevt_tutorial/models/nonstationary_gp_lap_demo/figures/stations/posterior/8354X/eda/hist_bm_data.pdf\u001b[0m\n",
      "\u001b[32m2025-01-09 20:17:27.937\u001b[0m | \u001b[1mINFO    \u001b[0m | \u001b[36mst_evt._src.modules.models.aemet.utils_station\u001b[0m:\u001b[36mplot_eda\u001b[0m:\u001b[36m148\u001b[0m - \u001b[1mPlotting BM Data Density...\u001b[0m\n",
      "\u001b[32m2025-01-09 20:17:28.177\u001b[0m | \u001b[34m\u001b[1mDEBUG   \u001b[0m | \u001b[36mst_evt._src.modules.models.aemet.utils_station\u001b[0m:\u001b[36mplot_eda\u001b[0m:\u001b[36m162\u001b[0m - \u001b[34m\u001b[1mSaved Figure:\n",
      "/home/juanjohn/pool_projects/scratch/stevt_tutorial/models/nonstationary_gp_lap_demo/figures/stations/posterior/8354X/eda/density_bm_data.pdf\u001b[0m\n"
     ]
    }
   ],
   "source": [
    "utils_station.plot_eda(\n",
    "    da=ds_station[variable].squeeze(),\n",
    "    variable_label=\"2m Max Temperature [°C]\",\n",
    "    # figures_path=\"./\", \n",
    "    figures_path=figures_path, \n",
    "    figure_dpi=300,\n",
    ")"
   ]
  },
  {
   "cell_type": "markdown",
   "id": "45ea0073-27bb-4cc1-b660-3c538b8bc7cf",
   "metadata": {},
   "source": [
    "## Posterior Calculations"
   ]
  },
  {
   "cell_type": "markdown",
   "id": "0004bdaa-518f-47fc-9747-59fd394ea649",
   "metadata": {},
   "source": [
    "## Model Inspection"
   ]
  },
  {
   "cell_type": "code",
   "execution_count": 15,
   "id": "5d37b340-3db5-4857-841d-ade8db56e308",
   "metadata": {},
   "outputs": [
    {
     "data": {
      "text/plain": [
       "Computed from 1000 posterior samples and 59 observations log-likelihood matrix.\n",
       "\n",
       "          Estimate       SE\n",
       "elpd_waic  -104.25     5.01\n",
       "p_waic        1.07        -"
      ]
     },
     "execution_count": 15,
     "metadata": {},
     "output_type": "execute_result"
    }
   ],
   "source": [
    "az.waic(az_ds_station)"
   ]
  },
  {
   "cell_type": "markdown",
   "id": "4a1babfb-c4e4-4fa1-a8d4-eff44d6ce4d8",
   "metadata": {},
   "source": [
    "### Trace Plot"
   ]
  },
  {
   "cell_type": "code",
   "execution_count": 16,
   "id": "78f1563b-2e47-4658-9872-5283d9c2143c",
   "metadata": {},
   "outputs": [
    {
     "name": "stderr",
     "output_type": "stream",
     "text": [
      "\u001b[32m2025-01-09 20:17:28.311\u001b[0m | \u001b[1mINFO    \u001b[0m | \u001b[36mst_evt._src.modules.models.aemet.utils_station\u001b[0m:\u001b[36mplot_model_params_critique\u001b[0m:\u001b[36m39\u001b[0m - \u001b[1mPlotting Parameter Traces...\u001b[0m\n",
      "\u001b[32m2025-01-09 20:17:28.826\u001b[0m | \u001b[34m\u001b[1mDEBUG   \u001b[0m | \u001b[36mst_evt._src.modules.models.aemet.utils_station\u001b[0m:\u001b[36mplot_model_params_critique\u001b[0m:\u001b[36m53\u001b[0m - \u001b[34m\u001b[1mSaved Figure:\n",
      "/home/juanjohn/pool_projects/scratch/stevt_tutorial/models/nonstationary_gp_lap_demo/figures/stations/posterior/8354X/params/trace.pdf\u001b[0m\n",
      "\u001b[32m2025-01-09 20:17:28.827\u001b[0m | \u001b[1mINFO    \u001b[0m | \u001b[36mst_evt._src.modules.models.aemet.utils_station\u001b[0m:\u001b[36mplot_model_params_critique\u001b[0m:\u001b[36m55\u001b[0m - \u001b[1mPlotting Parameter Jonts...\u001b[0m\n",
      "\u001b[32m2025-01-09 20:17:29.913\u001b[0m | \u001b[34m\u001b[1mDEBUG   \u001b[0m | \u001b[36mst_evt._src.modules.models.aemet.utils_station\u001b[0m:\u001b[36mplot_model_params_critique\u001b[0m:\u001b[36m76\u001b[0m - \u001b[34m\u001b[1mSaved Figure:\n",
      "/home/juanjohn/pool_projects/scratch/stevt_tutorial/models/nonstationary_gp_lap_demo/figures/stations/posterior/8354X/params/joint.pdf\u001b[0m\n",
      "\u001b[32m2025-01-09 20:17:29.914\u001b[0m | \u001b[1mINFO    \u001b[0m | \u001b[36mst_evt._src.modules.models.aemet.utils_station\u001b[0m:\u001b[36mplot_model_params_critique\u001b[0m:\u001b[36m77\u001b[0m - \u001b[1mPlotting AutoCorrelation...\u001b[0m\n",
      "\u001b[32m2025-01-09 20:17:30.185\u001b[0m | \u001b[34m\u001b[1mDEBUG   \u001b[0m | \u001b[36mst_evt._src.modules.models.aemet.utils_station\u001b[0m:\u001b[36mplot_model_params_critique\u001b[0m:\u001b[36m89\u001b[0m - \u001b[34m\u001b[1mSaved Figure: \n",
      "/home/juanjohn/pool_projects/scratch/stevt_tutorial/models/nonstationary_gp_lap_demo/figures/stations/posterior/8354X/autocorr.pdf\u001b[0m\n",
      "\u001b[32m2025-01-09 20:17:30.186\u001b[0m | \u001b[1mINFO    \u001b[0m | \u001b[36mst_evt._src.modules.models.aemet.utils_station\u001b[0m:\u001b[36mplot_model_params_critique\u001b[0m:\u001b[36m92\u001b[0m - \u001b[1mPlotting ESS...\u001b[0m\n",
      "\u001b[32m2025-01-09 20:17:31.568\u001b[0m | \u001b[34m\u001b[1mDEBUG   \u001b[0m | \u001b[36mst_evt._src.modules.models.aemet.utils_station\u001b[0m:\u001b[36mplot_model_params_critique\u001b[0m:\u001b[36m104\u001b[0m - \u001b[34m\u001b[1mSaved Figure: \n",
      "/home/juanjohn/pool_projects/scratch/stevt_tutorial/models/nonstationary_gp_lap_demo/figures/stations/posterior/8354X/_ess.pdf\u001b[0m\n"
     ]
    }
   ],
   "source": [
    "variables = [\n",
    "    \"concentration\",\n",
    "    \"scale\",\n",
    "    \"location_slope\",\n",
    "    \"location_intercept\",\n",
    "    ]\n",
    "\n",
    "utils_station.plot_model_params_critique(\n",
    "    ds=az_ds_station.posterior,\n",
    "    variables=variables,\n",
    "    # figures_path=\"./\", \n",
    "    figures_path=figures_path, \n",
    "    \n",
    ")"
   ]
  },
  {
   "cell_type": "markdown",
   "id": "04cdf93b-64e1-4118-9c48-d5af482e81e4",
   "metadata": {},
   "source": [
    "## Model Critique"
   ]
  },
  {
   "cell_type": "code",
   "execution_count": 17,
   "id": "160a309a-2499-4082-8b72-9d27b2d3d2a8",
   "metadata": {},
   "outputs": [],
   "source": [
    "idata = az.extract(az_ds_station, group=\"posterior_predictive\", num_samples=10_000)\n",
    "\n",
    "\n",
    "y_pred = az_ds_station.posterior_predictive[\"obs\"].sel(variable=\"t2max\").rename(\"y_pred\")\n",
    "y_true = az_ds_station.observed_data[\"obs\"].sel(variable=\"t2max\")"
   ]
  },
  {
   "cell_type": "code",
   "execution_count": 18,
   "id": "fbc9a417-a375-4876-a077-3d47d4b2532e",
   "metadata": {},
   "outputs": [
    {
     "name": "stderr",
     "output_type": "stream",
     "text": [
      "\u001b[32m2025-01-09 20:17:32.113\u001b[0m | \u001b[1mINFO    \u001b[0m | \u001b[36mst_evt._src.modules.models.aemet.utils_station\u001b[0m:\u001b[36mplot_residual_error_metric\u001b[0m:\u001b[36m235\u001b[0m - \u001b[1mCalculating residual error...\u001b[0m\n",
      "\u001b[32m2025-01-09 20:17:32.354\u001b[0m | \u001b[34m\u001b[1mDEBUG   \u001b[0m | \u001b[36mst_evt._src.modules.models.aemet.utils_station\u001b[0m:\u001b[36mplot_residual_error_metric\u001b[0m:\u001b[36m252\u001b[0m - \u001b[34m\u001b[1mSaved Figure:\n",
      "/home/juanjohn/pool_projects/scratch/stevt_tutorial/models/nonstationary_gp_lap_demo/figures/stations/posterior/8354X/metrics/density_residuals.pdf\u001b[0m\n",
      "\u001b[32m2025-01-09 20:17:32.354\u001b[0m | \u001b[1mINFO    \u001b[0m | \u001b[36mst_evt._src.modules.models.aemet.utils_station\u001b[0m:\u001b[36mplot_residual_abs_error_metric\u001b[0m:\u001b[36m266\u001b[0m - \u001b[1mCalculating residual error...\u001b[0m\n",
      "\u001b[32m2025-01-09 20:17:32.577\u001b[0m | \u001b[34m\u001b[1mDEBUG   \u001b[0m | \u001b[36mst_evt._src.modules.models.aemet.utils_station\u001b[0m:\u001b[36mplot_residual_abs_error_metric\u001b[0m:\u001b[36m283\u001b[0m - \u001b[34m\u001b[1mSaved Figure:\n",
      "/home/juanjohn/pool_projects/scratch/stevt_tutorial/models/nonstationary_gp_lap_demo/figures/stations/posterior/8354X/metrics/density_residuals_abs.pdf\u001b[0m\n"
     ]
    }
   ],
   "source": [
    "utils_station.plot_residual_error_metric(\n",
    "    y_pred=y_pred,\n",
    "    y_true=y_true,\n",
    "    figures_dpi=300,\n",
    "    # figures_path=\"./\", \n",
    "    figures_path=figures_path, \n",
    "    units=\"[°C]\"\n",
    ")\n",
    "utils_station.plot_residual_abs_error_metric(\n",
    "    y_pred=y_pred,\n",
    "    y_true=y_true,\n",
    "    figures_dpi=300,\n",
    "    # figures_path=\"./\", \n",
    "    figures_path=figures_path, \n",
    "    units=\"[°C]\"\n",
    ")"
   ]
  },
  {
   "cell_type": "markdown",
   "id": "90e9783c-adcb-4528-932d-e044088f3c4e",
   "metadata": {},
   "source": [
    "### QQ-Plot"
   ]
  },
  {
   "cell_type": "code",
   "execution_count": 19,
   "id": "b8e6701b-db4f-4bec-a343-1a270895fb40",
   "metadata": {},
   "outputs": [
    {
     "name": "stderr",
     "output_type": "stream",
     "text": [
      "\u001b[32m2025-01-09 20:17:32.689\u001b[0m | \u001b[1mINFO    \u001b[0m | \u001b[36mst_evt._src.modules.models.aemet.utils_station\u001b[0m:\u001b[36mplot_qq\u001b[0m:\u001b[36m301\u001b[0m - \u001b[1mCalculating Metrics (RMSE, MAE, MAPD)...\u001b[0m\n",
      "\u001b[32m2025-01-09 20:17:32.887\u001b[0m | \u001b[1mINFO    \u001b[0m | \u001b[36mst_evt._src.modules.models.aemet.utils_station\u001b[0m:\u001b[36mplot_qq\u001b[0m:\u001b[36m314\u001b[0m - \u001b[1mPlotting QQ-Plot...\u001b[0m\n",
      "\u001b[32m2025-01-09 20:17:33.073\u001b[0m | \u001b[34m\u001b[1mDEBUG   \u001b[0m | \u001b[36mst_evt._src.modules.models.aemet.utils_station\u001b[0m:\u001b[36mplot_qq\u001b[0m:\u001b[36m340\u001b[0m - \u001b[34m\u001b[1mSaved Figure:\n",
      "/home/juanjohn/pool_projects/scratch/stevt_tutorial/models/nonstationary_gp_lap_demo/figures/stations/posterior/8354X/metrics/qq_plot.pdf\u001b[0m\n"
     ]
    }
   ],
   "source": [
    "y_pred_median = y_pred.mean(dim=[\"draw\", \"chain\"])\n",
    "# fig, ax = plot_qq(\n",
    "#     y_true=y_true,\n",
    "#     y_pred=y_pred_median,\n",
    "#     figures_dpi=300,\n",
    "# )\n",
    "# plt.show()\n",
    "\n",
    "utils_station.plot_qq(\n",
    "    y_true=y_true,\n",
    "    y_pred=y_pred_median,\n",
    "    # figures_path=\"./\", \n",
    "    figures_path=figures_path, \n",
    "    figures_dpi=300,\n",
    ")"
   ]
  },
  {
   "cell_type": "markdown",
   "id": "f59bf6f3-7a7c-4766-abc4-97dc8b07858b",
   "metadata": {},
   "source": [
    "## Regression Plot"
   ]
  },
  {
   "cell_type": "code",
   "execution_count": 20,
   "id": "da713a79-7a8d-4c8f-aa80-9e8ae023ee7a",
   "metadata": {},
   "outputs": [
    {
     "name": "stderr",
     "output_type": "stream",
     "text": [
      "\u001b[32m2025-01-09 20:17:33.376\u001b[0m | \u001b[34m\u001b[1mDEBUG   \u001b[0m | \u001b[36mst_evt._src.modules.models.aemet.utils_station\u001b[0m:\u001b[36mplot_regression_posterior\u001b[0m:\u001b[36m983\u001b[0m - \u001b[34m\u001b[1mSaved Figure:\n",
      "/home/juanjohn/pool_projects/scratch/stevt_tutorial/models/nonstationary_gp_lap_demo/figures/stations/posterior/8354X/regression/regression.pdf\u001b[0m\n"
     ]
    }
   ],
   "source": [
    "x = az_ds_station.posterior.gmst\n",
    "y = az_ds_station.observed_data[\"obs\"].sel(variable=variable)\n",
    "y_hat = az_ds_station.posterior_predictive[\"obs\"].sel(variable=variable)\n",
    "slope = az_ds_station.posterior[\"location_slope\"].sel(variable=variable)\n",
    "intercept = az_ds_station.posterior[\"location_intercept\"].sel(variable=variable)\n",
    "y_model =  slope * x + intercept\n",
    "\n",
    "utils_station.plot_regression_posterior(\n",
    "    x=x,\n",
    "    y=y,\n",
    "    y_hat=y_hat,\n",
    "    y_model=y_model,\n",
    "    # figures_path=\"./\", \n",
    "    figures_path=figures_path, \n",
    "    figure_dpi=300,\n",
    "    covariate_label=\"Global Mean Surface Temperature Anomaly [°C]\",\n",
    "    y_label=\"2m Max Temperature [°C]\"\n",
    ")"
   ]
  },
  {
   "cell_type": "markdown",
   "id": "fe4dd825-6333-4f7f-aaed-eec96725c641",
   "metadata": {},
   "source": [
    "## Return Levels"
   ]
  },
  {
   "cell_type": "markdown",
   "id": "ac634121-c527-464e-b6ba-e49c13c1adc1",
   "metadata": {},
   "source": [
    "#### Empirical Return Levels"
   ]
  },
  {
   "cell_type": "code",
   "execution_count": 21,
   "id": "e1068e50-1086-4faa-bc71-3bc194cc8054",
   "metadata": {},
   "outputs": [
    {
     "name": "stderr",
     "output_type": "stream",
     "text": [
      "\u001b[32m2025-01-09 20:17:33.422\u001b[0m | \u001b[1mINFO    \u001b[0m | \u001b[36mst_evt._src.modules.models.aemet.utils_station\u001b[0m:\u001b[36mcalculate_empirical_return_level_gevd_ds\u001b[0m:\u001b[36m354\u001b[0m - \u001b[1mCalculating Return Level...\u001b[0m\n",
      "\u001b[32m2025-01-09 20:17:33.426\u001b[0m | \u001b[1mINFO    \u001b[0m | \u001b[36mst_evt._src.modules.models.aemet.utils_station\u001b[0m:\u001b[36mcalculate_empirical_return_level_gevd_ds\u001b[0m:\u001b[36m362\u001b[0m - \u001b[1mSwapping Dims...\u001b[0m\n"
     ]
    }
   ],
   "source": [
    "# select clean data\n",
    "# y_clean = az_ds_station.observed_data.dropna(dim=covariate)[\"obs\"].sel(variable=variable)\n",
    "y_clean = az_ds_station.observed_data[\"obs\"].sel(variable=variable)\n",
    "y_clean = y_clean.assign_coords({covariate: az_ds_station.observed_data[covariate]})\n",
    "y_clean = y_clean.swap_dims({\"time\": \"gmst\"})\n",
    "\n",
    "# calculate return period\n",
    "y_clean = utils_station.calculate_empirical_return_level_gevd_ds(y_clean, covariate=covariate)\n"
   ]
  },
  {
   "cell_type": "code",
   "execution_count": 22,
   "id": "b106c041-bf14-4347-8ff8-df96dd8d9691",
   "metadata": {},
   "outputs": [],
   "source": [
    "# calculate model return periods\n",
    "az_ds_station.posterior_predictive = utils_station.calculate_ds_return_periods(az_ds_station.posterior_predictive)\n",
    "\n",
    "# Calculate Quantiles\n",
    "rl_model_quantiles = (\n",
    "    az_ds_station.posterior_predictive[\"return_level\"]\n",
    "    .sel(variable=variable)\n",
    "    .quantile(q=[0.025, 0.5, 0.975], dim=[\"chain\", \"draw\"])\n",
    ")\n",
    "\n",
    "rl_model_quantiles = rl_model_quantiles.assign_coords({covariate: az_ds_station.observed_data[covariate]})\n",
    "rl_model_quantiles = rl_model_quantiles.swap_dims({\"time\": \"gmst\"})"
   ]
  },
  {
   "cell_type": "markdown",
   "id": "27045937-d1fb-4009-880f-31d51542ab59",
   "metadata": {},
   "source": [
    "### Viz - Return Level "
   ]
  },
  {
   "cell_type": "code",
   "execution_count": 23,
   "id": "8f09f721-e54d-4ca0-9809-aefdc82cf7a8",
   "metadata": {},
   "outputs": [
    {
     "name": "stderr",
     "output_type": "stream",
     "text": [
      "\u001b[32m2025-01-09 20:17:34.108\u001b[0m | \u001b[1mINFO    \u001b[0m | \u001b[36mst_evt._src.modules.models.aemet.utils_station\u001b[0m:\u001b[36mplot_return_periods_dyn_ds\u001b[0m:\u001b[36m421\u001b[0m - \u001b[1mGetting Appropriate Periods...\u001b[0m\n",
      "\u001b[32m2025-01-09 20:17:34.109\u001b[0m | \u001b[1mINFO    \u001b[0m | \u001b[36mst_evt._src.modules.models.aemet.utils_station\u001b[0m:\u001b[36mplot_return_periods_dyn_ds\u001b[0m:\u001b[36m425\u001b[0m - \u001b[1mIntialize Returns...\u001b[0m\n",
      "\u001b[32m2025-01-09 20:17:34.110\u001b[0m | \u001b[1mINFO    \u001b[0m | \u001b[36mst_evt._src.modules.models.aemet.utils_station\u001b[0m:\u001b[36mplot_return_periods_dyn_ds\u001b[0m:\u001b[36m429\u001b[0m - \u001b[1mCreating Data structures...\u001b[0m\n",
      "\u001b[32m2025-01-09 20:17:34.111\u001b[0m | \u001b[1mINFO    \u001b[0m | \u001b[36mst_evt._src.modules.models.aemet.utils_station\u001b[0m:\u001b[36mplot_return_periods_dyn_ds\u001b[0m:\u001b[36m445\u001b[0m - \u001b[1mPlotting...\u001b[0m\n",
      "\u001b[32m2025-01-09 20:17:35.027\u001b[0m | \u001b[34m\u001b[1mDEBUG   \u001b[0m | \u001b[36mst_evt._src.modules.models.aemet.utils_station\u001b[0m:\u001b[36mplot_return_periods_dyn_ds\u001b[0m:\u001b[36m461\u001b[0m - \u001b[34m\u001b[1mSaved Figure:\n",
      "/home/juanjohn/pool_projects/scratch/stevt_tutorial/models/nonstationary_gp_lap_demo/figures/stations/posterior/8354X/returns/returns_prob_posterior_vs_empirical.pdf\u001b[0m\n"
     ]
    }
   ],
   "source": [
    "# fig, ax = model_eval_station.plot_return_periods_ds(\n",
    "#     rl_model_quantiles=rl_model_quantiles,\n",
    "#     y=y_clean,\n",
    "#     covariate=covariate,\n",
    "#     y_label=\"2m Max Temperature, $R_a$ [°C]\"\n",
    "# )\n",
    "# plt.show()\n",
    "\n",
    "utils_station.plot_return_periods_dyn_ds(\n",
    "    rl_model_quantiles=rl_model_quantiles,\n",
    "    y=y_clean,\n",
    "    covariate=covariate,\n",
    "    # figures_path=\"./\", \n",
    "    figures_path=figures_path, \n",
    "    y_label=\"2m Max Temperature, $R_a$ [°C]\"\n",
    ")"
   ]
  },
  {
   "cell_type": "markdown",
   "id": "b88eb754-4b92-4f29-8b77-0bb0c0238b85",
   "metadata": {},
   "source": [
    "### Viz - 100-Year Return Period"
   ]
  },
  {
   "cell_type": "code",
   "execution_count": 24,
   "id": "b806f40c-2f0c-4703-ab82-2f9ef19ee66b",
   "metadata": {},
   "outputs": [],
   "source": [
    "# calculate model return periods\n",
    "az_ds_station.posterior_predictive = utils_station.calculate_ds_return_periods(az_ds_station.posterior_predictive)\n",
    "\n",
    "# Calculate Quantiles\n",
    "rl_model_quantiles = az_ds_station.posterior_predictive[\"return_level_100\"].sel(variable=variable)\n",
    "\n",
    "rl_model_quantiles = rl_model_quantiles.assign_coords({covariate: az_ds_station.observed_data[covariate]})\n",
    "rl_model_quantiles = rl_model_quantiles.swap_dims({\"time\": \"gmst\"})"
   ]
  },
  {
   "cell_type": "code",
   "execution_count": 25,
   "id": "eafcc4dc-f5ec-4d56-bbcf-bc7c91f8c372",
   "metadata": {},
   "outputs": [
    {
     "name": "stderr",
     "output_type": "stream",
     "text": [
      "\u001b[32m2025-01-09 20:17:35.235\u001b[0m | \u001b[1mINFO    \u001b[0m | \u001b[36mst_evt._src.modules.models.aemet.utils_station\u001b[0m:\u001b[36mplot_return_periods_100_dyn_ds\u001b[0m:\u001b[36m575\u001b[0m - \u001b[1mGetting Appropriate Periods...\u001b[0m\n",
      "\u001b[32m2025-01-09 20:17:35.236\u001b[0m | \u001b[1mINFO    \u001b[0m | \u001b[36mst_evt._src.modules.models.aemet.utils_station\u001b[0m:\u001b[36mplot_return_periods_100_dyn_ds\u001b[0m:\u001b[36m579\u001b[0m - \u001b[1mIntialize Returns...\u001b[0m\n",
      "\u001b[32m2025-01-09 20:17:35.237\u001b[0m | \u001b[1mINFO    \u001b[0m | \u001b[36mst_evt._src.modules.models.aemet.utils_station\u001b[0m:\u001b[36mplot_return_periods_100_dyn_ds\u001b[0m:\u001b[36m583\u001b[0m - \u001b[1mCreating Data structures...\u001b[0m\n",
      "\u001b[32m2025-01-09 20:17:35.238\u001b[0m | \u001b[1mINFO    \u001b[0m | \u001b[36mst_evt._src.modules.models.aemet.utils_station\u001b[0m:\u001b[36mplot_return_periods_100_dyn_ds\u001b[0m:\u001b[36m601\u001b[0m - \u001b[1mPlotting...\u001b[0m\n",
      "\u001b[32m2025-01-09 20:17:35.542\u001b[0m | \u001b[34m\u001b[1mDEBUG   \u001b[0m | \u001b[36mst_evt._src.modules.models.aemet.utils_station\u001b[0m:\u001b[36mplot_return_periods_100_dyn_ds\u001b[0m:\u001b[36m617\u001b[0m - \u001b[34m\u001b[1mSaved Figure:\n",
      "/home/juanjohn/pool_projects/scratch/stevt_tutorial/models/nonstationary_gp_lap_demo/figures/stations/posterior/8354X/returns/returns_100years_density.pdf\u001b[0m\n"
     ]
    }
   ],
   "source": [
    "# fig, ax = plot_return_periods_100_ds(\n",
    "#     rl_model_quantiles=rl_model_quantiles,\n",
    "#     covariate=covariate,\n",
    "#     x_label=\"2m Max Temperature, $R_a$ [°C]\"\n",
    "# )\n",
    "# plt.show()\n",
    "\n",
    "utils_station.plot_return_periods_100_dyn_ds(\n",
    "    rl_model=rl_model_quantiles,\n",
    "    covariate=covariate,\n",
    "    # figures_path=\"./\", \n",
    "    figures_path=figures_path, \n",
    "    x_label=\"2m Max Temperature, $R_{100}$ [°C]\"\n",
    ")"
   ]
  },
  {
   "cell_type": "markdown",
   "id": "3618e2d8-b792-4559-91f5-3b915180080d",
   "metadata": {},
   "source": [
    "### Viz - 100-Year Return Period Difference"
   ]
  },
  {
   "cell_type": "code",
   "execution_count": 26,
   "id": "ffd6e1cc-99ac-48a4-8d56-993f22f4271f",
   "metadata": {
    "scrolled": true
   },
   "outputs": [],
   "source": [
    "# calculate model return periods\n",
    "az_ds_station.posterior_predictive = utils_station.calculate_ds_return_periods(az_ds_station.posterior_predictive)\n",
    "\n",
    "# Calculate Quantiles\n",
    "rl_model = az_ds_station.posterior_predictive[\"return_level_100\"].sel(variable=variable)\n",
    "rl_model = rl_model.assign_coords({covariate: az_ds_station.observed_data[covariate]})\n",
    "rl_model = rl_model.swap_dims({\"time\": \"gmst\"})"
   ]
  },
  {
   "cell_type": "code",
   "execution_count": 27,
   "id": "0a74af9b-e36f-4545-97e1-60d4d2a72674",
   "metadata": {},
   "outputs": [
    {
     "name": "stderr",
     "output_type": "stream",
     "text": [
      "\u001b[32m2025-01-09 20:17:35.812\u001b[0m | \u001b[1mINFO    \u001b[0m | \u001b[36mst_evt._src.modules.models.aemet.utils_station\u001b[0m:\u001b[36mplot_return_periods_100_difference_dyn_ds\u001b[0m:\u001b[36m693\u001b[0m - \u001b[1mGetting Appropriate Periods...\u001b[0m\n",
      "\u001b[32m2025-01-09 20:17:35.813\u001b[0m | \u001b[1mINFO    \u001b[0m | \u001b[36mst_evt._src.modules.models.aemet.utils_station\u001b[0m:\u001b[36mplot_return_periods_100_difference_dyn_ds\u001b[0m:\u001b[36m697\u001b[0m - \u001b[1mCalculating Difference...\u001b[0m\n",
      "\u001b[32m2025-01-09 20:17:35.822\u001b[0m | \u001b[1mINFO    \u001b[0m | \u001b[36mst_evt._src.modules.models.aemet.utils_station\u001b[0m:\u001b[36mplot_return_periods_100_difference_dyn_ds\u001b[0m:\u001b[36m703\u001b[0m - \u001b[1mIntialize Returns...\u001b[0m\n",
      "\u001b[32m2025-01-09 20:17:35.823\u001b[0m | \u001b[1mINFO    \u001b[0m | \u001b[36mst_evt._src.modules.models.aemet.utils_station\u001b[0m:\u001b[36mplot_return_periods_100_difference_dyn_ds\u001b[0m:\u001b[36m707\u001b[0m - \u001b[1mCreating Data structures...\u001b[0m\n",
      "\u001b[32m2025-01-09 20:17:35.824\u001b[0m | \u001b[1mINFO    \u001b[0m | \u001b[36mst_evt._src.modules.models.aemet.utils_station\u001b[0m:\u001b[36mplot_return_periods_100_difference_dyn_ds\u001b[0m:\u001b[36m720\u001b[0m - \u001b[1mPlotting...\u001b[0m\n",
      "\u001b[32m2025-01-09 20:17:36.003\u001b[0m | \u001b[34m\u001b[1mDEBUG   \u001b[0m | \u001b[36mst_evt._src.modules.models.aemet.utils_station\u001b[0m:\u001b[36mplot_return_periods_100_difference_dyn_ds\u001b[0m:\u001b[36m736\u001b[0m - \u001b[34m\u001b[1mSaved Figure:\n",
      "/home/juanjohn/pool_projects/scratch/stevt_tutorial/models/nonstationary_gp_lap_demo/figures/stations/posterior/8354X/returns/returns_100years_difference_density.pdf\u001b[0m\n",
      "\u001b[32m2025-01-09 20:17:36.007\u001b[0m | \u001b[1mINFO    \u001b[0m | \u001b[36mst_evt._src.modules.models.aemet.utils_station\u001b[0m:\u001b[36mplot_return_periods_100_difference_prct_dyn_ds\u001b[0m:\u001b[36m750\u001b[0m - \u001b[1mGetting Appropriate Periods...\u001b[0m\n",
      "\u001b[32m2025-01-09 20:17:36.008\u001b[0m | \u001b[1mINFO    \u001b[0m | \u001b[36mst_evt._src.modules.models.aemet.utils_station\u001b[0m:\u001b[36mplot_return_periods_100_difference_prct_dyn_ds\u001b[0m:\u001b[36m754\u001b[0m - \u001b[1mCalculating Difference...\u001b[0m\n",
      "\u001b[32m2025-01-09 20:17:36.021\u001b[0m | \u001b[1mINFO    \u001b[0m | \u001b[36mst_evt._src.modules.models.aemet.utils_station\u001b[0m:\u001b[36mplot_return_periods_100_difference_prct_dyn_ds\u001b[0m:\u001b[36m760\u001b[0m - \u001b[1mIntialize Returns...\u001b[0m\n",
      "\u001b[32m2025-01-09 20:17:36.021\u001b[0m | \u001b[1mINFO    \u001b[0m | \u001b[36mst_evt._src.modules.models.aemet.utils_station\u001b[0m:\u001b[36mplot_return_periods_100_difference_prct_dyn_ds\u001b[0m:\u001b[36m764\u001b[0m - \u001b[1mCreating Data structures...\u001b[0m\n",
      "\u001b[32m2025-01-09 20:17:36.022\u001b[0m | \u001b[1mINFO    \u001b[0m | \u001b[36mst_evt._src.modules.models.aemet.utils_station\u001b[0m:\u001b[36mplot_return_periods_100_difference_prct_dyn_ds\u001b[0m:\u001b[36m777\u001b[0m - \u001b[1mPlotting...\u001b[0m\n",
      "\u001b[32m2025-01-09 20:17:36.486\u001b[0m | \u001b[34m\u001b[1mDEBUG   \u001b[0m | \u001b[36mst_evt._src.modules.models.aemet.utils_station\u001b[0m:\u001b[36mplot_return_periods_100_difference_prct_dyn_ds\u001b[0m:\u001b[36m793\u001b[0m - \u001b[34m\u001b[1mSaved Figure:\n",
      "/home/juanjohn/pool_projects/scratch/stevt_tutorial/models/nonstationary_gp_lap_demo/figures/stations/posterior/8354X/returns/returns_100years_difference_prct_density.pdf\u001b[0m\n"
     ]
    }
   ],
   "source": [
    "# fig, ax = plot_return_periods_100_difference_ds(\n",
    "#     rl_model=rl_model,\n",
    "#     covariate=covariate,\n",
    "#     x_label=\"2m Max Temperature, $R_a$ [°C]\",\n",
    "#     units=\"[°C]\",\n",
    "#     color=\"black\"\n",
    "# )\n",
    "# plt.show()\n",
    "\n",
    "utils_station.plot_return_periods_100_difference_dyn_ds(\n",
    "    rl_model=rl_model,\n",
    "    covariate=covariate,\n",
    "    # figures_path=\"./\", \n",
    "    figures_path=figures_path, \n",
    "    x_label=\"2m Max Temperature, $R_{100}$ [°C]\",\n",
    "    units=\"[°C]\",\n",
    "    color=\"black\"\n",
    ")\n",
    "\n",
    "utils_station.plot_return_periods_100_difference_prct_dyn_ds(\n",
    "    rl_model=rl_model,\n",
    "    covariate=covariate,\n",
    "    # figures_path=\"./\", \n",
    "    figures_path=figures_path, \n",
    "    x_label=\"2m Max Temperature, $R_{100}$ [%]\",\n",
    "    color=\"black\"\n",
    ")"
   ]
  },
  {
   "cell_type": "code",
   "execution_count": null,
   "id": "f62445f8-c7e9-4766-9ab0-1beb78a503ac",
   "metadata": {},
   "outputs": [],
   "source": []
  },
  {
   "cell_type": "code",
   "execution_count": null,
   "id": "322cc637-b60b-481b-beab-884eae2dd603",
   "metadata": {},
   "outputs": [],
   "source": []
  }
 ],
 "metadata": {
  "kernelspec": {
   "display_name": "Python [conda env:dynev4eo_gpu]",
   "language": "python",
   "name": "conda-env-dynev4eo_gpu-py"
  },
  "language_info": {
   "codemirror_mode": {
    "name": "ipython",
    "version": 3
   },
   "file_extension": ".py",
   "mimetype": "text/x-python",
   "name": "python",
   "nbconvert_exporter": "python",
   "pygments_lexer": "ipython3",
   "version": "3.11.10"
  }
 },
 "nbformat": 4,
 "nbformat_minor": 5
}
