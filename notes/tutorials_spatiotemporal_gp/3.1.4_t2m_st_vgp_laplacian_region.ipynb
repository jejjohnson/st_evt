{
 "cells": [
  {
   "cell_type": "markdown",
   "id": "2a6407e7-b23f-49c5-b092-5871ccc924ed",
   "metadata": {},
   "source": [
    "---\n",
    "title: SpatioTemporal Field - T2M - Non-Stationary\n",
    "subject: AEMET T2M\n",
    "short_title: 4 - Analysis Region\n",
    "authors:\n",
    "  - name: J. Emmanuel Johnson\n",
    "    affiliations:\n",
    "      - CSIC\n",
    "      - UCM\n",
    "      - IGEO\n",
    "    orcid: 0000-0002-6739-0053\n",
    "    email: juanjohn@ucm.es\n",
    "license: CC-BY-4.0\n",
    "keywords: notation\n",
    "---"
   ]
  },
  {
   "cell_type": "code",
   "execution_count": 2,
   "id": "47b6a690-2d66-437b-b76d-12750a3f322c",
   "metadata": {},
   "outputs": [],
   "source": [
    "import os\n",
    "os.environ[\"CUDA_VISIBLE_DEVICES\"] = \"\" # first gpu\n",
    "os.environ['XLA_PYTHON_CLIENT_PREALLOCATE'] = 'FALSE'\n",
    "\n",
    "import jax\n",
    "jax.config.update('jax_platform_name', 'cpu')\n",
    "\n",
    "import numpyro\n",
    "import multiprocessing\n",
    "\n",
    "num_devices = multiprocessing.cpu_count()\n",
    "numpyro.set_platform(\"cpu\")\n",
    "numpyro.set_host_device_count(num_devices)"
   ]
  },
  {
   "cell_type": "code",
   "execution_count": 3,
   "id": "9f80b777-1fb0-4154-99e1-287866770c31",
   "metadata": {
    "tags": []
   },
   "outputs": [
    {
     "name": "stderr",
     "output_type": "stream",
     "text": [
      "An NVIDIA GPU may be present on this machine, but a CUDA-enabled jaxlib is not installed. Falling back to cpu.\n"
     ]
    }
   ],
   "source": [
    "import autoroot\n",
    "from pathlib import Path\n",
    "import numpy as np\n",
    "import xarray as xr\n",
    "import pandas as pd\n",
    "import pint_xarray\n",
    "import arviz as az\n",
    "\n",
    "from st_evt import CANDIDATE_STATIONS\n",
    "from st_evt.utils import ExperimentPath\n",
    "from st_evt.viz import (\n",
    "    plot_scatter_ts,\n",
    "    plot_histogram,\n",
    "    plot_density,\n",
    "    plot_return_level_gevd_manual_unc_multiple,\n",
    "    plot_periods,\n",
    "    plot_periods_diff,\n",
    "    plot_spain,\n",
    "    plot_density_multiple\n",
    ")\n",
    "from st_evt.extremes import estimate_return_level_gevd, calculate_exceedence_probs\n",
    "from omegaconf import OmegaConf\n",
    "\n",
    "import jax\n",
    "import jax.random as jrandom\n",
    "import jax.numpy as jnp\n",
    "import pandas as pd\n",
    "\n",
    "rng_key = jrandom.PRNGKey(123)\n",
    "\n",
    "from numpyro.infer import Predictive\n",
    "import arviz as az\n",
    "\n",
    "import numpyro\n",
    "from numpyro.diagnostics import hpdi\n",
    "import numpyro.distributions as dist\n",
    "from numpyro import handlers\n",
    "from numpyro.infer import MCMC, NUTS\n",
    "import xarray as xr\n",
    "import regionmask\n",
    "\n",
    "import matplotlib.pyplot as plt\n",
    "from matplotlib.ticker import ScalarFormatter, FuncFormatter\n",
    "from st_evt._src.modules.models.aemet import utils_region, utils_station\n",
    "import seaborn as sns\n",
    "from loguru import logger\n",
    "sns.reset_defaults()\n",
    "sns.set_context(context=\"talk\", font_scale=0.7)\n",
    "\n",
    "\n",
    "%config InlineBackend.figure_format = 'retina'\n",
    "plt.style.use(\n",
    "    \"https://raw.githubusercontent.com/ClimateMatchAcademy/course-content/main/cma.mplstyle\"\n",
    ")\n",
    "\n",
    "\n",
    "%matplotlib inline\n",
    "%load_ext autoreload\n",
    "%autoreload 2"
   ]
  },
  {
   "cell_type": "markdown",
   "id": "61023d79-5d76-43a0-8a69-1f74c08b92bb",
   "metadata": {},
   "source": [
    "## Data"
   ]
  },
  {
   "cell_type": "code",
   "execution_count": 4,
   "id": "0c6b1ef9-7102-4e9e-888f-60bf519333c0",
   "metadata": {},
   "outputs": [],
   "source": [
    "results_root_path = \"/home/juanjohn/pool_data/dynev4eo/experiments/walkthrough/aemet/t2max/az_nonstationary_gp_mcmc_redfeten/results\"\n",
    "results_root_path = \"/home/juanjohn/pool_data/dynev4eo/experiments/walkthrough/aemet/t2max/az_nonstationary_gp_mcmc_redfeten_trainnoise/results\"\n",
    "results_file_name = \"az_nonstationary_gp_mcmc_redfeten.zarr\"\n",
    "results_data_path = Path(results_root_path).joinpath(results_file_name)\n",
    "\n",
    "figures_path = Path(results_root_path).joinpath(\"figures/spain\")"
   ]
  },
  {
   "cell_type": "code",
   "execution_count": 5,
   "id": "60738f70-8b1b-460b-9ab3-858884596cf6",
   "metadata": {},
   "outputs": [],
   "source": [
    "# results_root_path = \"/home/juanjohn/pool_data/dynev4eo/experiments/walkthrough/aemet/t2max/az_nonstationary_gp_lap_redfeten/results\"\n",
    "# results_file_name = \"az_nonstationary_gp_lap_redfeten.zarr\"\n",
    "# results_data_path = Path(results_root_path).joinpath(results_file_name)\n",
    "\n",
    "# figures_path = Path(results_root_path).joinpath(\"figures/spain\")"
   ]
  },
  {
   "cell_type": "code",
   "execution_count": 6,
   "id": "72fdeb1d-c134-423d-a236-ed005e54460b",
   "metadata": {},
   "outputs": [],
   "source": [
    "# results_data_path = \"/home/juanjohn/pool_data/dynev4eo/temp/results/scratch_pipelines/results/az_nonstationary_gp_lap_redfeten.zarr\"\n",
    "# figures_path = \"./\"#Path(\"/home/juanjohn/pool_data/dynev4eo/temp/scratch_pipelines/figures/nonstationary_gp_lap_redfeten/spain\")"
   ]
  },
  {
   "cell_type": "markdown",
   "id": "d2aff844-ea9e-44f4-b442-1a1161c569e5",
   "metadata": {},
   "source": [
    "### MCMC Results"
   ]
  },
  {
   "cell_type": "code",
   "execution_count": 7,
   "id": "7258c343-8640-4b50-8d95-c9c80f6f4cd7",
   "metadata": {},
   "outputs": [],
   "source": [
    "variable = \"t2max\"\n",
    "covariate = \"gmst\""
   ]
  },
  {
   "cell_type": "code",
   "execution_count": 8,
   "id": "05afcab5-d368-42e2-9aa3-3e495276ea94",
   "metadata": {},
   "outputs": [],
   "source": [
    "az_ds = az.from_zarr(store=str(results_data_path))"
   ]
  },
  {
   "cell_type": "markdown",
   "id": "aa9021d9-ffbc-452c-88a4-dead5e47e4ea",
   "metadata": {},
   "source": [
    "## Model Errors - Posterior"
   ]
  },
  {
   "cell_type": "markdown",
   "id": "48c56c2b-d7a0-4f6c-9fa0-307e860e346a",
   "metadata": {},
   "source": [
    "### Negative Log-Likelihood"
   ]
  },
  {
   "cell_type": "code",
   "execution_count": 11,
   "id": "d274a0f9-4977-410a-a956-0cdf1a4b4b3d",
   "metadata": {},
   "outputs": [],
   "source": [
    "PLOT_VARIABLE = \"nll\"\n",
    "VARIABLE = \"t2max\"\n",
    "COVARIATE = \"gmst\"\n",
    "num_samples = 5_000"
   ]
  },
  {
   "cell_type": "code",
   "execution_count": 8,
   "id": "5e250af4-9363-4e8c-a5f0-22b2005ac2e5",
   "metadata": {},
   "outputs": [],
   "source": [
    "\n",
    "data_results = az.extract(az_ds, group=\"log_likelihood\", num_samples=num_samples).median(dim=[\"sample\"]).load()\n",
    "data_results = data_results.sortby(covariate)\n",
    "idata = data_results[VARIABLE].rename(PLOT_VARIABLE).sum(dim=covariate)"
   ]
  },
  {
   "cell_type": "code",
   "execution_count": 9,
   "id": "c5b230eb-b52e-4132-8ae7-88472618a58b",
   "metadata": {},
   "outputs": [
    {
     "name": "stderr",
     "output_type": "stream",
     "text": [
      "\u001b[32m2024-12-17 11:07:35.958\u001b[0m | \u001b[1mINFO    \u001b[0m | \u001b[36mst_evt._src.modules.models.aemet.utils_region\u001b[0m:\u001b[36mplot_static_spatial_variable\u001b[0m:\u001b[36m262\u001b[0m - \u001b[1mStarting Static Figures...\u001b[0m\n",
      "\u001b[32m2024-12-17 11:07:35.959\u001b[0m | \u001b[1mINFO    \u001b[0m | \u001b[36mst_evt._src.modules.models.aemet.utils_region\u001b[0m:\u001b[36mplot_static_spatial_variable\u001b[0m:\u001b[36m269\u001b[0m - \u001b[1mPlotting NLL Density...\u001b[0m\n",
      "\u001b[32m2024-12-17 11:07:36.449\u001b[0m | \u001b[34m\u001b[1mDEBUG   \u001b[0m | \u001b[36mst_evt._src.modules.models.aemet.utils_region\u001b[0m:\u001b[36mplot_static_spatial_variable\u001b[0m:\u001b[36m282\u001b[0m - \u001b[34m\u001b[1mSaved Figure: \n",
      "/home/juanjohn/pool_data/dynev4eo/experiments/walkthrough/aemet/t2max/az_nonstationary_gp_mcmc_redfeten_trainnoise/results/figures/spain/nll/posterior/nll_density.pdf\u001b[0m\n",
      "\u001b[32m2024-12-17 11:07:36.449\u001b[0m | \u001b[1mINFO    \u001b[0m | \u001b[36mst_evt._src.modules.models.aemet.utils_region\u001b[0m:\u001b[36mplot_static_spatial_variable\u001b[0m:\u001b[36m285\u001b[0m - \u001b[1mPlotting Map...\u001b[0m\n",
      "\u001b[32m2024-12-17 11:07:36.449\u001b[0m | \u001b[1mINFO    \u001b[0m | \u001b[36mst_evt._src.modules.models.aemet.utils_region\u001b[0m:\u001b[36mplot_static_spatial_variable\u001b[0m:\u001b[36m294\u001b[0m - \u001b[1mPlotting Map of Spain...\u001b[0m\n",
      "\u001b[32m2024-12-17 11:07:37.346\u001b[0m | \u001b[34m\u001b[1mDEBUG   \u001b[0m | \u001b[36mst_evt._src.modules.models.aemet.utils_region\u001b[0m:\u001b[36mplot_static_spatial_variable\u001b[0m:\u001b[36m304\u001b[0m - \u001b[34m\u001b[1mSaved Figure: \n",
      "/home/juanjohn/pool_data/dynev4eo/experiments/walkthrough/aemet/t2max/az_nonstationary_gp_mcmc_redfeten_trainnoise/results/figures/spain/nll/posterior/nll_map.png\u001b[0m\n",
      "\u001b[32m2024-12-17 11:07:37.346\u001b[0m | \u001b[1mINFO    \u001b[0m | \u001b[36mst_evt._src.modules.models.aemet.utils_region\u001b[0m:\u001b[36mplot_static_spatial_variable\u001b[0m:\u001b[36m307\u001b[0m - \u001b[1mPlotting Covariates...\u001b[0m\n",
      "\u001b[32m2024-12-17 11:07:37.471\u001b[0m | \u001b[34m\u001b[1mDEBUG   \u001b[0m | \u001b[36mst_evt._src.modules.models.aemet.utils_region\u001b[0m:\u001b[36mplot_covariates\u001b[0m:\u001b[36m138\u001b[0m - \u001b[34m\u001b[1mSaved Figure: \n",
      "/home/juanjohn/pool_data/dynev4eo/experiments/walkthrough/aemet/t2max/az_nonstationary_gp_mcmc_redfeten_trainnoise/results/figures/spain/nll/posterior/nll_covariates_lon.png\u001b[0m\n",
      "\u001b[32m2024-12-17 11:07:37.604\u001b[0m | \u001b[34m\u001b[1mDEBUG   \u001b[0m | \u001b[36mst_evt._src.modules.models.aemet.utils_region\u001b[0m:\u001b[36mplot_covariates\u001b[0m:\u001b[36m154\u001b[0m - \u001b[34m\u001b[1mSaved Figure: \n",
      "/home/juanjohn/pool_data/dynev4eo/experiments/walkthrough/aemet/t2max/az_nonstationary_gp_mcmc_redfeten_trainnoise/results/figures/spain/nll/posterior/nll_covariates_lat.png\u001b[0m\n",
      "\u001b[32m2024-12-17 11:07:37.719\u001b[0m | \u001b[34m\u001b[1mDEBUG   \u001b[0m | \u001b[36mst_evt._src.modules.models.aemet.utils_region\u001b[0m:\u001b[36mplot_covariates\u001b[0m:\u001b[36m170\u001b[0m - \u001b[34m\u001b[1mSaved Figure: \n",
      "/home/juanjohn/pool_data/dynev4eo/experiments/walkthrough/aemet/t2max/az_nonstationary_gp_mcmc_redfeten_trainnoise/results/figures/spain/nll/posterior/nll_covariates_alt.png\u001b[0m\n"
     ]
    }
   ],
   "source": [
    "subfigures_path = Path(figures_path).joinpath(f\"{PLOT_VARIABLE}/posterior\")\n",
    "subfigures_path.mkdir(parents=True, exist_ok=True)\n",
    "\n",
    "utils_region.plot_static_spatial_variable(\n",
    "    idata,\n",
    "    figures_path=subfigures_path,\n",
    "    cbar_label=utils_region.VARIABLE_LABELS[PLOT_VARIABLE],\n",
    "    cmap=\"Reds_r\",\n",
    "    bounds = (-160, 10, -50)\n",
    ")"
   ]
  },
  {
   "cell_type": "markdown",
   "id": "95b64a57-00ee-40df-b975-9c5dfb2b3f56",
   "metadata": {},
   "source": [
    "## Model Errors - Posterior Predictive"
   ]
  },
  {
   "cell_type": "markdown",
   "id": "5ab93b4e-1afa-47ca-a356-5ae2e1967c05",
   "metadata": {
    "editable": true,
    "slideshow": {
     "slide_type": ""
    },
    "tags": []
   },
   "source": [
    "### I - Negative Log-Likelihood"
   ]
  },
  {
   "cell_type": "code",
   "execution_count": 10,
   "id": "d11c13de-6ae5-4a14-a4c3-65c9193a2ff6",
   "metadata": {},
   "outputs": [],
   "source": [
    "PLOT_VARIABLE = \"nll\"\n",
    "VARIABLE = \"t2max\"\n",
    "COVARIATE = \"gmst\"\n",
    "num_samples = 5_000"
   ]
  },
  {
   "cell_type": "code",
   "execution_count": 11,
   "id": "a49653b5-d4f1-4ed1-b40b-786b38604441",
   "metadata": {},
   "outputs": [],
   "source": [
    "az_ds = az.from_zarr(store=str(results_data_path))\n",
    "data_results = az.extract(az_ds, group=\"posterior_predictive\", num_samples=num_samples).median(dim=[\"sample\"]).load()\n",
    "data_results = data_results.sortby(covariate)\n",
    "idata = data_results[\"nll\"].rename(PLOT_VARIABLE).sum(dim=covariate)"
   ]
  },
  {
   "cell_type": "code",
   "execution_count": 12,
   "id": "fe8b8d39-ba83-4c2c-bbe0-3ff0d582e380",
   "metadata": {},
   "outputs": [
    {
     "name": "stderr",
     "output_type": "stream",
     "text": [
      "\u001b[32m2024-12-17 11:08:04.108\u001b[0m | \u001b[1mINFO    \u001b[0m | \u001b[36mst_evt._src.modules.models.aemet.utils_region\u001b[0m:\u001b[36mplot_static_spatial_variable_redfeten\u001b[0m:\u001b[36m321\u001b[0m - \u001b[1mStarting Static Figures...\u001b[0m\n",
      "\u001b[32m2024-12-17 11:08:04.109\u001b[0m | \u001b[1mINFO    \u001b[0m | \u001b[36mst_evt._src.modules.models.aemet.utils_region\u001b[0m:\u001b[36mplot_static_spatial_variable_redfeten\u001b[0m:\u001b[36m328\u001b[0m - \u001b[1mPlotting NLL Density...\u001b[0m\n",
      "\u001b[32m2024-12-17 11:08:04.358\u001b[0m | \u001b[34m\u001b[1mDEBUG   \u001b[0m | \u001b[36mst_evt._src.modules.models.aemet.utils_region\u001b[0m:\u001b[36mplot_static_spatial_variable_redfeten\u001b[0m:\u001b[36m353\u001b[0m - \u001b[34m\u001b[1mSaved Figure: \n",
      "/home/juanjohn/pool_data/dynev4eo/experiments/walkthrough/aemet/t2max/az_nonstationary_gp_mcmc_redfeten_trainnoise/results/figures/spain/nll/posterior_predictive/nll_density_groups.pdf\u001b[0m\n",
      "\u001b[32m2024-12-17 11:08:04.359\u001b[0m | \u001b[1mINFO    \u001b[0m | \u001b[36mst_evt._src.modules.models.aemet.utils_region\u001b[0m:\u001b[36mplot_static_spatial_variable_redfeten\u001b[0m:\u001b[36m356\u001b[0m - \u001b[1mPlotting Map...\u001b[0m\n",
      "\u001b[32m2024-12-17 11:08:04.359\u001b[0m | \u001b[1mINFO    \u001b[0m | \u001b[36mst_evt._src.modules.models.aemet.utils_region\u001b[0m:\u001b[36mplot_static_spatial_variable_redfeten\u001b[0m:\u001b[36m365\u001b[0m - \u001b[1mPlotting Map of Spain...\u001b[0m\n",
      "\u001b[32m2024-12-17 11:08:04.682\u001b[0m | \u001b[34m\u001b[1mDEBUG   \u001b[0m | \u001b[36mst_evt._src.modules.models.aemet.utils_region\u001b[0m:\u001b[36mplot_static_spatial_variable_redfeten\u001b[0m:\u001b[36m375\u001b[0m - \u001b[34m\u001b[1mSaved Figure: \n",
      "/home/juanjohn/pool_data/dynev4eo/experiments/walkthrough/aemet/t2max/az_nonstationary_gp_mcmc_redfeten_trainnoise/results/figures/spain/nll/posterior_predictive/nll_map.pdf\u001b[0m\n",
      "\u001b[32m2024-12-17 11:08:04.683\u001b[0m | \u001b[1mINFO    \u001b[0m | \u001b[36mst_evt._src.modules.models.aemet.utils_region\u001b[0m:\u001b[36mplot_static_spatial_variable_redfeten\u001b[0m:\u001b[36m378\u001b[0m - \u001b[1mPlotting Covariates...\u001b[0m\n",
      "\u001b[32m2024-12-17 11:08:04.816\u001b[0m | \u001b[34m\u001b[1mDEBUG   \u001b[0m | \u001b[36mst_evt._src.modules.models.aemet.utils_region\u001b[0m:\u001b[36mplot_covariates\u001b[0m:\u001b[36m138\u001b[0m - \u001b[34m\u001b[1mSaved Figure: \n",
      "/home/juanjohn/pool_data/dynev4eo/experiments/walkthrough/aemet/t2max/az_nonstationary_gp_mcmc_redfeten_trainnoise/results/figures/spain/nll/posterior_predictive/nll_covariates_lon.png\u001b[0m\n",
      "\u001b[32m2024-12-17 11:08:04.971\u001b[0m | \u001b[34m\u001b[1mDEBUG   \u001b[0m | \u001b[36mst_evt._src.modules.models.aemet.utils_region\u001b[0m:\u001b[36mplot_covariates\u001b[0m:\u001b[36m154\u001b[0m - \u001b[34m\u001b[1mSaved Figure: \n",
      "/home/juanjohn/pool_data/dynev4eo/experiments/walkthrough/aemet/t2max/az_nonstationary_gp_mcmc_redfeten_trainnoise/results/figures/spain/nll/posterior_predictive/nll_covariates_lat.png\u001b[0m\n",
      "\u001b[32m2024-12-17 11:08:05.096\u001b[0m | \u001b[34m\u001b[1mDEBUG   \u001b[0m | \u001b[36mst_evt._src.modules.models.aemet.utils_region\u001b[0m:\u001b[36mplot_covariates\u001b[0m:\u001b[36m170\u001b[0m - \u001b[34m\u001b[1mSaved Figure: \n",
      "/home/juanjohn/pool_data/dynev4eo/experiments/walkthrough/aemet/t2max/az_nonstationary_gp_mcmc_redfeten_trainnoise/results/figures/spain/nll/posterior_predictive/nll_covariates_alt.png\u001b[0m\n"
     ]
    }
   ],
   "source": [
    "subfigures_path = Path(figures_path).joinpath(f\"{PLOT_VARIABLE}/posterior_predictive\")\n",
    "subfigures_path.mkdir(parents=True, exist_ok=True)\n",
    "\n",
    "utils_region.plot_static_spatial_variable_redfeten(\n",
    "    idata,\n",
    "    figures_path=subfigures_path,\n",
    "    cbar_label=utils_region.VARIABLE_LABELS[PLOT_VARIABLE],\n",
    "    cmap=\"Reds_r\",\n",
    "    bounds = (-160, 10, -50)\n",
    ")"
   ]
  },
  {
   "cell_type": "markdown",
   "id": "62a7c213-d7ed-407a-813a-fd07ab02cb82",
   "metadata": {},
   "source": [
    "### II - Residuals"
   ]
  },
  {
   "cell_type": "code",
   "execution_count": 13,
   "id": "014061cb-569a-4d84-ba5d-ff921336c510",
   "metadata": {},
   "outputs": [],
   "source": [
    "from sklearn.metrics import root_mean_squared_error, mean_absolute_error, r2_score"
   ]
  },
  {
   "cell_type": "code",
   "execution_count": 14,
   "id": "d5731377-e056-4415-9c77-d24e32206681",
   "metadata": {},
   "outputs": [],
   "source": [
    "PLOT_VARIABLE = \"residuals\"\n",
    "VARIABLE = \"t2max\"\n",
    "COVARIATE = \"gmst\"\n",
    "num_samples = 5_000"
   ]
  },
  {
   "cell_type": "code",
   "execution_count": 15,
   "id": "f138355a-c5fe-4af1-ae4a-9687809ae58b",
   "metadata": {},
   "outputs": [],
   "source": [
    "data_results = az.extract(az_ds, group=\"posterior_predictive\", num_samples=num_samples).median(dim=[\"sample\"]).load()\n",
    "data_results = data_results.sortby(\"gmst\")\n",
    "y_pred = data_results[variable].rename(\"y_pred\")\n",
    "y_true = data_results[f\"{variable}_true\"].rename(\"y_true\")\n",
    "idata = (y_true - y_pred).mean(dim=[covariate]).load().rename(PLOT_VARIABLE)"
   ]
  },
  {
   "cell_type": "code",
   "execution_count": 16,
   "id": "8618d328-e298-42ec-afdf-a79a3410bff3",
   "metadata": {},
   "outputs": [
    {
     "name": "stderr",
     "output_type": "stream",
     "text": [
      "\u001b[32m2024-12-17 11:08:18.341\u001b[0m | \u001b[1mINFO    \u001b[0m | \u001b[36mst_evt._src.modules.models.aemet.utils_region\u001b[0m:\u001b[36mplot_static_spatial_variable_redfeten\u001b[0m:\u001b[36m321\u001b[0m - \u001b[1mStarting Static Figures...\u001b[0m\n",
      "\u001b[32m2024-12-17 11:08:18.342\u001b[0m | \u001b[1mINFO    \u001b[0m | \u001b[36mst_evt._src.modules.models.aemet.utils_region\u001b[0m:\u001b[36mplot_static_spatial_variable_redfeten\u001b[0m:\u001b[36m328\u001b[0m - \u001b[1mPlotting RESIDUALS Density...\u001b[0m\n",
      "\u001b[32m2024-12-17 11:08:18.586\u001b[0m | \u001b[34m\u001b[1mDEBUG   \u001b[0m | \u001b[36mst_evt._src.modules.models.aemet.utils_region\u001b[0m:\u001b[36mplot_static_spatial_variable_redfeten\u001b[0m:\u001b[36m353\u001b[0m - \u001b[34m\u001b[1mSaved Figure: \n",
      "/home/juanjohn/pool_data/dynev4eo/experiments/walkthrough/aemet/t2max/az_nonstationary_gp_mcmc_redfeten_trainnoise/results/figures/spain/residuals/posterior_predictive/residuals_density_groups.pdf\u001b[0m\n",
      "\u001b[32m2024-12-17 11:08:18.586\u001b[0m | \u001b[1mINFO    \u001b[0m | \u001b[36mst_evt._src.modules.models.aemet.utils_region\u001b[0m:\u001b[36mplot_static_spatial_variable_redfeten\u001b[0m:\u001b[36m356\u001b[0m - \u001b[1mPlotting Map...\u001b[0m\n",
      "\u001b[32m2024-12-17 11:08:18.587\u001b[0m | \u001b[1mINFO    \u001b[0m | \u001b[36mst_evt._src.modules.models.aemet.utils_region\u001b[0m:\u001b[36mplot_static_spatial_variable_redfeten\u001b[0m:\u001b[36m365\u001b[0m - \u001b[1mPlotting Map of Spain...\u001b[0m\n",
      "\u001b[32m2024-12-17 11:08:18.890\u001b[0m | \u001b[34m\u001b[1mDEBUG   \u001b[0m | \u001b[36mst_evt._src.modules.models.aemet.utils_region\u001b[0m:\u001b[36mplot_static_spatial_variable_redfeten\u001b[0m:\u001b[36m375\u001b[0m - \u001b[34m\u001b[1mSaved Figure: \n",
      "/home/juanjohn/pool_data/dynev4eo/experiments/walkthrough/aemet/t2max/az_nonstationary_gp_mcmc_redfeten_trainnoise/results/figures/spain/residuals/posterior_predictive/residuals_map.pdf\u001b[0m\n",
      "\u001b[32m2024-12-17 11:08:18.891\u001b[0m | \u001b[1mINFO    \u001b[0m | \u001b[36mst_evt._src.modules.models.aemet.utils_region\u001b[0m:\u001b[36mplot_static_spatial_variable_redfeten\u001b[0m:\u001b[36m378\u001b[0m - \u001b[1mPlotting Covariates...\u001b[0m\n",
      "\u001b[32m2024-12-17 11:08:19.200\u001b[0m | \u001b[34m\u001b[1mDEBUG   \u001b[0m | \u001b[36mst_evt._src.modules.models.aemet.utils_region\u001b[0m:\u001b[36mplot_covariates\u001b[0m:\u001b[36m138\u001b[0m - \u001b[34m\u001b[1mSaved Figure: \n",
      "/home/juanjohn/pool_data/dynev4eo/experiments/walkthrough/aemet/t2max/az_nonstationary_gp_mcmc_redfeten_trainnoise/results/figures/spain/residuals/posterior_predictive/residuals_covariates_lon.png\u001b[0m\n",
      "\u001b[32m2024-12-17 11:08:19.337\u001b[0m | \u001b[34m\u001b[1mDEBUG   \u001b[0m | \u001b[36mst_evt._src.modules.models.aemet.utils_region\u001b[0m:\u001b[36mplot_covariates\u001b[0m:\u001b[36m154\u001b[0m - \u001b[34m\u001b[1mSaved Figure: \n",
      "/home/juanjohn/pool_data/dynev4eo/experiments/walkthrough/aemet/t2max/az_nonstationary_gp_mcmc_redfeten_trainnoise/results/figures/spain/residuals/posterior_predictive/residuals_covariates_lat.png\u001b[0m\n",
      "\u001b[32m2024-12-17 11:08:19.455\u001b[0m | \u001b[34m\u001b[1mDEBUG   \u001b[0m | \u001b[36mst_evt._src.modules.models.aemet.utils_region\u001b[0m:\u001b[36mplot_covariates\u001b[0m:\u001b[36m170\u001b[0m - \u001b[34m\u001b[1mSaved Figure: \n",
      "/home/juanjohn/pool_data/dynev4eo/experiments/walkthrough/aemet/t2max/az_nonstationary_gp_mcmc_redfeten_trainnoise/results/figures/spain/residuals/posterior_predictive/residuals_covariates_alt.png\u001b[0m\n"
     ]
    }
   ],
   "source": [
    "subfigures_path = Path(figures_path).joinpath(f\"{PLOT_VARIABLE}/posterior_predictive\")\n",
    "subfigures_path.mkdir(parents=True, exist_ok=True)\n",
    "\n",
    "utils_region.plot_static_spatial_variable_redfeten(\n",
    "    idata,\n",
    "    figures_path=subfigures_path,\n",
    "    cbar_label=utils_region.VARIABLE_LABELS[PLOT_VARIABLE],\n",
    "    cmap=\"Reds_r\",\n",
    "    bounds = (-7.5, 10, 7.5)\n",
    ")"
   ]
  },
  {
   "cell_type": "markdown",
   "id": "307c0864-630e-4224-935b-e327521cac92",
   "metadata": {},
   "source": [
    "### III - Absolute Residuals"
   ]
  },
  {
   "cell_type": "code",
   "execution_count": 17,
   "id": "1de0b148-d934-4faf-b4d0-0622904d538e",
   "metadata": {},
   "outputs": [],
   "source": [
    "PLOT_VARIABLE = \"residuals_abs\"\n",
    "VARIABLE = \"t2max\"\n",
    "COVARIATE = \"gmst\"\n",
    "num_samples = 5_000"
   ]
  },
  {
   "cell_type": "code",
   "execution_count": 18,
   "id": "8c53eb4f-85ee-4845-b10d-8d131c21324c",
   "metadata": {},
   "outputs": [],
   "source": [
    "data_results = az.extract(az_ds, group=\"posterior_predictive\", num_samples=num_samples).median(dim=[\"sample\"]).load()\n",
    "data_results = data_results.sortby(\"gmst\")\n",
    "y_pred = data_results[variable].rename(\"y_pred\")\n",
    "y_true = data_results[f\"{variable}_true\"].rename(\"y_true\")\n",
    "idata = np.abs(y_true - y_pred).mean(dim=[covariate]).load().rename(PLOT_VARIABLE)"
   ]
  },
  {
   "cell_type": "code",
   "execution_count": 19,
   "id": "a1074ecf-44c9-4ff7-b91e-38393e32ceb8",
   "metadata": {},
   "outputs": [
    {
     "name": "stderr",
     "output_type": "stream",
     "text": [
      "\u001b[32m2024-12-17 11:08:32.793\u001b[0m | \u001b[1mINFO    \u001b[0m | \u001b[36mst_evt._src.modules.models.aemet.utils_region\u001b[0m:\u001b[36mplot_static_spatial_variable_redfeten\u001b[0m:\u001b[36m321\u001b[0m - \u001b[1mStarting Static Figures...\u001b[0m\n",
      "\u001b[32m2024-12-17 11:08:32.794\u001b[0m | \u001b[1mINFO    \u001b[0m | \u001b[36mst_evt._src.modules.models.aemet.utils_region\u001b[0m:\u001b[36mplot_static_spatial_variable_redfeten\u001b[0m:\u001b[36m328\u001b[0m - \u001b[1mPlotting RESIDUALS_ABS Density...\u001b[0m\n",
      "\u001b[32m2024-12-17 11:08:33.007\u001b[0m | \u001b[34m\u001b[1mDEBUG   \u001b[0m | \u001b[36mst_evt._src.modules.models.aemet.utils_region\u001b[0m:\u001b[36mplot_static_spatial_variable_redfeten\u001b[0m:\u001b[36m353\u001b[0m - \u001b[34m\u001b[1mSaved Figure: \n",
      "/home/juanjohn/pool_data/dynev4eo/experiments/walkthrough/aemet/t2max/az_nonstationary_gp_mcmc_redfeten_trainnoise/results/figures/spain/residuals_abs/posterior_predictive/residuals_abs_density_groups.pdf\u001b[0m\n",
      "\u001b[32m2024-12-17 11:08:33.007\u001b[0m | \u001b[1mINFO    \u001b[0m | \u001b[36mst_evt._src.modules.models.aemet.utils_region\u001b[0m:\u001b[36mplot_static_spatial_variable_redfeten\u001b[0m:\u001b[36m356\u001b[0m - \u001b[1mPlotting Map...\u001b[0m\n",
      "\u001b[32m2024-12-17 11:08:33.008\u001b[0m | \u001b[1mINFO    \u001b[0m | \u001b[36mst_evt._src.modules.models.aemet.utils_region\u001b[0m:\u001b[36mplot_static_spatial_variable_redfeten\u001b[0m:\u001b[36m365\u001b[0m - \u001b[1mPlotting Map of Spain...\u001b[0m\n",
      "\u001b[32m2024-12-17 11:08:33.310\u001b[0m | \u001b[34m\u001b[1mDEBUG   \u001b[0m | \u001b[36mst_evt._src.modules.models.aemet.utils_region\u001b[0m:\u001b[36mplot_static_spatial_variable_redfeten\u001b[0m:\u001b[36m375\u001b[0m - \u001b[34m\u001b[1mSaved Figure: \n",
      "/home/juanjohn/pool_data/dynev4eo/experiments/walkthrough/aemet/t2max/az_nonstationary_gp_mcmc_redfeten_trainnoise/results/figures/spain/residuals_abs/posterior_predictive/residuals_abs_map.pdf\u001b[0m\n",
      "\u001b[32m2024-12-17 11:08:33.311\u001b[0m | \u001b[1mINFO    \u001b[0m | \u001b[36mst_evt._src.modules.models.aemet.utils_region\u001b[0m:\u001b[36mplot_static_spatial_variable_redfeten\u001b[0m:\u001b[36m378\u001b[0m - \u001b[1mPlotting Covariates...\u001b[0m\n",
      "\u001b[32m2024-12-17 11:08:33.419\u001b[0m | \u001b[34m\u001b[1mDEBUG   \u001b[0m | \u001b[36mst_evt._src.modules.models.aemet.utils_region\u001b[0m:\u001b[36mplot_covariates\u001b[0m:\u001b[36m138\u001b[0m - \u001b[34m\u001b[1mSaved Figure: \n",
      "/home/juanjohn/pool_data/dynev4eo/experiments/walkthrough/aemet/t2max/az_nonstationary_gp_mcmc_redfeten_trainnoise/results/figures/spain/residuals_abs/posterior_predictive/residuals_abs_covariates_lon.png\u001b[0m\n",
      "\u001b[32m2024-12-17 11:08:33.538\u001b[0m | \u001b[34m\u001b[1mDEBUG   \u001b[0m | \u001b[36mst_evt._src.modules.models.aemet.utils_region\u001b[0m:\u001b[36mplot_covariates\u001b[0m:\u001b[36m154\u001b[0m - \u001b[34m\u001b[1mSaved Figure: \n",
      "/home/juanjohn/pool_data/dynev4eo/experiments/walkthrough/aemet/t2max/az_nonstationary_gp_mcmc_redfeten_trainnoise/results/figures/spain/residuals_abs/posterior_predictive/residuals_abs_covariates_lat.png\u001b[0m\n",
      "\u001b[32m2024-12-17 11:08:33.639\u001b[0m | \u001b[34m\u001b[1mDEBUG   \u001b[0m | \u001b[36mst_evt._src.modules.models.aemet.utils_region\u001b[0m:\u001b[36mplot_covariates\u001b[0m:\u001b[36m170\u001b[0m - \u001b[34m\u001b[1mSaved Figure: \n",
      "/home/juanjohn/pool_data/dynev4eo/experiments/walkthrough/aemet/t2max/az_nonstationary_gp_mcmc_redfeten_trainnoise/results/figures/spain/residuals_abs/posterior_predictive/residuals_abs_covariates_alt.png\u001b[0m\n"
     ]
    }
   ],
   "source": [
    "subfigures_path = Path(figures_path).joinpath(f\"{PLOT_VARIABLE}/posterior_predictive\")\n",
    "subfigures_path.mkdir(parents=True, exist_ok=True)\n",
    "\n",
    "utils_region.plot_static_spatial_variable_redfeten(\n",
    "    idata,\n",
    "    figures_path=subfigures_path,\n",
    "    cbar_label=utils_region.VARIABLE_LABELS[PLOT_VARIABLE],\n",
    "    cmap=\"Reds\",\n",
    "    bounds = (0.0, 10, 7.5)\n",
    ")"
   ]
  },
  {
   "cell_type": "markdown",
   "id": "c2a8d3a6-e568-4c36-adbd-7c3a6420c02c",
   "metadata": {},
   "source": [
    "## Model Errors - All"
   ]
  },
  {
   "cell_type": "markdown",
   "id": "3db19107-9438-4e3d-9cd1-37b7ccaf6dfb",
   "metadata": {
    "editable": true,
    "slideshow": {
     "slide_type": ""
    },
    "tags": []
   },
   "source": [
    "### Negative Log-Likelihood - All"
   ]
  },
  {
   "cell_type": "code",
   "execution_count": 20,
   "id": "f9833de0-f0d2-4ceb-bb69-00e8b01987b3",
   "metadata": {},
   "outputs": [],
   "source": [
    "subfigures_path = figures_path.joinpath(\"nll\")\n",
    "subfigures_path.mkdir(parents=True, exist_ok=True)"
   ]
  },
  {
   "cell_type": "markdown",
   "id": "226b847d-3549-4cb1-a164-7106b35757f4",
   "metadata": {},
   "source": [
    "#### Posterior"
   ]
  },
  {
   "cell_type": "code",
   "execution_count": 21,
   "id": "9219d584-cccb-4697-a65b-7bd06b3763be",
   "metadata": {},
   "outputs": [],
   "source": [
    "variable = \"t2max\"\n",
    "az_ds = az.from_zarr(store=str(results_data_path))\n",
    "idata = az.extract(az_ds, group=\"log_likelihood\", num_samples=4000).median(dim=[\"sample\"]).load()\n",
    "isub_post = idata.sortby(\"gmst\")[variable].rename(\"nll\").sum(dim=covariate)"
   ]
  },
  {
   "cell_type": "markdown",
   "id": "a6514d31-1e04-49ca-986d-a872cd8f22af",
   "metadata": {},
   "source": [
    "#### Posterior - Predictive"
   ]
  },
  {
   "cell_type": "code",
   "execution_count": 22,
   "id": "9a011a67-b120-4469-bde4-8452f941b94a",
   "metadata": {},
   "outputs": [],
   "source": [
    "\n",
    "az_ds = az.from_zarr(store=str(results_data_path))\n",
    "idata = az.extract(az_ds, group=\"posterior_predictive\", num_samples=4000).median(dim=[\"sample\"]).load()\n",
    "isub_postpred = idata.sortby(\"gmst\")[\"nll\"].sum(dim=covariate)"
   ]
  },
  {
   "cell_type": "code",
   "execution_count": 23,
   "id": "c51b488f-dce8-48b1-b5c8-fc6673076df9",
   "metadata": {},
   "outputs": [],
   "source": [
    "# labels\n",
    "cbar_label = \"Negative Log Predictive Density\\n\"\n",
    "cbar_label += r\"$\\boldsymbol{L}(\\mathbf{y};\\boldsymbol{\\theta},\\boldsymbol{\\phi},\\mathcal{D})$\""
   ]
  },
  {
   "cell_type": "markdown",
   "id": "b8ae9586-6c89-4bd2-bf34-964ad0c4c260",
   "metadata": {},
   "source": [
    "#### Density"
   ]
  },
  {
   "cell_type": "code",
   "execution_count": 24,
   "id": "724c83c7-e4bd-4ed3-995f-cbf1d66b057b",
   "metadata": {},
   "outputs": [],
   "source": [
    "returns = []\n",
    "\n",
    "returns.append({\n",
    "    \"period\": \"Red Feten (Posterior)\",\n",
    "    \"color\": \"gray\",\n",
    "    \"values\":  isub_post.values.ravel(),\n",
    "    \"linestyle\": \"-\",\n",
    "    \"values_units\": \"\", # \"[mm/day]\",\n",
    "})\n",
    "\n",
    "returns.append({\n",
    "    \"period\": \"Red Feten (Posterior Predictive)\",\n",
    "    \"color\": \"tab:blue\",\n",
    "    \"values\":  isub_postpred.where(isub_postpred.red_feten_mask == 1, drop=True).values.ravel(),\n",
    "    \"linestyle\": \"-\",\n",
    "    \"values_units\": \"\", # \"[mm/day]\",\n",
    "})\n",
    "returns.append({\n",
    "    \"period\": \"Not Red Feten (Posterior Predictive)\",\n",
    "    \"color\": \"tab:red\",\n",
    "    \"linestyle\": \"--\",\n",
    "    \"values\":  isub_postpred.where(isub_postpred.red_feten_mask == 0, drop=True).values.ravel(),\n",
    "    \"values_units\": \"\", # \"[mm/day]\",\n",
    "})"
   ]
  },
  {
   "cell_type": "code",
   "execution_count": 1,
   "id": "f85c176c-49e6-4375-a19b-5189b0857c2a",
   "metadata": {
    "editable": true,
    "slideshow": {
     "slide_type": ""
    },
    "tags": []
   },
   "outputs": [
    {
     "ename": "NameError",
     "evalue": "name 'plot_density_multiple' is not defined",
     "output_type": "error",
     "traceback": [
      "\u001b[0;31m---------------------------------------------------------------------------\u001b[0m",
      "\u001b[0;31mNameError\u001b[0m                                 Traceback (most recent call last)",
      "Cell \u001b[0;32mIn[1], line 1\u001b[0m\n\u001b[0;32m----> 1\u001b[0m fig, ax \u001b[38;5;241m=\u001b[39m \u001b[43mplot_density_multiple\u001b[49m(returns, log_bins\u001b[38;5;241m=\u001b[39m\u001b[38;5;28;01mFalse\u001b[39;00m)\n\u001b[1;32m      2\u001b[0m fig\u001b[38;5;241m.\u001b[39mset_size_inches(\u001b[38;5;241m6\u001b[39m, \u001b[38;5;241m5\u001b[39m)\n\u001b[1;32m      3\u001b[0m \u001b[38;5;66;03m# fig.set_size_inches(8, 4.5)\u001b[39;00m\n",
      "\u001b[0;31mNameError\u001b[0m: name 'plot_density_multiple' is not defined"
     ]
    }
   ],
   "source": [
    "fig, ax = plot_density_multiple(returns, log_bins=False)\n",
    "fig.set_size_inches(6, 5)\n",
    "# fig.set_size_inches(8, 4.5)\n",
    "ax.set(\n",
    "    xlabel=cbar_label,\n",
    ")\n",
    "\n",
    "formatter = ScalarFormatter()\n",
    "formatter.set_scientific(False)\n",
    "ax.xaxis.set_major_formatter(formatter)\n",
    "plt.legend(fontsize=10, loc=\"upper left\")\n",
    "plt.tight_layout()\n",
    "fig.savefig(subfigures_path.joinpath(\"density_all.png\"))\n",
    "plt.show()"
   ]
  },
  {
   "cell_type": "markdown",
   "id": "8bebad2e-6515-4740-956f-dfa5572a21fe",
   "metadata": {},
   "source": [
    "## Global Parameters"
   ]
  },
  {
   "cell_type": "markdown",
   "id": "a42f8364-5a79-4122-88c3-cfb90add0d47",
   "metadata": {},
   "source": [
    "### Concentration"
   ]
  },
  {
   "cell_type": "code",
   "execution_count": 9,
   "id": "058bad84-eac7-4d0e-8ec5-3ed54694a6a3",
   "metadata": {},
   "outputs": [],
   "source": [
    "PLOT_VARIABLE = \"concentration\"\n",
    "VARIABLE = \"t2max\"\n",
    "COVARIATE = \"gmst\"\n",
    "num_samples = 5_000"
   ]
  },
  {
   "cell_type": "code",
   "execution_count": null,
   "id": "80dd3023-0c59-4758-bcd6-27e84630d3f4",
   "metadata": {},
   "outputs": [],
   "source": []
  },
  {
   "cell_type": "code",
   "execution_count": 11,
   "id": "aaa4c62c-0345-4f90-bfcf-0da5348f6a51",
   "metadata": {},
   "outputs": [
    {
     "data": {
      "text/html": [
       "<div><svg style=\"position: absolute; width: 0; height: 0; overflow: hidden\">\n",
       "<defs>\n",
       "<symbol id=\"icon-database\" viewBox=\"0 0 32 32\">\n",
       "<path d=\"M16 0c-8.837 0-16 2.239-16 5v4c0 2.761 7.163 5 16 5s16-2.239 16-5v-4c0-2.761-7.163-5-16-5z\"></path>\n",
       "<path d=\"M16 17c-8.837 0-16-2.239-16-5v6c0 2.761 7.163 5 16 5s16-2.239 16-5v-6c0 2.761-7.163 5-16 5z\"></path>\n",
       "<path d=\"M16 26c-8.837 0-16-2.239-16-5v6c0 2.761 7.163 5 16 5s16-2.239 16-5v-6c0 2.761-7.163 5-16 5z\"></path>\n",
       "</symbol>\n",
       "<symbol id=\"icon-file-text2\" viewBox=\"0 0 32 32\">\n",
       "<path d=\"M28.681 7.159c-0.694-0.947-1.662-2.053-2.724-3.116s-2.169-2.030-3.116-2.724c-1.612-1.182-2.393-1.319-2.841-1.319h-15.5c-1.378 0-2.5 1.121-2.5 2.5v27c0 1.378 1.122 2.5 2.5 2.5h23c1.378 0 2.5-1.122 2.5-2.5v-19.5c0-0.448-0.137-1.23-1.319-2.841zM24.543 5.457c0.959 0.959 1.712 1.825 2.268 2.543h-4.811v-4.811c0.718 0.556 1.584 1.309 2.543 2.268zM28 29.5c0 0.271-0.229 0.5-0.5 0.5h-23c-0.271 0-0.5-0.229-0.5-0.5v-27c0-0.271 0.229-0.5 0.5-0.5 0 0 15.499-0 15.5 0v7c0 0.552 0.448 1 1 1h7v19.5z\"></path>\n",
       "<path d=\"M23 26h-14c-0.552 0-1-0.448-1-1s0.448-1 1-1h14c0.552 0 1 0.448 1 1s-0.448 1-1 1z\"></path>\n",
       "<path d=\"M23 22h-14c-0.552 0-1-0.448-1-1s0.448-1 1-1h14c0.552 0 1 0.448 1 1s-0.448 1-1 1z\"></path>\n",
       "<path d=\"M23 18h-14c-0.552 0-1-0.448-1-1s0.448-1 1-1h14c0.552 0 1 0.448 1 1s-0.448 1-1 1z\"></path>\n",
       "</symbol>\n",
       "</defs>\n",
       "</svg>\n",
       "<style>/* CSS stylesheet for displaying xarray objects in jupyterlab.\n",
       " *\n",
       " */\n",
       "\n",
       ":root {\n",
       "  --xr-font-color0: var(--jp-content-font-color0, rgba(0, 0, 0, 1));\n",
       "  --xr-font-color2: var(--jp-content-font-color2, rgba(0, 0, 0, 0.54));\n",
       "  --xr-font-color3: var(--jp-content-font-color3, rgba(0, 0, 0, 0.38));\n",
       "  --xr-border-color: var(--jp-border-color2, #e0e0e0);\n",
       "  --xr-disabled-color: var(--jp-layout-color3, #bdbdbd);\n",
       "  --xr-background-color: var(--jp-layout-color0, white);\n",
       "  --xr-background-color-row-even: var(--jp-layout-color1, white);\n",
       "  --xr-background-color-row-odd: var(--jp-layout-color2, #eeeeee);\n",
       "}\n",
       "\n",
       "html[theme=dark],\n",
       "html[data-theme=dark],\n",
       "body[data-theme=dark],\n",
       "body.vscode-dark {\n",
       "  --xr-font-color0: rgba(255, 255, 255, 1);\n",
       "  --xr-font-color2: rgba(255, 255, 255, 0.54);\n",
       "  --xr-font-color3: rgba(255, 255, 255, 0.38);\n",
       "  --xr-border-color: #1F1F1F;\n",
       "  --xr-disabled-color: #515151;\n",
       "  --xr-background-color: #111111;\n",
       "  --xr-background-color-row-even: #111111;\n",
       "  --xr-background-color-row-odd: #313131;\n",
       "}\n",
       "\n",
       ".xr-wrap {\n",
       "  display: block !important;\n",
       "  min-width: 300px;\n",
       "  max-width: 700px;\n",
       "}\n",
       "\n",
       ".xr-text-repr-fallback {\n",
       "  /* fallback to plain text repr when CSS is not injected (untrusted notebook) */\n",
       "  display: none;\n",
       "}\n",
       "\n",
       ".xr-header {\n",
       "  padding-top: 6px;\n",
       "  padding-bottom: 6px;\n",
       "  margin-bottom: 4px;\n",
       "  border-bottom: solid 1px var(--xr-border-color);\n",
       "}\n",
       "\n",
       ".xr-header > div,\n",
       ".xr-header > ul {\n",
       "  display: inline;\n",
       "  margin-top: 0;\n",
       "  margin-bottom: 0;\n",
       "}\n",
       "\n",
       ".xr-obj-type,\n",
       ".xr-array-name {\n",
       "  margin-left: 2px;\n",
       "  margin-right: 10px;\n",
       "}\n",
       "\n",
       ".xr-obj-type {\n",
       "  color: var(--xr-font-color2);\n",
       "}\n",
       "\n",
       ".xr-sections {\n",
       "  padding-left: 0 !important;\n",
       "  display: grid;\n",
       "  grid-template-columns: 150px auto auto 1fr 0 20px 0 20px;\n",
       "}\n",
       "\n",
       ".xr-section-item {\n",
       "  display: contents;\n",
       "}\n",
       "\n",
       ".xr-section-item input {\n",
       "  display: inline-block;\n",
       "  opacity: 0;\n",
       "}\n",
       "\n",
       ".xr-section-item input + label {\n",
       "  color: var(--xr-disabled-color);\n",
       "}\n",
       "\n",
       ".xr-section-item input:enabled + label {\n",
       "  cursor: pointer;\n",
       "  color: var(--xr-font-color2);\n",
       "}\n",
       "\n",
       ".xr-section-item input:focus + label {\n",
       "  border: 2px solid var(--xr-font-color0);\n",
       "}\n",
       "\n",
       ".xr-section-item input:enabled + label:hover {\n",
       "  color: var(--xr-font-color0);\n",
       "}\n",
       "\n",
       ".xr-section-summary {\n",
       "  grid-column: 1;\n",
       "  color: var(--xr-font-color2);\n",
       "  font-weight: 500;\n",
       "}\n",
       "\n",
       ".xr-section-summary > span {\n",
       "  display: inline-block;\n",
       "  padding-left: 0.5em;\n",
       "}\n",
       "\n",
       ".xr-section-summary-in:disabled + label {\n",
       "  color: var(--xr-font-color2);\n",
       "}\n",
       "\n",
       ".xr-section-summary-in + label:before {\n",
       "  display: inline-block;\n",
       "  content: '►';\n",
       "  font-size: 11px;\n",
       "  width: 15px;\n",
       "  text-align: center;\n",
       "}\n",
       "\n",
       ".xr-section-summary-in:disabled + label:before {\n",
       "  color: var(--xr-disabled-color);\n",
       "}\n",
       "\n",
       ".xr-section-summary-in:checked + label:before {\n",
       "  content: '▼';\n",
       "}\n",
       "\n",
       ".xr-section-summary-in:checked + label > span {\n",
       "  display: none;\n",
       "}\n",
       "\n",
       ".xr-section-summary,\n",
       ".xr-section-inline-details {\n",
       "  padding-top: 4px;\n",
       "  padding-bottom: 4px;\n",
       "}\n",
       "\n",
       ".xr-section-inline-details {\n",
       "  grid-column: 2 / -1;\n",
       "}\n",
       "\n",
       ".xr-section-details {\n",
       "  display: none;\n",
       "  grid-column: 1 / -1;\n",
       "  margin-bottom: 5px;\n",
       "}\n",
       "\n",
       ".xr-section-summary-in:checked ~ .xr-section-details {\n",
       "  display: contents;\n",
       "}\n",
       "\n",
       ".xr-array-wrap {\n",
       "  grid-column: 1 / -1;\n",
       "  display: grid;\n",
       "  grid-template-columns: 20px auto;\n",
       "}\n",
       "\n",
       ".xr-array-wrap > label {\n",
       "  grid-column: 1;\n",
       "  vertical-align: top;\n",
       "}\n",
       "\n",
       ".xr-preview {\n",
       "  color: var(--xr-font-color3);\n",
       "}\n",
       "\n",
       ".xr-array-preview,\n",
       ".xr-array-data {\n",
       "  padding: 0 5px !important;\n",
       "  grid-column: 2;\n",
       "}\n",
       "\n",
       ".xr-array-data,\n",
       ".xr-array-in:checked ~ .xr-array-preview {\n",
       "  display: none;\n",
       "}\n",
       "\n",
       ".xr-array-in:checked ~ .xr-array-data,\n",
       ".xr-array-preview {\n",
       "  display: inline-block;\n",
       "}\n",
       "\n",
       ".xr-dim-list {\n",
       "  display: inline-block !important;\n",
       "  list-style: none;\n",
       "  padding: 0 !important;\n",
       "  margin: 0;\n",
       "}\n",
       "\n",
       ".xr-dim-list li {\n",
       "  display: inline-block;\n",
       "  padding: 0;\n",
       "  margin: 0;\n",
       "}\n",
       "\n",
       ".xr-dim-list:before {\n",
       "  content: '(';\n",
       "}\n",
       "\n",
       ".xr-dim-list:after {\n",
       "  content: ')';\n",
       "}\n",
       "\n",
       ".xr-dim-list li:not(:last-child):after {\n",
       "  content: ',';\n",
       "  padding-right: 5px;\n",
       "}\n",
       "\n",
       ".xr-has-index {\n",
       "  font-weight: bold;\n",
       "}\n",
       "\n",
       ".xr-var-list,\n",
       ".xr-var-item {\n",
       "  display: contents;\n",
       "}\n",
       "\n",
       ".xr-var-item > div,\n",
       ".xr-var-item label,\n",
       ".xr-var-item > .xr-var-name span {\n",
       "  background-color: var(--xr-background-color-row-even);\n",
       "  margin-bottom: 0;\n",
       "}\n",
       "\n",
       ".xr-var-item > .xr-var-name:hover span {\n",
       "  padding-right: 5px;\n",
       "}\n",
       "\n",
       ".xr-var-list > li:nth-child(odd) > div,\n",
       ".xr-var-list > li:nth-child(odd) > label,\n",
       ".xr-var-list > li:nth-child(odd) > .xr-var-name span {\n",
       "  background-color: var(--xr-background-color-row-odd);\n",
       "}\n",
       "\n",
       ".xr-var-name {\n",
       "  grid-column: 1;\n",
       "}\n",
       "\n",
       ".xr-var-dims {\n",
       "  grid-column: 2;\n",
       "}\n",
       "\n",
       ".xr-var-dtype {\n",
       "  grid-column: 3;\n",
       "  text-align: right;\n",
       "  color: var(--xr-font-color2);\n",
       "}\n",
       "\n",
       ".xr-var-preview {\n",
       "  grid-column: 4;\n",
       "}\n",
       "\n",
       ".xr-index-preview {\n",
       "  grid-column: 2 / 5;\n",
       "  color: var(--xr-font-color2);\n",
       "}\n",
       "\n",
       ".xr-var-name,\n",
       ".xr-var-dims,\n",
       ".xr-var-dtype,\n",
       ".xr-preview,\n",
       ".xr-attrs dt {\n",
       "  white-space: nowrap;\n",
       "  overflow: hidden;\n",
       "  text-overflow: ellipsis;\n",
       "  padding-right: 10px;\n",
       "}\n",
       "\n",
       ".xr-var-name:hover,\n",
       ".xr-var-dims:hover,\n",
       ".xr-var-dtype:hover,\n",
       ".xr-attrs dt:hover {\n",
       "  overflow: visible;\n",
       "  width: auto;\n",
       "  z-index: 1;\n",
       "}\n",
       "\n",
       ".xr-var-attrs,\n",
       ".xr-var-data,\n",
       ".xr-index-data {\n",
       "  display: none;\n",
       "  background-color: var(--xr-background-color) !important;\n",
       "  padding-bottom: 5px !important;\n",
       "}\n",
       "\n",
       ".xr-var-attrs-in:checked ~ .xr-var-attrs,\n",
       ".xr-var-data-in:checked ~ .xr-var-data,\n",
       ".xr-index-data-in:checked ~ .xr-index-data {\n",
       "  display: block;\n",
       "}\n",
       "\n",
       ".xr-var-data > table {\n",
       "  float: right;\n",
       "}\n",
       "\n",
       ".xr-var-name span,\n",
       ".xr-var-data,\n",
       ".xr-index-name div,\n",
       ".xr-index-data,\n",
       ".xr-attrs {\n",
       "  padding-left: 25px !important;\n",
       "}\n",
       "\n",
       ".xr-attrs,\n",
       ".xr-var-attrs,\n",
       ".xr-var-data,\n",
       ".xr-index-data {\n",
       "  grid-column: 1 / -1;\n",
       "}\n",
       "\n",
       "dl.xr-attrs {\n",
       "  padding: 0;\n",
       "  margin: 0;\n",
       "  display: grid;\n",
       "  grid-template-columns: 125px auto;\n",
       "}\n",
       "\n",
       ".xr-attrs dt,\n",
       ".xr-attrs dd {\n",
       "  padding: 0;\n",
       "  margin: 0;\n",
       "  float: left;\n",
       "  padding-right: 10px;\n",
       "  width: auto;\n",
       "}\n",
       "\n",
       ".xr-attrs dt {\n",
       "  font-weight: normal;\n",
       "  grid-column: 1;\n",
       "}\n",
       "\n",
       ".xr-attrs dt:hover span {\n",
       "  display: inline-block;\n",
       "  background: var(--xr-background-color);\n",
       "  padding-right: 10px;\n",
       "}\n",
       "\n",
       ".xr-attrs dd {\n",
       "  grid-column: 2;\n",
       "  white-space: pre-wrap;\n",
       "  word-break: break-all;\n",
       "}\n",
       "\n",
       ".xr-icon-database,\n",
       ".xr-icon-file-text2,\n",
       ".xr-no-icon {\n",
       "  display: inline-block;\n",
       "  vertical-align: middle;\n",
       "  width: 1em;\n",
       "  height: 1.5em !important;\n",
       "  stroke-width: 0;\n",
       "  stroke: currentColor;\n",
       "  fill: currentColor;\n",
       "}\n",
       "</style><pre class='xr-text-repr-fallback'>&lt;xarray.DataArray &#x27;concentration&#x27; (sample: 5000)&gt; Size: 40kB\n",
       "array([-0.28332204, -0.28695027, -0.28144797, ..., -0.28464127,\n",
       "       -0.27646009, -0.28501931])\n",
       "Coordinates:\n",
       "  * sample   (sample) object 40kB MultiIndex\n",
       "  * chain    (sample) int64 40kB 15 7 11 11 10 10 7 0 12 ... 12 14 0 6 15 7 10 4\n",
       "  * draw     (sample) int64 40kB 131 265 965 625 460 737 ... 520 879 906 402 458</pre><div class='xr-wrap' style='display:none'><div class='xr-header'><div class='xr-obj-type'>xarray.DataArray</div><div class='xr-array-name'>'concentration'</div><ul class='xr-dim-list'><li><span class='xr-has-index'>sample</span>: 5000</li></ul></div><ul class='xr-sections'><li class='xr-section-item'><div class='xr-array-wrap'><input id='section-3ba21a60-14db-4ce0-9a4f-7299941269b6' class='xr-array-in' type='checkbox' checked><label for='section-3ba21a60-14db-4ce0-9a4f-7299941269b6' title='Show/hide data repr'><svg class='icon xr-icon-database'><use xlink:href='#icon-database'></use></svg></label><div class='xr-array-preview xr-preview'><span>-0.2833 -0.287 -0.2814 -0.2737 ... -0.2918 -0.2846 -0.2765 -0.285</span></div><div class='xr-array-data'><pre>array([-0.28332204, -0.28695027, -0.28144797, ..., -0.28464127,\n",
       "       -0.27646009, -0.28501931])</pre></div></div></li><li class='xr-section-item'><input id='section-d24807aa-37d4-488b-a41e-2b7f8e620b6a' class='xr-section-summary-in' type='checkbox'  checked><label for='section-d24807aa-37d4-488b-a41e-2b7f8e620b6a' class='xr-section-summary' >Coordinates: <span>(3)</span></label><div class='xr-section-inline-details'></div><div class='xr-section-details'><ul class='xr-var-list'><li class='xr-var-item'><div class='xr-var-name'><span class='xr-has-index'>sample</span></div><div class='xr-var-dims'>(sample)</div><div class='xr-var-dtype'>object</div><div class='xr-var-preview xr-preview'>MultiIndex</div><input id='attrs-eeb9d9a1-9737-4d1d-b56f-b1a878afcf7e' class='xr-var-attrs-in' type='checkbox' disabled><label for='attrs-eeb9d9a1-9737-4d1d-b56f-b1a878afcf7e' title='Show/Hide attributes'><svg class='icon xr-icon-file-text2'><use xlink:href='#icon-file-text2'></use></svg></label><input id='data-0935e395-fd85-4736-91e6-3c644ba385be' class='xr-var-data-in' type='checkbox'><label for='data-0935e395-fd85-4736-91e6-3c644ba385be' title='Show/Hide data repr'><svg class='icon xr-icon-database'><use xlink:href='#icon-database'></use></svg></label><div class='xr-var-attrs'><dl class='xr-attrs'></dl></div><div class='xr-var-data'><pre>array([(15, 131), (7, 265), (11, 965), ..., (7, 906), (10, 402), (4, 458)],\n",
       "      dtype=object)</pre></div></li><li class='xr-var-item'><div class='xr-var-name'><span class='xr-has-index'>chain</span></div><div class='xr-var-dims'>(sample)</div><div class='xr-var-dtype'>int64</div><div class='xr-var-preview xr-preview'>15 7 11 11 10 10 ... 0 6 15 7 10 4</div><input id='attrs-d167bdf5-3789-4ae8-aba5-aa7a27812fe2' class='xr-var-attrs-in' type='checkbox' disabled><label for='attrs-d167bdf5-3789-4ae8-aba5-aa7a27812fe2' title='Show/Hide attributes'><svg class='icon xr-icon-file-text2'><use xlink:href='#icon-file-text2'></use></svg></label><input id='data-9ef3ef96-8589-4602-ab15-511e9f01a008' class='xr-var-data-in' type='checkbox'><label for='data-9ef3ef96-8589-4602-ab15-511e9f01a008' title='Show/Hide data repr'><svg class='icon xr-icon-database'><use xlink:href='#icon-database'></use></svg></label><div class='xr-var-attrs'><dl class='xr-attrs'></dl></div><div class='xr-var-data'><pre>array([15,  7, 11, ...,  7, 10,  4])</pre></div></li><li class='xr-var-item'><div class='xr-var-name'><span class='xr-has-index'>draw</span></div><div class='xr-var-dims'>(sample)</div><div class='xr-var-dtype'>int64</div><div class='xr-var-preview xr-preview'>131 265 965 625 ... 879 906 402 458</div><input id='attrs-14cf472a-6981-4b4e-9a36-d8666f3871dc' class='xr-var-attrs-in' type='checkbox' disabled><label for='attrs-14cf472a-6981-4b4e-9a36-d8666f3871dc' title='Show/Hide attributes'><svg class='icon xr-icon-file-text2'><use xlink:href='#icon-file-text2'></use></svg></label><input id='data-29248201-2d39-4473-bb37-bf24447d564a' class='xr-var-data-in' type='checkbox'><label for='data-29248201-2d39-4473-bb37-bf24447d564a' title='Show/Hide data repr'><svg class='icon xr-icon-database'><use xlink:href='#icon-database'></use></svg></label><div class='xr-var-attrs'><dl class='xr-attrs'></dl></div><div class='xr-var-data'><pre>array([131, 265, 965, ..., 906, 402, 458])</pre></div></li></ul></div></li><li class='xr-section-item'><input id='section-842b291a-5f60-4f77-b2bb-ea41c8cedfb8' class='xr-section-summary-in' type='checkbox'  ><label for='section-842b291a-5f60-4f77-b2bb-ea41c8cedfb8' class='xr-section-summary' >Indexes: <span>(1)</span></label><div class='xr-section-inline-details'></div><div class='xr-section-details'><ul class='xr-var-list'><li class='xr-var-item'><div class='xr-index-name'><div>sample<br>chain<br>draw</div></div><div class='xr-index-preview'>PandasMultiIndex</div><div></div><input id='index-370e74c7-152a-4638-b9cb-f0bcd4c670e1' class='xr-index-data-in' type='checkbox'/><label for='index-370e74c7-152a-4638-b9cb-f0bcd4c670e1' title='Show/Hide index repr'><svg class='icon xr-icon-database'><use xlink:href='#icon-database'></use></svg></label><div class='xr-index-data'><pre>PandasIndex(MultiIndex([(15, 131),\n",
       "            ( 7, 265),\n",
       "            (11, 965),\n",
       "            (11, 625),\n",
       "            (10, 460),\n",
       "            (10, 737),\n",
       "            ( 7, 130),\n",
       "            ( 0, 206),\n",
       "            (12, 427),\n",
       "            ( 2, 403),\n",
       "            ...\n",
       "            ( 5, 358),\n",
       "            ( 3, 206),\n",
       "            (12, 426),\n",
       "            (14, 222),\n",
       "            ( 0, 869),\n",
       "            ( 6, 520),\n",
       "            (15, 879),\n",
       "            ( 7, 906),\n",
       "            (10, 402),\n",
       "            ( 4, 458)],\n",
       "           name=&#x27;sample&#x27;, length=5000))</pre></div></li></ul></div></li><li class='xr-section-item'><input id='section-e8f13101-d0cd-4b4d-8a2d-2cebd5cd4924' class='xr-section-summary-in' type='checkbox' disabled ><label for='section-e8f13101-d0cd-4b4d-8a2d-2cebd5cd4924' class='xr-section-summary'  title='Expand/collapse section'>Attributes: <span>(0)</span></label><div class='xr-section-inline-details'></div><div class='xr-section-details'><dl class='xr-attrs'></dl></div></li></ul></div></div>"
      ],
      "text/plain": [
       "<xarray.DataArray 'concentration' (sample: 5000)> Size: 40kB\n",
       "array([-0.28332204, -0.28695027, -0.28144797, ..., -0.28464127,\n",
       "       -0.27646009, -0.28501931])\n",
       "Coordinates:\n",
       "  * sample   (sample) object 40kB MultiIndex\n",
       "  * chain    (sample) int64 40kB 15 7 11 11 10 10 7 0 12 ... 12 14 0 6 15 7 10 4\n",
       "  * draw     (sample) int64 40kB 131 265 965 625 460 737 ... 520 879 906 402 458"
      ]
     },
     "execution_count": 11,
     "metadata": {},
     "output_type": "execute_result"
    }
   ],
   "source": [
    "data_results = az.extract(az_ds, group=\"posterior\", num_samples=num_samples)\n",
    "data_results = data_results.sortby(\"gmst\")\n",
    "data_results = data_results[PLOT_VARIABLE]\n",
    "data_results"
   ]
  },
  {
   "cell_type": "code",
   "execution_count": 28,
   "id": "9dfd6f72-a391-45b9-a696-631287388c25",
   "metadata": {},
   "outputs": [
    {
     "name": "stderr",
     "output_type": "stream",
     "text": [
      "\u001b[32m2024-12-17 11:08:59.618\u001b[0m | \u001b[1mINFO    \u001b[0m | \u001b[36mst_evt._src.modules.models.aemet.utils_region\u001b[0m:\u001b[36mplot_static_global_variable\u001b[0m:\u001b[36m182\u001b[0m - \u001b[1mStarting Static Figures...\u001b[0m\n",
      "\u001b[32m2024-12-17 11:08:59.618\u001b[0m | \u001b[1mINFO    \u001b[0m | \u001b[36mst_evt._src.modules.models.aemet.utils_region\u001b[0m:\u001b[36mplot_static_global_variable\u001b[0m:\u001b[36m189\u001b[0m - \u001b[1mPlotting CONCENTRATION Density...\u001b[0m\n",
      "\u001b[32m2024-12-17 11:08:59.802\u001b[0m | \u001b[34m\u001b[1mDEBUG   \u001b[0m | \u001b[36mst_evt._src.modules.models.aemet.utils_region\u001b[0m:\u001b[36mplot_static_global_variable\u001b[0m:\u001b[36m202\u001b[0m - \u001b[34m\u001b[1mSaved Figure: \n",
      "/home/juanjohn/pool_data/dynev4eo/experiments/walkthrough/aemet/t2max/az_nonstationary_gp_mcmc_redfeten_trainnoise/results/figures/spain/concentration/posterior/concentration_density.pdf\u001b[0m\n",
      "\u001b[32m2024-12-17 11:08:59.802\u001b[0m | \u001b[1mINFO    \u001b[0m | \u001b[36mst_evt._src.modules.models.aemet.utils_region\u001b[0m:\u001b[36mplot_static_global_variable\u001b[0m:\u001b[36m207\u001b[0m - \u001b[1mPlotting Parameter Traces...\u001b[0m\n",
      "\u001b[32m2024-12-17 11:09:00.162\u001b[0m | \u001b[34m\u001b[1mDEBUG   \u001b[0m | \u001b[36mst_evt._src.modules.models.aemet.utils_region\u001b[0m:\u001b[36mplot_static_global_variable\u001b[0m:\u001b[36m217\u001b[0m - \u001b[34m\u001b[1mSaved Figure: \n",
      "/home/juanjohn/pool_data/dynev4eo/experiments/walkthrough/aemet/t2max/az_nonstationary_gp_mcmc_redfeten_trainnoise/results/figures/spain/concentration/posterior/concentration_trace.pdf\u001b[0m\n",
      "\u001b[32m2024-12-17 11:09:00.163\u001b[0m | \u001b[1mINFO    \u001b[0m | \u001b[36mst_evt._src.modules.models.aemet.utils_region\u001b[0m:\u001b[36mplot_static_global_variable\u001b[0m:\u001b[36m222\u001b[0m - \u001b[1mPlotting AutoCorrelation...\u001b[0m\n",
      "\u001b[32m2024-12-17 11:09:00.257\u001b[0m | \u001b[34m\u001b[1mDEBUG   \u001b[0m | \u001b[36mst_evt._src.modules.models.aemet.utils_region\u001b[0m:\u001b[36mplot_static_global_variable\u001b[0m:\u001b[36m234\u001b[0m - \u001b[34m\u001b[1mSaved Figure: \n",
      "/home/juanjohn/pool_data/dynev4eo/experiments/walkthrough/aemet/t2max/az_nonstationary_gp_mcmc_redfeten_trainnoise/results/figures/spain/concentration/posterior/concentration_autocorr.pdf\u001b[0m\n",
      "\u001b[32m2024-12-17 11:09:00.258\u001b[0m | \u001b[1mINFO    \u001b[0m | \u001b[36mst_evt._src.modules.models.aemet.utils_region\u001b[0m:\u001b[36mplot_static_global_variable\u001b[0m:\u001b[36m237\u001b[0m - \u001b[1mPlotting ESS...\u001b[0m\n",
      "\u001b[32m2024-12-17 11:09:00.591\u001b[0m | \u001b[34m\u001b[1mDEBUG   \u001b[0m | \u001b[36mst_evt._src.modules.models.aemet.utils_region\u001b[0m:\u001b[36mplot_static_global_variable\u001b[0m:\u001b[36m249\u001b[0m - \u001b[34m\u001b[1mSaved Figure: \n",
      "/home/juanjohn/pool_data/dynev4eo/experiments/walkthrough/aemet/t2max/az_nonstationary_gp_mcmc_redfeten_trainnoise/results/figures/spain/concentration/posterior/concentration_ess.pdf\u001b[0m\n"
     ]
    }
   ],
   "source": [
    "subfigures_path = Path(figures_path).joinpath(f\"{PLOT_VARIABLE}/posterior\")\n",
    "subfigures_path.mkdir(parents=True, exist_ok=True)\n",
    "\n",
    "utils_region.plot_static_global_variable(\n",
    "    idata,\n",
    "    figures_path=subfigures_path,\n",
    "    cbar_label=utils_region.VARIABLE_LABELS[PLOT_VARIABLE],\n",
    ")"
   ]
  },
  {
   "cell_type": "markdown",
   "id": "be504941-86dd-41aa-8e3a-748038c7d9f4",
   "metadata": {},
   "source": [
    "### Kernel Parameters"
   ]
  },
  {
   "cell_type": "markdown",
   "id": "e0f2b8cb-da1a-4679-affd-a47acf12d0b5",
   "metadata": {},
   "source": [
    "#### Location Intercept - Kernel Variance"
   ]
  },
  {
   "cell_type": "code",
   "execution_count": 29,
   "id": "e6a966a8-d440-4e52-b4f5-a8a7545b95a4",
   "metadata": {},
   "outputs": [],
   "source": [
    "PLOT_VARIABLE = \"location_intercept_kernel_variance\"\n",
    "VARIABLE = \"t2max\"\n",
    "COVARIATE = \"gmst\"\n",
    "num_samples = 5_000"
   ]
  },
  {
   "cell_type": "code",
   "execution_count": 30,
   "id": "891f7c2a-e8d0-43d3-903f-0b787d939844",
   "metadata": {},
   "outputs": [],
   "source": [
    "# data_results = az.extract(az_ds, group=\"posterior\", num_samples=num_samples)\n",
    "# data_results = data_results.sortby(\"gmst\")\n",
    "idata = az_ds.posterior[PLOT_VARIABLE]"
   ]
  },
  {
   "cell_type": "code",
   "execution_count": 31,
   "id": "aeddff7e-5982-4e3a-8050-4709d41f277b",
   "metadata": {},
   "outputs": [
    {
     "name": "stderr",
     "output_type": "stream",
     "text": [
      "\u001b[32m2024-12-17 11:09:00.698\u001b[0m | \u001b[1mINFO    \u001b[0m | \u001b[36mst_evt._src.modules.models.aemet.utils_region\u001b[0m:\u001b[36mplot_static_global_variable\u001b[0m:\u001b[36m182\u001b[0m - \u001b[1mStarting Static Figures...\u001b[0m\n",
      "\u001b[32m2024-12-17 11:09:00.699\u001b[0m | \u001b[1mINFO    \u001b[0m | \u001b[36mst_evt._src.modules.models.aemet.utils_region\u001b[0m:\u001b[36mplot_static_global_variable\u001b[0m:\u001b[36m189\u001b[0m - \u001b[1mPlotting LOCATION_INTERCEPT_KERNEL_VARIANCE Density...\u001b[0m\n",
      "\u001b[32m2024-12-17 11:09:01.088\u001b[0m | \u001b[34m\u001b[1mDEBUG   \u001b[0m | \u001b[36mst_evt._src.modules.models.aemet.utils_region\u001b[0m:\u001b[36mplot_static_global_variable\u001b[0m:\u001b[36m202\u001b[0m - \u001b[34m\u001b[1mSaved Figure: \n",
      "/home/juanjohn/pool_data/dynev4eo/experiments/walkthrough/aemet/t2max/az_nonstationary_gp_mcmc_redfeten_trainnoise/results/figures/spain/location_intercept/posterior/model_params/location_intercept_kernel_variance_density.pdf\u001b[0m\n",
      "\u001b[32m2024-12-17 11:09:01.089\u001b[0m | \u001b[1mINFO    \u001b[0m | \u001b[36mst_evt._src.modules.models.aemet.utils_region\u001b[0m:\u001b[36mplot_static_global_variable\u001b[0m:\u001b[36m207\u001b[0m - \u001b[1mPlotting Parameter Traces...\u001b[0m\n",
      "\u001b[32m2024-12-17 11:09:01.445\u001b[0m | \u001b[34m\u001b[1mDEBUG   \u001b[0m | \u001b[36mst_evt._src.modules.models.aemet.utils_region\u001b[0m:\u001b[36mplot_static_global_variable\u001b[0m:\u001b[36m217\u001b[0m - \u001b[34m\u001b[1mSaved Figure: \n",
      "/home/juanjohn/pool_data/dynev4eo/experiments/walkthrough/aemet/t2max/az_nonstationary_gp_mcmc_redfeten_trainnoise/results/figures/spain/location_intercept/posterior/model_params/location_intercept_kernel_variance_trace.pdf\u001b[0m\n",
      "\u001b[32m2024-12-17 11:09:01.446\u001b[0m | \u001b[1mINFO    \u001b[0m | \u001b[36mst_evt._src.modules.models.aemet.utils_region\u001b[0m:\u001b[36mplot_static_global_variable\u001b[0m:\u001b[36m222\u001b[0m - \u001b[1mPlotting AutoCorrelation...\u001b[0m\n",
      "\u001b[32m2024-12-17 11:09:01.539\u001b[0m | \u001b[34m\u001b[1mDEBUG   \u001b[0m | \u001b[36mst_evt._src.modules.models.aemet.utils_region\u001b[0m:\u001b[36mplot_static_global_variable\u001b[0m:\u001b[36m234\u001b[0m - \u001b[34m\u001b[1mSaved Figure: \n",
      "/home/juanjohn/pool_data/dynev4eo/experiments/walkthrough/aemet/t2max/az_nonstationary_gp_mcmc_redfeten_trainnoise/results/figures/spain/location_intercept/posterior/model_params/location_intercept_kernel_variance_autocorr.pdf\u001b[0m\n",
      "\u001b[32m2024-12-17 11:09:01.539\u001b[0m | \u001b[1mINFO    \u001b[0m | \u001b[36mst_evt._src.modules.models.aemet.utils_region\u001b[0m:\u001b[36mplot_static_global_variable\u001b[0m:\u001b[36m237\u001b[0m - \u001b[1mPlotting ESS...\u001b[0m\n",
      "\u001b[32m2024-12-17 11:09:01.748\u001b[0m | \u001b[34m\u001b[1mDEBUG   \u001b[0m | \u001b[36mst_evt._src.modules.models.aemet.utils_region\u001b[0m:\u001b[36mplot_static_global_variable\u001b[0m:\u001b[36m249\u001b[0m - \u001b[34m\u001b[1mSaved Figure: \n",
      "/home/juanjohn/pool_data/dynev4eo/experiments/walkthrough/aemet/t2max/az_nonstationary_gp_mcmc_redfeten_trainnoise/results/figures/spain/location_intercept/posterior/model_params/location_intercept_kernel_variance_ess.pdf\u001b[0m\n"
     ]
    }
   ],
   "source": [
    "subfigures_path = Path(figures_path).joinpath(f\"location_intercept/posterior/model_params\")\n",
    "subfigures_path.mkdir(parents=True, exist_ok=True)\n",
    "\n",
    "utils_region.plot_static_global_variable(\n",
    "    idata,\n",
    "    figures_path=subfigures_path,\n",
    "    cbar_label=utils_region.VARIABLE_LABELS[PLOT_VARIABLE],\n",
    ")"
   ]
  },
  {
   "cell_type": "markdown",
   "id": "1a527862-ade8-46ac-87f1-327c1b83c32c",
   "metadata": {},
   "source": [
    "#### Location Intercept - Kernel Length Scale"
   ]
  },
  {
   "cell_type": "code",
   "execution_count": 32,
   "id": "e28b4f74-2400-4571-88b6-e2ac6e2da171",
   "metadata": {},
   "outputs": [],
   "source": [
    "PLOT_VARIABLE = \"location_intercept_kernel_scale\"\n",
    "VARIABLE = \"t2max\"\n",
    "COVARIATE = \"gmst\"\n",
    "num_samples = 5_000"
   ]
  },
  {
   "cell_type": "code",
   "execution_count": 33,
   "id": "6c0226d4-de0b-4b6d-aa82-24efaa4e68ab",
   "metadata": {},
   "outputs": [],
   "source": [
    "idata = az_ds.posterior[PLOT_VARIABLE]"
   ]
  },
  {
   "cell_type": "code",
   "execution_count": 34,
   "id": "80ffc16d-24f4-4049-9183-eb0ee55eaaba",
   "metadata": {},
   "outputs": [
    {
     "name": "stderr",
     "output_type": "stream",
     "text": [
      "\u001b[32m2024-12-17 11:09:01.848\u001b[0m | \u001b[1mINFO    \u001b[0m | \u001b[36mst_evt._src.modules.models.aemet.utils_region\u001b[0m:\u001b[36mplot_static_global_variable\u001b[0m:\u001b[36m182\u001b[0m - \u001b[1mStarting Static Figures...\u001b[0m\n",
      "\u001b[32m2024-12-17 11:09:01.848\u001b[0m | \u001b[1mINFO    \u001b[0m | \u001b[36mst_evt._src.modules.models.aemet.utils_region\u001b[0m:\u001b[36mplot_static_global_variable\u001b[0m:\u001b[36m189\u001b[0m - \u001b[1mPlotting LOCATION_INTERCEPT_KERNEL_SCALE_X Density...\u001b[0m\n",
      "\u001b[32m2024-12-17 11:09:02.029\u001b[0m | \u001b[34m\u001b[1mDEBUG   \u001b[0m | \u001b[36mst_evt._src.modules.models.aemet.utils_region\u001b[0m:\u001b[36mplot_static_global_variable\u001b[0m:\u001b[36m202\u001b[0m - \u001b[34m\u001b[1mSaved Figure: \n",
      "/home/juanjohn/pool_data/dynev4eo/experiments/walkthrough/aemet/t2max/az_nonstationary_gp_mcmc_redfeten_trainnoise/results/figures/spain/location_intercept/posterior/model_params/location_intercept_kernel_scale_x_density.pdf\u001b[0m\n",
      "\u001b[32m2024-12-17 11:09:02.029\u001b[0m | \u001b[1mINFO    \u001b[0m | \u001b[36mst_evt._src.modules.models.aemet.utils_region\u001b[0m:\u001b[36mplot_static_global_variable\u001b[0m:\u001b[36m207\u001b[0m - \u001b[1mPlotting Parameter Traces...\u001b[0m\n",
      "\u001b[32m2024-12-17 11:09:02.338\u001b[0m | \u001b[34m\u001b[1mDEBUG   \u001b[0m | \u001b[36mst_evt._src.modules.models.aemet.utils_region\u001b[0m:\u001b[36mplot_static_global_variable\u001b[0m:\u001b[36m217\u001b[0m - \u001b[34m\u001b[1mSaved Figure: \n",
      "/home/juanjohn/pool_data/dynev4eo/experiments/walkthrough/aemet/t2max/az_nonstationary_gp_mcmc_redfeten_trainnoise/results/figures/spain/location_intercept/posterior/model_params/location_intercept_kernel_scale_x_trace.pdf\u001b[0m\n",
      "\u001b[32m2024-12-17 11:09:02.338\u001b[0m | \u001b[1mINFO    \u001b[0m | \u001b[36mst_evt._src.modules.models.aemet.utils_region\u001b[0m:\u001b[36mplot_static_global_variable\u001b[0m:\u001b[36m222\u001b[0m - \u001b[1mPlotting AutoCorrelation...\u001b[0m\n",
      "\u001b[32m2024-12-17 11:09:02.430\u001b[0m | \u001b[34m\u001b[1mDEBUG   \u001b[0m | \u001b[36mst_evt._src.modules.models.aemet.utils_region\u001b[0m:\u001b[36mplot_static_global_variable\u001b[0m:\u001b[36m234\u001b[0m - \u001b[34m\u001b[1mSaved Figure: \n",
      "/home/juanjohn/pool_data/dynev4eo/experiments/walkthrough/aemet/t2max/az_nonstationary_gp_mcmc_redfeten_trainnoise/results/figures/spain/location_intercept/posterior/model_params/location_intercept_kernel_scale_x_autocorr.pdf\u001b[0m\n",
      "\u001b[32m2024-12-17 11:09:02.431\u001b[0m | \u001b[1mINFO    \u001b[0m | \u001b[36mst_evt._src.modules.models.aemet.utils_region\u001b[0m:\u001b[36mplot_static_global_variable\u001b[0m:\u001b[36m237\u001b[0m - \u001b[1mPlotting ESS...\u001b[0m\n",
      "\u001b[32m2024-12-17 11:09:02.647\u001b[0m | \u001b[34m\u001b[1mDEBUG   \u001b[0m | \u001b[36mst_evt._src.modules.models.aemet.utils_region\u001b[0m:\u001b[36mplot_static_global_variable\u001b[0m:\u001b[36m249\u001b[0m - \u001b[34m\u001b[1mSaved Figure: \n",
      "/home/juanjohn/pool_data/dynev4eo/experiments/walkthrough/aemet/t2max/az_nonstationary_gp_mcmc_redfeten_trainnoise/results/figures/spain/location_intercept/posterior/model_params/location_intercept_kernel_scale_x_ess.pdf\u001b[0m\n",
      "\u001b[32m2024-12-17 11:09:02.648\u001b[0m | \u001b[1mINFO    \u001b[0m | \u001b[36mst_evt._src.modules.models.aemet.utils_region\u001b[0m:\u001b[36mplot_static_global_variable\u001b[0m:\u001b[36m182\u001b[0m - \u001b[1mStarting Static Figures...\u001b[0m\n",
      "\u001b[32m2024-12-17 11:09:02.648\u001b[0m | \u001b[1mINFO    \u001b[0m | \u001b[36mst_evt._src.modules.models.aemet.utils_region\u001b[0m:\u001b[36mplot_static_global_variable\u001b[0m:\u001b[36m189\u001b[0m - \u001b[1mPlotting LOCATION_INTERCEPT_KERNEL_SCALE_Y Density...\u001b[0m\n",
      "\u001b[32m2024-12-17 11:09:02.825\u001b[0m | \u001b[34m\u001b[1mDEBUG   \u001b[0m | \u001b[36mst_evt._src.modules.models.aemet.utils_region\u001b[0m:\u001b[36mplot_static_global_variable\u001b[0m:\u001b[36m202\u001b[0m - \u001b[34m\u001b[1mSaved Figure: \n",
      "/home/juanjohn/pool_data/dynev4eo/experiments/walkthrough/aemet/t2max/az_nonstationary_gp_mcmc_redfeten_trainnoise/results/figures/spain/location_intercept/posterior/model_params/location_intercept_kernel_scale_y_density.pdf\u001b[0m\n",
      "\u001b[32m2024-12-17 11:09:02.826\u001b[0m | \u001b[1mINFO    \u001b[0m | \u001b[36mst_evt._src.modules.models.aemet.utils_region\u001b[0m:\u001b[36mplot_static_global_variable\u001b[0m:\u001b[36m207\u001b[0m - \u001b[1mPlotting Parameter Traces...\u001b[0m\n",
      "\u001b[32m2024-12-17 11:09:03.120\u001b[0m | \u001b[34m\u001b[1mDEBUG   \u001b[0m | \u001b[36mst_evt._src.modules.models.aemet.utils_region\u001b[0m:\u001b[36mplot_static_global_variable\u001b[0m:\u001b[36m217\u001b[0m - \u001b[34m\u001b[1mSaved Figure: \n",
      "/home/juanjohn/pool_data/dynev4eo/experiments/walkthrough/aemet/t2max/az_nonstationary_gp_mcmc_redfeten_trainnoise/results/figures/spain/location_intercept/posterior/model_params/location_intercept_kernel_scale_y_trace.pdf\u001b[0m\n",
      "\u001b[32m2024-12-17 11:09:03.120\u001b[0m | \u001b[1mINFO    \u001b[0m | \u001b[36mst_evt._src.modules.models.aemet.utils_region\u001b[0m:\u001b[36mplot_static_global_variable\u001b[0m:\u001b[36m222\u001b[0m - \u001b[1mPlotting AutoCorrelation...\u001b[0m\n",
      "\u001b[32m2024-12-17 11:09:03.212\u001b[0m | \u001b[34m\u001b[1mDEBUG   \u001b[0m | \u001b[36mst_evt._src.modules.models.aemet.utils_region\u001b[0m:\u001b[36mplot_static_global_variable\u001b[0m:\u001b[36m234\u001b[0m - \u001b[34m\u001b[1mSaved Figure: \n",
      "/home/juanjohn/pool_data/dynev4eo/experiments/walkthrough/aemet/t2max/az_nonstationary_gp_mcmc_redfeten_trainnoise/results/figures/spain/location_intercept/posterior/model_params/location_intercept_kernel_scale_y_autocorr.pdf\u001b[0m\n",
      "\u001b[32m2024-12-17 11:09:03.212\u001b[0m | \u001b[1mINFO    \u001b[0m | \u001b[36mst_evt._src.modules.models.aemet.utils_region\u001b[0m:\u001b[36mplot_static_global_variable\u001b[0m:\u001b[36m237\u001b[0m - \u001b[1mPlotting ESS...\u001b[0m\n",
      "\u001b[32m2024-12-17 11:09:03.415\u001b[0m | \u001b[34m\u001b[1mDEBUG   \u001b[0m | \u001b[36mst_evt._src.modules.models.aemet.utils_region\u001b[0m:\u001b[36mplot_static_global_variable\u001b[0m:\u001b[36m249\u001b[0m - \u001b[34m\u001b[1mSaved Figure: \n",
      "/home/juanjohn/pool_data/dynev4eo/experiments/walkthrough/aemet/t2max/az_nonstationary_gp_mcmc_redfeten_trainnoise/results/figures/spain/location_intercept/posterior/model_params/location_intercept_kernel_scale_y_ess.pdf\u001b[0m\n",
      "\u001b[32m2024-12-17 11:09:03.416\u001b[0m | \u001b[1mINFO    \u001b[0m | \u001b[36mst_evt._src.modules.models.aemet.utils_region\u001b[0m:\u001b[36mplot_static_global_variable\u001b[0m:\u001b[36m182\u001b[0m - \u001b[1mStarting Static Figures...\u001b[0m\n",
      "\u001b[32m2024-12-17 11:09:03.416\u001b[0m | \u001b[1mINFO    \u001b[0m | \u001b[36mst_evt._src.modules.models.aemet.utils_region\u001b[0m:\u001b[36mplot_static_global_variable\u001b[0m:\u001b[36m189\u001b[0m - \u001b[1mPlotting LOCATION_INTERCEPT_KERNEL_SCALE_Z Density...\u001b[0m\n",
      "\u001b[32m2024-12-17 11:09:03.591\u001b[0m | \u001b[34m\u001b[1mDEBUG   \u001b[0m | \u001b[36mst_evt._src.modules.models.aemet.utils_region\u001b[0m:\u001b[36mplot_static_global_variable\u001b[0m:\u001b[36m202\u001b[0m - \u001b[34m\u001b[1mSaved Figure: \n",
      "/home/juanjohn/pool_data/dynev4eo/experiments/walkthrough/aemet/t2max/az_nonstationary_gp_mcmc_redfeten_trainnoise/results/figures/spain/location_intercept/posterior/model_params/location_intercept_kernel_scale_z_density.pdf\u001b[0m\n",
      "\u001b[32m2024-12-17 11:09:03.592\u001b[0m | \u001b[1mINFO    \u001b[0m | \u001b[36mst_evt._src.modules.models.aemet.utils_region\u001b[0m:\u001b[36mplot_static_global_variable\u001b[0m:\u001b[36m207\u001b[0m - \u001b[1mPlotting Parameter Traces...\u001b[0m\n",
      "\u001b[32m2024-12-17 11:09:03.897\u001b[0m | \u001b[34m\u001b[1mDEBUG   \u001b[0m | \u001b[36mst_evt._src.modules.models.aemet.utils_region\u001b[0m:\u001b[36mplot_static_global_variable\u001b[0m:\u001b[36m217\u001b[0m - \u001b[34m\u001b[1mSaved Figure: \n",
      "/home/juanjohn/pool_data/dynev4eo/experiments/walkthrough/aemet/t2max/az_nonstationary_gp_mcmc_redfeten_trainnoise/results/figures/spain/location_intercept/posterior/model_params/location_intercept_kernel_scale_z_trace.pdf\u001b[0m\n",
      "\u001b[32m2024-12-17 11:09:03.898\u001b[0m | \u001b[1mINFO    \u001b[0m | \u001b[36mst_evt._src.modules.models.aemet.utils_region\u001b[0m:\u001b[36mplot_static_global_variable\u001b[0m:\u001b[36m222\u001b[0m - \u001b[1mPlotting AutoCorrelation...\u001b[0m\n",
      "\u001b[32m2024-12-17 11:09:03.989\u001b[0m | \u001b[34m\u001b[1mDEBUG   \u001b[0m | \u001b[36mst_evt._src.modules.models.aemet.utils_region\u001b[0m:\u001b[36mplot_static_global_variable\u001b[0m:\u001b[36m234\u001b[0m - \u001b[34m\u001b[1mSaved Figure: \n",
      "/home/juanjohn/pool_data/dynev4eo/experiments/walkthrough/aemet/t2max/az_nonstationary_gp_mcmc_redfeten_trainnoise/results/figures/spain/location_intercept/posterior/model_params/location_intercept_kernel_scale_z_autocorr.pdf\u001b[0m\n",
      "\u001b[32m2024-12-17 11:09:03.990\u001b[0m | \u001b[1mINFO    \u001b[0m | \u001b[36mst_evt._src.modules.models.aemet.utils_region\u001b[0m:\u001b[36mplot_static_global_variable\u001b[0m:\u001b[36m237\u001b[0m - \u001b[1mPlotting ESS...\u001b[0m\n",
      "\u001b[32m2024-12-17 11:09:04.191\u001b[0m | \u001b[34m\u001b[1mDEBUG   \u001b[0m | \u001b[36mst_evt._src.modules.models.aemet.utils_region\u001b[0m:\u001b[36mplot_static_global_variable\u001b[0m:\u001b[36m249\u001b[0m - \u001b[34m\u001b[1mSaved Figure: \n",
      "/home/juanjohn/pool_data/dynev4eo/experiments/walkthrough/aemet/t2max/az_nonstationary_gp_mcmc_redfeten_trainnoise/results/figures/spain/location_intercept/posterior/model_params/location_intercept_kernel_scale_z_ess.pdf\u001b[0m\n"
     ]
    }
   ],
   "source": [
    "subfigures_path = Path(figures_path).joinpath(f\"location_intercept/posterior/model_params\")\n",
    "subfigures_path.mkdir(parents=True, exist_ok=True)\n",
    "\n",
    "utils_region.plot_static_global_variable(\n",
    "    idata.sel(spherical=\"lon\").rename(f\"{PLOT_VARIABLE}_x\"),\n",
    "    figures_path=subfigures_path,\n",
    "    cbar_label=utils_region.VARIABLE_LABELS[f\"{PLOT_VARIABLE}_x\"],\n",
    ")\n",
    "utils_region.plot_static_global_variable(\n",
    "    idata.sel(spherical=\"lat\").rename(f\"{PLOT_VARIABLE}_y\"),\n",
    "    figures_path=subfigures_path,\n",
    "    cbar_label=utils_region.VARIABLE_LABELS[f\"{PLOT_VARIABLE}_y\"],\n",
    ")\n",
    "utils_region.plot_static_global_variable(\n",
    "    idata.sel(spherical=\"alt\").rename(f\"{PLOT_VARIABLE}_z\"),\n",
    "    figures_path=subfigures_path,\n",
    "    cbar_label=utils_region.VARIABLE_LABELS[f\"{PLOT_VARIABLE}_z\"],\n",
    ")"
   ]
  },
  {
   "cell_type": "code",
   "execution_count": null,
   "id": "65f68869-fc01-4879-be23-b42f76f84bb8",
   "metadata": {},
   "outputs": [],
   "source": []
  },
  {
   "cell_type": "markdown",
   "id": "c031c1af-2fb8-45d7-899c-988bd9b50242",
   "metadata": {},
   "source": [
    "#### Location Slope - Kernel Variance"
   ]
  },
  {
   "cell_type": "code",
   "execution_count": 35,
   "id": "35763eab-43d1-4f1f-a3f9-c2657570b787",
   "metadata": {},
   "outputs": [],
   "source": [
    "PLOT_VARIABLE = \"location_slope_kernel_variance\"\n",
    "VARIABLE = \"t2max\"\n",
    "COVARIATE = \"gmst\"\n",
    "num_samples = 5_000"
   ]
  },
  {
   "cell_type": "code",
   "execution_count": 36,
   "id": "4c5518a3-b97d-45a7-8bf6-f469ce871ef2",
   "metadata": {},
   "outputs": [],
   "source": [
    "# data_results = az.extract(az_ds, group=\"posterior\", num_samples=num_samples)\n",
    "# data_results = data_results.sortby(\"gmst\")\n",
    "idata = az_ds.posterior[PLOT_VARIABLE]"
   ]
  },
  {
   "cell_type": "code",
   "execution_count": 37,
   "id": "93670b07-ee62-4cb3-8492-16b9772421c0",
   "metadata": {},
   "outputs": [
    {
     "name": "stderr",
     "output_type": "stream",
     "text": [
      "\u001b[32m2024-12-17 11:09:04.579\u001b[0m | \u001b[1mINFO    \u001b[0m | \u001b[36mst_evt._src.modules.models.aemet.utils_region\u001b[0m:\u001b[36mplot_static_global_variable\u001b[0m:\u001b[36m182\u001b[0m - \u001b[1mStarting Static Figures...\u001b[0m\n",
      "\u001b[32m2024-12-17 11:09:04.579\u001b[0m | \u001b[1mINFO    \u001b[0m | \u001b[36mst_evt._src.modules.models.aemet.utils_region\u001b[0m:\u001b[36mplot_static_global_variable\u001b[0m:\u001b[36m189\u001b[0m - \u001b[1mPlotting LOCATION_SLOPE_KERNEL_VARIANCE Density...\u001b[0m\n",
      "\u001b[32m2024-12-17 11:09:04.746\u001b[0m | \u001b[34m\u001b[1mDEBUG   \u001b[0m | \u001b[36mst_evt._src.modules.models.aemet.utils_region\u001b[0m:\u001b[36mplot_static_global_variable\u001b[0m:\u001b[36m202\u001b[0m - \u001b[34m\u001b[1mSaved Figure: \n",
      "/home/juanjohn/pool_data/dynev4eo/experiments/walkthrough/aemet/t2max/az_nonstationary_gp_mcmc_redfeten_trainnoise/results/figures/spain/location_slope/posterior/model_params/location_slope_kernel_variance_density.pdf\u001b[0m\n",
      "\u001b[32m2024-12-17 11:09:04.747\u001b[0m | \u001b[1mINFO    \u001b[0m | \u001b[36mst_evt._src.modules.models.aemet.utils_region\u001b[0m:\u001b[36mplot_static_global_variable\u001b[0m:\u001b[36m207\u001b[0m - \u001b[1mPlotting Parameter Traces...\u001b[0m\n",
      "\u001b[32m2024-12-17 11:09:05.038\u001b[0m | \u001b[34m\u001b[1mDEBUG   \u001b[0m | \u001b[36mst_evt._src.modules.models.aemet.utils_region\u001b[0m:\u001b[36mplot_static_global_variable\u001b[0m:\u001b[36m217\u001b[0m - \u001b[34m\u001b[1mSaved Figure: \n",
      "/home/juanjohn/pool_data/dynev4eo/experiments/walkthrough/aemet/t2max/az_nonstationary_gp_mcmc_redfeten_trainnoise/results/figures/spain/location_slope/posterior/model_params/location_slope_kernel_variance_trace.pdf\u001b[0m\n",
      "\u001b[32m2024-12-17 11:09:05.038\u001b[0m | \u001b[1mINFO    \u001b[0m | \u001b[36mst_evt._src.modules.models.aemet.utils_region\u001b[0m:\u001b[36mplot_static_global_variable\u001b[0m:\u001b[36m222\u001b[0m - \u001b[1mPlotting AutoCorrelation...\u001b[0m\n",
      "\u001b[32m2024-12-17 11:09:05.132\u001b[0m | \u001b[34m\u001b[1mDEBUG   \u001b[0m | \u001b[36mst_evt._src.modules.models.aemet.utils_region\u001b[0m:\u001b[36mplot_static_global_variable\u001b[0m:\u001b[36m234\u001b[0m - \u001b[34m\u001b[1mSaved Figure: \n",
      "/home/juanjohn/pool_data/dynev4eo/experiments/walkthrough/aemet/t2max/az_nonstationary_gp_mcmc_redfeten_trainnoise/results/figures/spain/location_slope/posterior/model_params/location_slope_kernel_variance_autocorr.pdf\u001b[0m\n",
      "\u001b[32m2024-12-17 11:09:05.133\u001b[0m | \u001b[1mINFO    \u001b[0m | \u001b[36mst_evt._src.modules.models.aemet.utils_region\u001b[0m:\u001b[36mplot_static_global_variable\u001b[0m:\u001b[36m237\u001b[0m - \u001b[1mPlotting ESS...\u001b[0m\n",
      "\u001b[32m2024-12-17 11:09:05.352\u001b[0m | \u001b[34m\u001b[1mDEBUG   \u001b[0m | \u001b[36mst_evt._src.modules.models.aemet.utils_region\u001b[0m:\u001b[36mplot_static_global_variable\u001b[0m:\u001b[36m249\u001b[0m - \u001b[34m\u001b[1mSaved Figure: \n",
      "/home/juanjohn/pool_data/dynev4eo/experiments/walkthrough/aemet/t2max/az_nonstationary_gp_mcmc_redfeten_trainnoise/results/figures/spain/location_slope/posterior/model_params/location_slope_kernel_variance_ess.pdf\u001b[0m\n"
     ]
    }
   ],
   "source": [
    "subfigures_path = Path(figures_path).joinpath(f\"location_slope/posterior/model_params\")\n",
    "subfigures_path.mkdir(parents=True, exist_ok=True)\n",
    "\n",
    "utils_region.plot_static_global_variable(\n",
    "    idata,\n",
    "    figures_path=subfigures_path,\n",
    "    cbar_label=utils_region.VARIABLE_LABELS[PLOT_VARIABLE],\n",
    ")"
   ]
  },
  {
   "cell_type": "markdown",
   "id": "fc52acd7-5bc1-4098-8c3f-0d805863acc0",
   "metadata": {},
   "source": [
    "#### Location Slope - Kernel Length Scale"
   ]
  },
  {
   "cell_type": "code",
   "execution_count": 38,
   "id": "b181be8e-a397-47b9-841a-04637343909d",
   "metadata": {},
   "outputs": [],
   "source": [
    "PLOT_VARIABLE = \"location_slope_kernel_scale\"\n",
    "VARIABLE = \"t2max\"\n",
    "COVARIATE = \"gmst\"\n",
    "num_samples = 5_000"
   ]
  },
  {
   "cell_type": "code",
   "execution_count": 39,
   "id": "044393fd-423a-40e5-8f90-417b6b28fc5a",
   "metadata": {},
   "outputs": [],
   "source": [
    "# data_results = az.extract(az_ds, group=\"posterior\", num_samples=num_samples)\n",
    "# data_results = data_results.sortby(\"gmst\")\n",
    "idata = az_ds.posterior[PLOT_VARIABLE]"
   ]
  },
  {
   "cell_type": "code",
   "execution_count": 40,
   "id": "efe9263c-fd02-4b4d-a301-a02ce1af6af4",
   "metadata": {},
   "outputs": [
    {
     "name": "stderr",
     "output_type": "stream",
     "text": [
      "\u001b[32m2024-12-17 11:09:05.470\u001b[0m | \u001b[1mINFO    \u001b[0m | \u001b[36mst_evt._src.modules.models.aemet.utils_region\u001b[0m:\u001b[36mplot_static_global_variable\u001b[0m:\u001b[36m182\u001b[0m - \u001b[1mStarting Static Figures...\u001b[0m\n",
      "\u001b[32m2024-12-17 11:09:05.471\u001b[0m | \u001b[1mINFO    \u001b[0m | \u001b[36mst_evt._src.modules.models.aemet.utils_region\u001b[0m:\u001b[36mplot_static_global_variable\u001b[0m:\u001b[36m189\u001b[0m - \u001b[1mPlotting LOCATION_SLOPE_KERNEL_SCALE_X Density...\u001b[0m\n",
      "\u001b[32m2024-12-17 11:09:05.847\u001b[0m | \u001b[34m\u001b[1mDEBUG   \u001b[0m | \u001b[36mst_evt._src.modules.models.aemet.utils_region\u001b[0m:\u001b[36mplot_static_global_variable\u001b[0m:\u001b[36m202\u001b[0m - \u001b[34m\u001b[1mSaved Figure: \n",
      "/home/juanjohn/pool_data/dynev4eo/experiments/walkthrough/aemet/t2max/az_nonstationary_gp_mcmc_redfeten_trainnoise/results/figures/spain/location_slope/posterior/model_params/location_slope_kernel_scale_x_density.pdf\u001b[0m\n",
      "\u001b[32m2024-12-17 11:09:05.847\u001b[0m | \u001b[1mINFO    \u001b[0m | \u001b[36mst_evt._src.modules.models.aemet.utils_region\u001b[0m:\u001b[36mplot_static_global_variable\u001b[0m:\u001b[36m207\u001b[0m - \u001b[1mPlotting Parameter Traces...\u001b[0m\n",
      "\u001b[32m2024-12-17 11:09:06.215\u001b[0m | \u001b[34m\u001b[1mDEBUG   \u001b[0m | \u001b[36mst_evt._src.modules.models.aemet.utils_region\u001b[0m:\u001b[36mplot_static_global_variable\u001b[0m:\u001b[36m217\u001b[0m - \u001b[34m\u001b[1mSaved Figure: \n",
      "/home/juanjohn/pool_data/dynev4eo/experiments/walkthrough/aemet/t2max/az_nonstationary_gp_mcmc_redfeten_trainnoise/results/figures/spain/location_slope/posterior/model_params/location_slope_kernel_scale_x_trace.pdf\u001b[0m\n",
      "\u001b[32m2024-12-17 11:09:06.215\u001b[0m | \u001b[1mINFO    \u001b[0m | \u001b[36mst_evt._src.modules.models.aemet.utils_region\u001b[0m:\u001b[36mplot_static_global_variable\u001b[0m:\u001b[36m222\u001b[0m - \u001b[1mPlotting AutoCorrelation...\u001b[0m\n",
      "\u001b[32m2024-12-17 11:09:06.309\u001b[0m | \u001b[34m\u001b[1mDEBUG   \u001b[0m | \u001b[36mst_evt._src.modules.models.aemet.utils_region\u001b[0m:\u001b[36mplot_static_global_variable\u001b[0m:\u001b[36m234\u001b[0m - \u001b[34m\u001b[1mSaved Figure: \n",
      "/home/juanjohn/pool_data/dynev4eo/experiments/walkthrough/aemet/t2max/az_nonstationary_gp_mcmc_redfeten_trainnoise/results/figures/spain/location_slope/posterior/model_params/location_slope_kernel_scale_x_autocorr.pdf\u001b[0m\n",
      "\u001b[32m2024-12-17 11:09:06.310\u001b[0m | \u001b[1mINFO    \u001b[0m | \u001b[36mst_evt._src.modules.models.aemet.utils_region\u001b[0m:\u001b[36mplot_static_global_variable\u001b[0m:\u001b[36m237\u001b[0m - \u001b[1mPlotting ESS...\u001b[0m\n",
      "\u001b[32m2024-12-17 11:09:06.513\u001b[0m | \u001b[34m\u001b[1mDEBUG   \u001b[0m | \u001b[36mst_evt._src.modules.models.aemet.utils_region\u001b[0m:\u001b[36mplot_static_global_variable\u001b[0m:\u001b[36m249\u001b[0m - \u001b[34m\u001b[1mSaved Figure: \n",
      "/home/juanjohn/pool_data/dynev4eo/experiments/walkthrough/aemet/t2max/az_nonstationary_gp_mcmc_redfeten_trainnoise/results/figures/spain/location_slope/posterior/model_params/location_slope_kernel_scale_x_ess.pdf\u001b[0m\n",
      "\u001b[32m2024-12-17 11:09:06.514\u001b[0m | \u001b[1mINFO    \u001b[0m | \u001b[36mst_evt._src.modules.models.aemet.utils_region\u001b[0m:\u001b[36mplot_static_global_variable\u001b[0m:\u001b[36m182\u001b[0m - \u001b[1mStarting Static Figures...\u001b[0m\n",
      "\u001b[32m2024-12-17 11:09:06.515\u001b[0m | \u001b[1mINFO    \u001b[0m | \u001b[36mst_evt._src.modules.models.aemet.utils_region\u001b[0m:\u001b[36mplot_static_global_variable\u001b[0m:\u001b[36m189\u001b[0m - \u001b[1mPlotting LOCATION_SLOPE_KERNEL_SCALE_Y Density...\u001b[0m\n",
      "\u001b[32m2024-12-17 11:09:06.686\u001b[0m | \u001b[34m\u001b[1mDEBUG   \u001b[0m | \u001b[36mst_evt._src.modules.models.aemet.utils_region\u001b[0m:\u001b[36mplot_static_global_variable\u001b[0m:\u001b[36m202\u001b[0m - \u001b[34m\u001b[1mSaved Figure: \n",
      "/home/juanjohn/pool_data/dynev4eo/experiments/walkthrough/aemet/t2max/az_nonstationary_gp_mcmc_redfeten_trainnoise/results/figures/spain/location_slope/posterior/model_params/location_slope_kernel_scale_y_density.pdf\u001b[0m\n",
      "\u001b[32m2024-12-17 11:09:06.686\u001b[0m | \u001b[1mINFO    \u001b[0m | \u001b[36mst_evt._src.modules.models.aemet.utils_region\u001b[0m:\u001b[36mplot_static_global_variable\u001b[0m:\u001b[36m207\u001b[0m - \u001b[1mPlotting Parameter Traces...\u001b[0m\n",
      "\u001b[32m2024-12-17 11:09:06.988\u001b[0m | \u001b[34m\u001b[1mDEBUG   \u001b[0m | \u001b[36mst_evt._src.modules.models.aemet.utils_region\u001b[0m:\u001b[36mplot_static_global_variable\u001b[0m:\u001b[36m217\u001b[0m - \u001b[34m\u001b[1mSaved Figure: \n",
      "/home/juanjohn/pool_data/dynev4eo/experiments/walkthrough/aemet/t2max/az_nonstationary_gp_mcmc_redfeten_trainnoise/results/figures/spain/location_slope/posterior/model_params/location_slope_kernel_scale_y_trace.pdf\u001b[0m\n",
      "\u001b[32m2024-12-17 11:09:06.988\u001b[0m | \u001b[1mINFO    \u001b[0m | \u001b[36mst_evt._src.modules.models.aemet.utils_region\u001b[0m:\u001b[36mplot_static_global_variable\u001b[0m:\u001b[36m222\u001b[0m - \u001b[1mPlotting AutoCorrelation...\u001b[0m\n",
      "\u001b[32m2024-12-17 11:09:07.080\u001b[0m | \u001b[34m\u001b[1mDEBUG   \u001b[0m | \u001b[36mst_evt._src.modules.models.aemet.utils_region\u001b[0m:\u001b[36mplot_static_global_variable\u001b[0m:\u001b[36m234\u001b[0m - \u001b[34m\u001b[1mSaved Figure: \n",
      "/home/juanjohn/pool_data/dynev4eo/experiments/walkthrough/aemet/t2max/az_nonstationary_gp_mcmc_redfeten_trainnoise/results/figures/spain/location_slope/posterior/model_params/location_slope_kernel_scale_y_autocorr.pdf\u001b[0m\n",
      "\u001b[32m2024-12-17 11:09:07.081\u001b[0m | \u001b[1mINFO    \u001b[0m | \u001b[36mst_evt._src.modules.models.aemet.utils_region\u001b[0m:\u001b[36mplot_static_global_variable\u001b[0m:\u001b[36m237\u001b[0m - \u001b[1mPlotting ESS...\u001b[0m\n",
      "\u001b[32m2024-12-17 11:09:07.292\u001b[0m | \u001b[34m\u001b[1mDEBUG   \u001b[0m | \u001b[36mst_evt._src.modules.models.aemet.utils_region\u001b[0m:\u001b[36mplot_static_global_variable\u001b[0m:\u001b[36m249\u001b[0m - \u001b[34m\u001b[1mSaved Figure: \n",
      "/home/juanjohn/pool_data/dynev4eo/experiments/walkthrough/aemet/t2max/az_nonstationary_gp_mcmc_redfeten_trainnoise/results/figures/spain/location_slope/posterior/model_params/location_slope_kernel_scale_y_ess.pdf\u001b[0m\n",
      "\u001b[32m2024-12-17 11:09:07.293\u001b[0m | \u001b[1mINFO    \u001b[0m | \u001b[36mst_evt._src.modules.models.aemet.utils_region\u001b[0m:\u001b[36mplot_static_global_variable\u001b[0m:\u001b[36m182\u001b[0m - \u001b[1mStarting Static Figures...\u001b[0m\n",
      "\u001b[32m2024-12-17 11:09:07.293\u001b[0m | \u001b[1mINFO    \u001b[0m | \u001b[36mst_evt._src.modules.models.aemet.utils_region\u001b[0m:\u001b[36mplot_static_global_variable\u001b[0m:\u001b[36m189\u001b[0m - \u001b[1mPlotting LOCATION_SLOPE_KERNEL_SCALE_Z Density...\u001b[0m\n",
      "\u001b[32m2024-12-17 11:09:07.460\u001b[0m | \u001b[34m\u001b[1mDEBUG   \u001b[0m | \u001b[36mst_evt._src.modules.models.aemet.utils_region\u001b[0m:\u001b[36mplot_static_global_variable\u001b[0m:\u001b[36m202\u001b[0m - \u001b[34m\u001b[1mSaved Figure: \n",
      "/home/juanjohn/pool_data/dynev4eo/experiments/walkthrough/aemet/t2max/az_nonstationary_gp_mcmc_redfeten_trainnoise/results/figures/spain/location_slope/posterior/model_params/location_slope_kernel_scale_z_density.pdf\u001b[0m\n",
      "\u001b[32m2024-12-17 11:09:07.461\u001b[0m | \u001b[1mINFO    \u001b[0m | \u001b[36mst_evt._src.modules.models.aemet.utils_region\u001b[0m:\u001b[36mplot_static_global_variable\u001b[0m:\u001b[36m207\u001b[0m - \u001b[1mPlotting Parameter Traces...\u001b[0m\n",
      "\u001b[32m2024-12-17 11:09:07.828\u001b[0m | \u001b[34m\u001b[1mDEBUG   \u001b[0m | \u001b[36mst_evt._src.modules.models.aemet.utils_region\u001b[0m:\u001b[36mplot_static_global_variable\u001b[0m:\u001b[36m217\u001b[0m - \u001b[34m\u001b[1mSaved Figure: \n",
      "/home/juanjohn/pool_data/dynev4eo/experiments/walkthrough/aemet/t2max/az_nonstationary_gp_mcmc_redfeten_trainnoise/results/figures/spain/location_slope/posterior/model_params/location_slope_kernel_scale_z_trace.pdf\u001b[0m\n",
      "\u001b[32m2024-12-17 11:09:07.829\u001b[0m | \u001b[1mINFO    \u001b[0m | \u001b[36mst_evt._src.modules.models.aemet.utils_region\u001b[0m:\u001b[36mplot_static_global_variable\u001b[0m:\u001b[36m222\u001b[0m - \u001b[1mPlotting AutoCorrelation...\u001b[0m\n",
      "\u001b[32m2024-12-17 11:09:07.921\u001b[0m | \u001b[34m\u001b[1mDEBUG   \u001b[0m | \u001b[36mst_evt._src.modules.models.aemet.utils_region\u001b[0m:\u001b[36mplot_static_global_variable\u001b[0m:\u001b[36m234\u001b[0m - \u001b[34m\u001b[1mSaved Figure: \n",
      "/home/juanjohn/pool_data/dynev4eo/experiments/walkthrough/aemet/t2max/az_nonstationary_gp_mcmc_redfeten_trainnoise/results/figures/spain/location_slope/posterior/model_params/location_slope_kernel_scale_z_autocorr.pdf\u001b[0m\n",
      "\u001b[32m2024-12-17 11:09:07.921\u001b[0m | \u001b[1mINFO    \u001b[0m | \u001b[36mst_evt._src.modules.models.aemet.utils_region\u001b[0m:\u001b[36mplot_static_global_variable\u001b[0m:\u001b[36m237\u001b[0m - \u001b[1mPlotting ESS...\u001b[0m\n",
      "\u001b[32m2024-12-17 11:09:08.114\u001b[0m | \u001b[34m\u001b[1mDEBUG   \u001b[0m | \u001b[36mst_evt._src.modules.models.aemet.utils_region\u001b[0m:\u001b[36mplot_static_global_variable\u001b[0m:\u001b[36m249\u001b[0m - \u001b[34m\u001b[1mSaved Figure: \n",
      "/home/juanjohn/pool_data/dynev4eo/experiments/walkthrough/aemet/t2max/az_nonstationary_gp_mcmc_redfeten_trainnoise/results/figures/spain/location_slope/posterior/model_params/location_slope_kernel_scale_z_ess.pdf\u001b[0m\n"
     ]
    }
   ],
   "source": [
    "subfigures_path = Path(figures_path).joinpath(f\"location_slope/posterior/model_params\")\n",
    "subfigures_path.mkdir(parents=True, exist_ok=True)\n",
    "\n",
    "utils_region.plot_static_global_variable(\n",
    "    idata.sel(spherical=\"lon\").rename(f\"{PLOT_VARIABLE}_x\"),\n",
    "    figures_path=subfigures_path,\n",
    "    cbar_label=utils_region.VARIABLE_LABELS[f\"{PLOT_VARIABLE}_x\"],\n",
    ")\n",
    "utils_region.plot_static_global_variable(\n",
    "    idata.sel(spherical=\"lat\").rename(f\"{PLOT_VARIABLE}_y\"),\n",
    "    figures_path=subfigures_path,\n",
    "    cbar_label=utils_region.VARIABLE_LABELS[f\"{PLOT_VARIABLE}_y\"],\n",
    ")\n",
    "utils_region.plot_static_global_variable(\n",
    "    idata.sel(spherical=\"alt\").rename(f\"{PLOT_VARIABLE}_z\"),\n",
    "    figures_path=subfigures_path,\n",
    "    cbar_label=utils_region.VARIABLE_LABELS[f\"{PLOT_VARIABLE}_z\"],\n",
    ")"
   ]
  },
  {
   "cell_type": "markdown",
   "id": "b3a89f77-352a-4d91-9be5-b78b3cec8a97",
   "metadata": {},
   "source": [
    "#### Scale - kernel Variance"
   ]
  },
  {
   "cell_type": "code",
   "execution_count": 41,
   "id": "b33dbf2c-a4ed-4993-b2ea-de07be56005f",
   "metadata": {},
   "outputs": [],
   "source": [
    "PLOT_VARIABLE = \"scale_kernel_variance\"\n",
    "VARIABLE = \"t2max\"\n",
    "COVARIATE = \"gmst\"\n",
    "num_samples = 5_000"
   ]
  },
  {
   "cell_type": "code",
   "execution_count": 42,
   "id": "66faf09a-78fb-4c45-97e7-98e13730e2eb",
   "metadata": {},
   "outputs": [],
   "source": [
    "# data_results = az.extract(az_ds, group=\"posterior\", num_samples=num_samples)\n",
    "# data_results = data_results.sortby(\"gmst\")\n",
    "idata = az_ds.posterior[PLOT_VARIABLE]"
   ]
  },
  {
   "cell_type": "code",
   "execution_count": 43,
   "id": "ed7e80d1-47fc-4683-a7c3-c23bdb0d3e2d",
   "metadata": {},
   "outputs": [
    {
     "name": "stderr",
     "output_type": "stream",
     "text": [
      "\u001b[32m2024-12-17 11:09:08.212\u001b[0m | \u001b[1mINFO    \u001b[0m | \u001b[36mst_evt._src.modules.models.aemet.utils_region\u001b[0m:\u001b[36mplot_static_global_variable\u001b[0m:\u001b[36m182\u001b[0m - \u001b[1mStarting Static Figures...\u001b[0m\n",
      "\u001b[32m2024-12-17 11:09:08.213\u001b[0m | \u001b[1mINFO    \u001b[0m | \u001b[36mst_evt._src.modules.models.aemet.utils_region\u001b[0m:\u001b[36mplot_static_global_variable\u001b[0m:\u001b[36m189\u001b[0m - \u001b[1mPlotting SCALE_KERNEL_VARIANCE Density...\u001b[0m\n",
      "\u001b[32m2024-12-17 11:09:08.386\u001b[0m | \u001b[34m\u001b[1mDEBUG   \u001b[0m | \u001b[36mst_evt._src.modules.models.aemet.utils_region\u001b[0m:\u001b[36mplot_static_global_variable\u001b[0m:\u001b[36m202\u001b[0m - \u001b[34m\u001b[1mSaved Figure: \n",
      "/home/juanjohn/pool_data/dynev4eo/experiments/walkthrough/aemet/t2max/az_nonstationary_gp_mcmc_redfeten_trainnoise/results/figures/spain/scale/posterior/model_params/scale_kernel_variance_density.pdf\u001b[0m\n",
      "\u001b[32m2024-12-17 11:09:08.387\u001b[0m | \u001b[1mINFO    \u001b[0m | \u001b[36mst_evt._src.modules.models.aemet.utils_region\u001b[0m:\u001b[36mplot_static_global_variable\u001b[0m:\u001b[36m207\u001b[0m - \u001b[1mPlotting Parameter Traces...\u001b[0m\n",
      "\u001b[32m2024-12-17 11:09:08.730\u001b[0m | \u001b[34m\u001b[1mDEBUG   \u001b[0m | \u001b[36mst_evt._src.modules.models.aemet.utils_region\u001b[0m:\u001b[36mplot_static_global_variable\u001b[0m:\u001b[36m217\u001b[0m - \u001b[34m\u001b[1mSaved Figure: \n",
      "/home/juanjohn/pool_data/dynev4eo/experiments/walkthrough/aemet/t2max/az_nonstationary_gp_mcmc_redfeten_trainnoise/results/figures/spain/scale/posterior/model_params/scale_kernel_variance_trace.pdf\u001b[0m\n",
      "\u001b[32m2024-12-17 11:09:08.730\u001b[0m | \u001b[1mINFO    \u001b[0m | \u001b[36mst_evt._src.modules.models.aemet.utils_region\u001b[0m:\u001b[36mplot_static_global_variable\u001b[0m:\u001b[36m222\u001b[0m - \u001b[1mPlotting AutoCorrelation...\u001b[0m\n",
      "\u001b[32m2024-12-17 11:09:08.823\u001b[0m | \u001b[34m\u001b[1mDEBUG   \u001b[0m | \u001b[36mst_evt._src.modules.models.aemet.utils_region\u001b[0m:\u001b[36mplot_static_global_variable\u001b[0m:\u001b[36m234\u001b[0m - \u001b[34m\u001b[1mSaved Figure: \n",
      "/home/juanjohn/pool_data/dynev4eo/experiments/walkthrough/aemet/t2max/az_nonstationary_gp_mcmc_redfeten_trainnoise/results/figures/spain/scale/posterior/model_params/scale_kernel_variance_autocorr.pdf\u001b[0m\n",
      "\u001b[32m2024-12-17 11:09:08.823\u001b[0m | \u001b[1mINFO    \u001b[0m | \u001b[36mst_evt._src.modules.models.aemet.utils_region\u001b[0m:\u001b[36mplot_static_global_variable\u001b[0m:\u001b[36m237\u001b[0m - \u001b[1mPlotting ESS...\u001b[0m\n",
      "\u001b[32m2024-12-17 11:09:09.068\u001b[0m | \u001b[34m\u001b[1mDEBUG   \u001b[0m | \u001b[36mst_evt._src.modules.models.aemet.utils_region\u001b[0m:\u001b[36mplot_static_global_variable\u001b[0m:\u001b[36m249\u001b[0m - \u001b[34m\u001b[1mSaved Figure: \n",
      "/home/juanjohn/pool_data/dynev4eo/experiments/walkthrough/aemet/t2max/az_nonstationary_gp_mcmc_redfeten_trainnoise/results/figures/spain/scale/posterior/model_params/scale_kernel_variance_ess.pdf\u001b[0m\n"
     ]
    }
   ],
   "source": [
    "subfigures_path = Path(figures_path).joinpath(f\"scale/posterior/model_params/\")\n",
    "subfigures_path.mkdir(parents=True, exist_ok=True)\n",
    "\n",
    "utils_region.plot_static_global_variable(\n",
    "    idata,\n",
    "    figures_path=subfigures_path,\n",
    "    cbar_label=utils_region.VARIABLE_LABELS[PLOT_VARIABLE],\n",
    ")"
   ]
  },
  {
   "cell_type": "markdown",
   "id": "7d547f35-00e7-44f8-99d3-1bb9e044d3f2",
   "metadata": {},
   "source": [
    "#### Scale - Kernel Length Scale"
   ]
  },
  {
   "cell_type": "code",
   "execution_count": 44,
   "id": "445b7403-1851-4a26-ae2a-773e1fd1c401",
   "metadata": {},
   "outputs": [],
   "source": [
    "PLOT_VARIABLE = \"scale_kernel_scale\"\n",
    "VARIABLE = \"t2max\"\n",
    "COVARIATE = \"gmst\"\n",
    "num_samples = 5_000"
   ]
  },
  {
   "cell_type": "code",
   "execution_count": 45,
   "id": "df953c41-dd1a-4632-bcda-1c3f8dccd323",
   "metadata": {},
   "outputs": [],
   "source": [
    "# data_results = az.extract(az_ds, group=\"posterior\", num_samples=num_samples)\n",
    "# data_results = data_results.sortby(\"gmst\")\n",
    "idata = az_ds.posterior[PLOT_VARIABLE]"
   ]
  },
  {
   "cell_type": "code",
   "execution_count": 46,
   "id": "7ababff7-392c-47b1-8304-4e678cdac247",
   "metadata": {},
   "outputs": [
    {
     "name": "stderr",
     "output_type": "stream",
     "text": [
      "\u001b[32m2024-12-17 11:09:09.173\u001b[0m | \u001b[1mINFO    \u001b[0m | \u001b[36mst_evt._src.modules.models.aemet.utils_region\u001b[0m:\u001b[36mplot_static_global_variable\u001b[0m:\u001b[36m182\u001b[0m - \u001b[1mStarting Static Figures...\u001b[0m\n",
      "\u001b[32m2024-12-17 11:09:09.173\u001b[0m | \u001b[1mINFO    \u001b[0m | \u001b[36mst_evt._src.modules.models.aemet.utils_region\u001b[0m:\u001b[36mplot_static_global_variable\u001b[0m:\u001b[36m189\u001b[0m - \u001b[1mPlotting SCALE_KERNEL_SCALE_X Density...\u001b[0m\n",
      "\u001b[32m2024-12-17 11:09:09.356\u001b[0m | \u001b[34m\u001b[1mDEBUG   \u001b[0m | \u001b[36mst_evt._src.modules.models.aemet.utils_region\u001b[0m:\u001b[36mplot_static_global_variable\u001b[0m:\u001b[36m202\u001b[0m - \u001b[34m\u001b[1mSaved Figure: \n",
      "/home/juanjohn/pool_data/dynev4eo/experiments/walkthrough/aemet/t2max/az_nonstationary_gp_mcmc_redfeten_trainnoise/results/figures/spain/scale/posterior/model_params/scale_kernel_scale_x_density.pdf\u001b[0m\n",
      "\u001b[32m2024-12-17 11:09:09.357\u001b[0m | \u001b[1mINFO    \u001b[0m | \u001b[36mst_evt._src.modules.models.aemet.utils_region\u001b[0m:\u001b[36mplot_static_global_variable\u001b[0m:\u001b[36m207\u001b[0m - \u001b[1mPlotting Parameter Traces...\u001b[0m\n",
      "\u001b[32m2024-12-17 11:09:09.711\u001b[0m | \u001b[34m\u001b[1mDEBUG   \u001b[0m | \u001b[36mst_evt._src.modules.models.aemet.utils_region\u001b[0m:\u001b[36mplot_static_global_variable\u001b[0m:\u001b[36m217\u001b[0m - \u001b[34m\u001b[1mSaved Figure: \n",
      "/home/juanjohn/pool_data/dynev4eo/experiments/walkthrough/aemet/t2max/az_nonstationary_gp_mcmc_redfeten_trainnoise/results/figures/spain/scale/posterior/model_params/scale_kernel_scale_x_trace.pdf\u001b[0m\n",
      "\u001b[32m2024-12-17 11:09:09.711\u001b[0m | \u001b[1mINFO    \u001b[0m | \u001b[36mst_evt._src.modules.models.aemet.utils_region\u001b[0m:\u001b[36mplot_static_global_variable\u001b[0m:\u001b[36m222\u001b[0m - \u001b[1mPlotting AutoCorrelation...\u001b[0m\n",
      "\u001b[32m2024-12-17 11:09:09.802\u001b[0m | \u001b[34m\u001b[1mDEBUG   \u001b[0m | \u001b[36mst_evt._src.modules.models.aemet.utils_region\u001b[0m:\u001b[36mplot_static_global_variable\u001b[0m:\u001b[36m234\u001b[0m - \u001b[34m\u001b[1mSaved Figure: \n",
      "/home/juanjohn/pool_data/dynev4eo/experiments/walkthrough/aemet/t2max/az_nonstationary_gp_mcmc_redfeten_trainnoise/results/figures/spain/scale/posterior/model_params/scale_kernel_scale_x_autocorr.pdf\u001b[0m\n",
      "\u001b[32m2024-12-17 11:09:09.803\u001b[0m | \u001b[1mINFO    \u001b[0m | \u001b[36mst_evt._src.modules.models.aemet.utils_region\u001b[0m:\u001b[36mplot_static_global_variable\u001b[0m:\u001b[36m237\u001b[0m - \u001b[1mPlotting ESS...\u001b[0m\n",
      "\u001b[32m2024-12-17 11:09:10.024\u001b[0m | \u001b[34m\u001b[1mDEBUG   \u001b[0m | \u001b[36mst_evt._src.modules.models.aemet.utils_region\u001b[0m:\u001b[36mplot_static_global_variable\u001b[0m:\u001b[36m249\u001b[0m - \u001b[34m\u001b[1mSaved Figure: \n",
      "/home/juanjohn/pool_data/dynev4eo/experiments/walkthrough/aemet/t2max/az_nonstationary_gp_mcmc_redfeten_trainnoise/results/figures/spain/scale/posterior/model_params/scale_kernel_scale_x_ess.pdf\u001b[0m\n",
      "\u001b[32m2024-12-17 11:09:10.025\u001b[0m | \u001b[1mINFO    \u001b[0m | \u001b[36mst_evt._src.modules.models.aemet.utils_region\u001b[0m:\u001b[36mplot_static_global_variable\u001b[0m:\u001b[36m182\u001b[0m - \u001b[1mStarting Static Figures...\u001b[0m\n",
      "\u001b[32m2024-12-17 11:09:10.025\u001b[0m | \u001b[1mINFO    \u001b[0m | \u001b[36mst_evt._src.modules.models.aemet.utils_region\u001b[0m:\u001b[36mplot_static_global_variable\u001b[0m:\u001b[36m189\u001b[0m - \u001b[1mPlotting SCALE_KERNEL_SCALE_Y Density...\u001b[0m\n",
      "\u001b[32m2024-12-17 11:09:10.398\u001b[0m | \u001b[34m\u001b[1mDEBUG   \u001b[0m | \u001b[36mst_evt._src.modules.models.aemet.utils_region\u001b[0m:\u001b[36mplot_static_global_variable\u001b[0m:\u001b[36m202\u001b[0m - \u001b[34m\u001b[1mSaved Figure: \n",
      "/home/juanjohn/pool_data/dynev4eo/experiments/walkthrough/aemet/t2max/az_nonstationary_gp_mcmc_redfeten_trainnoise/results/figures/spain/scale/posterior/model_params/scale_kernel_scale_y_density.pdf\u001b[0m\n",
      "\u001b[32m2024-12-17 11:09:10.399\u001b[0m | \u001b[1mINFO    \u001b[0m | \u001b[36mst_evt._src.modules.models.aemet.utils_region\u001b[0m:\u001b[36mplot_static_global_variable\u001b[0m:\u001b[36m207\u001b[0m - \u001b[1mPlotting Parameter Traces...\u001b[0m\n",
      "\u001b[32m2024-12-17 11:09:10.765\u001b[0m | \u001b[34m\u001b[1mDEBUG   \u001b[0m | \u001b[36mst_evt._src.modules.models.aemet.utils_region\u001b[0m:\u001b[36mplot_static_global_variable\u001b[0m:\u001b[36m217\u001b[0m - \u001b[34m\u001b[1mSaved Figure: \n",
      "/home/juanjohn/pool_data/dynev4eo/experiments/walkthrough/aemet/t2max/az_nonstationary_gp_mcmc_redfeten_trainnoise/results/figures/spain/scale/posterior/model_params/scale_kernel_scale_y_trace.pdf\u001b[0m\n",
      "\u001b[32m2024-12-17 11:09:10.766\u001b[0m | \u001b[1mINFO    \u001b[0m | \u001b[36mst_evt._src.modules.models.aemet.utils_region\u001b[0m:\u001b[36mplot_static_global_variable\u001b[0m:\u001b[36m222\u001b[0m - \u001b[1mPlotting AutoCorrelation...\u001b[0m\n",
      "\u001b[32m2024-12-17 11:09:10.861\u001b[0m | \u001b[34m\u001b[1mDEBUG   \u001b[0m | \u001b[36mst_evt._src.modules.models.aemet.utils_region\u001b[0m:\u001b[36mplot_static_global_variable\u001b[0m:\u001b[36m234\u001b[0m - \u001b[34m\u001b[1mSaved Figure: \n",
      "/home/juanjohn/pool_data/dynev4eo/experiments/walkthrough/aemet/t2max/az_nonstationary_gp_mcmc_redfeten_trainnoise/results/figures/spain/scale/posterior/model_params/scale_kernel_scale_y_autocorr.pdf\u001b[0m\n",
      "\u001b[32m2024-12-17 11:09:10.862\u001b[0m | \u001b[1mINFO    \u001b[0m | \u001b[36mst_evt._src.modules.models.aemet.utils_region\u001b[0m:\u001b[36mplot_static_global_variable\u001b[0m:\u001b[36m237\u001b[0m - \u001b[1mPlotting ESS...\u001b[0m\n",
      "\u001b[32m2024-12-17 11:09:11.100\u001b[0m | \u001b[34m\u001b[1mDEBUG   \u001b[0m | \u001b[36mst_evt._src.modules.models.aemet.utils_region\u001b[0m:\u001b[36mplot_static_global_variable\u001b[0m:\u001b[36m249\u001b[0m - \u001b[34m\u001b[1mSaved Figure: \n",
      "/home/juanjohn/pool_data/dynev4eo/experiments/walkthrough/aemet/t2max/az_nonstationary_gp_mcmc_redfeten_trainnoise/results/figures/spain/scale/posterior/model_params/scale_kernel_scale_y_ess.pdf\u001b[0m\n",
      "\u001b[32m2024-12-17 11:09:11.101\u001b[0m | \u001b[1mINFO    \u001b[0m | \u001b[36mst_evt._src.modules.models.aemet.utils_region\u001b[0m:\u001b[36mplot_static_global_variable\u001b[0m:\u001b[36m182\u001b[0m - \u001b[1mStarting Static Figures...\u001b[0m\n",
      "\u001b[32m2024-12-17 11:09:11.102\u001b[0m | \u001b[1mINFO    \u001b[0m | \u001b[36mst_evt._src.modules.models.aemet.utils_region\u001b[0m:\u001b[36mplot_static_global_variable\u001b[0m:\u001b[36m189\u001b[0m - \u001b[1mPlotting SCALE_KERNEL_SCALE_Z Density...\u001b[0m\n",
      "\u001b[32m2024-12-17 11:09:11.278\u001b[0m | \u001b[34m\u001b[1mDEBUG   \u001b[0m | \u001b[36mst_evt._src.modules.models.aemet.utils_region\u001b[0m:\u001b[36mplot_static_global_variable\u001b[0m:\u001b[36m202\u001b[0m - \u001b[34m\u001b[1mSaved Figure: \n",
      "/home/juanjohn/pool_data/dynev4eo/experiments/walkthrough/aemet/t2max/az_nonstationary_gp_mcmc_redfeten_trainnoise/results/figures/spain/scale/posterior/model_params/scale_kernel_scale_z_density.pdf\u001b[0m\n",
      "\u001b[32m2024-12-17 11:09:11.278\u001b[0m | \u001b[1mINFO    \u001b[0m | \u001b[36mst_evt._src.modules.models.aemet.utils_region\u001b[0m:\u001b[36mplot_static_global_variable\u001b[0m:\u001b[36m207\u001b[0m - \u001b[1mPlotting Parameter Traces...\u001b[0m\n",
      "\u001b[32m2024-12-17 11:09:11.644\u001b[0m | \u001b[34m\u001b[1mDEBUG   \u001b[0m | \u001b[36mst_evt._src.modules.models.aemet.utils_region\u001b[0m:\u001b[36mplot_static_global_variable\u001b[0m:\u001b[36m217\u001b[0m - \u001b[34m\u001b[1mSaved Figure: \n",
      "/home/juanjohn/pool_data/dynev4eo/experiments/walkthrough/aemet/t2max/az_nonstationary_gp_mcmc_redfeten_trainnoise/results/figures/spain/scale/posterior/model_params/scale_kernel_scale_z_trace.pdf\u001b[0m\n",
      "\u001b[32m2024-12-17 11:09:11.644\u001b[0m | \u001b[1mINFO    \u001b[0m | \u001b[36mst_evt._src.modules.models.aemet.utils_region\u001b[0m:\u001b[36mplot_static_global_variable\u001b[0m:\u001b[36m222\u001b[0m - \u001b[1mPlotting AutoCorrelation...\u001b[0m\n",
      "\u001b[32m2024-12-17 11:09:11.743\u001b[0m | \u001b[34m\u001b[1mDEBUG   \u001b[0m | \u001b[36mst_evt._src.modules.models.aemet.utils_region\u001b[0m:\u001b[36mplot_static_global_variable\u001b[0m:\u001b[36m234\u001b[0m - \u001b[34m\u001b[1mSaved Figure: \n",
      "/home/juanjohn/pool_data/dynev4eo/experiments/walkthrough/aemet/t2max/az_nonstationary_gp_mcmc_redfeten_trainnoise/results/figures/spain/scale/posterior/model_params/scale_kernel_scale_z_autocorr.pdf\u001b[0m\n",
      "\u001b[32m2024-12-17 11:09:11.743\u001b[0m | \u001b[1mINFO    \u001b[0m | \u001b[36mst_evt._src.modules.models.aemet.utils_region\u001b[0m:\u001b[36mplot_static_global_variable\u001b[0m:\u001b[36m237\u001b[0m - \u001b[1mPlotting ESS...\u001b[0m\n",
      "\u001b[32m2024-12-17 11:09:11.969\u001b[0m | \u001b[34m\u001b[1mDEBUG   \u001b[0m | \u001b[36mst_evt._src.modules.models.aemet.utils_region\u001b[0m:\u001b[36mplot_static_global_variable\u001b[0m:\u001b[36m249\u001b[0m - \u001b[34m\u001b[1mSaved Figure: \n",
      "/home/juanjohn/pool_data/dynev4eo/experiments/walkthrough/aemet/t2max/az_nonstationary_gp_mcmc_redfeten_trainnoise/results/figures/spain/scale/posterior/model_params/scale_kernel_scale_z_ess.pdf\u001b[0m\n"
     ]
    }
   ],
   "source": [
    "subfigures_path = Path(figures_path).joinpath(f\"scale/posterior/model_params\")\n",
    "subfigures_path.mkdir(parents=True, exist_ok=True)\n",
    "\n",
    "utils_region.plot_static_global_variable(\n",
    "    idata.sel(spherical=\"lon\").rename(f\"{PLOT_VARIABLE}_x\"),\n",
    "    figures_path=subfigures_path,\n",
    "    cbar_label=utils_region.VARIABLE_LABELS[f\"{PLOT_VARIABLE}_x\"],\n",
    ")\n",
    "utils_region.plot_static_global_variable(\n",
    "    idata.sel(spherical=\"lat\").rename(f\"{PLOT_VARIABLE}_y\"),\n",
    "    figures_path=subfigures_path,\n",
    "    cbar_label=utils_region.VARIABLE_LABELS[f\"{PLOT_VARIABLE}_y\"],\n",
    ")\n",
    "utils_region.plot_static_global_variable(\n",
    "    idata.sel(spherical=\"alt\").rename(f\"{PLOT_VARIABLE}_z\"),\n",
    "    figures_path=subfigures_path,\n",
    "    cbar_label=utils_region.VARIABLE_LABELS[f\"{PLOT_VARIABLE}_z\"],\n",
    ")"
   ]
  },
  {
   "cell_type": "markdown",
   "id": "f931a620-1e0e-48f8-87ad-58cc8c78c070",
   "metadata": {},
   "source": [
    "### Mean Parameters"
   ]
  },
  {
   "cell_type": "markdown",
   "id": "30075e2c-8dc0-46d2-be3b-6def20ce6eae",
   "metadata": {},
   "source": [
    "#### Location Intercept - Mean Intercept"
   ]
  },
  {
   "cell_type": "code",
   "execution_count": 47,
   "id": "75b1ac22-1636-4ab7-ab14-be1ea14c68a7",
   "metadata": {},
   "outputs": [],
   "source": [
    "PLOT_VARIABLE = \"location_intercept_mean_intercept\"\n",
    "VARIABLE = \"t2max\"\n",
    "COVARIATE = \"gmst\"\n",
    "num_samples = 5_000"
   ]
  },
  {
   "cell_type": "code",
   "execution_count": 49,
   "id": "18498cdf-f495-4059-b19b-4940d26f3956",
   "metadata": {},
   "outputs": [],
   "source": [
    "# data_results = az.extract(az_ds, group=\"posterior\", num_samples=num_samples)\n",
    "# data_results = data_results.sortby(\"gmst\")\n",
    "idata = az_ds.posterior[PLOT_VARIABLE]"
   ]
  },
  {
   "cell_type": "code",
   "execution_count": 50,
   "id": "2827c771-116c-4249-9220-82d147e13170",
   "metadata": {},
   "outputs": [
    {
     "name": "stderr",
     "output_type": "stream",
     "text": [
      "\u001b[32m2024-12-17 11:09:28.922\u001b[0m | \u001b[1mINFO    \u001b[0m | \u001b[36mst_evt._src.modules.models.aemet.utils_region\u001b[0m:\u001b[36mplot_static_global_variable\u001b[0m:\u001b[36m182\u001b[0m - \u001b[1mStarting Static Figures...\u001b[0m\n",
      "\u001b[32m2024-12-17 11:09:28.923\u001b[0m | \u001b[1mINFO    \u001b[0m | \u001b[36mst_evt._src.modules.models.aemet.utils_region\u001b[0m:\u001b[36mplot_static_global_variable\u001b[0m:\u001b[36m189\u001b[0m - \u001b[1mPlotting LOCATION_INTERCEPT_MEAN_INTERCEPT Density...\u001b[0m\n",
      "\u001b[32m2024-12-17 11:09:29.095\u001b[0m | \u001b[34m\u001b[1mDEBUG   \u001b[0m | \u001b[36mst_evt._src.modules.models.aemet.utils_region\u001b[0m:\u001b[36mplot_static_global_variable\u001b[0m:\u001b[36m202\u001b[0m - \u001b[34m\u001b[1mSaved Figure: \n",
      "/home/juanjohn/pool_data/dynev4eo/experiments/walkthrough/aemet/t2max/az_nonstationary_gp_mcmc_redfeten_trainnoise/results/figures/spain/location_intercept/posterior/model_params/location_intercept_mean_intercept_density.pdf\u001b[0m\n",
      "\u001b[32m2024-12-17 11:09:29.096\u001b[0m | \u001b[1mINFO    \u001b[0m | \u001b[36mst_evt._src.modules.models.aemet.utils_region\u001b[0m:\u001b[36mplot_static_global_variable\u001b[0m:\u001b[36m207\u001b[0m - \u001b[1mPlotting Parameter Traces...\u001b[0m\n",
      "\u001b[32m2024-12-17 11:09:29.389\u001b[0m | \u001b[34m\u001b[1mDEBUG   \u001b[0m | \u001b[36mst_evt._src.modules.models.aemet.utils_region\u001b[0m:\u001b[36mplot_static_global_variable\u001b[0m:\u001b[36m217\u001b[0m - \u001b[34m\u001b[1mSaved Figure: \n",
      "/home/juanjohn/pool_data/dynev4eo/experiments/walkthrough/aemet/t2max/az_nonstationary_gp_mcmc_redfeten_trainnoise/results/figures/spain/location_intercept/posterior/model_params/location_intercept_mean_intercept_trace.pdf\u001b[0m\n",
      "\u001b[32m2024-12-17 11:09:29.389\u001b[0m | \u001b[1mINFO    \u001b[0m | \u001b[36mst_evt._src.modules.models.aemet.utils_region\u001b[0m:\u001b[36mplot_static_global_variable\u001b[0m:\u001b[36m222\u001b[0m - \u001b[1mPlotting AutoCorrelation...\u001b[0m\n",
      "\u001b[32m2024-12-17 11:09:29.484\u001b[0m | \u001b[34m\u001b[1mDEBUG   \u001b[0m | \u001b[36mst_evt._src.modules.models.aemet.utils_region\u001b[0m:\u001b[36mplot_static_global_variable\u001b[0m:\u001b[36m234\u001b[0m - \u001b[34m\u001b[1mSaved Figure: \n",
      "/home/juanjohn/pool_data/dynev4eo/experiments/walkthrough/aemet/t2max/az_nonstationary_gp_mcmc_redfeten_trainnoise/results/figures/spain/location_intercept/posterior/model_params/location_intercept_mean_intercept_autocorr.pdf\u001b[0m\n",
      "\u001b[32m2024-12-17 11:09:29.485\u001b[0m | \u001b[1mINFO    \u001b[0m | \u001b[36mst_evt._src.modules.models.aemet.utils_region\u001b[0m:\u001b[36mplot_static_global_variable\u001b[0m:\u001b[36m237\u001b[0m - \u001b[1mPlotting ESS...\u001b[0m\n",
      "\u001b[32m2024-12-17 11:09:29.740\u001b[0m | \u001b[34m\u001b[1mDEBUG   \u001b[0m | \u001b[36mst_evt._src.modules.models.aemet.utils_region\u001b[0m:\u001b[36mplot_static_global_variable\u001b[0m:\u001b[36m249\u001b[0m - \u001b[34m\u001b[1mSaved Figure: \n",
      "/home/juanjohn/pool_data/dynev4eo/experiments/walkthrough/aemet/t2max/az_nonstationary_gp_mcmc_redfeten_trainnoise/results/figures/spain/location_intercept/posterior/model_params/location_intercept_mean_intercept_ess.pdf\u001b[0m\n"
     ]
    }
   ],
   "source": [
    "subfigures_path = Path(figures_path).joinpath(f\"location_intercept/posterior/model_params\")\n",
    "subfigures_path.mkdir(parents=True, exist_ok=True)\n",
    "\n",
    "utils_region.plot_static_global_variable(\n",
    "    idata,\n",
    "    figures_path=subfigures_path,\n",
    "    cbar_label=utils_region.VARIABLE_LABELS[PLOT_VARIABLE],\n",
    ")"
   ]
  },
  {
   "cell_type": "markdown",
   "id": "4182b8df-ed92-4a10-bb5a-40cf42c4a21a",
   "metadata": {},
   "source": [
    "#### Location Intercept - Mean Slope"
   ]
  },
  {
   "cell_type": "code",
   "execution_count": 51,
   "id": "15edaaba-f53a-4299-9206-a46c0963bec5",
   "metadata": {},
   "outputs": [],
   "source": [
    "PLOT_VARIABLE = \"location_intercept_mean_slope\"\n",
    "VARIABLE = \"t2max\"\n",
    "COVARIATE = \"gmst\"\n",
    "num_samples = 5_000"
   ]
  },
  {
   "cell_type": "code",
   "execution_count": 52,
   "id": "afc27ab7-465f-4d9a-aa78-53120f463c61",
   "metadata": {},
   "outputs": [],
   "source": [
    "# data_results = az.extract(az_ds, group=\"posterior\", num_samples=num_samples)\n",
    "# data_results = data_results.sortby(\"gmst\")\n",
    "idata = az_ds.posterior[PLOT_VARIABLE]"
   ]
  },
  {
   "cell_type": "code",
   "execution_count": 53,
   "id": "32edcb56-9d2a-400e-9219-9cc0b3ad9ca0",
   "metadata": {},
   "outputs": [
    {
     "name": "stderr",
     "output_type": "stream",
     "text": [
      "\u001b[32m2024-12-17 11:09:30.862\u001b[0m | \u001b[1mINFO    \u001b[0m | \u001b[36mst_evt._src.modules.models.aemet.utils_region\u001b[0m:\u001b[36mplot_static_global_variable\u001b[0m:\u001b[36m182\u001b[0m - \u001b[1mStarting Static Figures...\u001b[0m\n",
      "\u001b[32m2024-12-17 11:09:30.862\u001b[0m | \u001b[1mINFO    \u001b[0m | \u001b[36mst_evt._src.modules.models.aemet.utils_region\u001b[0m:\u001b[36mplot_static_global_variable\u001b[0m:\u001b[36m189\u001b[0m - \u001b[1mPlotting LOCATION_INTERCEPT_MEAN_SLOPE_X Density...\u001b[0m\n",
      "\u001b[32m2024-12-17 11:09:31.044\u001b[0m | \u001b[34m\u001b[1mDEBUG   \u001b[0m | \u001b[36mst_evt._src.modules.models.aemet.utils_region\u001b[0m:\u001b[36mplot_static_global_variable\u001b[0m:\u001b[36m202\u001b[0m - \u001b[34m\u001b[1mSaved Figure: \n",
      "/home/juanjohn/pool_data/dynev4eo/experiments/walkthrough/aemet/t2max/az_nonstationary_gp_mcmc_redfeten_trainnoise/results/figures/spain/location_intercept/posterior/model_params/location_intercept_mean_slope_x_density.pdf\u001b[0m\n",
      "\u001b[32m2024-12-17 11:09:31.044\u001b[0m | \u001b[1mINFO    \u001b[0m | \u001b[36mst_evt._src.modules.models.aemet.utils_region\u001b[0m:\u001b[36mplot_static_global_variable\u001b[0m:\u001b[36m207\u001b[0m - \u001b[1mPlotting Parameter Traces...\u001b[0m\n",
      "\u001b[32m2024-12-17 11:09:31.373\u001b[0m | \u001b[34m\u001b[1mDEBUG   \u001b[0m | \u001b[36mst_evt._src.modules.models.aemet.utils_region\u001b[0m:\u001b[36mplot_static_global_variable\u001b[0m:\u001b[36m217\u001b[0m - \u001b[34m\u001b[1mSaved Figure: \n",
      "/home/juanjohn/pool_data/dynev4eo/experiments/walkthrough/aemet/t2max/az_nonstationary_gp_mcmc_redfeten_trainnoise/results/figures/spain/location_intercept/posterior/model_params/location_intercept_mean_slope_x_trace.pdf\u001b[0m\n",
      "\u001b[32m2024-12-17 11:09:31.373\u001b[0m | \u001b[1mINFO    \u001b[0m | \u001b[36mst_evt._src.modules.models.aemet.utils_region\u001b[0m:\u001b[36mplot_static_global_variable\u001b[0m:\u001b[36m222\u001b[0m - \u001b[1mPlotting AutoCorrelation...\u001b[0m\n",
      "\u001b[32m2024-12-17 11:09:31.466\u001b[0m | \u001b[34m\u001b[1mDEBUG   \u001b[0m | \u001b[36mst_evt._src.modules.models.aemet.utils_region\u001b[0m:\u001b[36mplot_static_global_variable\u001b[0m:\u001b[36m234\u001b[0m - \u001b[34m\u001b[1mSaved Figure: \n",
      "/home/juanjohn/pool_data/dynev4eo/experiments/walkthrough/aemet/t2max/az_nonstationary_gp_mcmc_redfeten_trainnoise/results/figures/spain/location_intercept/posterior/model_params/location_intercept_mean_slope_x_autocorr.pdf\u001b[0m\n",
      "\u001b[32m2024-12-17 11:09:31.467\u001b[0m | \u001b[1mINFO    \u001b[0m | \u001b[36mst_evt._src.modules.models.aemet.utils_region\u001b[0m:\u001b[36mplot_static_global_variable\u001b[0m:\u001b[36m237\u001b[0m - \u001b[1mPlotting ESS...\u001b[0m\n",
      "\u001b[32m2024-12-17 11:09:31.678\u001b[0m | \u001b[34m\u001b[1mDEBUG   \u001b[0m | \u001b[36mst_evt._src.modules.models.aemet.utils_region\u001b[0m:\u001b[36mplot_static_global_variable\u001b[0m:\u001b[36m249\u001b[0m - \u001b[34m\u001b[1mSaved Figure: \n",
      "/home/juanjohn/pool_data/dynev4eo/experiments/walkthrough/aemet/t2max/az_nonstationary_gp_mcmc_redfeten_trainnoise/results/figures/spain/location_intercept/posterior/model_params/location_intercept_mean_slope_x_ess.pdf\u001b[0m\n",
      "\u001b[32m2024-12-17 11:09:31.678\u001b[0m | \u001b[1mINFO    \u001b[0m | \u001b[36mst_evt._src.modules.models.aemet.utils_region\u001b[0m:\u001b[36mplot_static_global_variable\u001b[0m:\u001b[36m182\u001b[0m - \u001b[1mStarting Static Figures...\u001b[0m\n",
      "\u001b[32m2024-12-17 11:09:31.679\u001b[0m | \u001b[1mINFO    \u001b[0m | \u001b[36mst_evt._src.modules.models.aemet.utils_region\u001b[0m:\u001b[36mplot_static_global_variable\u001b[0m:\u001b[36m189\u001b[0m - \u001b[1mPlotting LOCATION_INTERCEPT_MEAN_SLOPE_Y Density...\u001b[0m\n",
      "\u001b[32m2024-12-17 11:09:31.848\u001b[0m | \u001b[34m\u001b[1mDEBUG   \u001b[0m | \u001b[36mst_evt._src.modules.models.aemet.utils_region\u001b[0m:\u001b[36mplot_static_global_variable\u001b[0m:\u001b[36m202\u001b[0m - \u001b[34m\u001b[1mSaved Figure: \n",
      "/home/juanjohn/pool_data/dynev4eo/experiments/walkthrough/aemet/t2max/az_nonstationary_gp_mcmc_redfeten_trainnoise/results/figures/spain/location_intercept/posterior/model_params/location_intercept_mean_slope_y_density.pdf\u001b[0m\n",
      "\u001b[32m2024-12-17 11:09:31.848\u001b[0m | \u001b[1mINFO    \u001b[0m | \u001b[36mst_evt._src.modules.models.aemet.utils_region\u001b[0m:\u001b[36mplot_static_global_variable\u001b[0m:\u001b[36m207\u001b[0m - \u001b[1mPlotting Parameter Traces...\u001b[0m\n",
      "\u001b[32m2024-12-17 11:09:32.141\u001b[0m | \u001b[34m\u001b[1mDEBUG   \u001b[0m | \u001b[36mst_evt._src.modules.models.aemet.utils_region\u001b[0m:\u001b[36mplot_static_global_variable\u001b[0m:\u001b[36m217\u001b[0m - \u001b[34m\u001b[1mSaved Figure: \n",
      "/home/juanjohn/pool_data/dynev4eo/experiments/walkthrough/aemet/t2max/az_nonstationary_gp_mcmc_redfeten_trainnoise/results/figures/spain/location_intercept/posterior/model_params/location_intercept_mean_slope_y_trace.pdf\u001b[0m\n",
      "\u001b[32m2024-12-17 11:09:32.142\u001b[0m | \u001b[1mINFO    \u001b[0m | \u001b[36mst_evt._src.modules.models.aemet.utils_region\u001b[0m:\u001b[36mplot_static_global_variable\u001b[0m:\u001b[36m222\u001b[0m - \u001b[1mPlotting AutoCorrelation...\u001b[0m\n",
      "\u001b[32m2024-12-17 11:09:32.234\u001b[0m | \u001b[34m\u001b[1mDEBUG   \u001b[0m | \u001b[36mst_evt._src.modules.models.aemet.utils_region\u001b[0m:\u001b[36mplot_static_global_variable\u001b[0m:\u001b[36m234\u001b[0m - \u001b[34m\u001b[1mSaved Figure: \n",
      "/home/juanjohn/pool_data/dynev4eo/experiments/walkthrough/aemet/t2max/az_nonstationary_gp_mcmc_redfeten_trainnoise/results/figures/spain/location_intercept/posterior/model_params/location_intercept_mean_slope_y_autocorr.pdf\u001b[0m\n",
      "\u001b[32m2024-12-17 11:09:32.235\u001b[0m | \u001b[1mINFO    \u001b[0m | \u001b[36mst_evt._src.modules.models.aemet.utils_region\u001b[0m:\u001b[36mplot_static_global_variable\u001b[0m:\u001b[36m237\u001b[0m - \u001b[1mPlotting ESS...\u001b[0m\n",
      "\u001b[32m2024-12-17 11:09:32.470\u001b[0m | \u001b[34m\u001b[1mDEBUG   \u001b[0m | \u001b[36mst_evt._src.modules.models.aemet.utils_region\u001b[0m:\u001b[36mplot_static_global_variable\u001b[0m:\u001b[36m249\u001b[0m - \u001b[34m\u001b[1mSaved Figure: \n",
      "/home/juanjohn/pool_data/dynev4eo/experiments/walkthrough/aemet/t2max/az_nonstationary_gp_mcmc_redfeten_trainnoise/results/figures/spain/location_intercept/posterior/model_params/location_intercept_mean_slope_y_ess.pdf\u001b[0m\n",
      "\u001b[32m2024-12-17 11:09:32.470\u001b[0m | \u001b[1mINFO    \u001b[0m | \u001b[36mst_evt._src.modules.models.aemet.utils_region\u001b[0m:\u001b[36mplot_static_global_variable\u001b[0m:\u001b[36m182\u001b[0m - \u001b[1mStarting Static Figures...\u001b[0m\n",
      "\u001b[32m2024-12-17 11:09:32.471\u001b[0m | \u001b[1mINFO    \u001b[0m | \u001b[36mst_evt._src.modules.models.aemet.utils_region\u001b[0m:\u001b[36mplot_static_global_variable\u001b[0m:\u001b[36m189\u001b[0m - \u001b[1mPlotting LOCATION_INTERCEPT_MEAN_SLOPE_Z Density...\u001b[0m\n",
      "\u001b[32m2024-12-17 11:09:32.643\u001b[0m | \u001b[34m\u001b[1mDEBUG   \u001b[0m | \u001b[36mst_evt._src.modules.models.aemet.utils_region\u001b[0m:\u001b[36mplot_static_global_variable\u001b[0m:\u001b[36m202\u001b[0m - \u001b[34m\u001b[1mSaved Figure: \n",
      "/home/juanjohn/pool_data/dynev4eo/experiments/walkthrough/aemet/t2max/az_nonstationary_gp_mcmc_redfeten_trainnoise/results/figures/spain/location_intercept/posterior/model_params/location_intercept_mean_slope_z_density.pdf\u001b[0m\n",
      "\u001b[32m2024-12-17 11:09:32.643\u001b[0m | \u001b[1mINFO    \u001b[0m | \u001b[36mst_evt._src.modules.models.aemet.utils_region\u001b[0m:\u001b[36mplot_static_global_variable\u001b[0m:\u001b[36m207\u001b[0m - \u001b[1mPlotting Parameter Traces...\u001b[0m\n",
      "\u001b[32m2024-12-17 11:09:32.965\u001b[0m | \u001b[34m\u001b[1mDEBUG   \u001b[0m | \u001b[36mst_evt._src.modules.models.aemet.utils_region\u001b[0m:\u001b[36mplot_static_global_variable\u001b[0m:\u001b[36m217\u001b[0m - \u001b[34m\u001b[1mSaved Figure: \n",
      "/home/juanjohn/pool_data/dynev4eo/experiments/walkthrough/aemet/t2max/az_nonstationary_gp_mcmc_redfeten_trainnoise/results/figures/spain/location_intercept/posterior/model_params/location_intercept_mean_slope_z_trace.pdf\u001b[0m\n",
      "\u001b[32m2024-12-17 11:09:32.966\u001b[0m | \u001b[1mINFO    \u001b[0m | \u001b[36mst_evt._src.modules.models.aemet.utils_region\u001b[0m:\u001b[36mplot_static_global_variable\u001b[0m:\u001b[36m222\u001b[0m - \u001b[1mPlotting AutoCorrelation...\u001b[0m\n",
      "\u001b[32m2024-12-17 11:09:33.061\u001b[0m | \u001b[34m\u001b[1mDEBUG   \u001b[0m | \u001b[36mst_evt._src.modules.models.aemet.utils_region\u001b[0m:\u001b[36mplot_static_global_variable\u001b[0m:\u001b[36m234\u001b[0m - \u001b[34m\u001b[1mSaved Figure: \n",
      "/home/juanjohn/pool_data/dynev4eo/experiments/walkthrough/aemet/t2max/az_nonstationary_gp_mcmc_redfeten_trainnoise/results/figures/spain/location_intercept/posterior/model_params/location_intercept_mean_slope_z_autocorr.pdf\u001b[0m\n",
      "\u001b[32m2024-12-17 11:09:33.061\u001b[0m | \u001b[1mINFO    \u001b[0m | \u001b[36mst_evt._src.modules.models.aemet.utils_region\u001b[0m:\u001b[36mplot_static_global_variable\u001b[0m:\u001b[36m237\u001b[0m - \u001b[1mPlotting ESS...\u001b[0m\n",
      "\u001b[32m2024-12-17 11:09:33.269\u001b[0m | \u001b[34m\u001b[1mDEBUG   \u001b[0m | \u001b[36mst_evt._src.modules.models.aemet.utils_region\u001b[0m:\u001b[36mplot_static_global_variable\u001b[0m:\u001b[36m249\u001b[0m - \u001b[34m\u001b[1mSaved Figure: \n",
      "/home/juanjohn/pool_data/dynev4eo/experiments/walkthrough/aemet/t2max/az_nonstationary_gp_mcmc_redfeten_trainnoise/results/figures/spain/location_intercept/posterior/model_params/location_intercept_mean_slope_z_ess.pdf\u001b[0m\n"
     ]
    }
   ],
   "source": [
    "subfigures_path = Path(figures_path).joinpath(f\"location_intercept/posterior/model_params\")\n",
    "subfigures_path.mkdir(parents=True, exist_ok=True)\n",
    "\n",
    "utils_region.plot_static_global_variable(\n",
    "    idata.sel(spherical=\"lon\").rename(f\"{PLOT_VARIABLE}_x\"),\n",
    "    figures_path=subfigures_path,\n",
    "    cbar_label=utils_region.VARIABLE_LABELS[f\"{PLOT_VARIABLE}_x\"],\n",
    ")\n",
    "utils_region.plot_static_global_variable(\n",
    "    idata.sel(spherical=\"lat\").rename(f\"{PLOT_VARIABLE}_y\"),\n",
    "    figures_path=subfigures_path,\n",
    "    cbar_label=utils_region.VARIABLE_LABELS[f\"{PLOT_VARIABLE}_y\"],\n",
    ")\n",
    "utils_region.plot_static_global_variable(\n",
    "    idata.sel(spherical=\"alt\").rename(f\"{PLOT_VARIABLE}_z\"),\n",
    "    figures_path=subfigures_path,\n",
    "    cbar_label=utils_region.VARIABLE_LABELS[f\"{PLOT_VARIABLE}_z\"],\n",
    ")"
   ]
  },
  {
   "cell_type": "markdown",
   "id": "9d77cee0-e085-49ac-9286-e93a17741491",
   "metadata": {},
   "source": [
    "#### Location Slope - Mean Intercept"
   ]
  },
  {
   "cell_type": "code",
   "execution_count": 54,
   "id": "3dc8ad86-738f-404a-b48e-d51914a223a8",
   "metadata": {},
   "outputs": [],
   "source": [
    "PLOT_VARIABLE = \"location_slope_mean_intercept\"\n",
    "VARIABLE = \"t2max\"\n",
    "COVARIATE = \"gmst\"\n",
    "num_samples = 5_000"
   ]
  },
  {
   "cell_type": "code",
   "execution_count": 55,
   "id": "1431fae8-3b2c-44e7-a869-c4f8dc61f7db",
   "metadata": {},
   "outputs": [],
   "source": [
    "# data_results = az.extract(az_ds, group=\"posterior\", num_samples=num_samples)\n",
    "# data_results = data_results.sortby(\"gmst\")\n",
    "idata = az_ds.posterior[PLOT_VARIABLE]"
   ]
  },
  {
   "cell_type": "code",
   "execution_count": 56,
   "id": "2d1e58f2-aa97-47b1-ab93-e7f0c59ce57a",
   "metadata": {},
   "outputs": [
    {
     "name": "stderr",
     "output_type": "stream",
     "text": [
      "\u001b[32m2024-12-17 11:09:33.441\u001b[0m | \u001b[1mINFO    \u001b[0m | \u001b[36mst_evt._src.modules.models.aemet.utils_region\u001b[0m:\u001b[36mplot_static_global_variable\u001b[0m:\u001b[36m182\u001b[0m - \u001b[1mStarting Static Figures...\u001b[0m\n",
      "\u001b[32m2024-12-17 11:09:33.441\u001b[0m | \u001b[1mINFO    \u001b[0m | \u001b[36mst_evt._src.modules.models.aemet.utils_region\u001b[0m:\u001b[36mplot_static_global_variable\u001b[0m:\u001b[36m189\u001b[0m - \u001b[1mPlotting LOCATION_SLOPE_MEAN_INTERCEPT Density...\u001b[0m\n",
      "\u001b[32m2024-12-17 11:09:33.621\u001b[0m | \u001b[34m\u001b[1mDEBUG   \u001b[0m | \u001b[36mst_evt._src.modules.models.aemet.utils_region\u001b[0m:\u001b[36mplot_static_global_variable\u001b[0m:\u001b[36m202\u001b[0m - \u001b[34m\u001b[1mSaved Figure: \n",
      "/home/juanjohn/pool_data/dynev4eo/experiments/walkthrough/aemet/t2max/az_nonstationary_gp_mcmc_redfeten_trainnoise/results/figures/spain/location_slope/posterior/model_params/location_slope_mean_intercept_density.pdf\u001b[0m\n",
      "\u001b[32m2024-12-17 11:09:33.621\u001b[0m | \u001b[1mINFO    \u001b[0m | \u001b[36mst_evt._src.modules.models.aemet.utils_region\u001b[0m:\u001b[36mplot_static_global_variable\u001b[0m:\u001b[36m207\u001b[0m - \u001b[1mPlotting Parameter Traces...\u001b[0m\n",
      "\u001b[32m2024-12-17 11:09:33.905\u001b[0m | \u001b[34m\u001b[1mDEBUG   \u001b[0m | \u001b[36mst_evt._src.modules.models.aemet.utils_region\u001b[0m:\u001b[36mplot_static_global_variable\u001b[0m:\u001b[36m217\u001b[0m - \u001b[34m\u001b[1mSaved Figure: \n",
      "/home/juanjohn/pool_data/dynev4eo/experiments/walkthrough/aemet/t2max/az_nonstationary_gp_mcmc_redfeten_trainnoise/results/figures/spain/location_slope/posterior/model_params/location_slope_mean_intercept_trace.pdf\u001b[0m\n",
      "\u001b[32m2024-12-17 11:09:33.905\u001b[0m | \u001b[1mINFO    \u001b[0m | \u001b[36mst_evt._src.modules.models.aemet.utils_region\u001b[0m:\u001b[36mplot_static_global_variable\u001b[0m:\u001b[36m222\u001b[0m - \u001b[1mPlotting AutoCorrelation...\u001b[0m\n",
      "\u001b[32m2024-12-17 11:09:34.000\u001b[0m | \u001b[34m\u001b[1mDEBUG   \u001b[0m | \u001b[36mst_evt._src.modules.models.aemet.utils_region\u001b[0m:\u001b[36mplot_static_global_variable\u001b[0m:\u001b[36m234\u001b[0m - \u001b[34m\u001b[1mSaved Figure: \n",
      "/home/juanjohn/pool_data/dynev4eo/experiments/walkthrough/aemet/t2max/az_nonstationary_gp_mcmc_redfeten_trainnoise/results/figures/spain/location_slope/posterior/model_params/location_slope_mean_intercept_autocorr.pdf\u001b[0m\n",
      "\u001b[32m2024-12-17 11:09:34.000\u001b[0m | \u001b[1mINFO    \u001b[0m | \u001b[36mst_evt._src.modules.models.aemet.utils_region\u001b[0m:\u001b[36mplot_static_global_variable\u001b[0m:\u001b[36m237\u001b[0m - \u001b[1mPlotting ESS...\u001b[0m\n",
      "\u001b[32m2024-12-17 11:09:34.248\u001b[0m | \u001b[34m\u001b[1mDEBUG   \u001b[0m | \u001b[36mst_evt._src.modules.models.aemet.utils_region\u001b[0m:\u001b[36mplot_static_global_variable\u001b[0m:\u001b[36m249\u001b[0m - \u001b[34m\u001b[1mSaved Figure: \n",
      "/home/juanjohn/pool_data/dynev4eo/experiments/walkthrough/aemet/t2max/az_nonstationary_gp_mcmc_redfeten_trainnoise/results/figures/spain/location_slope/posterior/model_params/location_slope_mean_intercept_ess.pdf\u001b[0m\n"
     ]
    }
   ],
   "source": [
    "subfigures_path = Path(figures_path).joinpath(f\"location_slope/posterior/model_params\")\n",
    "subfigures_path.mkdir(parents=True, exist_ok=True)\n",
    "\n",
    "utils_region.plot_static_global_variable(\n",
    "    idata,\n",
    "    figures_path=subfigures_path,\n",
    "    cbar_label=utils_region.VARIABLE_LABELS[PLOT_VARIABLE],\n",
    ")"
   ]
  },
  {
   "cell_type": "markdown",
   "id": "216f0466-e0e1-47f5-8bfd-71fc7b40f429",
   "metadata": {},
   "source": [
    "#### Location Slope - Mean Slope"
   ]
  },
  {
   "cell_type": "code",
   "execution_count": 57,
   "id": "a26d615e-c8de-4ea4-9cc2-1d8c1bc5fc89",
   "metadata": {},
   "outputs": [],
   "source": [
    "PLOT_VARIABLE = \"location_slope_mean_slope\"\n",
    "VARIABLE = \"t2max\"\n",
    "COVARIATE = \"gmst\"\n",
    "num_samples = 5_000"
   ]
  },
  {
   "cell_type": "code",
   "execution_count": 58,
   "id": "ea4adadd-8e2c-4838-bfac-1aa59c0ed46b",
   "metadata": {},
   "outputs": [],
   "source": [
    "# data_results = az.extract(az_ds, group=\"posterior\", num_samples=num_samples)\n",
    "# data_results = data_results.sortby(\"gmst\")\n",
    "idata = az_ds.posterior[PLOT_VARIABLE]"
   ]
  },
  {
   "cell_type": "code",
   "execution_count": 59,
   "id": "c0b6670f-3fdb-4687-8a16-03cca25e4628",
   "metadata": {},
   "outputs": [
    {
     "name": "stderr",
     "output_type": "stream",
     "text": [
      "\u001b[32m2024-12-17 11:09:35.900\u001b[0m | \u001b[1mINFO    \u001b[0m | \u001b[36mst_evt._src.modules.models.aemet.utils_region\u001b[0m:\u001b[36mplot_static_global_variable\u001b[0m:\u001b[36m182\u001b[0m - \u001b[1mStarting Static Figures...\u001b[0m\n",
      "\u001b[32m2024-12-17 11:09:35.901\u001b[0m | \u001b[1mINFO    \u001b[0m | \u001b[36mst_evt._src.modules.models.aemet.utils_region\u001b[0m:\u001b[36mplot_static_global_variable\u001b[0m:\u001b[36m189\u001b[0m - \u001b[1mPlotting LOCATION_SLOPE_MEAN_SLOPE_X Density...\u001b[0m\n",
      "\u001b[32m2024-12-17 11:09:36.076\u001b[0m | \u001b[34m\u001b[1mDEBUG   \u001b[0m | \u001b[36mst_evt._src.modules.models.aemet.utils_region\u001b[0m:\u001b[36mplot_static_global_variable\u001b[0m:\u001b[36m202\u001b[0m - \u001b[34m\u001b[1mSaved Figure: \n",
      "/home/juanjohn/pool_data/dynev4eo/experiments/walkthrough/aemet/t2max/az_nonstationary_gp_mcmc_redfeten_trainnoise/results/figures/spain/location_slope/posterior/model_params/location_slope_mean_slope_x_density.pdf\u001b[0m\n",
      "\u001b[32m2024-12-17 11:09:36.076\u001b[0m | \u001b[1mINFO    \u001b[0m | \u001b[36mst_evt._src.modules.models.aemet.utils_region\u001b[0m:\u001b[36mplot_static_global_variable\u001b[0m:\u001b[36m207\u001b[0m - \u001b[1mPlotting Parameter Traces...\u001b[0m\n",
      "\u001b[32m2024-12-17 11:09:36.639\u001b[0m | \u001b[34m\u001b[1mDEBUG   \u001b[0m | \u001b[36mst_evt._src.modules.models.aemet.utils_region\u001b[0m:\u001b[36mplot_static_global_variable\u001b[0m:\u001b[36m217\u001b[0m - \u001b[34m\u001b[1mSaved Figure: \n",
      "/home/juanjohn/pool_data/dynev4eo/experiments/walkthrough/aemet/t2max/az_nonstationary_gp_mcmc_redfeten_trainnoise/results/figures/spain/location_slope/posterior/model_params/location_slope_mean_slope_x_trace.pdf\u001b[0m\n",
      "\u001b[32m2024-12-17 11:09:36.640\u001b[0m | \u001b[1mINFO    \u001b[0m | \u001b[36mst_evt._src.modules.models.aemet.utils_region\u001b[0m:\u001b[36mplot_static_global_variable\u001b[0m:\u001b[36m222\u001b[0m - \u001b[1mPlotting AutoCorrelation...\u001b[0m\n",
      "\u001b[32m2024-12-17 11:09:36.732\u001b[0m | \u001b[34m\u001b[1mDEBUG   \u001b[0m | \u001b[36mst_evt._src.modules.models.aemet.utils_region\u001b[0m:\u001b[36mplot_static_global_variable\u001b[0m:\u001b[36m234\u001b[0m - \u001b[34m\u001b[1mSaved Figure: \n",
      "/home/juanjohn/pool_data/dynev4eo/experiments/walkthrough/aemet/t2max/az_nonstationary_gp_mcmc_redfeten_trainnoise/results/figures/spain/location_slope/posterior/model_params/location_slope_mean_slope_x_autocorr.pdf\u001b[0m\n",
      "\u001b[32m2024-12-17 11:09:36.733\u001b[0m | \u001b[1mINFO    \u001b[0m | \u001b[36mst_evt._src.modules.models.aemet.utils_region\u001b[0m:\u001b[36mplot_static_global_variable\u001b[0m:\u001b[36m237\u001b[0m - \u001b[1mPlotting ESS...\u001b[0m\n",
      "\u001b[32m2024-12-17 11:09:36.951\u001b[0m | \u001b[34m\u001b[1mDEBUG   \u001b[0m | \u001b[36mst_evt._src.modules.models.aemet.utils_region\u001b[0m:\u001b[36mplot_static_global_variable\u001b[0m:\u001b[36m249\u001b[0m - \u001b[34m\u001b[1mSaved Figure: \n",
      "/home/juanjohn/pool_data/dynev4eo/experiments/walkthrough/aemet/t2max/az_nonstationary_gp_mcmc_redfeten_trainnoise/results/figures/spain/location_slope/posterior/model_params/location_slope_mean_slope_x_ess.pdf\u001b[0m\n",
      "\u001b[32m2024-12-17 11:09:36.952\u001b[0m | \u001b[1mINFO    \u001b[0m | \u001b[36mst_evt._src.modules.models.aemet.utils_region\u001b[0m:\u001b[36mplot_static_global_variable\u001b[0m:\u001b[36m182\u001b[0m - \u001b[1mStarting Static Figures...\u001b[0m\n",
      "\u001b[32m2024-12-17 11:09:36.953\u001b[0m | \u001b[1mINFO    \u001b[0m | \u001b[36mst_evt._src.modules.models.aemet.utils_region\u001b[0m:\u001b[36mplot_static_global_variable\u001b[0m:\u001b[36m189\u001b[0m - \u001b[1mPlotting LOCATION_SLOPE_MEAN_SLOPE_Y Density...\u001b[0m\n",
      "\u001b[32m2024-12-17 11:09:37.129\u001b[0m | \u001b[34m\u001b[1mDEBUG   \u001b[0m | \u001b[36mst_evt._src.modules.models.aemet.utils_region\u001b[0m:\u001b[36mplot_static_global_variable\u001b[0m:\u001b[36m202\u001b[0m - \u001b[34m\u001b[1mSaved Figure: \n",
      "/home/juanjohn/pool_data/dynev4eo/experiments/walkthrough/aemet/t2max/az_nonstationary_gp_mcmc_redfeten_trainnoise/results/figures/spain/location_slope/posterior/model_params/location_slope_mean_slope_y_density.pdf\u001b[0m\n",
      "\u001b[32m2024-12-17 11:09:37.129\u001b[0m | \u001b[1mINFO    \u001b[0m | \u001b[36mst_evt._src.modules.models.aemet.utils_region\u001b[0m:\u001b[36mplot_static_global_variable\u001b[0m:\u001b[36m207\u001b[0m - \u001b[1mPlotting Parameter Traces...\u001b[0m\n",
      "\u001b[32m2024-12-17 11:09:37.427\u001b[0m | \u001b[34m\u001b[1mDEBUG   \u001b[0m | \u001b[36mst_evt._src.modules.models.aemet.utils_region\u001b[0m:\u001b[36mplot_static_global_variable\u001b[0m:\u001b[36m217\u001b[0m - \u001b[34m\u001b[1mSaved Figure: \n",
      "/home/juanjohn/pool_data/dynev4eo/experiments/walkthrough/aemet/t2max/az_nonstationary_gp_mcmc_redfeten_trainnoise/results/figures/spain/location_slope/posterior/model_params/location_slope_mean_slope_y_trace.pdf\u001b[0m\n",
      "\u001b[32m2024-12-17 11:09:37.427\u001b[0m | \u001b[1mINFO    \u001b[0m | \u001b[36mst_evt._src.modules.models.aemet.utils_region\u001b[0m:\u001b[36mplot_static_global_variable\u001b[0m:\u001b[36m222\u001b[0m - \u001b[1mPlotting AutoCorrelation...\u001b[0m\n",
      "\u001b[32m2024-12-17 11:09:37.520\u001b[0m | \u001b[34m\u001b[1mDEBUG   \u001b[0m | \u001b[36mst_evt._src.modules.models.aemet.utils_region\u001b[0m:\u001b[36mplot_static_global_variable\u001b[0m:\u001b[36m234\u001b[0m - \u001b[34m\u001b[1mSaved Figure: \n",
      "/home/juanjohn/pool_data/dynev4eo/experiments/walkthrough/aemet/t2max/az_nonstationary_gp_mcmc_redfeten_trainnoise/results/figures/spain/location_slope/posterior/model_params/location_slope_mean_slope_y_autocorr.pdf\u001b[0m\n",
      "\u001b[32m2024-12-17 11:09:37.520\u001b[0m | \u001b[1mINFO    \u001b[0m | \u001b[36mst_evt._src.modules.models.aemet.utils_region\u001b[0m:\u001b[36mplot_static_global_variable\u001b[0m:\u001b[36m237\u001b[0m - \u001b[1mPlotting ESS...\u001b[0m\n",
      "\u001b[32m2024-12-17 11:09:37.739\u001b[0m | \u001b[34m\u001b[1mDEBUG   \u001b[0m | \u001b[36mst_evt._src.modules.models.aemet.utils_region\u001b[0m:\u001b[36mplot_static_global_variable\u001b[0m:\u001b[36m249\u001b[0m - \u001b[34m\u001b[1mSaved Figure: \n",
      "/home/juanjohn/pool_data/dynev4eo/experiments/walkthrough/aemet/t2max/az_nonstationary_gp_mcmc_redfeten_trainnoise/results/figures/spain/location_slope/posterior/model_params/location_slope_mean_slope_y_ess.pdf\u001b[0m\n",
      "\u001b[32m2024-12-17 11:09:37.739\u001b[0m | \u001b[1mINFO    \u001b[0m | \u001b[36mst_evt._src.modules.models.aemet.utils_region\u001b[0m:\u001b[36mplot_static_global_variable\u001b[0m:\u001b[36m182\u001b[0m - \u001b[1mStarting Static Figures...\u001b[0m\n",
      "\u001b[32m2024-12-17 11:09:37.740\u001b[0m | \u001b[1mINFO    \u001b[0m | \u001b[36mst_evt._src.modules.models.aemet.utils_region\u001b[0m:\u001b[36mplot_static_global_variable\u001b[0m:\u001b[36m189\u001b[0m - \u001b[1mPlotting LOCATION_SLOPE_MEAN_SLOPE_Z Density...\u001b[0m\n",
      "\u001b[32m2024-12-17 11:09:37.912\u001b[0m | \u001b[34m\u001b[1mDEBUG   \u001b[0m | \u001b[36mst_evt._src.modules.models.aemet.utils_region\u001b[0m:\u001b[36mplot_static_global_variable\u001b[0m:\u001b[36m202\u001b[0m - \u001b[34m\u001b[1mSaved Figure: \n",
      "/home/juanjohn/pool_data/dynev4eo/experiments/walkthrough/aemet/t2max/az_nonstationary_gp_mcmc_redfeten_trainnoise/results/figures/spain/location_slope/posterior/model_params/location_slope_mean_slope_z_density.pdf\u001b[0m\n",
      "\u001b[32m2024-12-17 11:09:37.912\u001b[0m | \u001b[1mINFO    \u001b[0m | \u001b[36mst_evt._src.modules.models.aemet.utils_region\u001b[0m:\u001b[36mplot_static_global_variable\u001b[0m:\u001b[36m207\u001b[0m - \u001b[1mPlotting Parameter Traces...\u001b[0m\n",
      "\u001b[32m2024-12-17 11:09:38.235\u001b[0m | \u001b[34m\u001b[1mDEBUG   \u001b[0m | \u001b[36mst_evt._src.modules.models.aemet.utils_region\u001b[0m:\u001b[36mplot_static_global_variable\u001b[0m:\u001b[36m217\u001b[0m - \u001b[34m\u001b[1mSaved Figure: \n",
      "/home/juanjohn/pool_data/dynev4eo/experiments/walkthrough/aemet/t2max/az_nonstationary_gp_mcmc_redfeten_trainnoise/results/figures/spain/location_slope/posterior/model_params/location_slope_mean_slope_z_trace.pdf\u001b[0m\n",
      "\u001b[32m2024-12-17 11:09:38.236\u001b[0m | \u001b[1mINFO    \u001b[0m | \u001b[36mst_evt._src.modules.models.aemet.utils_region\u001b[0m:\u001b[36mplot_static_global_variable\u001b[0m:\u001b[36m222\u001b[0m - \u001b[1mPlotting AutoCorrelation...\u001b[0m\n",
      "\u001b[32m2024-12-17 11:09:38.328\u001b[0m | \u001b[34m\u001b[1mDEBUG   \u001b[0m | \u001b[36mst_evt._src.modules.models.aemet.utils_region\u001b[0m:\u001b[36mplot_static_global_variable\u001b[0m:\u001b[36m234\u001b[0m - \u001b[34m\u001b[1mSaved Figure: \n",
      "/home/juanjohn/pool_data/dynev4eo/experiments/walkthrough/aemet/t2max/az_nonstationary_gp_mcmc_redfeten_trainnoise/results/figures/spain/location_slope/posterior/model_params/location_slope_mean_slope_z_autocorr.pdf\u001b[0m\n",
      "\u001b[32m2024-12-17 11:09:38.329\u001b[0m | \u001b[1mINFO    \u001b[0m | \u001b[36mst_evt._src.modules.models.aemet.utils_region\u001b[0m:\u001b[36mplot_static_global_variable\u001b[0m:\u001b[36m237\u001b[0m - \u001b[1mPlotting ESS...\u001b[0m\n",
      "\u001b[32m2024-12-17 11:09:38.545\u001b[0m | \u001b[34m\u001b[1mDEBUG   \u001b[0m | \u001b[36mst_evt._src.modules.models.aemet.utils_region\u001b[0m:\u001b[36mplot_static_global_variable\u001b[0m:\u001b[36m249\u001b[0m - \u001b[34m\u001b[1mSaved Figure: \n",
      "/home/juanjohn/pool_data/dynev4eo/experiments/walkthrough/aemet/t2max/az_nonstationary_gp_mcmc_redfeten_trainnoise/results/figures/spain/location_slope/posterior/model_params/location_slope_mean_slope_z_ess.pdf\u001b[0m\n"
     ]
    }
   ],
   "source": [
    "subfigures_path = Path(figures_path).joinpath(f\"location_slope/posterior/model_params\")\n",
    "subfigures_path.mkdir(parents=True, exist_ok=True)\n",
    "\n",
    "utils_region.plot_static_global_variable(\n",
    "    idata.sel(spherical=\"lon\").rename(f\"{PLOT_VARIABLE}_x\"),\n",
    "    figures_path=subfigures_path,\n",
    "    cbar_label=utils_region.VARIABLE_LABELS[f\"{PLOT_VARIABLE}_x\"],\n",
    ")\n",
    "utils_region.plot_static_global_variable(\n",
    "    idata.sel(spherical=\"lat\").rename(f\"{PLOT_VARIABLE}_y\"),\n",
    "    figures_path=subfigures_path,\n",
    "    cbar_label=utils_region.VARIABLE_LABELS[f\"{PLOT_VARIABLE}_y\"],\n",
    ")\n",
    "utils_region.plot_static_global_variable(\n",
    "    idata.sel(spherical=\"alt\").rename(f\"{PLOT_VARIABLE}_z\"),\n",
    "    figures_path=subfigures_path,\n",
    "    cbar_label=utils_region.VARIABLE_LABELS[f\"{PLOT_VARIABLE}_z\"],\n",
    ")"
   ]
  },
  {
   "cell_type": "markdown",
   "id": "6636fc0e-7f44-48bc-ad45-a136d2c6de1d",
   "metadata": {},
   "source": [
    "#### Scale - Mean Intercept"
   ]
  },
  {
   "cell_type": "code",
   "execution_count": 60,
   "id": "a95e7799-1820-4434-98ec-6c60dc017574",
   "metadata": {},
   "outputs": [],
   "source": [
    "PLOT_VARIABLE = \"scale_mean_intercept\"\n",
    "VARIABLE = \"t2max\"\n",
    "COVARIATE = \"gmst\"\n",
    "num_samples = 5_000"
   ]
  },
  {
   "cell_type": "code",
   "execution_count": 61,
   "id": "59d66c6b-d753-4982-8b73-6acebb8a8974",
   "metadata": {},
   "outputs": [],
   "source": [
    "# data_results = az.extract(az_ds, group=\"posterior\", num_samples=num_samples)\n",
    "# data_results = data_results.sortby(\"gmst\")\n",
    "idata = az_ds.posterior[PLOT_VARIABLE]"
   ]
  },
  {
   "cell_type": "code",
   "execution_count": 62,
   "id": "d67565ae-fd98-432e-b891-44010410869c",
   "metadata": {},
   "outputs": [
    {
     "name": "stderr",
     "output_type": "stream",
     "text": [
      "\u001b[32m2024-12-17 11:09:38.704\u001b[0m | \u001b[1mINFO    \u001b[0m | \u001b[36mst_evt._src.modules.models.aemet.utils_region\u001b[0m:\u001b[36mplot_static_global_variable\u001b[0m:\u001b[36m182\u001b[0m - \u001b[1mStarting Static Figures...\u001b[0m\n",
      "\u001b[32m2024-12-17 11:09:38.705\u001b[0m | \u001b[1mINFO    \u001b[0m | \u001b[36mst_evt._src.modules.models.aemet.utils_region\u001b[0m:\u001b[36mplot_static_global_variable\u001b[0m:\u001b[36m189\u001b[0m - \u001b[1mPlotting SCALE_MEAN_INTERCEPT Density...\u001b[0m\n",
      "\u001b[32m2024-12-17 11:09:38.901\u001b[0m | \u001b[34m\u001b[1mDEBUG   \u001b[0m | \u001b[36mst_evt._src.modules.models.aemet.utils_region\u001b[0m:\u001b[36mplot_static_global_variable\u001b[0m:\u001b[36m202\u001b[0m - \u001b[34m\u001b[1mSaved Figure: \n",
      "/home/juanjohn/pool_data/dynev4eo/experiments/walkthrough/aemet/t2max/az_nonstationary_gp_mcmc_redfeten_trainnoise/results/figures/spain/scale/posterior/model_params/scale_mean_intercept_density.pdf\u001b[0m\n",
      "\u001b[32m2024-12-17 11:09:38.902\u001b[0m | \u001b[1mINFO    \u001b[0m | \u001b[36mst_evt._src.modules.models.aemet.utils_region\u001b[0m:\u001b[36mplot_static_global_variable\u001b[0m:\u001b[36m207\u001b[0m - \u001b[1mPlotting Parameter Traces...\u001b[0m\n",
      "\u001b[32m2024-12-17 11:09:39.176\u001b[0m | \u001b[34m\u001b[1mDEBUG   \u001b[0m | \u001b[36mst_evt._src.modules.models.aemet.utils_region\u001b[0m:\u001b[36mplot_static_global_variable\u001b[0m:\u001b[36m217\u001b[0m - \u001b[34m\u001b[1mSaved Figure: \n",
      "/home/juanjohn/pool_data/dynev4eo/experiments/walkthrough/aemet/t2max/az_nonstationary_gp_mcmc_redfeten_trainnoise/results/figures/spain/scale/posterior/model_params/scale_mean_intercept_trace.pdf\u001b[0m\n",
      "\u001b[32m2024-12-17 11:09:39.176\u001b[0m | \u001b[1mINFO    \u001b[0m | \u001b[36mst_evt._src.modules.models.aemet.utils_region\u001b[0m:\u001b[36mplot_static_global_variable\u001b[0m:\u001b[36m222\u001b[0m - \u001b[1mPlotting AutoCorrelation...\u001b[0m\n",
      "\u001b[32m2024-12-17 11:09:39.269\u001b[0m | \u001b[34m\u001b[1mDEBUG   \u001b[0m | \u001b[36mst_evt._src.modules.models.aemet.utils_region\u001b[0m:\u001b[36mplot_static_global_variable\u001b[0m:\u001b[36m234\u001b[0m - \u001b[34m\u001b[1mSaved Figure: \n",
      "/home/juanjohn/pool_data/dynev4eo/experiments/walkthrough/aemet/t2max/az_nonstationary_gp_mcmc_redfeten_trainnoise/results/figures/spain/scale/posterior/model_params/scale_mean_intercept_autocorr.pdf\u001b[0m\n",
      "\u001b[32m2024-12-17 11:09:39.270\u001b[0m | \u001b[1mINFO    \u001b[0m | \u001b[36mst_evt._src.modules.models.aemet.utils_region\u001b[0m:\u001b[36mplot_static_global_variable\u001b[0m:\u001b[36m237\u001b[0m - \u001b[1mPlotting ESS...\u001b[0m\n",
      "\u001b[32m2024-12-17 11:09:39.524\u001b[0m | \u001b[34m\u001b[1mDEBUG   \u001b[0m | \u001b[36mst_evt._src.modules.models.aemet.utils_region\u001b[0m:\u001b[36mplot_static_global_variable\u001b[0m:\u001b[36m249\u001b[0m - \u001b[34m\u001b[1mSaved Figure: \n",
      "/home/juanjohn/pool_data/dynev4eo/experiments/walkthrough/aemet/t2max/az_nonstationary_gp_mcmc_redfeten_trainnoise/results/figures/spain/scale/posterior/model_params/scale_mean_intercept_ess.pdf\u001b[0m\n"
     ]
    }
   ],
   "source": [
    "subfigures_path = Path(figures_path).joinpath(f\"scale/posterior/model_params/\")\n",
    "subfigures_path.mkdir(parents=True, exist_ok=True)\n",
    "\n",
    "utils_region.plot_static_global_variable(\n",
    "    idata,\n",
    "    figures_path=subfigures_path,\n",
    "    cbar_label=utils_region.VARIABLE_LABELS[PLOT_VARIABLE],\n",
    ")"
   ]
  },
  {
   "cell_type": "markdown",
   "id": "762ae9bf-4877-4428-997e-db7b3702ee03",
   "metadata": {},
   "source": [
    "#### Scale - Mean Slope"
   ]
  },
  {
   "cell_type": "code",
   "execution_count": 63,
   "id": "f0bdc908-b730-4737-869c-11bf18e37003",
   "metadata": {},
   "outputs": [],
   "source": [
    "PLOT_VARIABLE = \"scale_mean_slope\"\n",
    "VARIABLE = \"t2max\"\n",
    "COVARIATE = \"gmst\"\n",
    "num_samples = 5_000"
   ]
  },
  {
   "cell_type": "code",
   "execution_count": 64,
   "id": "f81a71d0-4f8f-4a0f-b085-67c450b4991c",
   "metadata": {},
   "outputs": [],
   "source": [
    "# data_results = az.extract(az_ds, group=\"posterior\", num_samples=num_samples)\n",
    "# data_results = data_results.sortby(\"gmst\")\n",
    "idata = az_ds.posterior[PLOT_VARIABLE]"
   ]
  },
  {
   "cell_type": "code",
   "execution_count": 65,
   "id": "f42e7cfc-8eaa-4997-a6d8-e7c80bb8a014",
   "metadata": {},
   "outputs": [
    {
     "name": "stderr",
     "output_type": "stream",
     "text": [
      "\u001b[32m2024-12-17 11:09:39.916\u001b[0m | \u001b[1mINFO    \u001b[0m | \u001b[36mst_evt._src.modules.models.aemet.utils_region\u001b[0m:\u001b[36mplot_static_global_variable\u001b[0m:\u001b[36m182\u001b[0m - \u001b[1mStarting Static Figures...\u001b[0m\n",
      "\u001b[32m2024-12-17 11:09:39.916\u001b[0m | \u001b[1mINFO    \u001b[0m | \u001b[36mst_evt._src.modules.models.aemet.utils_region\u001b[0m:\u001b[36mplot_static_global_variable\u001b[0m:\u001b[36m189\u001b[0m - \u001b[1mPlotting SCALE_MEAN_SLOPE_X Density...\u001b[0m\n",
      "\u001b[32m2024-12-17 11:09:40.100\u001b[0m | \u001b[34m\u001b[1mDEBUG   \u001b[0m | \u001b[36mst_evt._src.modules.models.aemet.utils_region\u001b[0m:\u001b[36mplot_static_global_variable\u001b[0m:\u001b[36m202\u001b[0m - \u001b[34m\u001b[1mSaved Figure: \n",
      "/home/juanjohn/pool_data/dynev4eo/experiments/walkthrough/aemet/t2max/az_nonstationary_gp_mcmc_redfeten_trainnoise/results/figures/spain/scale/posterior/model_params/scale_mean_slope_x_density.pdf\u001b[0m\n",
      "\u001b[32m2024-12-17 11:09:40.101\u001b[0m | \u001b[1mINFO    \u001b[0m | \u001b[36mst_evt._src.modules.models.aemet.utils_region\u001b[0m:\u001b[36mplot_static_global_variable\u001b[0m:\u001b[36m207\u001b[0m - \u001b[1mPlotting Parameter Traces...\u001b[0m\n",
      "\u001b[32m2024-12-17 11:09:40.416\u001b[0m | \u001b[34m\u001b[1mDEBUG   \u001b[0m | \u001b[36mst_evt._src.modules.models.aemet.utils_region\u001b[0m:\u001b[36mplot_static_global_variable\u001b[0m:\u001b[36m217\u001b[0m - \u001b[34m\u001b[1mSaved Figure: \n",
      "/home/juanjohn/pool_data/dynev4eo/experiments/walkthrough/aemet/t2max/az_nonstationary_gp_mcmc_redfeten_trainnoise/results/figures/spain/scale/posterior/model_params/scale_mean_slope_x_trace.pdf\u001b[0m\n",
      "\u001b[32m2024-12-17 11:09:40.417\u001b[0m | \u001b[1mINFO    \u001b[0m | \u001b[36mst_evt._src.modules.models.aemet.utils_region\u001b[0m:\u001b[36mplot_static_global_variable\u001b[0m:\u001b[36m222\u001b[0m - \u001b[1mPlotting AutoCorrelation...\u001b[0m\n",
      "\u001b[32m2024-12-17 11:09:40.510\u001b[0m | \u001b[34m\u001b[1mDEBUG   \u001b[0m | \u001b[36mst_evt._src.modules.models.aemet.utils_region\u001b[0m:\u001b[36mplot_static_global_variable\u001b[0m:\u001b[36m234\u001b[0m - \u001b[34m\u001b[1mSaved Figure: \n",
      "/home/juanjohn/pool_data/dynev4eo/experiments/walkthrough/aemet/t2max/az_nonstationary_gp_mcmc_redfeten_trainnoise/results/figures/spain/scale/posterior/model_params/scale_mean_slope_x_autocorr.pdf\u001b[0m\n",
      "\u001b[32m2024-12-17 11:09:40.510\u001b[0m | \u001b[1mINFO    \u001b[0m | \u001b[36mst_evt._src.modules.models.aemet.utils_region\u001b[0m:\u001b[36mplot_static_global_variable\u001b[0m:\u001b[36m237\u001b[0m - \u001b[1mPlotting ESS...\u001b[0m\n",
      "\u001b[32m2024-12-17 11:09:40.723\u001b[0m | \u001b[34m\u001b[1mDEBUG   \u001b[0m | \u001b[36mst_evt._src.modules.models.aemet.utils_region\u001b[0m:\u001b[36mplot_static_global_variable\u001b[0m:\u001b[36m249\u001b[0m - \u001b[34m\u001b[1mSaved Figure: \n",
      "/home/juanjohn/pool_data/dynev4eo/experiments/walkthrough/aemet/t2max/az_nonstationary_gp_mcmc_redfeten_trainnoise/results/figures/spain/scale/posterior/model_params/scale_mean_slope_x_ess.pdf\u001b[0m\n",
      "\u001b[32m2024-12-17 11:09:40.724\u001b[0m | \u001b[1mINFO    \u001b[0m | \u001b[36mst_evt._src.modules.models.aemet.utils_region\u001b[0m:\u001b[36mplot_static_global_variable\u001b[0m:\u001b[36m182\u001b[0m - \u001b[1mStarting Static Figures...\u001b[0m\n",
      "\u001b[32m2024-12-17 11:09:40.724\u001b[0m | \u001b[1mINFO    \u001b[0m | \u001b[36mst_evt._src.modules.models.aemet.utils_region\u001b[0m:\u001b[36mplot_static_global_variable\u001b[0m:\u001b[36m189\u001b[0m - \u001b[1mPlotting SCALE_MEAN_SLOPE_Y Density...\u001b[0m\n",
      "\u001b[32m2024-12-17 11:09:40.898\u001b[0m | \u001b[34m\u001b[1mDEBUG   \u001b[0m | \u001b[36mst_evt._src.modules.models.aemet.utils_region\u001b[0m:\u001b[36mplot_static_global_variable\u001b[0m:\u001b[36m202\u001b[0m - \u001b[34m\u001b[1mSaved Figure: \n",
      "/home/juanjohn/pool_data/dynev4eo/experiments/walkthrough/aemet/t2max/az_nonstationary_gp_mcmc_redfeten_trainnoise/results/figures/spain/scale/posterior/model_params/scale_mean_slope_y_density.pdf\u001b[0m\n",
      "\u001b[32m2024-12-17 11:09:40.898\u001b[0m | \u001b[1mINFO    \u001b[0m | \u001b[36mst_evt._src.modules.models.aemet.utils_region\u001b[0m:\u001b[36mplot_static_global_variable\u001b[0m:\u001b[36m207\u001b[0m - \u001b[1mPlotting Parameter Traces...\u001b[0m\n",
      "\u001b[32m2024-12-17 11:09:41.185\u001b[0m | \u001b[34m\u001b[1mDEBUG   \u001b[0m | \u001b[36mst_evt._src.modules.models.aemet.utils_region\u001b[0m:\u001b[36mplot_static_global_variable\u001b[0m:\u001b[36m217\u001b[0m - \u001b[34m\u001b[1mSaved Figure: \n",
      "/home/juanjohn/pool_data/dynev4eo/experiments/walkthrough/aemet/t2max/az_nonstationary_gp_mcmc_redfeten_trainnoise/results/figures/spain/scale/posterior/model_params/scale_mean_slope_y_trace.pdf\u001b[0m\n",
      "\u001b[32m2024-12-17 11:09:41.186\u001b[0m | \u001b[1mINFO    \u001b[0m | \u001b[36mst_evt._src.modules.models.aemet.utils_region\u001b[0m:\u001b[36mplot_static_global_variable\u001b[0m:\u001b[36m222\u001b[0m - \u001b[1mPlotting AutoCorrelation...\u001b[0m\n",
      "\u001b[32m2024-12-17 11:09:41.278\u001b[0m | \u001b[34m\u001b[1mDEBUG   \u001b[0m | \u001b[36mst_evt._src.modules.models.aemet.utils_region\u001b[0m:\u001b[36mplot_static_global_variable\u001b[0m:\u001b[36m234\u001b[0m - \u001b[34m\u001b[1mSaved Figure: \n",
      "/home/juanjohn/pool_data/dynev4eo/experiments/walkthrough/aemet/t2max/az_nonstationary_gp_mcmc_redfeten_trainnoise/results/figures/spain/scale/posterior/model_params/scale_mean_slope_y_autocorr.pdf\u001b[0m\n",
      "\u001b[32m2024-12-17 11:09:41.279\u001b[0m | \u001b[1mINFO    \u001b[0m | \u001b[36mst_evt._src.modules.models.aemet.utils_region\u001b[0m:\u001b[36mplot_static_global_variable\u001b[0m:\u001b[36m237\u001b[0m - \u001b[1mPlotting ESS...\u001b[0m\n",
      "\u001b[32m2024-12-17 11:09:41.511\u001b[0m | \u001b[34m\u001b[1mDEBUG   \u001b[0m | \u001b[36mst_evt._src.modules.models.aemet.utils_region\u001b[0m:\u001b[36mplot_static_global_variable\u001b[0m:\u001b[36m249\u001b[0m - \u001b[34m\u001b[1mSaved Figure: \n",
      "/home/juanjohn/pool_data/dynev4eo/experiments/walkthrough/aemet/t2max/az_nonstationary_gp_mcmc_redfeten_trainnoise/results/figures/spain/scale/posterior/model_params/scale_mean_slope_y_ess.pdf\u001b[0m\n",
      "\u001b[32m2024-12-17 11:09:41.511\u001b[0m | \u001b[1mINFO    \u001b[0m | \u001b[36mst_evt._src.modules.models.aemet.utils_region\u001b[0m:\u001b[36mplot_static_global_variable\u001b[0m:\u001b[36m182\u001b[0m - \u001b[1mStarting Static Figures...\u001b[0m\n",
      "\u001b[32m2024-12-17 11:09:41.512\u001b[0m | \u001b[1mINFO    \u001b[0m | \u001b[36mst_evt._src.modules.models.aemet.utils_region\u001b[0m:\u001b[36mplot_static_global_variable\u001b[0m:\u001b[36m189\u001b[0m - \u001b[1mPlotting SCALE_MEAN_SLOPE_Z Density...\u001b[0m\n",
      "\u001b[32m2024-12-17 11:09:41.694\u001b[0m | \u001b[34m\u001b[1mDEBUG   \u001b[0m | \u001b[36mst_evt._src.modules.models.aemet.utils_region\u001b[0m:\u001b[36mplot_static_global_variable\u001b[0m:\u001b[36m202\u001b[0m - \u001b[34m\u001b[1mSaved Figure: \n",
      "/home/juanjohn/pool_data/dynev4eo/experiments/walkthrough/aemet/t2max/az_nonstationary_gp_mcmc_redfeten_trainnoise/results/figures/spain/scale/posterior/model_params/scale_mean_slope_z_density.pdf\u001b[0m\n",
      "\u001b[32m2024-12-17 11:09:41.695\u001b[0m | \u001b[1mINFO    \u001b[0m | \u001b[36mst_evt._src.modules.models.aemet.utils_region\u001b[0m:\u001b[36mplot_static_global_variable\u001b[0m:\u001b[36m207\u001b[0m - \u001b[1mPlotting Parameter Traces...\u001b[0m\n",
      "\u001b[32m2024-12-17 11:09:42.016\u001b[0m | \u001b[34m\u001b[1mDEBUG   \u001b[0m | \u001b[36mst_evt._src.modules.models.aemet.utils_region\u001b[0m:\u001b[36mplot_static_global_variable\u001b[0m:\u001b[36m217\u001b[0m - \u001b[34m\u001b[1mSaved Figure: \n",
      "/home/juanjohn/pool_data/dynev4eo/experiments/walkthrough/aemet/t2max/az_nonstationary_gp_mcmc_redfeten_trainnoise/results/figures/spain/scale/posterior/model_params/scale_mean_slope_z_trace.pdf\u001b[0m\n",
      "\u001b[32m2024-12-17 11:09:42.017\u001b[0m | \u001b[1mINFO    \u001b[0m | \u001b[36mst_evt._src.modules.models.aemet.utils_region\u001b[0m:\u001b[36mplot_static_global_variable\u001b[0m:\u001b[36m222\u001b[0m - \u001b[1mPlotting AutoCorrelation...\u001b[0m\n",
      "\u001b[32m2024-12-17 11:09:42.109\u001b[0m | \u001b[34m\u001b[1mDEBUG   \u001b[0m | \u001b[36mst_evt._src.modules.models.aemet.utils_region\u001b[0m:\u001b[36mplot_static_global_variable\u001b[0m:\u001b[36m234\u001b[0m - \u001b[34m\u001b[1mSaved Figure: \n",
      "/home/juanjohn/pool_data/dynev4eo/experiments/walkthrough/aemet/t2max/az_nonstationary_gp_mcmc_redfeten_trainnoise/results/figures/spain/scale/posterior/model_params/scale_mean_slope_z_autocorr.pdf\u001b[0m\n",
      "\u001b[32m2024-12-17 11:09:42.109\u001b[0m | \u001b[1mINFO    \u001b[0m | \u001b[36mst_evt._src.modules.models.aemet.utils_region\u001b[0m:\u001b[36mplot_static_global_variable\u001b[0m:\u001b[36m237\u001b[0m - \u001b[1mPlotting ESS...\u001b[0m\n",
      "\u001b[32m2024-12-17 11:09:42.573\u001b[0m | \u001b[34m\u001b[1mDEBUG   \u001b[0m | \u001b[36mst_evt._src.modules.models.aemet.utils_region\u001b[0m:\u001b[36mplot_static_global_variable\u001b[0m:\u001b[36m249\u001b[0m - \u001b[34m\u001b[1mSaved Figure: \n",
      "/home/juanjohn/pool_data/dynev4eo/experiments/walkthrough/aemet/t2max/az_nonstationary_gp_mcmc_redfeten_trainnoise/results/figures/spain/scale/posterior/model_params/scale_mean_slope_z_ess.pdf\u001b[0m\n"
     ]
    }
   ],
   "source": [
    "subfigures_path = Path(figures_path).joinpath(f\"scale/posterior/model_params\")\n",
    "subfigures_path.mkdir(parents=True, exist_ok=True)\n",
    "\n",
    "utils_region.plot_static_global_variable(\n",
    "    idata.sel(spherical=\"lon\").rename(f\"{PLOT_VARIABLE}_x\"),\n",
    "    figures_path=subfigures_path,\n",
    "    cbar_label=utils_region.VARIABLE_LABELS[f\"{PLOT_VARIABLE}_x\"],\n",
    ")\n",
    "utils_region.plot_static_global_variable(\n",
    "    idata.sel(spherical=\"lat\").rename(f\"{PLOT_VARIABLE}_y\"),\n",
    "    figures_path=subfigures_path,\n",
    "    cbar_label=utils_region.VARIABLE_LABELS[f\"{PLOT_VARIABLE}_y\"],\n",
    ")\n",
    "utils_region.plot_static_global_variable(\n",
    "    idata.sel(spherical=\"alt\").rename(f\"{PLOT_VARIABLE}_z\"),\n",
    "    figures_path=subfigures_path,\n",
    "    cbar_label=utils_region.VARIABLE_LABELS[f\"{PLOT_VARIABLE}_z\"],\n",
    ")"
   ]
  },
  {
   "cell_type": "markdown",
   "id": "b1639cfd-d126-47a8-acf3-9029c36f7faf",
   "metadata": {},
   "source": [
    "## Static Spatial Variables"
   ]
  },
  {
   "cell_type": "markdown",
   "id": "fd51c6a8-687c-4e45-8fa6-093434b35d25",
   "metadata": {},
   "source": [
    "### Scale - Posterior"
   ]
  },
  {
   "cell_type": "code",
   "execution_count": 66,
   "id": "7ab41842-ca25-4193-89c2-7c94effe115c",
   "metadata": {},
   "outputs": [],
   "source": [
    "PLOT_VARIABLE = \"scale\"\n",
    "VARIABLE = \"t2max\"\n",
    "COVARIATE = \"gmst\"\n",
    "num_samples = 5_000"
   ]
  },
  {
   "cell_type": "code",
   "execution_count": 69,
   "id": "9736fe7f-decc-46a3-8532-619cb4812330",
   "metadata": {},
   "outputs": [],
   "source": [
    "az_ds = az.from_zarr(store=str(results_data_path))\n",
    "idata = az.extract(az_ds, group=\"posterior\", num_samples=num_samples).median(dim=[\"sample\"]).load()\n",
    "idata = idata.sortby(\"gmst\")\n",
    "idata = idata[PLOT_VARIABLE]"
   ]
  },
  {
   "cell_type": "code",
   "execution_count": 70,
   "id": "925e0673-5b4a-47c6-b531-af366ba2033c",
   "metadata": {},
   "outputs": [
    {
     "name": "stderr",
     "output_type": "stream",
     "text": [
      "\u001b[32m2024-12-17 11:10:16.091\u001b[0m | \u001b[1mINFO    \u001b[0m | \u001b[36mst_evt._src.modules.models.aemet.utils_region\u001b[0m:\u001b[36mplot_static_spatial_variable\u001b[0m:\u001b[36m262\u001b[0m - \u001b[1mStarting Static Figures...\u001b[0m\n",
      "\u001b[32m2024-12-17 11:10:16.092\u001b[0m | \u001b[1mINFO    \u001b[0m | \u001b[36mst_evt._src.modules.models.aemet.utils_region\u001b[0m:\u001b[36mplot_static_spatial_variable\u001b[0m:\u001b[36m269\u001b[0m - \u001b[1mPlotting SCALE Density...\u001b[0m\n",
      "\u001b[32m2024-12-17 11:10:16.276\u001b[0m | \u001b[34m\u001b[1mDEBUG   \u001b[0m | \u001b[36mst_evt._src.modules.models.aemet.utils_region\u001b[0m:\u001b[36mplot_static_spatial_variable\u001b[0m:\u001b[36m282\u001b[0m - \u001b[34m\u001b[1mSaved Figure: \n",
      "/home/juanjohn/pool_data/dynev4eo/experiments/walkthrough/aemet/t2max/az_nonstationary_gp_mcmc_redfeten_trainnoise/results/figures/spain/scale/posterior/scale_density.pdf\u001b[0m\n",
      "\u001b[32m2024-12-17 11:10:16.277\u001b[0m | \u001b[1mINFO    \u001b[0m | \u001b[36mst_evt._src.modules.models.aemet.utils_region\u001b[0m:\u001b[36mplot_static_spatial_variable\u001b[0m:\u001b[36m285\u001b[0m - \u001b[1mPlotting Map...\u001b[0m\n",
      "\u001b[32m2024-12-17 11:10:16.277\u001b[0m | \u001b[1mINFO    \u001b[0m | \u001b[36mst_evt._src.modules.models.aemet.utils_region\u001b[0m:\u001b[36mplot_static_spatial_variable\u001b[0m:\u001b[36m294\u001b[0m - \u001b[1mPlotting Map of Spain...\u001b[0m\n",
      "\u001b[32m2024-12-17 11:10:16.555\u001b[0m | \u001b[34m\u001b[1mDEBUG   \u001b[0m | \u001b[36mst_evt._src.modules.models.aemet.utils_region\u001b[0m:\u001b[36mplot_static_spatial_variable\u001b[0m:\u001b[36m304\u001b[0m - \u001b[34m\u001b[1mSaved Figure: \n",
      "/home/juanjohn/pool_data/dynev4eo/experiments/walkthrough/aemet/t2max/az_nonstationary_gp_mcmc_redfeten_trainnoise/results/figures/spain/scale/posterior/scale_map.png\u001b[0m\n",
      "\u001b[32m2024-12-17 11:10:16.555\u001b[0m | \u001b[1mINFO    \u001b[0m | \u001b[36mst_evt._src.modules.models.aemet.utils_region\u001b[0m:\u001b[36mplot_static_spatial_variable\u001b[0m:\u001b[36m307\u001b[0m - \u001b[1mPlotting Covariates...\u001b[0m\n",
      "\u001b[32m2024-12-17 11:10:16.677\u001b[0m | \u001b[34m\u001b[1mDEBUG   \u001b[0m | \u001b[36mst_evt._src.modules.models.aemet.utils_region\u001b[0m:\u001b[36mplot_covariates\u001b[0m:\u001b[36m138\u001b[0m - \u001b[34m\u001b[1mSaved Figure: \n",
      "/home/juanjohn/pool_data/dynev4eo/experiments/walkthrough/aemet/t2max/az_nonstationary_gp_mcmc_redfeten_trainnoise/results/figures/spain/scale/posterior/scale_covariates_lon.png\u001b[0m\n",
      "\u001b[32m2024-12-17 11:10:16.809\u001b[0m | \u001b[34m\u001b[1mDEBUG   \u001b[0m | \u001b[36mst_evt._src.modules.models.aemet.utils_region\u001b[0m:\u001b[36mplot_covariates\u001b[0m:\u001b[36m154\u001b[0m - \u001b[34m\u001b[1mSaved Figure: \n",
      "/home/juanjohn/pool_data/dynev4eo/experiments/walkthrough/aemet/t2max/az_nonstationary_gp_mcmc_redfeten_trainnoise/results/figures/spain/scale/posterior/scale_covariates_lat.png\u001b[0m\n",
      "\u001b[32m2024-12-17 11:10:16.923\u001b[0m | \u001b[34m\u001b[1mDEBUG   \u001b[0m | \u001b[36mst_evt._src.modules.models.aemet.utils_region\u001b[0m:\u001b[36mplot_covariates\u001b[0m:\u001b[36m170\u001b[0m - \u001b[34m\u001b[1mSaved Figure: \n",
      "/home/juanjohn/pool_data/dynev4eo/experiments/walkthrough/aemet/t2max/az_nonstationary_gp_mcmc_redfeten_trainnoise/results/figures/spain/scale/posterior/scale_covariates_alt.png\u001b[0m\n"
     ]
    }
   ],
   "source": [
    "subfigures_path = Path(figures_path).joinpath(f\"{PLOT_VARIABLE}/posterior\")\n",
    "subfigures_path.mkdir(parents=True, exist_ok=True)\n",
    "\n",
    "utils_region.plot_static_spatial_variable(\n",
    "    idata,\n",
    "    figures_path=subfigures_path,\n",
    "    cbar_label=utils_region.VARIABLE_LABELS[PLOT_VARIABLE],\n",
    "    cmap=\"Reds\",\n",
    "    bounds = (0.5, 10, 3.0)\n",
    ")"
   ]
  },
  {
   "cell_type": "markdown",
   "id": "c92e3490-5c43-4870-9ca5-645d66d29a0d",
   "metadata": {},
   "source": [
    "### Scale - Posterior Predictive"
   ]
  },
  {
   "cell_type": "code",
   "execution_count": 71,
   "id": "e169e554-a0a3-48b3-a136-fd3820fe0eb2",
   "metadata": {},
   "outputs": [],
   "source": [
    "PLOT_VARIABLE = \"scale\"\n",
    "VARIABLE = \"t2max\"\n",
    "COVARIATE = \"gmst\"\n",
    "num_samples = 5_000"
   ]
  },
  {
   "cell_type": "code",
   "execution_count": 72,
   "id": "4cf564db-e794-426c-b8eb-11e0ac89ac66",
   "metadata": {},
   "outputs": [],
   "source": [
    "az_ds = az.from_zarr(store=str(results_data_path))\n",
    "idata = az.extract(az_ds, group=\"posterior_predictive\", num_samples=num_samples).median(dim=[\"sample\"]).load()\n",
    "idata = idata.sortby(\"gmst\")\n",
    "idata = idata[PLOT_VARIABLE]"
   ]
  },
  {
   "cell_type": "code",
   "execution_count": 73,
   "id": "fe8ff32f-22ae-4829-a824-435a64d39fd2",
   "metadata": {},
   "outputs": [
    {
     "name": "stderr",
     "output_type": "stream",
     "text": [
      "\u001b[32m2024-12-17 11:11:04.938\u001b[0m | \u001b[1mINFO    \u001b[0m | \u001b[36mst_evt._src.modules.models.aemet.utils_region\u001b[0m:\u001b[36mplot_static_spatial_variable\u001b[0m:\u001b[36m262\u001b[0m - \u001b[1mStarting Static Figures...\u001b[0m\n",
      "\u001b[32m2024-12-17 11:11:04.939\u001b[0m | \u001b[1mINFO    \u001b[0m | \u001b[36mst_evt._src.modules.models.aemet.utils_region\u001b[0m:\u001b[36mplot_static_spatial_variable\u001b[0m:\u001b[36m269\u001b[0m - \u001b[1mPlotting SCALE Density...\u001b[0m\n",
      "\u001b[32m2024-12-17 11:11:05.135\u001b[0m | \u001b[34m\u001b[1mDEBUG   \u001b[0m | \u001b[36mst_evt._src.modules.models.aemet.utils_region\u001b[0m:\u001b[36mplot_static_spatial_variable\u001b[0m:\u001b[36m282\u001b[0m - \u001b[34m\u001b[1mSaved Figure: \n",
      "/home/juanjohn/pool_data/dynev4eo/experiments/walkthrough/aemet/t2max/az_nonstationary_gp_mcmc_redfeten_trainnoise/results/figures/spain/scale/posterior_predictive/scale_density.pdf\u001b[0m\n",
      "\u001b[32m2024-12-17 11:11:05.136\u001b[0m | \u001b[1mINFO    \u001b[0m | \u001b[36mst_evt._src.modules.models.aemet.utils_region\u001b[0m:\u001b[36mplot_static_spatial_variable\u001b[0m:\u001b[36m285\u001b[0m - \u001b[1mPlotting Map...\u001b[0m\n",
      "\u001b[32m2024-12-17 11:11:05.136\u001b[0m | \u001b[1mINFO    \u001b[0m | \u001b[36mst_evt._src.modules.models.aemet.utils_region\u001b[0m:\u001b[36mplot_static_spatial_variable\u001b[0m:\u001b[36m294\u001b[0m - \u001b[1mPlotting Map of Spain...\u001b[0m\n",
      "\u001b[32m2024-12-17 11:11:05.427\u001b[0m | \u001b[34m\u001b[1mDEBUG   \u001b[0m | \u001b[36mst_evt._src.modules.models.aemet.utils_region\u001b[0m:\u001b[36mplot_static_spatial_variable\u001b[0m:\u001b[36m304\u001b[0m - \u001b[34m\u001b[1mSaved Figure: \n",
      "/home/juanjohn/pool_data/dynev4eo/experiments/walkthrough/aemet/t2max/az_nonstationary_gp_mcmc_redfeten_trainnoise/results/figures/spain/scale/posterior_predictive/scale_map.png\u001b[0m\n",
      "\u001b[32m2024-12-17 11:11:05.427\u001b[0m | \u001b[1mINFO    \u001b[0m | \u001b[36mst_evt._src.modules.models.aemet.utils_region\u001b[0m:\u001b[36mplot_static_spatial_variable\u001b[0m:\u001b[36m307\u001b[0m - \u001b[1mPlotting Covariates...\u001b[0m\n",
      "\u001b[32m2024-12-17 11:11:05.562\u001b[0m | \u001b[34m\u001b[1mDEBUG   \u001b[0m | \u001b[36mst_evt._src.modules.models.aemet.utils_region\u001b[0m:\u001b[36mplot_covariates\u001b[0m:\u001b[36m138\u001b[0m - \u001b[34m\u001b[1mSaved Figure: \n",
      "/home/juanjohn/pool_data/dynev4eo/experiments/walkthrough/aemet/t2max/az_nonstationary_gp_mcmc_redfeten_trainnoise/results/figures/spain/scale/posterior_predictive/scale_covariates_lon.png\u001b[0m\n",
      "\u001b[32m2024-12-17 11:11:05.707\u001b[0m | \u001b[34m\u001b[1mDEBUG   \u001b[0m | \u001b[36mst_evt._src.modules.models.aemet.utils_region\u001b[0m:\u001b[36mplot_covariates\u001b[0m:\u001b[36m154\u001b[0m - \u001b[34m\u001b[1mSaved Figure: \n",
      "/home/juanjohn/pool_data/dynev4eo/experiments/walkthrough/aemet/t2max/az_nonstationary_gp_mcmc_redfeten_trainnoise/results/figures/spain/scale/posterior_predictive/scale_covariates_lat.png\u001b[0m\n",
      "\u001b[32m2024-12-17 11:11:05.833\u001b[0m | \u001b[34m\u001b[1mDEBUG   \u001b[0m | \u001b[36mst_evt._src.modules.models.aemet.utils_region\u001b[0m:\u001b[36mplot_covariates\u001b[0m:\u001b[36m170\u001b[0m - \u001b[34m\u001b[1mSaved Figure: \n",
      "/home/juanjohn/pool_data/dynev4eo/experiments/walkthrough/aemet/t2max/az_nonstationary_gp_mcmc_redfeten_trainnoise/results/figures/spain/scale/posterior_predictive/scale_covariates_alt.png\u001b[0m\n"
     ]
    }
   ],
   "source": [
    "subfigures_path = Path(figures_path).joinpath(f\"{PLOT_VARIABLE}/posterior_predictive\")\n",
    "subfigures_path.mkdir(parents=True, exist_ok=True)\n",
    "\n",
    "utils_region.plot_static_spatial_variable(\n",
    "    idata,\n",
    "    figures_path=subfigures_path,\n",
    "    cbar_label=utils_region.VARIABLE_LABELS[PLOT_VARIABLE],\n",
    "    cmap=\"Reds\",\n",
    "    bounds = (0.5, 10, 3.0)\n",
    ")"
   ]
  },
  {
   "cell_type": "markdown",
   "id": "db87e0d4-2e1d-4797-b5f5-b03eca001fc1",
   "metadata": {},
   "source": [
    "### Location Intercept - Posterior"
   ]
  },
  {
   "cell_type": "code",
   "execution_count": 74,
   "id": "24128aa9-62eb-4a42-abbd-bd63d1723d9b",
   "metadata": {},
   "outputs": [],
   "source": [
    "PLOT_VARIABLE = \"location_intercept\"\n",
    "VARIABLE = \"t2max\"\n",
    "COVARIATE = \"gmst\"\n",
    "num_samples = 5_000"
   ]
  },
  {
   "cell_type": "code",
   "execution_count": 75,
   "id": "bafa4430-818e-4013-b8e0-b88265175570",
   "metadata": {},
   "outputs": [],
   "source": [
    "az_ds = az.from_zarr(store=str(results_data_path))\n",
    "idata = az.extract(az_ds, group=\"posterior\", num_samples=num_samples).median(dim=[\"sample\"]).load()\n",
    "idata = idata.sortby(\"gmst\")\n",
    "idata = idata[PLOT_VARIABLE]"
   ]
  },
  {
   "cell_type": "code",
   "execution_count": 76,
   "id": "cd6d1eb5-878a-454e-85f8-558c5a850a57",
   "metadata": {},
   "outputs": [
    {
     "name": "stderr",
     "output_type": "stream",
     "text": [
      "\u001b[32m2024-12-17 11:12:13.137\u001b[0m | \u001b[1mINFO    \u001b[0m | \u001b[36mst_evt._src.modules.models.aemet.utils_region\u001b[0m:\u001b[36mplot_static_spatial_variable\u001b[0m:\u001b[36m262\u001b[0m - \u001b[1mStarting Static Figures...\u001b[0m\n",
      "\u001b[32m2024-12-17 11:12:13.137\u001b[0m | \u001b[1mINFO    \u001b[0m | \u001b[36mst_evt._src.modules.models.aemet.utils_region\u001b[0m:\u001b[36mplot_static_spatial_variable\u001b[0m:\u001b[36m269\u001b[0m - \u001b[1mPlotting LOCATION_INTERCEPT Density...\u001b[0m\n",
      "\u001b[32m2024-12-17 11:12:13.319\u001b[0m | \u001b[34m\u001b[1mDEBUG   \u001b[0m | \u001b[36mst_evt._src.modules.models.aemet.utils_region\u001b[0m:\u001b[36mplot_static_spatial_variable\u001b[0m:\u001b[36m282\u001b[0m - \u001b[34m\u001b[1mSaved Figure: \n",
      "/home/juanjohn/pool_data/dynev4eo/experiments/walkthrough/aemet/t2max/az_nonstationary_gp_mcmc_redfeten_trainnoise/results/figures/spain/location_intercept/posterior/location_intercept_density.pdf\u001b[0m\n",
      "\u001b[32m2024-12-17 11:12:13.320\u001b[0m | \u001b[1mINFO    \u001b[0m | \u001b[36mst_evt._src.modules.models.aemet.utils_region\u001b[0m:\u001b[36mplot_static_spatial_variable\u001b[0m:\u001b[36m285\u001b[0m - \u001b[1mPlotting Map...\u001b[0m\n",
      "\u001b[32m2024-12-17 11:12:13.320\u001b[0m | \u001b[1mINFO    \u001b[0m | \u001b[36mst_evt._src.modules.models.aemet.utils_region\u001b[0m:\u001b[36mplot_static_spatial_variable\u001b[0m:\u001b[36m294\u001b[0m - \u001b[1mPlotting Map of Spain...\u001b[0m\n",
      "\u001b[32m2024-12-17 11:12:13.598\u001b[0m | \u001b[34m\u001b[1mDEBUG   \u001b[0m | \u001b[36mst_evt._src.modules.models.aemet.utils_region\u001b[0m:\u001b[36mplot_static_spatial_variable\u001b[0m:\u001b[36m304\u001b[0m - \u001b[34m\u001b[1mSaved Figure: \n",
      "/home/juanjohn/pool_data/dynev4eo/experiments/walkthrough/aemet/t2max/az_nonstationary_gp_mcmc_redfeten_trainnoise/results/figures/spain/location_intercept/posterior/location_intercept_map.png\u001b[0m\n",
      "\u001b[32m2024-12-17 11:12:13.598\u001b[0m | \u001b[1mINFO    \u001b[0m | \u001b[36mst_evt._src.modules.models.aemet.utils_region\u001b[0m:\u001b[36mplot_static_spatial_variable\u001b[0m:\u001b[36m307\u001b[0m - \u001b[1mPlotting Covariates...\u001b[0m\n",
      "\u001b[32m2024-12-17 11:12:13.722\u001b[0m | \u001b[34m\u001b[1mDEBUG   \u001b[0m | \u001b[36mst_evt._src.modules.models.aemet.utils_region\u001b[0m:\u001b[36mplot_covariates\u001b[0m:\u001b[36m138\u001b[0m - \u001b[34m\u001b[1mSaved Figure: \n",
      "/home/juanjohn/pool_data/dynev4eo/experiments/walkthrough/aemet/t2max/az_nonstationary_gp_mcmc_redfeten_trainnoise/results/figures/spain/location_intercept/posterior/location_intercept_covariates_lon.png\u001b[0m\n",
      "\u001b[32m2024-12-17 11:12:13.858\u001b[0m | \u001b[34m\u001b[1mDEBUG   \u001b[0m | \u001b[36mst_evt._src.modules.models.aemet.utils_region\u001b[0m:\u001b[36mplot_covariates\u001b[0m:\u001b[36m154\u001b[0m - \u001b[34m\u001b[1mSaved Figure: \n",
      "/home/juanjohn/pool_data/dynev4eo/experiments/walkthrough/aemet/t2max/az_nonstationary_gp_mcmc_redfeten_trainnoise/results/figures/spain/location_intercept/posterior/location_intercept_covariates_lat.png\u001b[0m\n",
      "\u001b[32m2024-12-17 11:12:13.977\u001b[0m | \u001b[34m\u001b[1mDEBUG   \u001b[0m | \u001b[36mst_evt._src.modules.models.aemet.utils_region\u001b[0m:\u001b[36mplot_covariates\u001b[0m:\u001b[36m170\u001b[0m - \u001b[34m\u001b[1mSaved Figure: \n",
      "/home/juanjohn/pool_data/dynev4eo/experiments/walkthrough/aemet/t2max/az_nonstationary_gp_mcmc_redfeten_trainnoise/results/figures/spain/location_intercept/posterior/location_intercept_covariates_alt.png\u001b[0m\n"
     ]
    }
   ],
   "source": [
    "subfigures_path = Path(figures_path).joinpath(f\"{PLOT_VARIABLE}/posterior\")\n",
    "subfigures_path.mkdir(parents=True, exist_ok=True)\n",
    "\n",
    "utils_region.plot_static_spatial_variable(\n",
    "    idata,\n",
    "    figures_path=subfigures_path,\n",
    "    cbar_label=utils_region.VARIABLE_LABELS[PLOT_VARIABLE],\n",
    "    cmap=\"Reds\",\n",
    "    bounds = (20.0, 10, 45.0)\n",
    ")"
   ]
  },
  {
   "cell_type": "markdown",
   "id": "36ea00f2-3ed2-4a29-bafb-52bd9e67112b",
   "metadata": {},
   "source": [
    "### Location Intercept - Posterior Predictive"
   ]
  },
  {
   "cell_type": "code",
   "execution_count": 82,
   "id": "e763b309-f345-4507-aa27-232fddb4c4e8",
   "metadata": {},
   "outputs": [],
   "source": [
    "PLOT_VARIABLE = \"location_intercept\"\n",
    "VARIABLE = \"t2max\"\n",
    "COVARIATE = \"gmst\"\n",
    "num_samples = 5_000"
   ]
  },
  {
   "cell_type": "code",
   "execution_count": 83,
   "id": "f3faf371-cbd5-443b-9fd7-7d5c44e25153",
   "metadata": {},
   "outputs": [],
   "source": [
    "az_ds = az.from_zarr(store=str(results_data_path))\n",
    "idata = az.extract(az_ds, group=\"posterior_predictive\", num_samples=num_samples).mean(dim=[\"sample\"]).load()\n",
    "idata = idata.sortby(\"gmst\")\n",
    "idata = idata[PLOT_VARIABLE]"
   ]
  },
  {
   "cell_type": "code",
   "execution_count": 84,
   "id": "8275e21d-2545-49e5-bca4-583103bb9989",
   "metadata": {},
   "outputs": [
    {
     "name": "stderr",
     "output_type": "stream",
     "text": [
      "\u001b[32m2024-12-17 11:14:25.967\u001b[0m | \u001b[1mINFO    \u001b[0m | \u001b[36mst_evt._src.modules.models.aemet.utils_region\u001b[0m:\u001b[36mplot_static_spatial_variable\u001b[0m:\u001b[36m262\u001b[0m - \u001b[1mStarting Static Figures...\u001b[0m\n",
      "\u001b[32m2024-12-17 11:14:25.968\u001b[0m | \u001b[1mINFO    \u001b[0m | \u001b[36mst_evt._src.modules.models.aemet.utils_region\u001b[0m:\u001b[36mplot_static_spatial_variable\u001b[0m:\u001b[36m269\u001b[0m - \u001b[1mPlotting LOCATION_INTERCEPT Density...\u001b[0m\n",
      "\u001b[32m2024-12-17 11:14:26.159\u001b[0m | \u001b[34m\u001b[1mDEBUG   \u001b[0m | \u001b[36mst_evt._src.modules.models.aemet.utils_region\u001b[0m:\u001b[36mplot_static_spatial_variable\u001b[0m:\u001b[36m282\u001b[0m - \u001b[34m\u001b[1mSaved Figure: \n",
      "/home/juanjohn/pool_data/dynev4eo/experiments/walkthrough/aemet/t2max/az_nonstationary_gp_mcmc_redfeten_trainnoise/results/figures/spain/location_intercept/posterior_predictive/location_intercept_density.pdf\u001b[0m\n",
      "\u001b[32m2024-12-17 11:14:26.159\u001b[0m | \u001b[1mINFO    \u001b[0m | \u001b[36mst_evt._src.modules.models.aemet.utils_region\u001b[0m:\u001b[36mplot_static_spatial_variable\u001b[0m:\u001b[36m285\u001b[0m - \u001b[1mPlotting Map...\u001b[0m\n",
      "\u001b[32m2024-12-17 11:14:26.160\u001b[0m | \u001b[1mINFO    \u001b[0m | \u001b[36mst_evt._src.modules.models.aemet.utils_region\u001b[0m:\u001b[36mplot_static_spatial_variable\u001b[0m:\u001b[36m294\u001b[0m - \u001b[1mPlotting Map of Spain...\u001b[0m\n",
      "\u001b[32m2024-12-17 11:14:26.457\u001b[0m | \u001b[34m\u001b[1mDEBUG   \u001b[0m | \u001b[36mst_evt._src.modules.models.aemet.utils_region\u001b[0m:\u001b[36mplot_static_spatial_variable\u001b[0m:\u001b[36m304\u001b[0m - \u001b[34m\u001b[1mSaved Figure: \n",
      "/home/juanjohn/pool_data/dynev4eo/experiments/walkthrough/aemet/t2max/az_nonstationary_gp_mcmc_redfeten_trainnoise/results/figures/spain/location_intercept/posterior_predictive/location_intercept_map.png\u001b[0m\n",
      "\u001b[32m2024-12-17 11:14:26.458\u001b[0m | \u001b[1mINFO    \u001b[0m | \u001b[36mst_evt._src.modules.models.aemet.utils_region\u001b[0m:\u001b[36mplot_static_spatial_variable\u001b[0m:\u001b[36m307\u001b[0m - \u001b[1mPlotting Covariates...\u001b[0m\n",
      "\u001b[32m2024-12-17 11:14:26.839\u001b[0m | \u001b[34m\u001b[1mDEBUG   \u001b[0m | \u001b[36mst_evt._src.modules.models.aemet.utils_region\u001b[0m:\u001b[36mplot_covariates\u001b[0m:\u001b[36m138\u001b[0m - \u001b[34m\u001b[1mSaved Figure: \n",
      "/home/juanjohn/pool_data/dynev4eo/experiments/walkthrough/aemet/t2max/az_nonstationary_gp_mcmc_redfeten_trainnoise/results/figures/spain/location_intercept/posterior_predictive/location_intercept_covariates_lon.png\u001b[0m\n",
      "\u001b[32m2024-12-17 11:14:26.967\u001b[0m | \u001b[34m\u001b[1mDEBUG   \u001b[0m | \u001b[36mst_evt._src.modules.models.aemet.utils_region\u001b[0m:\u001b[36mplot_covariates\u001b[0m:\u001b[36m154\u001b[0m - \u001b[34m\u001b[1mSaved Figure: \n",
      "/home/juanjohn/pool_data/dynev4eo/experiments/walkthrough/aemet/t2max/az_nonstationary_gp_mcmc_redfeten_trainnoise/results/figures/spain/location_intercept/posterior_predictive/location_intercept_covariates_lat.png\u001b[0m\n",
      "\u001b[32m2024-12-17 11:14:27.076\u001b[0m | \u001b[34m\u001b[1mDEBUG   \u001b[0m | \u001b[36mst_evt._src.modules.models.aemet.utils_region\u001b[0m:\u001b[36mplot_covariates\u001b[0m:\u001b[36m170\u001b[0m - \u001b[34m\u001b[1mSaved Figure: \n",
      "/home/juanjohn/pool_data/dynev4eo/experiments/walkthrough/aemet/t2max/az_nonstationary_gp_mcmc_redfeten_trainnoise/results/figures/spain/location_intercept/posterior_predictive/location_intercept_covariates_alt.png\u001b[0m\n"
     ]
    }
   ],
   "source": [
    "subfigures_path = Path(figures_path).joinpath(f\"{PLOT_VARIABLE}/posterior_predictive\")\n",
    "subfigures_path.mkdir(parents=True, exist_ok=True)\n",
    "\n",
    "utils_region.plot_static_spatial_variable(\n",
    "    idata,\n",
    "    figures_path=subfigures_path,\n",
    "    cbar_label=utils_region.VARIABLE_LABELS[PLOT_VARIABLE],\n",
    "    cmap=\"Reds\",\n",
    "    bounds = (20.0, 10, 45.0)\n",
    ")"
   ]
  },
  {
   "cell_type": "markdown",
   "id": "6ae94b7f-8b1c-432d-b971-f69e73d54e39",
   "metadata": {},
   "source": [
    "### Location Slope - Posterior"
   ]
  },
  {
   "cell_type": "code",
   "execution_count": 85,
   "id": "3ff756c1-5a43-4257-aa10-ab01cd15c61e",
   "metadata": {},
   "outputs": [],
   "source": [
    "PLOT_VARIABLE = \"location_slope\"\n",
    "VARIABLE = \"t2max\"\n",
    "COVARIATE = \"gmst\"\n",
    "num_samples = 5_000"
   ]
  },
  {
   "cell_type": "code",
   "execution_count": 86,
   "id": "43e9b4bd-6dd1-463d-88b2-4081b368722d",
   "metadata": {},
   "outputs": [],
   "source": [
    "az_ds = az.from_zarr(store=str(results_data_path))\n",
    "idata = az.extract(az_ds, group=\"posterior\", num_samples=num_samples).median(dim=[\"sample\"]).load()\n",
    "idata = idata.sortby(\"gmst\")\n",
    "idata = idata[PLOT_VARIABLE]"
   ]
  },
  {
   "cell_type": "code",
   "execution_count": 87,
   "id": "a413815a-b9fd-4df7-a192-360aaa9235f2",
   "metadata": {},
   "outputs": [
    {
     "name": "stderr",
     "output_type": "stream",
     "text": [
      "\u001b[32m2024-12-17 11:14:47.194\u001b[0m | \u001b[1mINFO    \u001b[0m | \u001b[36mst_evt._src.modules.models.aemet.utils_region\u001b[0m:\u001b[36mplot_static_spatial_variable\u001b[0m:\u001b[36m262\u001b[0m - \u001b[1mStarting Static Figures...\u001b[0m\n",
      "\u001b[32m2024-12-17 11:14:47.195\u001b[0m | \u001b[1mINFO    \u001b[0m | \u001b[36mst_evt._src.modules.models.aemet.utils_region\u001b[0m:\u001b[36mplot_static_spatial_variable\u001b[0m:\u001b[36m269\u001b[0m - \u001b[1mPlotting LOCATION_SLOPE Density...\u001b[0m\n",
      "\u001b[32m2024-12-17 11:14:47.377\u001b[0m | \u001b[34m\u001b[1mDEBUG   \u001b[0m | \u001b[36mst_evt._src.modules.models.aemet.utils_region\u001b[0m:\u001b[36mplot_static_spatial_variable\u001b[0m:\u001b[36m282\u001b[0m - \u001b[34m\u001b[1mSaved Figure: \n",
      "/home/juanjohn/pool_data/dynev4eo/experiments/walkthrough/aemet/t2max/az_nonstationary_gp_mcmc_redfeten_trainnoise/results/figures/spain/location_slope/posterior/location_slope_density.pdf\u001b[0m\n",
      "\u001b[32m2024-12-17 11:14:47.378\u001b[0m | \u001b[1mINFO    \u001b[0m | \u001b[36mst_evt._src.modules.models.aemet.utils_region\u001b[0m:\u001b[36mplot_static_spatial_variable\u001b[0m:\u001b[36m285\u001b[0m - \u001b[1mPlotting Map...\u001b[0m\n",
      "\u001b[32m2024-12-17 11:14:47.378\u001b[0m | \u001b[1mINFO    \u001b[0m | \u001b[36mst_evt._src.modules.models.aemet.utils_region\u001b[0m:\u001b[36mplot_static_spatial_variable\u001b[0m:\u001b[36m294\u001b[0m - \u001b[1mPlotting Map of Spain...\u001b[0m\n",
      "\u001b[32m2024-12-17 11:14:47.680\u001b[0m | \u001b[34m\u001b[1mDEBUG   \u001b[0m | \u001b[36mst_evt._src.modules.models.aemet.utils_region\u001b[0m:\u001b[36mplot_static_spatial_variable\u001b[0m:\u001b[36m304\u001b[0m - \u001b[34m\u001b[1mSaved Figure: \n",
      "/home/juanjohn/pool_data/dynev4eo/experiments/walkthrough/aemet/t2max/az_nonstationary_gp_mcmc_redfeten_trainnoise/results/figures/spain/location_slope/posterior/location_slope_map.png\u001b[0m\n",
      "\u001b[32m2024-12-17 11:14:47.680\u001b[0m | \u001b[1mINFO    \u001b[0m | \u001b[36mst_evt._src.modules.models.aemet.utils_region\u001b[0m:\u001b[36mplot_static_spatial_variable\u001b[0m:\u001b[36m307\u001b[0m - \u001b[1mPlotting Covariates...\u001b[0m\n",
      "\u001b[32m2024-12-17 11:14:47.797\u001b[0m | \u001b[34m\u001b[1mDEBUG   \u001b[0m | \u001b[36mst_evt._src.modules.models.aemet.utils_region\u001b[0m:\u001b[36mplot_covariates\u001b[0m:\u001b[36m138\u001b[0m - \u001b[34m\u001b[1mSaved Figure: \n",
      "/home/juanjohn/pool_data/dynev4eo/experiments/walkthrough/aemet/t2max/az_nonstationary_gp_mcmc_redfeten_trainnoise/results/figures/spain/location_slope/posterior/location_slope_covariates_lon.png\u001b[0m\n",
      "\u001b[32m2024-12-17 11:14:47.925\u001b[0m | \u001b[34m\u001b[1mDEBUG   \u001b[0m | \u001b[36mst_evt._src.modules.models.aemet.utils_region\u001b[0m:\u001b[36mplot_covariates\u001b[0m:\u001b[36m154\u001b[0m - \u001b[34m\u001b[1mSaved Figure: \n",
      "/home/juanjohn/pool_data/dynev4eo/experiments/walkthrough/aemet/t2max/az_nonstationary_gp_mcmc_redfeten_trainnoise/results/figures/spain/location_slope/posterior/location_slope_covariates_lat.png\u001b[0m\n",
      "\u001b[32m2024-12-17 11:14:48.034\u001b[0m | \u001b[34m\u001b[1mDEBUG   \u001b[0m | \u001b[36mst_evt._src.modules.models.aemet.utils_region\u001b[0m:\u001b[36mplot_covariates\u001b[0m:\u001b[36m170\u001b[0m - \u001b[34m\u001b[1mSaved Figure: \n",
      "/home/juanjohn/pool_data/dynev4eo/experiments/walkthrough/aemet/t2max/az_nonstationary_gp_mcmc_redfeten_trainnoise/results/figures/spain/location_slope/posterior/location_slope_covariates_alt.png\u001b[0m\n"
     ]
    }
   ],
   "source": [
    "subfigures_path = Path(figures_path).joinpath(f\"{PLOT_VARIABLE}/posterior\")\n",
    "subfigures_path.mkdir(parents=True, exist_ok=True)\n",
    "\n",
    "utils_region.plot_static_spatial_variable(\n",
    "    idata,\n",
    "    figures_path=subfigures_path,\n",
    "    cbar_label=utils_region.VARIABLE_LABELS[PLOT_VARIABLE],\n",
    "    cmap=\"Reds\",\n",
    "    bounds = (0.5, 8, 2.5)\n",
    ")"
   ]
  },
  {
   "cell_type": "markdown",
   "id": "a8be2bc3-bfca-4020-9101-c326c099d5fc",
   "metadata": {},
   "source": [
    "### Location Slope - Posterior Predictive"
   ]
  },
  {
   "cell_type": "code",
   "execution_count": 88,
   "id": "d9b7c704-6026-42a1-947b-c87750e81739",
   "metadata": {},
   "outputs": [],
   "source": [
    "PLOT_VARIABLE = \"location_slope\"\n",
    "VARIABLE = \"t2max\"\n",
    "COVARIATE = \"gmst\"\n",
    "num_samples = 5_000"
   ]
  },
  {
   "cell_type": "code",
   "execution_count": 89,
   "id": "6acf427b-3bb7-4b6b-ba25-127d6e78131a",
   "metadata": {},
   "outputs": [],
   "source": [
    "az_ds = az.from_zarr(store=str(results_data_path))\n",
    "idata = az.extract(az_ds, group=\"posterior_predictive\", num_samples=num_samples).median(dim=[\"sample\"]).load()\n",
    "idata = idata.sortby(\"gmst\")\n",
    "idata = idata[PLOT_VARIABLE]"
   ]
  },
  {
   "cell_type": "code",
   "execution_count": 90,
   "id": "bbae6586-ca4a-442a-8575-826c77cf450f",
   "metadata": {},
   "outputs": [
    {
     "name": "stderr",
     "output_type": "stream",
     "text": [
      "\u001b[32m2024-12-17 11:15:31.799\u001b[0m | \u001b[1mINFO    \u001b[0m | \u001b[36mst_evt._src.modules.models.aemet.utils_region\u001b[0m:\u001b[36mplot_static_spatial_variable\u001b[0m:\u001b[36m262\u001b[0m - \u001b[1mStarting Static Figures...\u001b[0m\n",
      "\u001b[32m2024-12-17 11:15:31.800\u001b[0m | \u001b[1mINFO    \u001b[0m | \u001b[36mst_evt._src.modules.models.aemet.utils_region\u001b[0m:\u001b[36mplot_static_spatial_variable\u001b[0m:\u001b[36m269\u001b[0m - \u001b[1mPlotting LOCATION_SLOPE Density...\u001b[0m\n",
      "\u001b[32m2024-12-17 11:15:31.988\u001b[0m | \u001b[34m\u001b[1mDEBUG   \u001b[0m | \u001b[36mst_evt._src.modules.models.aemet.utils_region\u001b[0m:\u001b[36mplot_static_spatial_variable\u001b[0m:\u001b[36m282\u001b[0m - \u001b[34m\u001b[1mSaved Figure: \n",
      "/home/juanjohn/pool_data/dynev4eo/experiments/walkthrough/aemet/t2max/az_nonstationary_gp_mcmc_redfeten_trainnoise/results/figures/spain/location_slope/posterior_predictive/location_slope_density.pdf\u001b[0m\n",
      "\u001b[32m2024-12-17 11:15:31.988\u001b[0m | \u001b[1mINFO    \u001b[0m | \u001b[36mst_evt._src.modules.models.aemet.utils_region\u001b[0m:\u001b[36mplot_static_spatial_variable\u001b[0m:\u001b[36m285\u001b[0m - \u001b[1mPlotting Map...\u001b[0m\n",
      "\u001b[32m2024-12-17 11:15:31.989\u001b[0m | \u001b[1mINFO    \u001b[0m | \u001b[36mst_evt._src.modules.models.aemet.utils_region\u001b[0m:\u001b[36mplot_static_spatial_variable\u001b[0m:\u001b[36m294\u001b[0m - \u001b[1mPlotting Map of Spain...\u001b[0m\n",
      "\u001b[32m2024-12-17 11:15:32.284\u001b[0m | \u001b[34m\u001b[1mDEBUG   \u001b[0m | \u001b[36mst_evt._src.modules.models.aemet.utils_region\u001b[0m:\u001b[36mplot_static_spatial_variable\u001b[0m:\u001b[36m304\u001b[0m - \u001b[34m\u001b[1mSaved Figure: \n",
      "/home/juanjohn/pool_data/dynev4eo/experiments/walkthrough/aemet/t2max/az_nonstationary_gp_mcmc_redfeten_trainnoise/results/figures/spain/location_slope/posterior_predictive/location_slope_map.png\u001b[0m\n",
      "\u001b[32m2024-12-17 11:15:32.284\u001b[0m | \u001b[1mINFO    \u001b[0m | \u001b[36mst_evt._src.modules.models.aemet.utils_region\u001b[0m:\u001b[36mplot_static_spatial_variable\u001b[0m:\u001b[36m307\u001b[0m - \u001b[1mPlotting Covariates...\u001b[0m\n",
      "\u001b[32m2024-12-17 11:15:32.418\u001b[0m | \u001b[34m\u001b[1mDEBUG   \u001b[0m | \u001b[36mst_evt._src.modules.models.aemet.utils_region\u001b[0m:\u001b[36mplot_covariates\u001b[0m:\u001b[36m138\u001b[0m - \u001b[34m\u001b[1mSaved Figure: \n",
      "/home/juanjohn/pool_data/dynev4eo/experiments/walkthrough/aemet/t2max/az_nonstationary_gp_mcmc_redfeten_trainnoise/results/figures/spain/location_slope/posterior_predictive/location_slope_covariates_lon.png\u001b[0m\n",
      "\u001b[32m2024-12-17 11:15:32.564\u001b[0m | \u001b[34m\u001b[1mDEBUG   \u001b[0m | \u001b[36mst_evt._src.modules.models.aemet.utils_region\u001b[0m:\u001b[36mplot_covariates\u001b[0m:\u001b[36m154\u001b[0m - \u001b[34m\u001b[1mSaved Figure: \n",
      "/home/juanjohn/pool_data/dynev4eo/experiments/walkthrough/aemet/t2max/az_nonstationary_gp_mcmc_redfeten_trainnoise/results/figures/spain/location_slope/posterior_predictive/location_slope_covariates_lat.png\u001b[0m\n",
      "\u001b[32m2024-12-17 11:15:32.691\u001b[0m | \u001b[34m\u001b[1mDEBUG   \u001b[0m | \u001b[36mst_evt._src.modules.models.aemet.utils_region\u001b[0m:\u001b[36mplot_covariates\u001b[0m:\u001b[36m170\u001b[0m - \u001b[34m\u001b[1mSaved Figure: \n",
      "/home/juanjohn/pool_data/dynev4eo/experiments/walkthrough/aemet/t2max/az_nonstationary_gp_mcmc_redfeten_trainnoise/results/figures/spain/location_slope/posterior_predictive/location_slope_covariates_alt.png\u001b[0m\n"
     ]
    }
   ],
   "source": [
    "subfigures_path = Path(figures_path).joinpath(f\"{PLOT_VARIABLE}/posterior_predictive\")\n",
    "subfigures_path.mkdir(parents=True, exist_ok=True)\n",
    "\n",
    "utils_region.plot_static_spatial_variable(\n",
    "    idata,\n",
    "    figures_path=subfigures_path,\n",
    "    cbar_label=utils_region.VARIABLE_LABELS[PLOT_VARIABLE],\n",
    "    cmap=\"Reds\",\n",
    "    bounds = (0.5, 8, 2.5)\n",
    ")"
   ]
  },
  {
   "cell_type": "markdown",
   "id": "09f56714-291b-46ea-ac88-75f0880fefe8",
   "metadata": {},
   "source": [
    "## Dynamic Spatial Variables"
   ]
  },
  {
   "cell_type": "markdown",
   "id": "0b706c48-d653-465e-9177-af26efcacd9a",
   "metadata": {},
   "source": [
    "### Locaiton - Posterior"
   ]
  },
  {
   "cell_type": "code",
   "execution_count": 91,
   "id": "45960fe6-fb24-4df9-965e-3531ff188609",
   "metadata": {},
   "outputs": [],
   "source": [
    "PLOT_VARIABLE = \"location\"\n",
    "VARIABLE = \"t2max\"\n",
    "COVARIATE = \"gmst\"\n",
    "num_samples = 5_000"
   ]
  },
  {
   "cell_type": "code",
   "execution_count": 92,
   "id": "d5877da3-f7ca-4cc9-a04e-e94ccf7aed2c",
   "metadata": {},
   "outputs": [],
   "source": [
    "data_results = az.extract(az_ds, group=\"posterior\", num_samples=num_samples).median(dim=[\"sample\"]).load()\n",
    "data_results = data_results.sortby(\"gmst\")\n",
    "idata = data_results[PLOT_VARIABLE]"
   ]
  },
  {
   "cell_type": "code",
   "execution_count": 93,
   "id": "7d69e8b9-db00-4826-aff5-70dedb30e17f",
   "metadata": {},
   "outputs": [
    {
     "name": "stderr",
     "output_type": "stream",
     "text": [
      "\u001b[32m2024-12-17 11:16:06.936\u001b[0m | \u001b[1mINFO    \u001b[0m | \u001b[36mst_evt._src.modules.models.aemet.utils_region\u001b[0m:\u001b[36mplot_dynamic_spatial_variable_postpred\u001b[0m:\u001b[36m404\u001b[0m - \u001b[1mPlotting LOCATION Density...\u001b[0m\n",
      "\u001b[32m2024-12-17 11:16:07.149\u001b[0m | \u001b[34m\u001b[1mDEBUG   \u001b[0m | \u001b[36mst_evt._src.modules.models.aemet.utils_region\u001b[0m:\u001b[36mplot_dynamic_spatial_variable_postpred\u001b[0m:\u001b[36m428\u001b[0m - \u001b[34m\u001b[1mSaved Figure: \n",
      "/home/juanjohn/pool_data/dynev4eo/experiments/walkthrough/aemet/t2max/az_nonstationary_gp_mcmc_redfeten_trainnoise/results/figures/spain/location/posterior/location_density_groups.png\u001b[0m\n",
      "\u001b[32m2024-12-17 11:16:07.149\u001b[0m | \u001b[1mINFO    \u001b[0m | \u001b[36mst_evt._src.modules.models.aemet.utils_region\u001b[0m:\u001b[36mplot_dynamic_spatial_variable_postpred\u001b[0m:\u001b[36m431\u001b[0m - \u001b[1mPlotting Map...\u001b[0m\n",
      "\u001b[32m2024-12-17 11:16:07.150\u001b[0m | \u001b[1mINFO    \u001b[0m | \u001b[36mst_evt._src.modules.models.aemet.utils_region\u001b[0m:\u001b[36mplot_dynamic_spatial_variable_postpred\u001b[0m:\u001b[36m441\u001b[0m - \u001b[1mPlotting Map of Spain...\u001b[0m\n",
      "\u001b[32m2024-12-17 11:16:07.429\u001b[0m | \u001b[34m\u001b[1mDEBUG   \u001b[0m | \u001b[36mst_evt._src.modules.models.aemet.utils_region\u001b[0m:\u001b[36mplot_dynamic_spatial_variable_postpred\u001b[0m:\u001b[36m447\u001b[0m - \u001b[34m\u001b[1mSaved Figure: \n",
      "/home/juanjohn/pool_data/dynev4eo/experiments/walkthrough/aemet/t2max/az_nonstationary_gp_mcmc_redfeten_trainnoise/results/figures/spain/location/posterior/location_map_start.png\u001b[0m\n",
      "\u001b[32m2024-12-17 11:16:07.430\u001b[0m | \u001b[1mINFO    \u001b[0m | \u001b[36mst_evt._src.modules.models.aemet.utils_region\u001b[0m:\u001b[36mplot_dynamic_spatial_variable_postpred\u001b[0m:\u001b[36m450\u001b[0m - \u001b[1mPlotting Covariates...\u001b[0m\n",
      "\u001b[32m2024-12-17 11:16:07.830\u001b[0m | \u001b[34m\u001b[1mDEBUG   \u001b[0m | \u001b[36mst_evt._src.modules.models.aemet.utils_region\u001b[0m:\u001b[36mplot_covariates\u001b[0m:\u001b[36m138\u001b[0m - \u001b[34m\u001b[1mSaved Figure: \n",
      "/home/juanjohn/pool_data/dynev4eo/experiments/walkthrough/aemet/t2max/az_nonstationary_gp_mcmc_redfeten_trainnoise/results/figures/spain/location/posterior/location_start_covariates_lon.png\u001b[0m\n",
      "\u001b[32m2024-12-17 11:16:07.965\u001b[0m | \u001b[34m\u001b[1mDEBUG   \u001b[0m | \u001b[36mst_evt._src.modules.models.aemet.utils_region\u001b[0m:\u001b[36mplot_covariates\u001b[0m:\u001b[36m154\u001b[0m - \u001b[34m\u001b[1mSaved Figure: \n",
      "/home/juanjohn/pool_data/dynev4eo/experiments/walkthrough/aemet/t2max/az_nonstationary_gp_mcmc_redfeten_trainnoise/results/figures/spain/location/posterior/location_start_covariates_lat.png\u001b[0m\n",
      "\u001b[32m2024-12-17 11:16:08.083\u001b[0m | \u001b[34m\u001b[1mDEBUG   \u001b[0m | \u001b[36mst_evt._src.modules.models.aemet.utils_region\u001b[0m:\u001b[36mplot_covariates\u001b[0m:\u001b[36m170\u001b[0m - \u001b[34m\u001b[1mSaved Figure: \n",
      "/home/juanjohn/pool_data/dynev4eo/experiments/walkthrough/aemet/t2max/az_nonstationary_gp_mcmc_redfeten_trainnoise/results/figures/spain/location/posterior/location_start_covariates_alt.png\u001b[0m\n",
      "\u001b[32m2024-12-17 11:16:08.084\u001b[0m | \u001b[1mINFO    \u001b[0m | \u001b[36mst_evt._src.modules.models.aemet.utils_region\u001b[0m:\u001b[36mplot_dynamic_spatial_variable_postpred\u001b[0m:\u001b[36m441\u001b[0m - \u001b[1mPlotting Map of Spain...\u001b[0m\n",
      "\u001b[32m2024-12-17 11:16:08.362\u001b[0m | \u001b[34m\u001b[1mDEBUG   \u001b[0m | \u001b[36mst_evt._src.modules.models.aemet.utils_region\u001b[0m:\u001b[36mplot_dynamic_spatial_variable_postpred\u001b[0m:\u001b[36m447\u001b[0m - \u001b[34m\u001b[1mSaved Figure: \n",
      "/home/juanjohn/pool_data/dynev4eo/experiments/walkthrough/aemet/t2max/az_nonstationary_gp_mcmc_redfeten_trainnoise/results/figures/spain/location/posterior/location_map_end.png\u001b[0m\n",
      "\u001b[32m2024-12-17 11:16:08.362\u001b[0m | \u001b[1mINFO    \u001b[0m | \u001b[36mst_evt._src.modules.models.aemet.utils_region\u001b[0m:\u001b[36mplot_dynamic_spatial_variable_postpred\u001b[0m:\u001b[36m450\u001b[0m - \u001b[1mPlotting Covariates...\u001b[0m\n",
      "\u001b[32m2024-12-17 11:16:08.486\u001b[0m | \u001b[34m\u001b[1mDEBUG   \u001b[0m | \u001b[36mst_evt._src.modules.models.aemet.utils_region\u001b[0m:\u001b[36mplot_covariates\u001b[0m:\u001b[36m138\u001b[0m - \u001b[34m\u001b[1mSaved Figure: \n",
      "/home/juanjohn/pool_data/dynev4eo/experiments/walkthrough/aemet/t2max/az_nonstationary_gp_mcmc_redfeten_trainnoise/results/figures/spain/location/posterior/location_end_covariates_lon.png\u001b[0m\n",
      "\u001b[32m2024-12-17 11:16:08.624\u001b[0m | \u001b[34m\u001b[1mDEBUG   \u001b[0m | \u001b[36mst_evt._src.modules.models.aemet.utils_region\u001b[0m:\u001b[36mplot_covariates\u001b[0m:\u001b[36m154\u001b[0m - \u001b[34m\u001b[1mSaved Figure: \n",
      "/home/juanjohn/pool_data/dynev4eo/experiments/walkthrough/aemet/t2max/az_nonstationary_gp_mcmc_redfeten_trainnoise/results/figures/spain/location/posterior/location_end_covariates_lat.png\u001b[0m\n",
      "\u001b[32m2024-12-17 11:16:08.739\u001b[0m | \u001b[34m\u001b[1mDEBUG   \u001b[0m | \u001b[36mst_evt._src.modules.models.aemet.utils_region\u001b[0m:\u001b[36mplot_covariates\u001b[0m:\u001b[36m170\u001b[0m - \u001b[34m\u001b[1mSaved Figure: \n",
      "/home/juanjohn/pool_data/dynev4eo/experiments/walkthrough/aemet/t2max/az_nonstationary_gp_mcmc_redfeten_trainnoise/results/figures/spain/location/posterior/location_end_covariates_alt.png\u001b[0m\n"
     ]
    }
   ],
   "source": [
    "subfigures_path = Path(figures_path).joinpath(f\"{PLOT_VARIABLE}/posterior\")\n",
    "subfigures_path.mkdir(parents=True, exist_ok=True)\n",
    "\n",
    "utils_region.plot_dynamic_spatial_variable_postpred(\n",
    "    idata,\n",
    "    figures_path=subfigures_path,\n",
    "    cbar_label=utils_region.VARIABLE_LABELS[PLOT_VARIABLE],\n",
    "    cmap=\"Reds\",\n",
    "    bounds = (20, 10, 45),\n",
    "    covariate = covariate,\n",
    "    units = \"[°C]\"\n",
    ")"
   ]
  },
  {
   "cell_type": "markdown",
   "id": "cbf19454-1818-433e-80c5-64d67a13de27",
   "metadata": {},
   "source": [
    "### Locaiton - Posterior Predictive"
   ]
  },
  {
   "cell_type": "code",
   "execution_count": 100,
   "id": "717b04ad-1aa0-4fec-8999-2e7a25a5b283",
   "metadata": {},
   "outputs": [],
   "source": [
    "PLOT_VARIABLE = \"location\"\n",
    "VARIABLE = \"t2max\"\n",
    "COVARIATE = \"gmst\"\n",
    "num_samples = 10_000"
   ]
  },
  {
   "cell_type": "code",
   "execution_count": 101,
   "id": "dd5efbae-2d0b-432f-bd1e-44b70f12aab3",
   "metadata": {},
   "outputs": [],
   "source": [
    "data_results = az.extract(az_ds, group=\"posterior_predictive\", num_samples=num_samples).median(dim=[\"sample\"]).load()\n",
    "data_results = data_results.sortby(\"gmst\")\n",
    "idata = data_results[PLOT_VARIABLE]"
   ]
  },
  {
   "cell_type": "code",
   "execution_count": 102,
   "id": "bb41c727-26cb-4884-8131-e753d3660d46",
   "metadata": {},
   "outputs": [
    {
     "name": "stderr",
     "output_type": "stream",
     "text": [
      "\u001b[32m2024-12-17 11:17:56.299\u001b[0m | \u001b[1mINFO    \u001b[0m | \u001b[36mst_evt._src.modules.models.aemet.utils_region\u001b[0m:\u001b[36mplot_dynamic_spatial_variable_postpred\u001b[0m:\u001b[36m404\u001b[0m - \u001b[1mPlotting LOCATION Density...\u001b[0m\n",
      "\u001b[32m2024-12-17 11:17:56.517\u001b[0m | \u001b[34m\u001b[1mDEBUG   \u001b[0m | \u001b[36mst_evt._src.modules.models.aemet.utils_region\u001b[0m:\u001b[36mplot_dynamic_spatial_variable_postpred\u001b[0m:\u001b[36m428\u001b[0m - \u001b[34m\u001b[1mSaved Figure: \n",
      "/home/juanjohn/pool_data/dynev4eo/experiments/walkthrough/aemet/t2max/az_nonstationary_gp_mcmc_redfeten_trainnoise/results/figures/spain/location/posterior_predictive/location_density_groups.png\u001b[0m\n",
      "\u001b[32m2024-12-17 11:17:56.518\u001b[0m | \u001b[1mINFO    \u001b[0m | \u001b[36mst_evt._src.modules.models.aemet.utils_region\u001b[0m:\u001b[36mplot_dynamic_spatial_variable_postpred\u001b[0m:\u001b[36m431\u001b[0m - \u001b[1mPlotting Map...\u001b[0m\n",
      "\u001b[32m2024-12-17 11:17:56.519\u001b[0m | \u001b[1mINFO    \u001b[0m | \u001b[36mst_evt._src.modules.models.aemet.utils_region\u001b[0m:\u001b[36mplot_dynamic_spatial_variable_postpred\u001b[0m:\u001b[36m441\u001b[0m - \u001b[1mPlotting Map of Spain...\u001b[0m\n",
      "\u001b[32m2024-12-17 11:17:56.808\u001b[0m | \u001b[34m\u001b[1mDEBUG   \u001b[0m | \u001b[36mst_evt._src.modules.models.aemet.utils_region\u001b[0m:\u001b[36mplot_dynamic_spatial_variable_postpred\u001b[0m:\u001b[36m447\u001b[0m - \u001b[34m\u001b[1mSaved Figure: \n",
      "/home/juanjohn/pool_data/dynev4eo/experiments/walkthrough/aemet/t2max/az_nonstationary_gp_mcmc_redfeten_trainnoise/results/figures/spain/location/posterior_predictive/location_map_start.png\u001b[0m\n",
      "\u001b[32m2024-12-17 11:17:56.808\u001b[0m | \u001b[1mINFO    \u001b[0m | \u001b[36mst_evt._src.modules.models.aemet.utils_region\u001b[0m:\u001b[36mplot_dynamic_spatial_variable_postpred\u001b[0m:\u001b[36m450\u001b[0m - \u001b[1mPlotting Covariates...\u001b[0m\n",
      "\u001b[32m2024-12-17 11:17:56.941\u001b[0m | \u001b[34m\u001b[1mDEBUG   \u001b[0m | \u001b[36mst_evt._src.modules.models.aemet.utils_region\u001b[0m:\u001b[36mplot_covariates\u001b[0m:\u001b[36m138\u001b[0m - \u001b[34m\u001b[1mSaved Figure: \n",
      "/home/juanjohn/pool_data/dynev4eo/experiments/walkthrough/aemet/t2max/az_nonstationary_gp_mcmc_redfeten_trainnoise/results/figures/spain/location/posterior_predictive/location_start_covariates_lon.png\u001b[0m\n",
      "\u001b[32m2024-12-17 11:17:57.329\u001b[0m | \u001b[34m\u001b[1mDEBUG   \u001b[0m | \u001b[36mst_evt._src.modules.models.aemet.utils_region\u001b[0m:\u001b[36mplot_covariates\u001b[0m:\u001b[36m154\u001b[0m - \u001b[34m\u001b[1mSaved Figure: \n",
      "/home/juanjohn/pool_data/dynev4eo/experiments/walkthrough/aemet/t2max/az_nonstationary_gp_mcmc_redfeten_trainnoise/results/figures/spain/location/posterior_predictive/location_start_covariates_lat.png\u001b[0m\n",
      "\u001b[32m2024-12-17 11:17:57.456\u001b[0m | \u001b[34m\u001b[1mDEBUG   \u001b[0m | \u001b[36mst_evt._src.modules.models.aemet.utils_region\u001b[0m:\u001b[36mplot_covariates\u001b[0m:\u001b[36m170\u001b[0m - \u001b[34m\u001b[1mSaved Figure: \n",
      "/home/juanjohn/pool_data/dynev4eo/experiments/walkthrough/aemet/t2max/az_nonstationary_gp_mcmc_redfeten_trainnoise/results/figures/spain/location/posterior_predictive/location_start_covariates_alt.png\u001b[0m\n",
      "\u001b[32m2024-12-17 11:17:57.457\u001b[0m | \u001b[1mINFO    \u001b[0m | \u001b[36mst_evt._src.modules.models.aemet.utils_region\u001b[0m:\u001b[36mplot_dynamic_spatial_variable_postpred\u001b[0m:\u001b[36m441\u001b[0m - \u001b[1mPlotting Map of Spain...\u001b[0m\n",
      "\u001b[32m2024-12-17 11:17:57.746\u001b[0m | \u001b[34m\u001b[1mDEBUG   \u001b[0m | \u001b[36mst_evt._src.modules.models.aemet.utils_region\u001b[0m:\u001b[36mplot_dynamic_spatial_variable_postpred\u001b[0m:\u001b[36m447\u001b[0m - \u001b[34m\u001b[1mSaved Figure: \n",
      "/home/juanjohn/pool_data/dynev4eo/experiments/walkthrough/aemet/t2max/az_nonstationary_gp_mcmc_redfeten_trainnoise/results/figures/spain/location/posterior_predictive/location_map_end.png\u001b[0m\n",
      "\u001b[32m2024-12-17 11:17:57.746\u001b[0m | \u001b[1mINFO    \u001b[0m | \u001b[36mst_evt._src.modules.models.aemet.utils_region\u001b[0m:\u001b[36mplot_dynamic_spatial_variable_postpred\u001b[0m:\u001b[36m450\u001b[0m - \u001b[1mPlotting Covariates...\u001b[0m\n",
      "\u001b[32m2024-12-17 11:17:57.876\u001b[0m | \u001b[34m\u001b[1mDEBUG   \u001b[0m | \u001b[36mst_evt._src.modules.models.aemet.utils_region\u001b[0m:\u001b[36mplot_covariates\u001b[0m:\u001b[36m138\u001b[0m - \u001b[34m\u001b[1mSaved Figure: \n",
      "/home/juanjohn/pool_data/dynev4eo/experiments/walkthrough/aemet/t2max/az_nonstationary_gp_mcmc_redfeten_trainnoise/results/figures/spain/location/posterior_predictive/location_end_covariates_lon.png\u001b[0m\n",
      "\u001b[32m2024-12-17 11:17:58.019\u001b[0m | \u001b[34m\u001b[1mDEBUG   \u001b[0m | \u001b[36mst_evt._src.modules.models.aemet.utils_region\u001b[0m:\u001b[36mplot_covariates\u001b[0m:\u001b[36m154\u001b[0m - \u001b[34m\u001b[1mSaved Figure: \n",
      "/home/juanjohn/pool_data/dynev4eo/experiments/walkthrough/aemet/t2max/az_nonstationary_gp_mcmc_redfeten_trainnoise/results/figures/spain/location/posterior_predictive/location_end_covariates_lat.png\u001b[0m\n",
      "\u001b[32m2024-12-17 11:17:58.144\u001b[0m | \u001b[34m\u001b[1mDEBUG   \u001b[0m | \u001b[36mst_evt._src.modules.models.aemet.utils_region\u001b[0m:\u001b[36mplot_covariates\u001b[0m:\u001b[36m170\u001b[0m - \u001b[34m\u001b[1mSaved Figure: \n",
      "/home/juanjohn/pool_data/dynev4eo/experiments/walkthrough/aemet/t2max/az_nonstationary_gp_mcmc_redfeten_trainnoise/results/figures/spain/location/posterior_predictive/location_end_covariates_alt.png\u001b[0m\n"
     ]
    }
   ],
   "source": [
    "subfigures_path = Path(figures_path).joinpath(f\"{PLOT_VARIABLE}/posterior_predictive\")\n",
    "subfigures_path.mkdir(parents=True, exist_ok=True)\n",
    "\n",
    "utils_region.plot_dynamic_spatial_variable_postpred(\n",
    "    idata,\n",
    "    figures_path=subfigures_path,\n",
    "    cbar_label=utils_region.VARIABLE_LABELS[PLOT_VARIABLE],\n",
    "    cmap=\"Reds\",\n",
    "    bounds = (20, 10, 45),\n",
    "    covariate = covariate,\n",
    "    units = \"[°C]\"\n",
    ")"
   ]
  },
  {
   "cell_type": "markdown",
   "id": "4c889879-f6bb-4daa-8361-57b5b5a22a5c",
   "metadata": {},
   "source": [
    "### Locaiton - Predictions"
   ]
  },
  {
   "cell_type": "code",
   "execution_count": 97,
   "id": "71eb3e59-cdb3-4d15-a3de-9bcb8c193b2d",
   "metadata": {},
   "outputs": [],
   "source": [
    "PLOT_VARIABLE = \"location\"\n",
    "VARIABLE = \"t2max\"\n",
    "COVARIATE = \"gmst\"\n",
    "num_samples = 5_000"
   ]
  },
  {
   "cell_type": "code",
   "execution_count": 98,
   "id": "68941f7b-6c04-471b-bdde-9149979d693f",
   "metadata": {},
   "outputs": [
    {
     "data": {
      "text/html": [
       "<div><svg style=\"position: absolute; width: 0; height: 0; overflow: hidden\">\n",
       "<defs>\n",
       "<symbol id=\"icon-database\" viewBox=\"0 0 32 32\">\n",
       "<path d=\"M16 0c-8.837 0-16 2.239-16 5v4c0 2.761 7.163 5 16 5s16-2.239 16-5v-4c0-2.761-7.163-5-16-5z\"></path>\n",
       "<path d=\"M16 17c-8.837 0-16-2.239-16-5v6c0 2.761 7.163 5 16 5s16-2.239 16-5v-6c0 2.761-7.163 5-16 5z\"></path>\n",
       "<path d=\"M16 26c-8.837 0-16-2.239-16-5v6c0 2.761 7.163 5 16 5s16-2.239 16-5v-6c0 2.761-7.163 5-16 5z\"></path>\n",
       "</symbol>\n",
       "<symbol id=\"icon-file-text2\" viewBox=\"0 0 32 32\">\n",
       "<path d=\"M28.681 7.159c-0.694-0.947-1.662-2.053-2.724-3.116s-2.169-2.030-3.116-2.724c-1.612-1.182-2.393-1.319-2.841-1.319h-15.5c-1.378 0-2.5 1.121-2.5 2.5v27c0 1.378 1.122 2.5 2.5 2.5h23c1.378 0 2.5-1.122 2.5-2.5v-19.5c0-0.448-0.137-1.23-1.319-2.841zM24.543 5.457c0.959 0.959 1.712 1.825 2.268 2.543h-4.811v-4.811c0.718 0.556 1.584 1.309 2.543 2.268zM28 29.5c0 0.271-0.229 0.5-0.5 0.5h-23c-0.271 0-0.5-0.229-0.5-0.5v-27c0-0.271 0.229-0.5 0.5-0.5 0 0 15.499-0 15.5 0v7c0 0.552 0.448 1 1 1h7v19.5z\"></path>\n",
       "<path d=\"M23 26h-14c-0.552 0-1-0.448-1-1s0.448-1 1-1h14c0.552 0 1 0.448 1 1s-0.448 1-1 1z\"></path>\n",
       "<path d=\"M23 22h-14c-0.552 0-1-0.448-1-1s0.448-1 1-1h14c0.552 0 1 0.448 1 1s-0.448 1-1 1z\"></path>\n",
       "<path d=\"M23 18h-14c-0.552 0-1-0.448-1-1s0.448-1 1-1h14c0.552 0 1 0.448 1 1s-0.448 1-1 1z\"></path>\n",
       "</symbol>\n",
       "</defs>\n",
       "</svg>\n",
       "<style>/* CSS stylesheet for displaying xarray objects in jupyterlab.\n",
       " *\n",
       " */\n",
       "\n",
       ":root {\n",
       "  --xr-font-color0: var(--jp-content-font-color0, rgba(0, 0, 0, 1));\n",
       "  --xr-font-color2: var(--jp-content-font-color2, rgba(0, 0, 0, 0.54));\n",
       "  --xr-font-color3: var(--jp-content-font-color3, rgba(0, 0, 0, 0.38));\n",
       "  --xr-border-color: var(--jp-border-color2, #e0e0e0);\n",
       "  --xr-disabled-color: var(--jp-layout-color3, #bdbdbd);\n",
       "  --xr-background-color: var(--jp-layout-color0, white);\n",
       "  --xr-background-color-row-even: var(--jp-layout-color1, white);\n",
       "  --xr-background-color-row-odd: var(--jp-layout-color2, #eeeeee);\n",
       "}\n",
       "\n",
       "html[theme=dark],\n",
       "html[data-theme=dark],\n",
       "body[data-theme=dark],\n",
       "body.vscode-dark {\n",
       "  --xr-font-color0: rgba(255, 255, 255, 1);\n",
       "  --xr-font-color2: rgba(255, 255, 255, 0.54);\n",
       "  --xr-font-color3: rgba(255, 255, 255, 0.38);\n",
       "  --xr-border-color: #1F1F1F;\n",
       "  --xr-disabled-color: #515151;\n",
       "  --xr-background-color: #111111;\n",
       "  --xr-background-color-row-even: #111111;\n",
       "  --xr-background-color-row-odd: #313131;\n",
       "}\n",
       "\n",
       ".xr-wrap {\n",
       "  display: block !important;\n",
       "  min-width: 300px;\n",
       "  max-width: 700px;\n",
       "}\n",
       "\n",
       ".xr-text-repr-fallback {\n",
       "  /* fallback to plain text repr when CSS is not injected (untrusted notebook) */\n",
       "  display: none;\n",
       "}\n",
       "\n",
       ".xr-header {\n",
       "  padding-top: 6px;\n",
       "  padding-bottom: 6px;\n",
       "  margin-bottom: 4px;\n",
       "  border-bottom: solid 1px var(--xr-border-color);\n",
       "}\n",
       "\n",
       ".xr-header > div,\n",
       ".xr-header > ul {\n",
       "  display: inline;\n",
       "  margin-top: 0;\n",
       "  margin-bottom: 0;\n",
       "}\n",
       "\n",
       ".xr-obj-type,\n",
       ".xr-array-name {\n",
       "  margin-left: 2px;\n",
       "  margin-right: 10px;\n",
       "}\n",
       "\n",
       ".xr-obj-type {\n",
       "  color: var(--xr-font-color2);\n",
       "}\n",
       "\n",
       ".xr-sections {\n",
       "  padding-left: 0 !important;\n",
       "  display: grid;\n",
       "  grid-template-columns: 150px auto auto 1fr 0 20px 0 20px;\n",
       "}\n",
       "\n",
       ".xr-section-item {\n",
       "  display: contents;\n",
       "}\n",
       "\n",
       ".xr-section-item input {\n",
       "  display: inline-block;\n",
       "  opacity: 0;\n",
       "}\n",
       "\n",
       ".xr-section-item input + label {\n",
       "  color: var(--xr-disabled-color);\n",
       "}\n",
       "\n",
       ".xr-section-item input:enabled + label {\n",
       "  cursor: pointer;\n",
       "  color: var(--xr-font-color2);\n",
       "}\n",
       "\n",
       ".xr-section-item input:focus + label {\n",
       "  border: 2px solid var(--xr-font-color0);\n",
       "}\n",
       "\n",
       ".xr-section-item input:enabled + label:hover {\n",
       "  color: var(--xr-font-color0);\n",
       "}\n",
       "\n",
       ".xr-section-summary {\n",
       "  grid-column: 1;\n",
       "  color: var(--xr-font-color2);\n",
       "  font-weight: 500;\n",
       "}\n",
       "\n",
       ".xr-section-summary > span {\n",
       "  display: inline-block;\n",
       "  padding-left: 0.5em;\n",
       "}\n",
       "\n",
       ".xr-section-summary-in:disabled + label {\n",
       "  color: var(--xr-font-color2);\n",
       "}\n",
       "\n",
       ".xr-section-summary-in + label:before {\n",
       "  display: inline-block;\n",
       "  content: '►';\n",
       "  font-size: 11px;\n",
       "  width: 15px;\n",
       "  text-align: center;\n",
       "}\n",
       "\n",
       ".xr-section-summary-in:disabled + label:before {\n",
       "  color: var(--xr-disabled-color);\n",
       "}\n",
       "\n",
       ".xr-section-summary-in:checked + label:before {\n",
       "  content: '▼';\n",
       "}\n",
       "\n",
       ".xr-section-summary-in:checked + label > span {\n",
       "  display: none;\n",
       "}\n",
       "\n",
       ".xr-section-summary,\n",
       ".xr-section-inline-details {\n",
       "  padding-top: 4px;\n",
       "  padding-bottom: 4px;\n",
       "}\n",
       "\n",
       ".xr-section-inline-details {\n",
       "  grid-column: 2 / -1;\n",
       "}\n",
       "\n",
       ".xr-section-details {\n",
       "  display: none;\n",
       "  grid-column: 1 / -1;\n",
       "  margin-bottom: 5px;\n",
       "}\n",
       "\n",
       ".xr-section-summary-in:checked ~ .xr-section-details {\n",
       "  display: contents;\n",
       "}\n",
       "\n",
       ".xr-array-wrap {\n",
       "  grid-column: 1 / -1;\n",
       "  display: grid;\n",
       "  grid-template-columns: 20px auto;\n",
       "}\n",
       "\n",
       ".xr-array-wrap > label {\n",
       "  grid-column: 1;\n",
       "  vertical-align: top;\n",
       "}\n",
       "\n",
       ".xr-preview {\n",
       "  color: var(--xr-font-color3);\n",
       "}\n",
       "\n",
       ".xr-array-preview,\n",
       ".xr-array-data {\n",
       "  padding: 0 5px !important;\n",
       "  grid-column: 2;\n",
       "}\n",
       "\n",
       ".xr-array-data,\n",
       ".xr-array-in:checked ~ .xr-array-preview {\n",
       "  display: none;\n",
       "}\n",
       "\n",
       ".xr-array-in:checked ~ .xr-array-data,\n",
       ".xr-array-preview {\n",
       "  display: inline-block;\n",
       "}\n",
       "\n",
       ".xr-dim-list {\n",
       "  display: inline-block !important;\n",
       "  list-style: none;\n",
       "  padding: 0 !important;\n",
       "  margin: 0;\n",
       "}\n",
       "\n",
       ".xr-dim-list li {\n",
       "  display: inline-block;\n",
       "  padding: 0;\n",
       "  margin: 0;\n",
       "}\n",
       "\n",
       ".xr-dim-list:before {\n",
       "  content: '(';\n",
       "}\n",
       "\n",
       ".xr-dim-list:after {\n",
       "  content: ')';\n",
       "}\n",
       "\n",
       ".xr-dim-list li:not(:last-child):after {\n",
       "  content: ',';\n",
       "  padding-right: 5px;\n",
       "}\n",
       "\n",
       ".xr-has-index {\n",
       "  font-weight: bold;\n",
       "}\n",
       "\n",
       ".xr-var-list,\n",
       ".xr-var-item {\n",
       "  display: contents;\n",
       "}\n",
       "\n",
       ".xr-var-item > div,\n",
       ".xr-var-item label,\n",
       ".xr-var-item > .xr-var-name span {\n",
       "  background-color: var(--xr-background-color-row-even);\n",
       "  margin-bottom: 0;\n",
       "}\n",
       "\n",
       ".xr-var-item > .xr-var-name:hover span {\n",
       "  padding-right: 5px;\n",
       "}\n",
       "\n",
       ".xr-var-list > li:nth-child(odd) > div,\n",
       ".xr-var-list > li:nth-child(odd) > label,\n",
       ".xr-var-list > li:nth-child(odd) > .xr-var-name span {\n",
       "  background-color: var(--xr-background-color-row-odd);\n",
       "}\n",
       "\n",
       ".xr-var-name {\n",
       "  grid-column: 1;\n",
       "}\n",
       "\n",
       ".xr-var-dims {\n",
       "  grid-column: 2;\n",
       "}\n",
       "\n",
       ".xr-var-dtype {\n",
       "  grid-column: 3;\n",
       "  text-align: right;\n",
       "  color: var(--xr-font-color2);\n",
       "}\n",
       "\n",
       ".xr-var-preview {\n",
       "  grid-column: 4;\n",
       "}\n",
       "\n",
       ".xr-index-preview {\n",
       "  grid-column: 2 / 5;\n",
       "  color: var(--xr-font-color2);\n",
       "}\n",
       "\n",
       ".xr-var-name,\n",
       ".xr-var-dims,\n",
       ".xr-var-dtype,\n",
       ".xr-preview,\n",
       ".xr-attrs dt {\n",
       "  white-space: nowrap;\n",
       "  overflow: hidden;\n",
       "  text-overflow: ellipsis;\n",
       "  padding-right: 10px;\n",
       "}\n",
       "\n",
       ".xr-var-name:hover,\n",
       ".xr-var-dims:hover,\n",
       ".xr-var-dtype:hover,\n",
       ".xr-attrs dt:hover {\n",
       "  overflow: visible;\n",
       "  width: auto;\n",
       "  z-index: 1;\n",
       "}\n",
       "\n",
       ".xr-var-attrs,\n",
       ".xr-var-data,\n",
       ".xr-index-data {\n",
       "  display: none;\n",
       "  background-color: var(--xr-background-color) !important;\n",
       "  padding-bottom: 5px !important;\n",
       "}\n",
       "\n",
       ".xr-var-attrs-in:checked ~ .xr-var-attrs,\n",
       ".xr-var-data-in:checked ~ .xr-var-data,\n",
       ".xr-index-data-in:checked ~ .xr-index-data {\n",
       "  display: block;\n",
       "}\n",
       "\n",
       ".xr-var-data > table {\n",
       "  float: right;\n",
       "}\n",
       "\n",
       ".xr-var-name span,\n",
       ".xr-var-data,\n",
       ".xr-index-name div,\n",
       ".xr-index-data,\n",
       ".xr-attrs {\n",
       "  padding-left: 25px !important;\n",
       "}\n",
       "\n",
       ".xr-attrs,\n",
       ".xr-var-attrs,\n",
       ".xr-var-data,\n",
       ".xr-index-data {\n",
       "  grid-column: 1 / -1;\n",
       "}\n",
       "\n",
       "dl.xr-attrs {\n",
       "  padding: 0;\n",
       "  margin: 0;\n",
       "  display: grid;\n",
       "  grid-template-columns: 125px auto;\n",
       "}\n",
       "\n",
       ".xr-attrs dt,\n",
       ".xr-attrs dd {\n",
       "  padding: 0;\n",
       "  margin: 0;\n",
       "  float: left;\n",
       "  padding-right: 10px;\n",
       "  width: auto;\n",
       "}\n",
       "\n",
       ".xr-attrs dt {\n",
       "  font-weight: normal;\n",
       "  grid-column: 1;\n",
       "}\n",
       "\n",
       ".xr-attrs dt:hover span {\n",
       "  display: inline-block;\n",
       "  background: var(--xr-background-color);\n",
       "  padding-right: 10px;\n",
       "}\n",
       "\n",
       ".xr-attrs dd {\n",
       "  grid-column: 2;\n",
       "  white-space: pre-wrap;\n",
       "  word-break: break-all;\n",
       "}\n",
       "\n",
       ".xr-icon-database,\n",
       ".xr-icon-file-text2,\n",
       ".xr-no-icon {\n",
       "  display: inline-block;\n",
       "  vertical-align: middle;\n",
       "  width: 1em;\n",
       "  height: 1.5em !important;\n",
       "  stroke-width: 0;\n",
       "  stroke: currentColor;\n",
       "  fill: currentColor;\n",
       "}\n",
       "</style><pre class='xr-text-repr-fallback'>&lt;xarray.DataArray &#x27;location&#x27; (gmst: 100, station_id: 699)&gt; Size: 559kB\n",
       "array([[32.48081766, 32.90908062, 33.23638697, ..., 51.99050508,\n",
       "        28.8167991 , 24.77065629],\n",
       "       [32.53227108, 32.95760955, 33.27885734, ..., 52.04596758,\n",
       "        28.85624955, 24.80910901],\n",
       "       [32.58060412, 33.00714962, 33.32526173, ..., 52.07942104,\n",
       "        28.89856502, 24.84468725],\n",
       "       ...,\n",
       "       [37.26652632, 37.67176332, 37.71476646, ..., 56.67123825,\n",
       "        32.69642997, 28.22013363],\n",
       "       [37.31573222, 37.72096319, 37.76302462, ..., 56.73595148,\n",
       "        32.74266901, 28.25798037],\n",
       "       [37.36477137, 37.76966592, 37.81005064, ..., 56.79266778,\n",
       "        32.7817723 , 28.29562328]])\n",
       "Coordinates:\n",
       "    alt             (station_id) float32 3kB 32.0 118.0 487.0 ... 620.0 10.0\n",
       "  * gmst            (gmst) float64 800B 0.0 0.02525 0.05051 ... 2.449 2.475 2.5\n",
       "    lat             (station_id) float32 3kB 40.96 41.15 41.38 ... 27.98 28.13\n",
       "    lon             (station_id) float32 3kB 0.87 1.108 1.081 ... -15.5 -15.42\n",
       "    red_feten_mask  (station_id) uint8 699B 1 1 0 0 1 0 0 0 ... 0 1 0 0 0 0 0 1\n",
       "  * station_id      (station_id) &lt;U5 14kB &#x27;0002I&#x27; &#x27;0016B&#x27; ... &#x27;C646O&#x27; &#x27;C659T&#x27;\n",
       "    station_name    (station_id) &lt;U50 140kB &#x27;vandellòs&#x27; ... &#x27;las palmas de g....</pre><div class='xr-wrap' style='display:none'><div class='xr-header'><div class='xr-obj-type'>xarray.DataArray</div><div class='xr-array-name'>'location'</div><ul class='xr-dim-list'><li><span class='xr-has-index'>gmst</span>: 100</li><li><span class='xr-has-index'>station_id</span>: 699</li></ul></div><ul class='xr-sections'><li class='xr-section-item'><div class='xr-array-wrap'><input id='section-46a357ca-e42b-46b0-9445-0665d7957015' class='xr-array-in' type='checkbox' checked><label for='section-46a357ca-e42b-46b0-9445-0665d7957015' title='Show/hide data repr'><svg class='icon xr-icon-database'><use xlink:href='#icon-database'></use></svg></label><div class='xr-array-preview xr-preview'><span>32.48 32.91 33.24 32.16 32.32 26.94 ... 47.38 18.51 56.79 32.78 28.3</span></div><div class='xr-array-data'><pre>array([[32.48081766, 32.90908062, 33.23638697, ..., 51.99050508,\n",
       "        28.8167991 , 24.77065629],\n",
       "       [32.53227108, 32.95760955, 33.27885734, ..., 52.04596758,\n",
       "        28.85624955, 24.80910901],\n",
       "       [32.58060412, 33.00714962, 33.32526173, ..., 52.07942104,\n",
       "        28.89856502, 24.84468725],\n",
       "       ...,\n",
       "       [37.26652632, 37.67176332, 37.71476646, ..., 56.67123825,\n",
       "        32.69642997, 28.22013363],\n",
       "       [37.31573222, 37.72096319, 37.76302462, ..., 56.73595148,\n",
       "        32.74266901, 28.25798037],\n",
       "       [37.36477137, 37.76966592, 37.81005064, ..., 56.79266778,\n",
       "        32.7817723 , 28.29562328]])</pre></div></div></li><li class='xr-section-item'><input id='section-9a3d47a6-14e0-4477-baa1-8f6a54f3aca4' class='xr-section-summary-in' type='checkbox'  checked><label for='section-9a3d47a6-14e0-4477-baa1-8f6a54f3aca4' class='xr-section-summary' >Coordinates: <span>(7)</span></label><div class='xr-section-inline-details'></div><div class='xr-section-details'><ul class='xr-var-list'><li class='xr-var-item'><div class='xr-var-name'><span>alt</span></div><div class='xr-var-dims'>(station_id)</div><div class='xr-var-dtype'>float32</div><div class='xr-var-preview xr-preview'>32.0 118.0 487.0 ... 620.0 10.0</div><input id='attrs-cfa5423d-35f8-4e81-9c0e-412c68063257' class='xr-var-attrs-in' type='checkbox' ><label for='attrs-cfa5423d-35f8-4e81-9c0e-412c68063257' title='Show/Hide attributes'><svg class='icon xr-icon-file-text2'><use xlink:href='#icon-file-text2'></use></svg></label><input id='data-7abd2758-62be-49a4-bc9c-58acf590c72f' class='xr-var-data-in' type='checkbox'><label for='data-7abd2758-62be-49a4-bc9c-58acf590c72f' title='Show/Hide data repr'><svg class='icon xr-icon-database'><use xlink:href='#icon-database'></use></svg></label><div class='xr-var-attrs'><dl class='xr-attrs'><dt><span>long_name :</span></dt><dd>Altitude</dd><dt><span>standard_name :</span></dt><dd>altitude</dd><dt><span>units :</span></dt><dd>meter</dd></dl></div><div class='xr-var-data'><pre>array([3.200e+01, 1.180e+02, 4.870e+02, 2.820e+02, 7.100e+01, 6.900e+02,\n",
       "       1.813e+03, 3.200e+02, 1.460e+02, 1.500e+01, 3.500e+01, 1.000e+01,\n",
       "       1.200e+01, 1.440e+02, 8.510e+02, 5.650e+02, 4.600e+02, 2.890e+02,\n",
       "       4.680e+02, 3.550e+02, 1.800e+01, 2.080e+02, 9.300e+01, 4.200e+02,\n",
       "       6.850e+02, 7.000e+02, 3.200e+02, 4.200e+02, 1.800e+02, 2.790e+02,\n",
       "       2.460e+02, 2.310e+02, 1.000e+02, 1.500e+02, 6.000e+01, 1.500e+01,\n",
       "       9.000e+01, 9.800e+01, 7.000e+01, 3.700e+02, 2.810e+02, 2.390e+02,\n",
       "       3.500e+01, 2.800e+01, 8.000e+00, 2.030e+02, 2.420e+02, 7.000e+01,\n",
       "       1.000e+01, 2.200e+02, 2.000e+02, 7.050e+02, 5.000e+00, 5.700e+02,\n",
       "       3.200e+02, 2.000e+02, 5.200e+02, 2.100e+02, 6.980e+02, 9.100e+02,\n",
       "       1.350e+03, 4.000e+01, 3.000e+01, 3.400e+02, 1.390e+02, 8.000e+01,\n",
       "       1.500e+01, 2.740e+02, 6.000e+01, 6.500e+01, 1.800e+02, 1.000e+01,\n",
       "       1.830e+02, 6.850e+02, 5.000e+00, 6.800e+02, 2.400e+02, 3.600e+01,\n",
       "       6.000e+01, 6.800e+02, 1.900e+01, 3.000e+00, 1.200e+02, 4.800e+02,\n",
       "       4.420e+02, 1.080e+03, 5.500e+02, 5.840e+02, 3.200e+02, 3.150e+02,\n",
       "       3.170e+02, 1.490e+03, 1.500e+03, 4.000e+02, 1.430e+02, 4.000e+02,\n",
       "       4.500e+02, 8.000e+00, 1.100e+03, 9.780e+02, 1.095e+03, 9.680e+02,\n",
       "       8.750e+02, 1.020e+03, 7.980e+02, 7.980e+02, 9.930e+02, 1.798e+03,\n",
       "       7.020e+02, 1.104e+03, 1.107e+03, 1.000e+03, 1.082e+03, 8.410e+02,\n",
       "       9.300e+02, 8.080e+02, 7.710e+02, 1.170e+03, 1.197e+03, 9.000e+02,\n",
       "...\n",
       "       8.630e+02, 7.000e+02, 1.000e+03, 1.218e+03, 1.285e+03, 1.182e+03,\n",
       "       9.850e+02, 1.185e+03, 9.390e+02, 9.320e+02, 7.930e+02, 7.790e+02,\n",
       "       8.420e+02, 6.000e+02, 5.250e+02, 8.000e+02, 5.810e+02, 5.800e+02,\n",
       "       5.950e+02, 3.980e+02, 5.300e+02, 3.700e+02, 3.600e+02, 3.820e+02,\n",
       "       6.200e+02, 2.350e+02, 2.490e+02, 2.100e+02, 1.980e+02, 1.255e+03,\n",
       "       7.000e+02, 2.210e+02, 1.855e+03, 1.850e+03, 1.091e+03, 1.132e+03,\n",
       "       9.000e+02, 6.300e+02, 9.200e+02, 9.400e+02, 5.100e+02, 4.130e+02,\n",
       "       3.380e+02, 4.050e+02, 4.020e+02, 1.550e+02, 5.800e+02, 5.200e+02,\n",
       "       3.000e+02, 7.620e+02, 7.550e+02, 2.020e+02, 2.920e+02, 1.145e+03,\n",
       "       6.420e+02, 2.410e+03, 1.273e+03, 5.500e+02, 4.250e+02, 3.800e+02,\n",
       "       2.450e+02, 2.120e+02, 2.350e+02, 2.700e+02, 2.800e+02, 2.425e+03,\n",
       "       5.350e+02, 3.400e+02, 3.530e+02, 1.500e+02, 2.020e+03, 8.150e+02,\n",
       "       3.500e+02, 7.200e+02, 2.580e+02, 3.930e+02, 3.650e+02, 2.150e+02,\n",
       "       4.800e+02, 4.820e+02, 3.040e+02, 3.720e+02, 1.100e+02, 1.000e+00,\n",
       "       2.164e+03, 1.161e+03, 7.220e+02, 7.600e+02, 3.340e+02, 1.400e+02,\n",
       "       9.900e+01, 8.500e+01, 1.450e+02, 1.050e+02, 4.300e+01, 1.100e+02,\n",
       "       1.600e+02, 3.760e+02, 6.000e+00, 8.400e+02, 2.800e+02, 7.000e+01,\n",
       "       8.500e+01, 2.345e+03, 2.071e+03, 3.840e+02, 1.654e+03, 9.300e+02,\n",
       "       6.250e+02, 4.990e+02, 6.200e+02, 2.000e+01, 2.720e+02, 2.300e+02,\n",
       "       9.500e+02, 6.200e+02, 1.000e+01], dtype=float32)</pre></div></li><li class='xr-var-item'><div class='xr-var-name'><span class='xr-has-index'>gmst</span></div><div class='xr-var-dims'>(gmst)</div><div class='xr-var-dtype'>float64</div><div class='xr-var-preview xr-preview'>0.0 0.02525 0.05051 ... 2.475 2.5</div><input id='attrs-919c403d-c128-4f33-b8e8-25c7dc03d929' class='xr-var-attrs-in' type='checkbox' disabled><label for='attrs-919c403d-c128-4f33-b8e8-25c7dc03d929' title='Show/Hide attributes'><svg class='icon xr-icon-file-text2'><use xlink:href='#icon-file-text2'></use></svg></label><input id='data-8a26e82e-16e4-4030-ba44-9b79e818f037' class='xr-var-data-in' type='checkbox'><label for='data-8a26e82e-16e4-4030-ba44-9b79e818f037' title='Show/Hide data repr'><svg class='icon xr-icon-database'><use xlink:href='#icon-database'></use></svg></label><div class='xr-var-attrs'><dl class='xr-attrs'></dl></div><div class='xr-var-data'><pre>array([0.      , 0.025253, 0.050505, 0.075758, 0.10101 , 0.126263, 0.151515,\n",
       "       0.176768, 0.20202 , 0.227273, 0.252525, 0.277778, 0.30303 , 0.328283,\n",
       "       0.353535, 0.378788, 0.40404 , 0.429293, 0.454545, 0.479798, 0.505051,\n",
       "       0.530303, 0.555556, 0.580808, 0.606061, 0.631313, 0.656566, 0.681818,\n",
       "       0.707071, 0.732323, 0.757576, 0.782828, 0.808081, 0.833333, 0.858586,\n",
       "       0.883838, 0.909091, 0.934343, 0.959596, 0.984848, 1.010101, 1.035354,\n",
       "       1.060606, 1.085859, 1.111111, 1.136364, 1.161616, 1.186869, 1.212121,\n",
       "       1.237374, 1.262626, 1.287879, 1.313131, 1.338384, 1.363636, 1.388889,\n",
       "       1.414141, 1.439394, 1.464646, 1.489899, 1.515152, 1.540404, 1.565657,\n",
       "       1.590909, 1.616162, 1.641414, 1.666667, 1.691919, 1.717172, 1.742424,\n",
       "       1.767677, 1.792929, 1.818182, 1.843434, 1.868687, 1.893939, 1.919192,\n",
       "       1.944444, 1.969697, 1.994949, 2.020202, 2.045455, 2.070707, 2.09596 ,\n",
       "       2.121212, 2.146465, 2.171717, 2.19697 , 2.222222, 2.247475, 2.272727,\n",
       "       2.29798 , 2.323232, 2.348485, 2.373737, 2.39899 , 2.424242, 2.449495,\n",
       "       2.474747, 2.5     ])</pre></div></li><li class='xr-var-item'><div class='xr-var-name'><span>lat</span></div><div class='xr-var-dims'>(station_id)</div><div class='xr-var-dtype'>float32</div><div class='xr-var-preview xr-preview'>40.96 41.15 41.38 ... 27.98 28.13</div><input id='attrs-1f0fb2b4-f972-4d65-b008-9bb3b3213588' class='xr-var-attrs-in' type='checkbox' ><label for='attrs-1f0fb2b4-f972-4d65-b008-9bb3b3213588' title='Show/Hide attributes'><svg class='icon xr-icon-file-text2'><use xlink:href='#icon-file-text2'></use></svg></label><input id='data-0081ac50-2557-4270-8c30-51812c1c19b7' class='xr-var-data-in' type='checkbox'><label for='data-0081ac50-2557-4270-8c30-51812c1c19b7' title='Show/Hide data repr'><svg class='icon xr-icon-database'><use xlink:href='#icon-database'></use></svg></label><div class='xr-var-attrs'><dl class='xr-attrs'><dt><span>long_name :</span></dt><dd>Latitude</dd><dt><span>standard_name :</span></dt><dd>latitude</dd><dt><span>units :</span></dt><dd>degrees_north</dd></dl></div><div class='xr-var-data'><pre>array([40.95627 , 41.152374, 41.380707, 41.28418 , 41.18779 , 42.10086 ,\n",
       "       42.166275, 41.832794, 41.52185 , 41.42668 , 41.448914, 41.447525,\n",
       "       41.476685, 41.5549  , 42.256577, 42.032806, 42.001144, 42.063522,\n",
       "       42.1313  , 42.385193, 42.26448 , 43.144745, 43.2312  , 43.032227,\n",
       "       43.05002 , 43.083633, 43.247513, 43.078125, 43.170624, 43.015564,\n",
       "       43.05945 , 43.04889 , 43.253067, 43.282227, 43.29889 , 43.415558,\n",
       "       43.37201 , 43.147507, 43.230835, 43.125336, 43.21866 , 43.235   ,\n",
       "       43.373108, 43.448883, 43.46611 , 43.224762, 43.143326, 43.383377,\n",
       "       43.39055 , 43.22087 , 43.254425, 43.215546, 43.55809 , 43.180603,\n",
       "       43.23059 , 43.24698 , 43.185883, 43.28949 , 43.090515, 42.962738,\n",
       "       42.957184, 43.52281 , 43.540512, 43.358093, 43.429398, 43.649216,\n",
       "       43.651154, 43.35199 , 43.35939 , 43.224777, 43.134933, 42.839096,\n",
       "       42.90715 , 42.718674, 42.652985, 42.80783 , 42.874237, 42.580353,\n",
       "       42.47992 , 42.631042, 42.42868 , 42.394226, 42.228683, 43.05995 ,\n",
       "       42.99643 , 42.861603, 42.898834, 42.593292, 42.418823, 42.413666,\n",
       "       42.396057, 42.132156, 42.257156, 42.590485, 42.323395, 42.41646 ,\n",
       "       42.170624, 41.911865, 41.598694, 41.417572, 41.266434, 41.71553 ,\n",
       "       41.534973, 41.376144, 41.650238, 41.650238, 41.37091 , 41.190063,\n",
       "       41.58217 , 41.087738, 42.96277 , 42.863632, 42.886368, 42.593323,\n",
       "       42.718307, 42.28636 , 42.24922 , 41.98358 , 42.144516, 42.02803 ,\n",
       "...\n",
       "       41.21454 , 41.312744, 40.56636 , 40.638306, 40.71553 , 40.737473,\n",
       "       40.77591 , 40.776764, 40.785522, 40.86316 , 41.039978, 41.112595,\n",
       "       41.15831 , 41.329254, 41.355804, 41.258408, 41.539154, 41.343597,\n",
       "       41.33452 , 41.4523  , 41.400818, 41.47998 , 41.50174 , 41.598877,\n",
       "       41.559235, 41.76555 , 41.658707, 41.687225, 41.663696, 40.99344 ,\n",
       "       41.29425 , 41.6326  , 42.758713, 42.702606, 42.72484 , 42.617523,\n",
       "       42.582245, 42.39612 , 42.47844 , 42.49002 , 42.334167, 42.104538,\n",
       "       42.011765, 41.79483 , 41.67833 , 41.425537, 40.985367, 41.029984,\n",
       "       41.167053, 40.972626, 40.79651 , 41.240677, 41.50612 , 42.434204,\n",
       "       42.322525, 42.408203, 42.464584, 42.24919 , 42.172516, 42.103638,\n",
       "       41.801254, 41.78473 , 41.781677, 41.797226, 41.707245, 42.593475,\n",
       "       42.147064, 41.541397, 41.446808, 41.46611 , 42.563736, 42.478912,\n",
       "       42.084183, 42.23752 , 41.898453, 41.874542, 41.836395, 41.675278,\n",
       "       40.873047, 40.87152 , 41.122223, 41.282227, 41.09973 , 40.697372,\n",
       "       42.69365 , 42.69847 , 42.774292, 42.830307, 43.08925 , 39.48938 ,\n",
       "       39.721344, 39.569702, 39.738327, 39.714996, 39.943024, 39.05435 ,\n",
       "       39.03775 , 28.966568, 28.738914, 28.136917, 28.113579, 28.091637,\n",
       "       28.103577, 28.251923, 28.218048, 28.141937, 28.222504, 28.215271,\n",
       "       28.223038, 28.337753, 28.4897  , 28.495255, 28.554306, 28.359978,\n",
       "       27.929703, 27.9785  , 28.131927], dtype=float32)</pre></div></li><li class='xr-var-item'><div class='xr-var-name'><span>lon</span></div><div class='xr-var-dims'>(station_id)</div><div class='xr-var-dtype'>float32</div><div class='xr-var-preview xr-preview'>0.87 1.108 1.081 ... -15.5 -15.42</div><input id='attrs-5d8d7698-028e-4fdf-8ff0-ffd6b7560c48' class='xr-var-attrs-in' type='checkbox' ><label for='attrs-5d8d7698-028e-4fdf-8ff0-ffd6b7560c48' title='Show/Hide attributes'><svg class='icon xr-icon-file-text2'><use xlink:href='#icon-file-text2'></use></svg></label><input id='data-f13f6a0e-104f-4c6b-bc39-e8a63b5190d7' class='xr-var-data-in' type='checkbox'><label for='data-f13f6a0e-104f-4c6b-bc39-e8a63b5190d7' title='Show/Hide data repr'><svg class='icon xr-icon-database'><use xlink:href='#icon-database'></use></svg></label><div class='xr-var-attrs'><dl class='xr-attrs'><dt><span>long_name :</span></dt><dd>Longitude</dd><dt><span>standard_name :</span></dt><dd>longitude</dd><dt><span>units :</span></dt><dd>degrees_east</dd></dl></div><div class='xr-var-data'><pre>array([  0.87002563,   1.1075134 ,   1.0805664 ,   1.2491302 ,\n",
       "         1.2174683 ,   1.8552399 ,   1.5635834 ,   1.748291  ,\n",
       "         2.1016388 ,   2.2358093 ,   2.2155304 ,   2.2455444 ,\n",
       "         2.3149872 ,   2.4346924 ,   2.3630066 ,   2.208023  ,\n",
       "         2.2824707 ,   2.6110535 ,   2.4416199 ,   2.7541046 ,\n",
       "         3.1783142 ,  -1.5148468 ,  -1.6456146 ,  -2.005951  ,\n",
       "        -1.9548492 ,  -1.8809662 ,  -2.1681824 ,  -2.3187866 ,\n",
       "        -2.268509  ,  -2.5179138 ,  -2.5001373 ,  -2.401245  ,\n",
       "        -2.4781952 ,  -2.6345825 ,  -2.6345825 ,  -2.717926  ,\n",
       "        -3.0219574 ,  -2.7907104 ,  -2.8406982 ,  -3.3365173 ,\n",
       "        -3.4415283 ,  -3.3559875 ,  -3.7206726 ,  -3.846283  ,\n",
       "        -3.8476715 ,  -3.8117828 ,  -4.03656   ,  -4.214279  ,\n",
       "        -4.393509  ,  -4.387314  ,  -4.6226807 ,  -5.035736  ,\n",
       "        -5.701996  ,  -5.3450623 ,  -5.5292053 ,  -6.017807  ,\n",
       "        -6.636673  ,  -6.3966827 ,  -6.256027  ,  -6.919922  ,\n",
       "        -6.4749146 ,  -7.032486  ,  -7.017166  ,  -7.1116486 ,\n",
       "        -7.363556  ,  -7.358322  ,  -7.601639  ,  -8.131607  ,\n",
       "        -8.198563  ,  -8.322433  ,  -8.689407  ,  -8.905518  ,\n",
       "        -8.734955  ,  -8.924362  ,  -8.817169  ,  -7.769394  ,\n",
       "        -8.5568695 ,  -8.770752  ,  -8.815231  ,  -8.316345  ,\n",
       "...\n",
       "        -0.5875397 ,  -0.6531372 ,  -0.7531433 ,  -0.6725311 ,\n",
       "        -0.76112366,  -0.6183624 ,  -0.5120239 ,  -0.50035095,\n",
       "        -0.6972046 ,  -0.59672546,  -0.4447174 ,  -0.40908813,\n",
       "        -0.3166046 ,  -0.06994629,   0.05604553,   1.936615  ,\n",
       "         1.3930054 ,   1.2133179 ,   0.9894409 ,   0.9704895 ,\n",
       "         0.9068756 ,   0.897171  ,   0.8305664 ,   0.82688904,\n",
       "         0.8266144 ,   0.6529999 ,   1.033844  ,   0.68304443,\n",
       "         0.6927185 ,   0.92134094,   0.7389221 ,   0.45632935,\n",
       "         0.54278564,   0.4318695 ,   0.22465515,   0.06604004,\n",
       "         0.18197632,  -0.4525299 ,  -0.35646057,   0.08494568,\n",
       "         0.15440369,   0.14477539,   0.1396637 ,   0.73217773,\n",
       "         0.685791  ,   0.8086395 ,   0.95744324,   0.8755493 ,\n",
       "         0.688324  ,   0.7182617 ,  -1.3021545 ,   2.8925018 ,\n",
       "         3.2772064 ,   3.2203064 ,   2.924469  ,   2.9186249 ,\n",
       "         3.955246  ,   1.4911499 ,   1.433609  , -13.692154  ,\n",
       "       -13.864059  , -17.311798  , -17.16957   , -17.09845   ,\n",
       "       -17.1279    , -16.62622   , -16.705917  , -16.755356  ,\n",
       "       -16.521759  , -16.491196  , -16.447601  , -16.417328  ,\n",
       "       -16.318161  , -16.18512   , -16.216278  , -16.708725  ,\n",
       "       -15.7387085 , -15.495438  , -15.417877  ], dtype=float32)</pre></div></li><li class='xr-var-item'><div class='xr-var-name'><span>red_feten_mask</span></div><div class='xr-var-dims'>(station_id)</div><div class='xr-var-dtype'>uint8</div><div class='xr-var-preview xr-preview'>1 1 0 0 1 0 0 0 ... 0 1 0 0 0 0 0 1</div><input id='attrs-fdbb4780-2c14-479f-9671-c4a628854607' class='xr-var-attrs-in' type='checkbox' disabled><label for='attrs-fdbb4780-2c14-479f-9671-c4a628854607' title='Show/Hide attributes'><svg class='icon xr-icon-file-text2'><use xlink:href='#icon-file-text2'></use></svg></label><input id='data-7c6dc3cc-c4d2-4f99-9373-e207b7483d16' class='xr-var-data-in' type='checkbox'><label for='data-7c6dc3cc-c4d2-4f99-9373-e207b7483d16' title='Show/Hide data repr'><svg class='icon xr-icon-database'><use xlink:href='#icon-database'></use></svg></label><div class='xr-var-attrs'><dl class='xr-attrs'></dl></div><div class='xr-var-data'><pre>array([1, 1, 0, 0, 1, 0, 0, 0, 1, 0, 0, 0, 0, 0, 1, 0, 0, 0, 0, 1, 0, 0,\n",
       "       0, 0, 0, 0, 0, 1, 1, 0, 0, 0, 0, 0, 0, 0, 1, 0, 0, 0, 0, 0, 0, 0,\n",
       "       0, 0, 1, 0, 0, 0, 0, 0, 1, 0, 0, 0, 0, 0, 0, 0, 0, 0, 0, 0, 0, 1,\n",
       "       0, 0, 0, 0, 0, 0, 0, 1, 0, 1, 1, 1, 0, 0, 1, 1, 1, 0, 1, 0, 0, 0,\n",
       "       0, 1, 0, 0, 0, 0, 1, 0, 0, 0, 1, 1, 0, 0, 0, 0, 0, 1, 1, 1, 0, 0,\n",
       "       0, 0, 0, 0, 0, 0, 1, 0, 1, 0, 0, 0, 0, 0, 1, 0, 0, 0, 1, 0, 1, 1,\n",
       "       0, 1, 0, 0, 0, 0, 0, 1, 0, 0, 0, 0, 1, 0, 0, 0, 1, 0, 0, 0, 0, 0,\n",
       "       0, 0, 0, 0, 0, 1, 1, 0, 0, 1, 0, 0, 0, 0, 0, 0, 0, 1, 0, 0, 1, 0,\n",
       "       0, 0, 0, 0, 0, 1, 0, 1, 0, 0, 0, 1, 0, 0, 0, 1, 0, 0, 0, 1, 0, 0,\n",
       "       0, 0, 0, 0, 1, 1, 0, 0, 0, 0, 0, 0, 0, 0, 0, 0, 0, 0, 0, 0, 0, 0,\n",
       "       0, 1, 0, 0, 0, 0, 1, 0, 0, 1, 0, 0, 1, 0, 0, 0, 0, 0, 1, 0, 0, 0,\n",
       "       0, 1, 0, 0, 0, 1, 0, 0, 0, 0, 1, 0, 0, 0, 1, 0, 1, 0, 0, 0, 0, 1,\n",
       "       0, 0, 0, 0, 0, 0, 1, 0, 1, 0, 1, 0, 0, 0, 0, 1, 0, 0, 0, 0, 0, 0,\n",
       "       0, 1, 0, 0, 0, 0, 0, 0, 0, 0, 0, 0, 0, 0, 0, 0, 1, 0, 0, 0, 0, 0,\n",
       "       0, 1, 0, 0, 0, 1, 0, 0, 0, 0, 0, 0, 1, 0, 0, 0, 1, 0, 0, 0, 0, 0,\n",
       "       0, 0, 0, 0, 1, 0, 0, 0, 0, 0, 1, 1, 0, 0, 0, 1, 0, 0, 0, 1, 1, 0,\n",
       "       0, 0, 0, 0, 1, 0, 0, 0, 0, 0, 1, 0, 0, 0, 0, 0, 0, 0, 0, 1, 0, 1,\n",
       "       0, 0, 1, 1, 1, 0, 1, 0, 0, 0, 0, 0, 0, 0, 0, 0, 0, 1, 0, 1, 0, 1,\n",
       "       0, 0, 0, 1, 0, 1, 1, 0, 0, 1, 0, 1, 0, 0, 0, 0, 1, 0, 0, 0, 0, 0,\n",
       "       0, 0, 0, 1, 0, 1, 0, 0, 0, 0, 0, 1, 0, 1, 0, 1, 0, 0, 0, 0, 0, 0,\n",
       "       1, 0, 1, 1, 0, 0, 0, 0, 0, 0, 0, 0, 0, 0, 0, 0, 0, 0, 1, 1, 0, 0,\n",
       "       0, 1, 0, 0, 1, 0, 0, 0, 0, 0, 0, 1, 0, 1, 0, 0, 0, 0, 0, 0, 0, 1,\n",
       "       0, 0, 0, 0, 0, 0, 1, 0, 0, 0, 0, 0, 0, 0, 0, 0, 0, 0, 0, 1, 0, 0,\n",
       "       0, 0, 0, 1, 1, 0, 0, 0, 0, 0, 0, 0, 0, 0, 1, 0, 1, 1, 0, 0, 1, 0,\n",
       "       0, 0, 0, 0, 1, 1, 0, 0, 0, 0, 0, 1, 0, 0, 0, 0, 0, 0, 0, 0, 0, 1,\n",
       "       0, 1, 0, 0, 0, 0, 0, 0, 0, 1, 0, 0, 0, 0, 0, 0, 1, 0, 1, 0, 1, 0,\n",
       "       0, 0, 0, 0, 0, 0, 0, 1, 0, 0, 1, 0, 0, 0, 0, 0, 0, 1, 0, 1, 0, 1,\n",
       "       0, 0, 0, 0, 0, 0, 0, 0, 0, 0, 0, 0, 0, 0, 1, 0, 0, 1, 0, 1, 0, 1,\n",
       "       0, 0, 0, 0, 0, 0, 0, 0, 0, 0, 0, 0, 0, 0, 0, 1, 1, 1, 0, 0, 0, 1,\n",
       "       1, 0, 0, 0, 0, 0, 0, 0, 0, 0, 0, 0, 0, 0, 0, 0, 0, 0, 0, 0, 0, 0,\n",
       "       0, 1, 0, 0, 0, 1, 0, 1, 1, 0, 1, 0, 1, 0, 0, 0, 1, 1, 0, 1, 1, 0,\n",
       "       0, 0, 0, 0, 1, 0, 1, 1, 0, 0, 1, 0, 0, 0, 0, 0, 1], dtype=uint8)</pre></div></li><li class='xr-var-item'><div class='xr-var-name'><span class='xr-has-index'>station_id</span></div><div class='xr-var-dims'>(station_id)</div><div class='xr-var-dtype'>&lt;U5</div><div class='xr-var-preview xr-preview'>&#x27;0002I&#x27; &#x27;0016B&#x27; ... &#x27;C646O&#x27; &#x27;C659T&#x27;</div><input id='attrs-dd382696-5806-4f41-be72-f3afc2ff6492' class='xr-var-attrs-in' type='checkbox' disabled><label for='attrs-dd382696-5806-4f41-be72-f3afc2ff6492' title='Show/Hide attributes'><svg class='icon xr-icon-file-text2'><use xlink:href='#icon-file-text2'></use></svg></label><input id='data-83949b61-4a26-47fd-b0e4-711f2bd2e9f6' class='xr-var-data-in' type='checkbox'><label for='data-83949b61-4a26-47fd-b0e4-711f2bd2e9f6' title='Show/Hide data repr'><svg class='icon xr-icon-database'><use xlink:href='#icon-database'></use></svg></label><div class='xr-var-attrs'><dl class='xr-attrs'></dl></div><div class='xr-var-data'><pre>array([&#x27;0002I&#x27;, &#x27;0016B&#x27;, &#x27;0020O&#x27;, ..., &#x27;C625A&#x27;, &#x27;C646O&#x27;, &#x27;C659T&#x27;], dtype=&#x27;&lt;U5&#x27;)</pre></div></li><li class='xr-var-item'><div class='xr-var-name'><span>station_name</span></div><div class='xr-var-dims'>(station_id)</div><div class='xr-var-dtype'>&lt;U50</div><div class='xr-var-preview xr-preview'>&#x27;vandellòs&#x27; ... &#x27;las palmas de g...</div><input id='attrs-dfd81022-2010-4c62-8699-a315451fff83' class='xr-var-attrs-in' type='checkbox' disabled><label for='attrs-dfd81022-2010-4c62-8699-a315451fff83' title='Show/Hide attributes'><svg class='icon xr-icon-file-text2'><use xlink:href='#icon-file-text2'></use></svg></label><input id='data-4cf07468-2f40-4088-a017-69f9d0432666' class='xr-var-data-in' type='checkbox'><label for='data-4cf07468-2f40-4088-a017-69f9d0432666' title='Show/Hide data repr'><svg class='icon xr-icon-database'><use xlink:href='#icon-database'></use></svg></label><div class='xr-var-attrs'><dl class='xr-attrs'></dl></div><div class='xr-var-data'><pre>array([&#x27;vandellòs&#x27;, &#x27;reus (centre lectura)&#x27;,\n",
       "       &#x27;vimbodi (monestir de poblet)&#x27;, &#x27;valls (2a)&#x27;,\n",
       "       &#x27;la pobla de mafumet (refineria)&#x27;, &#x27;berga (institut)&#x27;,\n",
       "       &#x27;port del comte&#x27;, &#x27;suria&#x27;, &#x27;sabadell, aeródromo&#x27;,\n",
       "       &#x27;badalona (fecsa)&#x27;, &#x27;santa coloma gramanet (irlanda)&#x27;,\n",
       "       &#x27;badalona (clarises)&#x27;, &#x27;el masnou (club nautic)&#x27;,\n",
       "       &#x27;mataro-can cañellas&#x27;, &#x27;sant pau de seguries&#x27;,\n",
       "       &#x27;sant hipolit de voltrega (escola familia)&#x27;,\n",
       "       &#x27;manlleu (angela roca)&#x27;, &#x27;san esteve de llémera&#x27;,\n",
       "       &#x27;la vall d en bas (can gronxa)&#x27;, &#x27;maçanet de cabrenys&#x27;,\n",
       "       &#x27;roses (estacio depuradora)&#x27;, &#x27;elizondo&#x27;, &#x27;etxalar&#x27;, &#x27;azcarate&#x27;,\n",
       "       &#x27;gorriti-tabla&#x27;, &#x27;leiza (basakabi)&#x27;, &#x27;aya-laurgain&#x27;,\n",
       "       &#x27;zumarraga, urzabaleta&#x27;, &#x27;azpeitia-ibaieder&#x27;, &#x27;escoriaza&#x27;,\n",
       "       &#x27;mondragon (olandixo)&#x27;, &#x27;oñate (instituto)&#x27;, &#x27;echevarria&#x27;,\n",
       "       &#x27;mendata&#x27;, &#x27;arrazua-caserio olaberri&#x27;, &#x27;bermeo&#x27;,\n",
       "       &#x27;punta galea (golf)&#x27;, &#x27;aranzazu&#x27;, &#x27;la cruz de galdacano&#x27;,\n",
       "       &#x27;valle de mena - burceña&#x27;, &#x27;lanestosa&#x27;, &#x27;carranza  gc&#x27;, &#x27;ceceñas&#x27;,\n",
       "       &#x27;la remonta&#x27;, &#x27;san roman&#x27;, &#x27;villacarriedo&#x27;,\n",
       "       &#x27;molledo de portolin (automatica)&#x27;, &#x27;cobreces&#x27;,\n",
       "       &#x27;san vicente de la barquera&#x27;, &#x27;rozadio&#x27;, &#x27;la hermida&#x27;,\n",
       "...\n",
       "       &#x27;tornabous (el tarros)&#x27;, &#x27;montanuy - refugio cap de llauset&#x27;,\n",
       "       &#x27;puente de montañana (d.g.a.)&#x27;, &#x27;arbeca (c u)&#x27;, &#x27;l(albages&#x27;,\n",
       "       &#x27;aitona (fecsa)&#x27;, &#x27;cerler (esqui cota 2000)&#x27;, &#x27;seira&#x27;,\n",
       "       &#x27;el grado  central ii&#x27;, &#x27;barcabo (d.g.a.)&#x27;, &#x27;monzón - colegio&#x27;,\n",
       "       &#x27;robres (che)&#x27;, &#x27;poleñino-cantalobos&#x27;, &#x27;ontiñena&#x27;, &#x27;valderrobres&#x27;,\n",
       "       &#x27;valderrobres&#x27;, &#x27;maella&#x27;, &#x27;la bisbal de falset&#x27;, &#x27;mora la nova&#x27;,\n",
       "       &#x27;sant jaume&#x27;, &#x27;tredos (baqueira 2200)&#x27;, &#x27;arties&#x27;,\n",
       "       &#x27;bossòst-central&#x27;, &#x27;les (cledes)&#x27;, &#x27;valcarlos, luzaide&#x27;,\n",
       "       &#x27;llucmajor ii&#x27;, &#x27;colònia sant pere-can mengol&#x27;, &#x27;manacor (parque)&#x27;,\n",
       "       &#x27;inca, son estaras&#x27;, &#x27;inca subestacion&#x27;, &#x27;ciutadella-cala galdana&#x27;,\n",
       "       &#x27;sant joan de labritja&#x27;, &#x27;sant miquel e.a.&#x27;, &#x27;tías (las vegas)&#x27;,\n",
       "       &#x27;la oliva-puerto de corralejo&#x27;, &#x27;valle gran rey-arure acardece&#x27;,\n",
       "       &#x27;san sebast. chejelipes presa&#x27;,\n",
       "       &#x27;san sebastian-faro de san cristobal&#x27;, &#x27;san sebastian-molinito&#x27;,\n",
       "       &#x27;cañadas (base teide-teleferico)&#x27;, &#x27;citfagro_89_chavao&#x27;,\n",
       "       &#x27;adeje-los menores segunda&#x27;, &#x27;citfagro_90_picacho&#x27;,\n",
       "       &#x27;citfagro_09_helecho&#x27;, &#x27;fasnia-sabina alta&#x27;, &#x27;arafo&#x27;,\n",
       "       &#x27;laguna (instituto)&#x27;, &#x27;anaga-san andres&#x27;, &#x27;anaga-taganana azanos&#x27;,\n",
       "       &#x27;icod-a&#x27;, &#x27;mogan (inagua)&#x27;, &#x27;valsequillo-hacienda los mocanes&#x27;,\n",
       "       &#x27;las palmas de g.c. (muelle deportivo)&#x27;], dtype=&#x27;&lt;U50&#x27;)</pre></div></li></ul></div></li><li class='xr-section-item'><input id='section-fa1b3278-be2d-4d06-be5f-2f4f3dd23bca' class='xr-section-summary-in' type='checkbox'  ><label for='section-fa1b3278-be2d-4d06-be5f-2f4f3dd23bca' class='xr-section-summary' >Indexes: <span>(2)</span></label><div class='xr-section-inline-details'></div><div class='xr-section-details'><ul class='xr-var-list'><li class='xr-var-item'><div class='xr-index-name'><div>gmst</div></div><div class='xr-index-preview'>PandasIndex</div><div></div><input id='index-c92fd84c-9aaa-4b87-a022-0711d026dd9c' class='xr-index-data-in' type='checkbox'/><label for='index-c92fd84c-9aaa-4b87-a022-0711d026dd9c' title='Show/Hide index repr'><svg class='icon xr-icon-database'><use xlink:href='#icon-database'></use></svg></label><div class='xr-index-data'><pre>PandasIndex(Index([                 0.0, 0.025252525252525252, 0.050505050505050504,\n",
       "        0.07575757575757576,  0.10101010101010101,  0.12626262626262627,\n",
       "        0.15151515151515152,  0.17676767676767677,  0.20202020202020202,\n",
       "        0.22727272727272727,  0.25252525252525254,   0.2777777777777778,\n",
       "        0.30303030303030304,   0.3282828282828283,  0.35353535353535354,\n",
       "         0.3787878787878788,  0.40404040404040403,   0.4292929292929293,\n",
       "        0.45454545454545453,   0.4797979797979798,   0.5050505050505051,\n",
       "         0.5303030303030303,   0.5555555555555556,   0.5808080808080808,\n",
       "         0.6060606060606061,   0.6313131313131313,   0.6565656565656566,\n",
       "         0.6818181818181818,   0.7070707070707071,   0.7323232323232323,\n",
       "         0.7575757575757576,   0.7828282828282828,   0.8080808080808081,\n",
       "         0.8333333333333334,   0.8585858585858586,   0.8838383838383839,\n",
       "         0.9090909090909091,   0.9343434343434344,   0.9595959595959596,\n",
       "         0.9848484848484849,   1.0101010101010102,   1.0353535353535352,\n",
       "         1.0606060606060606,   1.0858585858585859,   1.1111111111111112,\n",
       "         1.1363636363636362,   1.1616161616161615,   1.1868686868686869,\n",
       "         1.2121212121212122,   1.2373737373737375,   1.2626262626262625,\n",
       "         1.2878787878787878,   1.3131313131313131,   1.3383838383838385,\n",
       "         1.3636363636363635,   1.3888888888888888,   1.4141414141414141,\n",
       "         1.4393939393939394,   1.4646464646464645,   1.4898989898989898,\n",
       "         1.5151515151515151,   1.5404040404040404,   1.5656565656565655,\n",
       "         1.5909090909090908,   1.6161616161616161,   1.6414141414141414,\n",
       "         1.6666666666666667,   1.6919191919191918,   1.7171717171717171,\n",
       "         1.7424242424242424,   1.7676767676767677,   1.7929292929292928,\n",
       "         1.8181818181818181,   1.8434343434343434,   1.8686868686868687,\n",
       "         1.8939393939393938,   1.9191919191919191,   1.9444444444444444,\n",
       "         1.9696969696969697,   1.9949494949494948,   2.0202020202020203,\n",
       "         2.0454545454545454,   2.0707070707070705,    2.095959595959596,\n",
       "          2.121212121212121,   2.1464646464646466,   2.1717171717171717,\n",
       "          2.196969696969697,   2.2222222222222223,   2.2474747474747474,\n",
       "         2.2727272727272725,    2.297979797979798,    2.323232323232323,\n",
       "         2.3484848484848486,   2.3737373737373737,    2.398989898989899,\n",
       "         2.4242424242424243,   2.4494949494949494,    2.474747474747475,\n",
       "                        2.5],\n",
       "      dtype=&#x27;float64&#x27;, name=&#x27;gmst&#x27;))</pre></div></li><li class='xr-var-item'><div class='xr-index-name'><div>station_id</div></div><div class='xr-index-preview'>PandasIndex</div><div></div><input id='index-0fb0d3fb-99b4-471a-a650-09e7ca86969a' class='xr-index-data-in' type='checkbox'/><label for='index-0fb0d3fb-99b4-471a-a650-09e7ca86969a' title='Show/Hide index repr'><svg class='icon xr-icon-database'><use xlink:href='#icon-database'></use></svg></label><div class='xr-index-data'><pre>PandasIndex(Index([&#x27;0002I&#x27;, &#x27;0016B&#x27;, &#x27;0020O&#x27;, &#x27;0034A&#x27;, &#x27;0040F&#x27;, &#x27;0092C&#x27;, &#x27;0127O&#x27;, &#x27;0139I&#x27;,\n",
       "       &#x27;0229I&#x27;, &#x27;0234I&#x27;,\n",
       "       ...\n",
       "       &#x27;C426R&#x27;, &#x27;C437C&#x27;, &#x27;C438I&#x27;, &#x27;C447B&#x27;, &#x27;C449G&#x27;, &#x27;C449M&#x27;, &#x27;C469I&#x27;, &#x27;C625A&#x27;,\n",
       "       &#x27;C646O&#x27;, &#x27;C659T&#x27;],\n",
       "      dtype=&#x27;object&#x27;, name=&#x27;station_id&#x27;, length=699))</pre></div></li></ul></div></li><li class='xr-section-item'><input id='section-3a70eb28-29de-48cd-817b-3a12af9fa777' class='xr-section-summary-in' type='checkbox' disabled ><label for='section-3a70eb28-29de-48cd-817b-3a12af9fa777' class='xr-section-summary'  title='Expand/collapse section'>Attributes: <span>(0)</span></label><div class='xr-section-inline-details'></div><div class='xr-section-details'><dl class='xr-attrs'></dl></div></li></ul></div></div>"
      ],
      "text/plain": [
       "<xarray.DataArray 'location' (gmst: 100, station_id: 699)> Size: 559kB\n",
       "array([[32.48081766, 32.90908062, 33.23638697, ..., 51.99050508,\n",
       "        28.8167991 , 24.77065629],\n",
       "       [32.53227108, 32.95760955, 33.27885734, ..., 52.04596758,\n",
       "        28.85624955, 24.80910901],\n",
       "       [32.58060412, 33.00714962, 33.32526173, ..., 52.07942104,\n",
       "        28.89856502, 24.84468725],\n",
       "       ...,\n",
       "       [37.26652632, 37.67176332, 37.71476646, ..., 56.67123825,\n",
       "        32.69642997, 28.22013363],\n",
       "       [37.31573222, 37.72096319, 37.76302462, ..., 56.73595148,\n",
       "        32.74266901, 28.25798037],\n",
       "       [37.36477137, 37.76966592, 37.81005064, ..., 56.79266778,\n",
       "        32.7817723 , 28.29562328]])\n",
       "Coordinates:\n",
       "    alt             (station_id) float32 3kB 32.0 118.0 487.0 ... 620.0 10.0\n",
       "  * gmst            (gmst) float64 800B 0.0 0.02525 0.05051 ... 2.449 2.475 2.5\n",
       "    lat             (station_id) float32 3kB 40.96 41.15 41.38 ... 27.98 28.13\n",
       "    lon             (station_id) float32 3kB 0.87 1.108 1.081 ... -15.5 -15.42\n",
       "    red_feten_mask  (station_id) uint8 699B 1 1 0 0 1 0 0 0 ... 0 1 0 0 0 0 0 1\n",
       "  * station_id      (station_id) <U5 14kB '0002I' '0016B' ... 'C646O' 'C659T'\n",
       "    station_name    (station_id) <U50 140kB 'vandellòs' ... 'las palmas de g...."
      ]
     },
     "execution_count": 98,
     "metadata": {},
     "output_type": "execute_result"
    }
   ],
   "source": [
    "data_results = az.extract(az_ds, group=\"predictions\", num_samples=num_samples).median(dim=[\"sample\"]).load()\n",
    "data_results = data_results.sortby(\"gmst\")\n",
    "idata = data_results[PLOT_VARIABLE]\n",
    "idata"
   ]
  },
  {
   "cell_type": "code",
   "execution_count": 91,
   "id": "571195a8-c481-44dd-abd6-9395decf57c5",
   "metadata": {},
   "outputs": [
    {
     "name": "stderr",
     "output_type": "stream",
     "text": [
      "\u001b[32m2024-12-17 11:04:49.523\u001b[0m | \u001b[1mINFO    \u001b[0m | \u001b[36mst_evt._src.modules.models.aemet.utils_region\u001b[0m:\u001b[36mplot_dynamic_spatial_variable_gmst_pred\u001b[0m:\u001b[36m547\u001b[0m - \u001b[1mPlotting LOCATION Density...\u001b[0m\n",
      "\u001b[32m2024-12-17 11:04:50.107\u001b[0m | \u001b[34m\u001b[1mDEBUG   \u001b[0m | \u001b[36mst_evt._src.modules.models.aemet.utils_region\u001b[0m:\u001b[36mplot_dynamic_spatial_variable_gmst_pred\u001b[0m:\u001b[36m578\u001b[0m - \u001b[34m\u001b[1mSaved Figure: \n",
      "/home/juanjohn/pool_data/dynev4eo/experiments/walkthrough/aemet/t2max/az_nonstationary_gp_mcmc_redfeten_trainnoise/results/figures/spain/location/predictions/location_density_groups.png\u001b[0m\n",
      "\u001b[32m2024-12-17 11:04:50.108\u001b[0m | \u001b[1mINFO    \u001b[0m | \u001b[36mst_evt._src.modules.models.aemet.utils_region\u001b[0m:\u001b[36mplot_dynamic_spatial_variable_gmst_pred\u001b[0m:\u001b[36m581\u001b[0m - \u001b[1mPlotting Map...\u001b[0m\n",
      "\u001b[32m2024-12-17 11:04:50.109\u001b[0m | \u001b[1mINFO    \u001b[0m | \u001b[36mst_evt._src.modules.models.aemet.utils_region\u001b[0m:\u001b[36mplot_dynamic_spatial_variable_gmst_pred\u001b[0m:\u001b[36m591\u001b[0m - \u001b[1mPlotting Map of Spain...\u001b[0m\n",
      "\u001b[32m2024-12-17 11:04:50.394\u001b[0m | \u001b[34m\u001b[1mDEBUG   \u001b[0m | \u001b[36mst_evt._src.modules.models.aemet.utils_region\u001b[0m:\u001b[36mplot_dynamic_spatial_variable_gmst_pred\u001b[0m:\u001b[36m597\u001b[0m - \u001b[34m\u001b[1mSaved Figure: \n",
      "/home/juanjohn/pool_data/dynev4eo/experiments/walkthrough/aemet/t2max/az_nonstationary_gp_mcmc_redfeten_trainnoise/results/figures/spain/location/predictions/location_map_0.0.png\u001b[0m\n",
      "\u001b[32m2024-12-17 11:04:50.395\u001b[0m | \u001b[1mINFO    \u001b[0m | \u001b[36mst_evt._src.modules.models.aemet.utils_region\u001b[0m:\u001b[36mplot_dynamic_spatial_variable_gmst_pred\u001b[0m:\u001b[36m591\u001b[0m - \u001b[1mPlotting Map of Spain...\u001b[0m\n",
      "\u001b[32m2024-12-17 11:04:50.676\u001b[0m | \u001b[34m\u001b[1mDEBUG   \u001b[0m | \u001b[36mst_evt._src.modules.models.aemet.utils_region\u001b[0m:\u001b[36mplot_dynamic_spatial_variable_gmst_pred\u001b[0m:\u001b[36m597\u001b[0m - \u001b[34m\u001b[1mSaved Figure: \n",
      "/home/juanjohn/pool_data/dynev4eo/experiments/walkthrough/aemet/t2max/az_nonstationary_gp_mcmc_redfeten_trainnoise/results/figures/spain/location/predictions/location_map_1.3.png\u001b[0m\n",
      "\u001b[32m2024-12-17 11:04:50.677\u001b[0m | \u001b[1mINFO    \u001b[0m | \u001b[36mst_evt._src.modules.models.aemet.utils_region\u001b[0m:\u001b[36mplot_dynamic_spatial_variable_gmst_pred\u001b[0m:\u001b[36m591\u001b[0m - \u001b[1mPlotting Map of Spain...\u001b[0m\n",
      "\u001b[32m2024-12-17 11:04:50.958\u001b[0m | \u001b[34m\u001b[1mDEBUG   \u001b[0m | \u001b[36mst_evt._src.modules.models.aemet.utils_region\u001b[0m:\u001b[36mplot_dynamic_spatial_variable_gmst_pred\u001b[0m:\u001b[36m597\u001b[0m - \u001b[34m\u001b[1mSaved Figure: \n",
      "/home/juanjohn/pool_data/dynev4eo/experiments/walkthrough/aemet/t2max/az_nonstationary_gp_mcmc_redfeten_trainnoise/results/figures/spain/location/predictions/location_map_2.5.png\u001b[0m\n",
      "\u001b[32m2024-12-17 11:04:50.959\u001b[0m | \u001b[1mINFO    \u001b[0m | \u001b[36mst_evt._src.modules.models.aemet.utils_region\u001b[0m:\u001b[36mplot_dynamic_spatial_variable_gmst_pred\u001b[0m:\u001b[36m600\u001b[0m - \u001b[1mPlotting Covariates...\u001b[0m\n",
      "\u001b[32m2024-12-17 11:04:51.085\u001b[0m | \u001b[34m\u001b[1mDEBUG   \u001b[0m | \u001b[36mst_evt._src.modules.models.aemet.utils_region\u001b[0m:\u001b[36mplot_covariates\u001b[0m:\u001b[36m138\u001b[0m - \u001b[34m\u001b[1mSaved Figure: \n",
      "/home/juanjohn/pool_data/dynev4eo/experiments/walkthrough/aemet/t2max/az_nonstationary_gp_mcmc_redfeten_trainnoise/results/figures/spain/location/predictions/location_covariates_lon.png\u001b[0m\n",
      "\u001b[32m2024-12-17 11:04:51.222\u001b[0m | \u001b[34m\u001b[1mDEBUG   \u001b[0m | \u001b[36mst_evt._src.modules.models.aemet.utils_region\u001b[0m:\u001b[36mplot_covariates\u001b[0m:\u001b[36m154\u001b[0m - \u001b[34m\u001b[1mSaved Figure: \n",
      "/home/juanjohn/pool_data/dynev4eo/experiments/walkthrough/aemet/t2max/az_nonstationary_gp_mcmc_redfeten_trainnoise/results/figures/spain/location/predictions/location_covariates_lat.png\u001b[0m\n",
      "\u001b[32m2024-12-17 11:04:51.341\u001b[0m | \u001b[34m\u001b[1mDEBUG   \u001b[0m | \u001b[36mst_evt._src.modules.models.aemet.utils_region\u001b[0m:\u001b[36mplot_covariates\u001b[0m:\u001b[36m170\u001b[0m - \u001b[34m\u001b[1mSaved Figure: \n",
      "/home/juanjohn/pool_data/dynev4eo/experiments/walkthrough/aemet/t2max/az_nonstationary_gp_mcmc_redfeten_trainnoise/results/figures/spain/location/predictions/location_covariates_alt.png\u001b[0m\n"
     ]
    }
   ],
   "source": [
    "subfigures_path = Path(figures_path).joinpath(f\"{PLOT_VARIABLE}/predictions\")\n",
    "subfigures_path.mkdir(parents=True, exist_ok=True)\n",
    "\n",
    "utils_region.plot_dynamic_spatial_variable_gmst_pred(\n",
    "    idata,\n",
    "    figures_path=subfigures_path,\n",
    "    cbar_label=utils_region.VARIABLE_LABELS[PLOT_VARIABLE],\n",
    "    cmap=\"Reds\",\n",
    "    bounds = (20, 10, 45),\n",
    "    covariate = covariate\n",
    ")"
   ]
  },
  {
   "cell_type": "markdown",
   "id": "840b52de-bfda-484f-bd13-4536249d2be3",
   "metadata": {},
   "source": [
    "### Locaiton Difference - Posterior"
   ]
  },
  {
   "cell_type": "code",
   "execution_count": 103,
   "id": "cf37fd95-cf2b-4e5d-b40e-59d19dbb8c2b",
   "metadata": {},
   "outputs": [],
   "source": [
    "PLOT_VARIABLE = \"location\"\n",
    "VARIABLE = \"t2max\"\n",
    "COVARIATE = \"gmst\"\n",
    "num_samples = 10_000"
   ]
  },
  {
   "cell_type": "code",
   "execution_count": 104,
   "id": "5ffea0c5-9705-4ade-a2d3-147333d70812",
   "metadata": {},
   "outputs": [],
   "source": [
    "data_results = az.extract(az_ds, group=\"posterior\", num_samples=num_samples).median(dim=[\"sample\"]).load()\n",
    "data_results = data_results.sortby(\"gmst\")\n",
    "idata = data_results[PLOT_VARIABLE]"
   ]
  },
  {
   "cell_type": "code",
   "execution_count": 105,
   "id": "29598e91-51e5-4c0a-87ec-0dcc4faac03b",
   "metadata": {},
   "outputs": [
    {
     "name": "stderr",
     "output_type": "stream",
     "text": [
      "\u001b[32m2024-12-17 11:18:31.764\u001b[0m | \u001b[1mINFO    \u001b[0m | \u001b[36mst_evt._src.modules.models.aemet.utils_region\u001b[0m:\u001b[36mplot_dynamic_spatial_variable_diff_postpred\u001b[0m:\u001b[36m484\u001b[0m - \u001b[1mPlotting LOCATION_DIFFERENCE Density...\u001b[0m\n",
      "\u001b[32m2024-12-17 11:18:31.929\u001b[0m | \u001b[34m\u001b[1mDEBUG   \u001b[0m | \u001b[36mst_evt._src.modules.models.aemet.utils_region\u001b[0m:\u001b[36mplot_dynamic_spatial_variable_diff_postpred\u001b[0m:\u001b[36m497\u001b[0m - \u001b[34m\u001b[1mSaved Figure: \n",
      "/home/juanjohn/pool_data/dynev4eo/experiments/walkthrough/aemet/t2max/az_nonstationary_gp_mcmc_redfeten_trainnoise/results/figures/spain/location_difference/posterior/location_difference_density.png\u001b[0m\n",
      "\u001b[32m2024-12-17 11:18:31.930\u001b[0m | \u001b[1mINFO    \u001b[0m | \u001b[36mst_evt._src.modules.models.aemet.utils_region\u001b[0m:\u001b[36mplot_dynamic_spatial_variable_diff_postpred\u001b[0m:\u001b[36m500\u001b[0m - \u001b[1mPlotting Map...\u001b[0m\n",
      "\u001b[32m2024-12-17 11:18:31.930\u001b[0m | \u001b[1mINFO    \u001b[0m | \u001b[36mst_evt._src.modules.models.aemet.utils_region\u001b[0m:\u001b[36mplot_dynamic_spatial_variable_diff_postpred\u001b[0m:\u001b[36m509\u001b[0m - \u001b[1mPlotting Map of Spain...\u001b[0m\n",
      "\u001b[32m2024-12-17 11:18:32.216\u001b[0m | \u001b[34m\u001b[1mDEBUG   \u001b[0m | \u001b[36mst_evt._src.modules.models.aemet.utils_region\u001b[0m:\u001b[36mplot_dynamic_spatial_variable_diff_postpred\u001b[0m:\u001b[36m519\u001b[0m - \u001b[34m\u001b[1mSaved Figure: \n",
      "/home/juanjohn/pool_data/dynev4eo/experiments/walkthrough/aemet/t2max/az_nonstationary_gp_mcmc_redfeten_trainnoise/results/figures/spain/location_difference/posterior/location_difference_map.png\u001b[0m\n",
      "\u001b[32m2024-12-17 11:18:32.216\u001b[0m | \u001b[1mINFO    \u001b[0m | \u001b[36mst_evt._src.modules.models.aemet.utils_region\u001b[0m:\u001b[36mplot_dynamic_spatial_variable_diff_postpred\u001b[0m:\u001b[36m522\u001b[0m - \u001b[1mPlotting Covariates...\u001b[0m\n",
      "\u001b[32m2024-12-17 11:18:32.337\u001b[0m | \u001b[34m\u001b[1mDEBUG   \u001b[0m | \u001b[36mst_evt._src.modules.models.aemet.utils_region\u001b[0m:\u001b[36mplot_covariates\u001b[0m:\u001b[36m138\u001b[0m - \u001b[34m\u001b[1mSaved Figure: \n",
      "/home/juanjohn/pool_data/dynev4eo/experiments/walkthrough/aemet/t2max/az_nonstationary_gp_mcmc_redfeten_trainnoise/results/figures/spain/location_difference/posterior/location_difference_covariates_lon.png\u001b[0m\n",
      "\u001b[32m2024-12-17 11:18:32.469\u001b[0m | \u001b[34m\u001b[1mDEBUG   \u001b[0m | \u001b[36mst_evt._src.modules.models.aemet.utils_region\u001b[0m:\u001b[36mplot_covariates\u001b[0m:\u001b[36m154\u001b[0m - \u001b[34m\u001b[1mSaved Figure: \n",
      "/home/juanjohn/pool_data/dynev4eo/experiments/walkthrough/aemet/t2max/az_nonstationary_gp_mcmc_redfeten_trainnoise/results/figures/spain/location_difference/posterior/location_difference_covariates_lat.png\u001b[0m\n",
      "\u001b[32m2024-12-17 11:18:32.582\u001b[0m | \u001b[34m\u001b[1mDEBUG   \u001b[0m | \u001b[36mst_evt._src.modules.models.aemet.utils_region\u001b[0m:\u001b[36mplot_covariates\u001b[0m:\u001b[36m170\u001b[0m - \u001b[34m\u001b[1mSaved Figure: \n",
      "/home/juanjohn/pool_data/dynev4eo/experiments/walkthrough/aemet/t2max/az_nonstationary_gp_mcmc_redfeten_trainnoise/results/figures/spain/location_difference/posterior/location_difference_covariates_alt.png\u001b[0m\n"
     ]
    }
   ],
   "source": [
    "subfigures_path = Path(figures_path).joinpath(f\"{PLOT_VARIABLE}_difference/posterior\")\n",
    "subfigures_path.mkdir(parents=True, exist_ok=True)\n",
    "\n",
    "utils_region.plot_dynamic_spatial_variable_diff_postpred(\n",
    "    idata,\n",
    "    figures_path=subfigures_path,\n",
    "    cbar_label=utils_region.VARIABLE_LABELS[f\"{PLOT_VARIABLE}_difference\"],\n",
    "    cmap=\"Reds\",\n",
    "    bounds = (1.0, 10, 2.5),\n",
    "    covariate = covariate,\n",
    "    units = \"[°C]\"\n",
    ")"
   ]
  },
  {
   "cell_type": "markdown",
   "id": "6e4c09bb-b133-4c1d-8490-7f86287367f2",
   "metadata": {},
   "source": [
    "### Locaiton Difference - Posterior Predictive"
   ]
  },
  {
   "cell_type": "code",
   "execution_count": 106,
   "id": "226b09a3-4a4b-42fd-a38d-b163076437ee",
   "metadata": {},
   "outputs": [],
   "source": [
    "PLOT_VARIABLE = \"location\"\n",
    "VARIABLE = \"t2max\"\n",
    "COVARIATE = \"gmst\"\n",
    "num_samples = 10_000"
   ]
  },
  {
   "cell_type": "code",
   "execution_count": 107,
   "id": "9c3c78bb-0e7b-47b3-9e26-be853d4f1056",
   "metadata": {},
   "outputs": [],
   "source": [
    "data_results = az.extract(az_ds, group=\"posterior_predictive\", num_samples=num_samples).median(dim=[\"sample\"]).load()\n",
    "data_results = data_results.sortby(\"gmst\")\n",
    "idata = data_results[PLOT_VARIABLE]"
   ]
  },
  {
   "cell_type": "code",
   "execution_count": 108,
   "id": "5326b30f-631f-4523-8e2f-4a473e4e1a56",
   "metadata": {},
   "outputs": [
    {
     "name": "stderr",
     "output_type": "stream",
     "text": [
      "\u001b[32m2024-12-17 11:19:13.216\u001b[0m | \u001b[1mINFO    \u001b[0m | \u001b[36mst_evt._src.modules.models.aemet.utils_region\u001b[0m:\u001b[36mplot_dynamic_spatial_variable_diff_postpred\u001b[0m:\u001b[36m484\u001b[0m - \u001b[1mPlotting LOCATION_DIFFERENCE Density...\u001b[0m\n",
      "\u001b[32m2024-12-17 11:19:13.394\u001b[0m | \u001b[34m\u001b[1mDEBUG   \u001b[0m | \u001b[36mst_evt._src.modules.models.aemet.utils_region\u001b[0m:\u001b[36mplot_dynamic_spatial_variable_diff_postpred\u001b[0m:\u001b[36m497\u001b[0m - \u001b[34m\u001b[1mSaved Figure: \n",
      "/home/juanjohn/pool_data/dynev4eo/experiments/walkthrough/aemet/t2max/az_nonstationary_gp_mcmc_redfeten_trainnoise/results/figures/spain/location_difference/posterior_predictive/location_difference_density.png\u001b[0m\n",
      "\u001b[32m2024-12-17 11:19:13.394\u001b[0m | \u001b[1mINFO    \u001b[0m | \u001b[36mst_evt._src.modules.models.aemet.utils_region\u001b[0m:\u001b[36mplot_dynamic_spatial_variable_diff_postpred\u001b[0m:\u001b[36m500\u001b[0m - \u001b[1mPlotting Map...\u001b[0m\n",
      "\u001b[32m2024-12-17 11:19:13.395\u001b[0m | \u001b[1mINFO    \u001b[0m | \u001b[36mst_evt._src.modules.models.aemet.utils_region\u001b[0m:\u001b[36mplot_dynamic_spatial_variable_diff_postpred\u001b[0m:\u001b[36m509\u001b[0m - \u001b[1mPlotting Map of Spain...\u001b[0m\n",
      "\u001b[32m2024-12-17 11:19:13.693\u001b[0m | \u001b[34m\u001b[1mDEBUG   \u001b[0m | \u001b[36mst_evt._src.modules.models.aemet.utils_region\u001b[0m:\u001b[36mplot_dynamic_spatial_variable_diff_postpred\u001b[0m:\u001b[36m519\u001b[0m - \u001b[34m\u001b[1mSaved Figure: \n",
      "/home/juanjohn/pool_data/dynev4eo/experiments/walkthrough/aemet/t2max/az_nonstationary_gp_mcmc_redfeten_trainnoise/results/figures/spain/location_difference/posterior_predictive/location_difference_map.png\u001b[0m\n",
      "\u001b[32m2024-12-17 11:19:13.693\u001b[0m | \u001b[1mINFO    \u001b[0m | \u001b[36mst_evt._src.modules.models.aemet.utils_region\u001b[0m:\u001b[36mplot_dynamic_spatial_variable_diff_postpred\u001b[0m:\u001b[36m522\u001b[0m - \u001b[1mPlotting Covariates...\u001b[0m\n",
      "\u001b[32m2024-12-17 11:19:13.831\u001b[0m | \u001b[34m\u001b[1mDEBUG   \u001b[0m | \u001b[36mst_evt._src.modules.models.aemet.utils_region\u001b[0m:\u001b[36mplot_covariates\u001b[0m:\u001b[36m138\u001b[0m - \u001b[34m\u001b[1mSaved Figure: \n",
      "/home/juanjohn/pool_data/dynev4eo/experiments/walkthrough/aemet/t2max/az_nonstationary_gp_mcmc_redfeten_trainnoise/results/figures/spain/location_difference/posterior_predictive/location_difference_covariates_lon.png\u001b[0m\n",
      "\u001b[32m2024-12-17 11:19:13.980\u001b[0m | \u001b[34m\u001b[1mDEBUG   \u001b[0m | \u001b[36mst_evt._src.modules.models.aemet.utils_region\u001b[0m:\u001b[36mplot_covariates\u001b[0m:\u001b[36m154\u001b[0m - \u001b[34m\u001b[1mSaved Figure: \n",
      "/home/juanjohn/pool_data/dynev4eo/experiments/walkthrough/aemet/t2max/az_nonstationary_gp_mcmc_redfeten_trainnoise/results/figures/spain/location_difference/posterior_predictive/location_difference_covariates_lat.png\u001b[0m\n",
      "\u001b[32m2024-12-17 11:19:14.109\u001b[0m | \u001b[34m\u001b[1mDEBUG   \u001b[0m | \u001b[36mst_evt._src.modules.models.aemet.utils_region\u001b[0m:\u001b[36mplot_covariates\u001b[0m:\u001b[36m170\u001b[0m - \u001b[34m\u001b[1mSaved Figure: \n",
      "/home/juanjohn/pool_data/dynev4eo/experiments/walkthrough/aemet/t2max/az_nonstationary_gp_mcmc_redfeten_trainnoise/results/figures/spain/location_difference/posterior_predictive/location_difference_covariates_alt.png\u001b[0m\n"
     ]
    }
   ],
   "source": [
    "subfigures_path = Path(figures_path).joinpath(f\"{PLOT_VARIABLE}_difference/posterior_predictive\")\n",
    "subfigures_path.mkdir(parents=True, exist_ok=True)\n",
    "\n",
    "utils_region.plot_dynamic_spatial_variable_diff_postpred(\n",
    "    idata,\n",
    "    figures_path=subfigures_path,\n",
    "    cbar_label=utils_region.VARIABLE_LABELS[f\"{PLOT_VARIABLE}_difference\"],\n",
    "    cmap=\"Reds\",\n",
    "    bounds = (1.0, 10, 2.5),\n",
    "    covariate = covariate,\n",
    "    units = \"[°C]\"\n",
    ")"
   ]
  },
  {
   "cell_type": "markdown",
   "id": "2472b393-1935-4c0f-b5a6-9e646573c112",
   "metadata": {},
   "source": [
    "### Locaiton Difference - Predictions"
   ]
  },
  {
   "cell_type": "code",
   "execution_count": 109,
   "id": "da396600-5088-4768-81fb-d30fa1159129",
   "metadata": {},
   "outputs": [],
   "source": [
    "PLOT_VARIABLE = \"location\"\n",
    "VARIABLE = \"t2max\"\n",
    "COVARIATE = \"gmst\"\n",
    "num_samples = 10_000"
   ]
  },
  {
   "cell_type": "code",
   "execution_count": 110,
   "id": "5eaaa671-7590-403f-8354-afc75cc925f1",
   "metadata": {},
   "outputs": [],
   "source": [
    "data_results = az.extract(az_ds, group=\"predictions\", num_samples=num_samples).median(dim=[\"sample\"]).load()\n",
    "data_results = data_results.sortby(\"gmst\")\n",
    "idata = data_results[PLOT_VARIABLE]"
   ]
  },
  {
   "cell_type": "code",
   "execution_count": 111,
   "id": "a16994cc-3a30-42e6-8e82-603de7bcf817",
   "metadata": {},
   "outputs": [
    {
     "name": "stderr",
     "output_type": "stream",
     "text": [
      "\u001b[32m2024-12-17 11:19:40.233\u001b[0m | \u001b[1mINFO    \u001b[0m | \u001b[36mst_evt._src.modules.models.aemet.utils_region\u001b[0m:\u001b[36mplot_dynamic_spatial_variable_diff_gmst_pred\u001b[0m:\u001b[36m638\u001b[0m - \u001b[1mPlotting LOCATION Density...\u001b[0m\n",
      "\u001b[32m2024-12-17 11:19:40.460\u001b[0m | \u001b[34m\u001b[1mDEBUG   \u001b[0m | \u001b[36mst_evt._src.modules.models.aemet.utils_region\u001b[0m:\u001b[36mplot_dynamic_spatial_variable_diff_gmst_pred\u001b[0m:\u001b[36m662\u001b[0m - \u001b[34m\u001b[1mSaved Figure: \n",
      "/home/juanjohn/pool_data/dynev4eo/experiments/walkthrough/aemet/t2max/az_nonstationary_gp_mcmc_redfeten_trainnoise/results/figures/spain/location_difference/predictions/location_density_groups.png\u001b[0m\n",
      "\u001b[32m2024-12-17 11:19:40.460\u001b[0m | \u001b[1mINFO    \u001b[0m | \u001b[36mst_evt._src.modules.models.aemet.utils_region\u001b[0m:\u001b[36mplot_dynamic_spatial_variable_diff_gmst_pred\u001b[0m:\u001b[36m665\u001b[0m - \u001b[1mPlotting Map...\u001b[0m\n",
      "\u001b[32m2024-12-17 11:19:40.461\u001b[0m | \u001b[1mINFO    \u001b[0m | \u001b[36mst_evt._src.modules.models.aemet.utils_region\u001b[0m:\u001b[36mplot_dynamic_spatial_variable_diff_gmst_pred\u001b[0m:\u001b[36m674\u001b[0m - \u001b[1mPlotting Map of Spain...\u001b[0m\n",
      "\u001b[32m2024-12-17 11:19:40.759\u001b[0m | \u001b[34m\u001b[1mDEBUG   \u001b[0m | \u001b[36mst_evt._src.modules.models.aemet.utils_region\u001b[0m:\u001b[36mplot_dynamic_spatial_variable_diff_gmst_pred\u001b[0m:\u001b[36m680\u001b[0m - \u001b[34m\u001b[1mSaved Figure: \n",
      "/home/juanjohn/pool_data/dynev4eo/experiments/walkthrough/aemet/t2max/az_nonstationary_gp_mcmc_redfeten_trainnoise/results/figures/spain/location_difference/predictions/location_map_10-00.png\u001b[0m\n",
      "\u001b[32m2024-12-17 11:19:40.759\u001b[0m | \u001b[1mINFO    \u001b[0m | \u001b[36mst_evt._src.modules.models.aemet.utils_region\u001b[0m:\u001b[36mplot_dynamic_spatial_variable_diff_gmst_pred\u001b[0m:\u001b[36m683\u001b[0m - \u001b[1mPlotting Covariates...\u001b[0m\n",
      "\u001b[32m2024-12-17 11:19:40.883\u001b[0m | \u001b[34m\u001b[1mDEBUG   \u001b[0m | \u001b[36mst_evt._src.modules.models.aemet.utils_region\u001b[0m:\u001b[36mplot_covariates\u001b[0m:\u001b[36m138\u001b[0m - \u001b[34m\u001b[1mSaved Figure: \n",
      "/home/juanjohn/pool_data/dynev4eo/experiments/walkthrough/aemet/t2max/az_nonstationary_gp_mcmc_redfeten_trainnoise/results/figures/spain/location_difference/predictions/location_diff-10-00_10-00_covariates_lon.png\u001b[0m\n",
      "\u001b[32m2024-12-17 11:19:41.018\u001b[0m | \u001b[34m\u001b[1mDEBUG   \u001b[0m | \u001b[36mst_evt._src.modules.models.aemet.utils_region\u001b[0m:\u001b[36mplot_covariates\u001b[0m:\u001b[36m154\u001b[0m - \u001b[34m\u001b[1mSaved Figure: \n",
      "/home/juanjohn/pool_data/dynev4eo/experiments/walkthrough/aemet/t2max/az_nonstationary_gp_mcmc_redfeten_trainnoise/results/figures/spain/location_difference/predictions/location_diff-10-00_10-00_covariates_lat.png\u001b[0m\n",
      "\u001b[32m2024-12-17 11:19:41.436\u001b[0m | \u001b[34m\u001b[1mDEBUG   \u001b[0m | \u001b[36mst_evt._src.modules.models.aemet.utils_region\u001b[0m:\u001b[36mplot_covariates\u001b[0m:\u001b[36m170\u001b[0m - \u001b[34m\u001b[1mSaved Figure: \n",
      "/home/juanjohn/pool_data/dynev4eo/experiments/walkthrough/aemet/t2max/az_nonstationary_gp_mcmc_redfeten_trainnoise/results/figures/spain/location_difference/predictions/location_diff-10-00_10-00_covariates_alt.png\u001b[0m\n",
      "\u001b[32m2024-12-17 11:19:41.437\u001b[0m | \u001b[1mINFO    \u001b[0m | \u001b[36mst_evt._src.modules.models.aemet.utils_region\u001b[0m:\u001b[36mplot_dynamic_spatial_variable_diff_gmst_pred\u001b[0m:\u001b[36m674\u001b[0m - \u001b[1mPlotting Map of Spain...\u001b[0m\n",
      "\u001b[32m2024-12-17 11:19:41.732\u001b[0m | \u001b[34m\u001b[1mDEBUG   \u001b[0m | \u001b[36mst_evt._src.modules.models.aemet.utils_region\u001b[0m:\u001b[36mplot_dynamic_spatial_variable_diff_gmst_pred\u001b[0m:\u001b[36m680\u001b[0m - \u001b[34m\u001b[1mSaved Figure: \n",
      "/home/juanjohn/pool_data/dynev4eo/experiments/walkthrough/aemet/t2max/az_nonstationary_gp_mcmc_redfeten_trainnoise/results/figures/spain/location_difference/predictions/location_map_20-10.png\u001b[0m\n",
      "\u001b[32m2024-12-17 11:19:41.732\u001b[0m | \u001b[1mINFO    \u001b[0m | \u001b[36mst_evt._src.modules.models.aemet.utils_region\u001b[0m:\u001b[36mplot_dynamic_spatial_variable_diff_gmst_pred\u001b[0m:\u001b[36m683\u001b[0m - \u001b[1mPlotting Covariates...\u001b[0m\n",
      "\u001b[32m2024-12-17 11:19:41.853\u001b[0m | \u001b[34m\u001b[1mDEBUG   \u001b[0m | \u001b[36mst_evt._src.modules.models.aemet.utils_region\u001b[0m:\u001b[36mplot_covariates\u001b[0m:\u001b[36m138\u001b[0m - \u001b[34m\u001b[1mSaved Figure: \n",
      "/home/juanjohn/pool_data/dynev4eo/experiments/walkthrough/aemet/t2max/az_nonstationary_gp_mcmc_redfeten_trainnoise/results/figures/spain/location_difference/predictions/location_diff-20-10_20-10_covariates_lon.png\u001b[0m\n",
      "\u001b[32m2024-12-17 11:19:41.986\u001b[0m | \u001b[34m\u001b[1mDEBUG   \u001b[0m | \u001b[36mst_evt._src.modules.models.aemet.utils_region\u001b[0m:\u001b[36mplot_covariates\u001b[0m:\u001b[36m154\u001b[0m - \u001b[34m\u001b[1mSaved Figure: \n",
      "/home/juanjohn/pool_data/dynev4eo/experiments/walkthrough/aemet/t2max/az_nonstationary_gp_mcmc_redfeten_trainnoise/results/figures/spain/location_difference/predictions/location_diff-20-10_20-10_covariates_lat.png\u001b[0m\n",
      "\u001b[32m2024-12-17 11:19:42.100\u001b[0m | \u001b[34m\u001b[1mDEBUG   \u001b[0m | \u001b[36mst_evt._src.modules.models.aemet.utils_region\u001b[0m:\u001b[36mplot_covariates\u001b[0m:\u001b[36m170\u001b[0m - \u001b[34m\u001b[1mSaved Figure: \n",
      "/home/juanjohn/pool_data/dynev4eo/experiments/walkthrough/aemet/t2max/az_nonstationary_gp_mcmc_redfeten_trainnoise/results/figures/spain/location_difference/predictions/location_diff-20-10_20-10_covariates_alt.png\u001b[0m\n"
     ]
    }
   ],
   "source": [
    "subfigures_path = Path(figures_path).joinpath(f\"{PLOT_VARIABLE}_difference/predictions\")\n",
    "subfigures_path.mkdir(parents=True, exist_ok=True)\n",
    "\n",
    "utils_region.plot_dynamic_spatial_variable_diff_gmst_pred(\n",
    "    idata,\n",
    "    figures_path=subfigures_path,\n",
    "    cbar_label=utils_region.VARIABLE_LABELS[f\"{PLOT_VARIABLE}_difference\"],\n",
    "    cmap=\"Reds\",\n",
    "    bounds = (1.0, 10, 2.5),\n",
    "    covariate = covariate,\n",
    "    periods = [0.0, 1.3, 2.5]\n",
    ")"
   ]
  },
  {
   "cell_type": "markdown",
   "id": "2e0f6b3f-6b9b-405c-9777-ac2f23646f9f",
   "metadata": {},
   "source": [
    "## Dynamic Spatial Variables - Post Processing"
   ]
  },
  {
   "cell_type": "markdown",
   "id": "2525fab2-b276-4a20-bbfd-897fb2647083",
   "metadata": {},
   "source": [
    "### 100-Year Return Period - Posterior"
   ]
  },
  {
   "cell_type": "code",
   "execution_count": 19,
   "id": "c60948bf-904b-4df8-9bde-1ff58c34782d",
   "metadata": {},
   "outputs": [],
   "source": [
    "PLOT_VARIABLE = \"return_level_100\"\n",
    "VARIABLE = \"t2max\"\n",
    "COVARIATE = \"gmst\"\n",
    "num_samples = 2_000"
   ]
  },
  {
   "cell_type": "code",
   "execution_count": 20,
   "id": "c0a87e36-1637-4418-bb97-a202b73b937f",
   "metadata": {},
   "outputs": [],
   "source": [
    "data_results = az.extract(az_ds, group=\"posterior\", num_samples=num_samples)\n",
    "data_results = data_results.sortby(\"gmst\")\n",
    "data_results = utils_station.calculate_ds_return_periods(data_results, [\"sample\"])\n",
    "idata = data_results[PLOT_VARIABLE].median(dim=[\"sample\"]).load()"
   ]
  },
  {
   "cell_type": "code",
   "execution_count": 21,
   "id": "18476247-467a-4e5e-8b6b-b6e48a25ce41",
   "metadata": {},
   "outputs": [
    {
     "name": "stderr",
     "output_type": "stream",
     "text": [
      "\u001b[32m2024-12-17 11:27:46.104\u001b[0m | \u001b[1mINFO    \u001b[0m | \u001b[36mst_evt._src.modules.models.aemet.utils_region\u001b[0m:\u001b[36mplot_dynamic_spatial_variable_postpred\u001b[0m:\u001b[36m404\u001b[0m - \u001b[1mPlotting RETURN_LEVEL_100 Density...\u001b[0m\n",
      "\u001b[32m2024-12-17 11:27:46.464\u001b[0m | \u001b[34m\u001b[1mDEBUG   \u001b[0m | \u001b[36mst_evt._src.modules.models.aemet.utils_region\u001b[0m:\u001b[36mplot_dynamic_spatial_variable_postpred\u001b[0m:\u001b[36m428\u001b[0m - \u001b[34m\u001b[1mSaved Figure: \n",
      "/home/juanjohn/pool_data/dynev4eo/experiments/walkthrough/aemet/t2max/az_nonstationary_gp_mcmc_redfeten_trainnoise/results/figures/spain/return_level_100/posterior/return_level_100_density_groups.png\u001b[0m\n",
      "\u001b[32m2024-12-17 11:27:46.464\u001b[0m | \u001b[1mINFO    \u001b[0m | \u001b[36mst_evt._src.modules.models.aemet.utils_region\u001b[0m:\u001b[36mplot_dynamic_spatial_variable_postpred\u001b[0m:\u001b[36m431\u001b[0m - \u001b[1mPlotting Map...\u001b[0m\n",
      "\u001b[32m2024-12-17 11:27:46.466\u001b[0m | \u001b[1mINFO    \u001b[0m | \u001b[36mst_evt._src.modules.models.aemet.utils_region\u001b[0m:\u001b[36mplot_dynamic_spatial_variable_postpred\u001b[0m:\u001b[36m441\u001b[0m - \u001b[1mPlotting Map of Spain...\u001b[0m\n",
      "\u001b[32m2024-12-17 11:27:47.279\u001b[0m | \u001b[34m\u001b[1mDEBUG   \u001b[0m | \u001b[36mst_evt._src.modules.models.aemet.utils_region\u001b[0m:\u001b[36mplot_dynamic_spatial_variable_postpred\u001b[0m:\u001b[36m447\u001b[0m - \u001b[34m\u001b[1mSaved Figure: \n",
      "/home/juanjohn/pool_data/dynev4eo/experiments/walkthrough/aemet/t2max/az_nonstationary_gp_mcmc_redfeten_trainnoise/results/figures/spain/return_level_100/posterior/return_level_100_map_start.png\u001b[0m\n",
      "\u001b[32m2024-12-17 11:27:47.280\u001b[0m | \u001b[1mINFO    \u001b[0m | \u001b[36mst_evt._src.modules.models.aemet.utils_region\u001b[0m:\u001b[36mplot_dynamic_spatial_variable_postpred\u001b[0m:\u001b[36m450\u001b[0m - \u001b[1mPlotting Covariates...\u001b[0m\n",
      "\u001b[32m2024-12-17 11:27:47.687\u001b[0m | \u001b[34m\u001b[1mDEBUG   \u001b[0m | \u001b[36mst_evt._src.modules.models.aemet.utils_region\u001b[0m:\u001b[36mplot_covariates\u001b[0m:\u001b[36m138\u001b[0m - \u001b[34m\u001b[1mSaved Figure: \n",
      "/home/juanjohn/pool_data/dynev4eo/experiments/walkthrough/aemet/t2max/az_nonstationary_gp_mcmc_redfeten_trainnoise/results/figures/spain/return_level_100/posterior/return_level_100_start_covariates_lon.png\u001b[0m\n",
      "\u001b[32m2024-12-17 11:27:47.851\u001b[0m | \u001b[34m\u001b[1mDEBUG   \u001b[0m | \u001b[36mst_evt._src.modules.models.aemet.utils_region\u001b[0m:\u001b[36mplot_covariates\u001b[0m:\u001b[36m154\u001b[0m - \u001b[34m\u001b[1mSaved Figure: \n",
      "/home/juanjohn/pool_data/dynev4eo/experiments/walkthrough/aemet/t2max/az_nonstationary_gp_mcmc_redfeten_trainnoise/results/figures/spain/return_level_100/posterior/return_level_100_start_covariates_lat.png\u001b[0m\n",
      "\u001b[32m2024-12-17 11:27:47.998\u001b[0m | \u001b[34m\u001b[1mDEBUG   \u001b[0m | \u001b[36mst_evt._src.modules.models.aemet.utils_region\u001b[0m:\u001b[36mplot_covariates\u001b[0m:\u001b[36m170\u001b[0m - \u001b[34m\u001b[1mSaved Figure: \n",
      "/home/juanjohn/pool_data/dynev4eo/experiments/walkthrough/aemet/t2max/az_nonstationary_gp_mcmc_redfeten_trainnoise/results/figures/spain/return_level_100/posterior/return_level_100_start_covariates_alt.png\u001b[0m\n",
      "\u001b[32m2024-12-17 11:27:47.999\u001b[0m | \u001b[1mINFO    \u001b[0m | \u001b[36mst_evt._src.modules.models.aemet.utils_region\u001b[0m:\u001b[36mplot_dynamic_spatial_variable_postpred\u001b[0m:\u001b[36m441\u001b[0m - \u001b[1mPlotting Map of Spain...\u001b[0m\n",
      "\u001b[32m2024-12-17 11:27:48.323\u001b[0m | \u001b[34m\u001b[1mDEBUG   \u001b[0m | \u001b[36mst_evt._src.modules.models.aemet.utils_region\u001b[0m:\u001b[36mplot_dynamic_spatial_variable_postpred\u001b[0m:\u001b[36m447\u001b[0m - \u001b[34m\u001b[1mSaved Figure: \n",
      "/home/juanjohn/pool_data/dynev4eo/experiments/walkthrough/aemet/t2max/az_nonstationary_gp_mcmc_redfeten_trainnoise/results/figures/spain/return_level_100/posterior/return_level_100_map_end.png\u001b[0m\n",
      "\u001b[32m2024-12-17 11:27:48.323\u001b[0m | \u001b[1mINFO    \u001b[0m | \u001b[36mst_evt._src.modules.models.aemet.utils_region\u001b[0m:\u001b[36mplot_dynamic_spatial_variable_postpred\u001b[0m:\u001b[36m450\u001b[0m - \u001b[1mPlotting Covariates...\u001b[0m\n",
      "\u001b[32m2024-12-17 11:27:48.475\u001b[0m | \u001b[34m\u001b[1mDEBUG   \u001b[0m | \u001b[36mst_evt._src.modules.models.aemet.utils_region\u001b[0m:\u001b[36mplot_covariates\u001b[0m:\u001b[36m138\u001b[0m - \u001b[34m\u001b[1mSaved Figure: \n",
      "/home/juanjohn/pool_data/dynev4eo/experiments/walkthrough/aemet/t2max/az_nonstationary_gp_mcmc_redfeten_trainnoise/results/figures/spain/return_level_100/posterior/return_level_100_end_covariates_lon.png\u001b[0m\n",
      "\u001b[32m2024-12-17 11:27:48.636\u001b[0m | \u001b[34m\u001b[1mDEBUG   \u001b[0m | \u001b[36mst_evt._src.modules.models.aemet.utils_region\u001b[0m:\u001b[36mplot_covariates\u001b[0m:\u001b[36m154\u001b[0m - \u001b[34m\u001b[1mSaved Figure: \n",
      "/home/juanjohn/pool_data/dynev4eo/experiments/walkthrough/aemet/t2max/az_nonstationary_gp_mcmc_redfeten_trainnoise/results/figures/spain/return_level_100/posterior/return_level_100_end_covariates_lat.png\u001b[0m\n",
      "\u001b[32m2024-12-17 11:27:48.779\u001b[0m | \u001b[34m\u001b[1mDEBUG   \u001b[0m | \u001b[36mst_evt._src.modules.models.aemet.utils_region\u001b[0m:\u001b[36mplot_covariates\u001b[0m:\u001b[36m170\u001b[0m - \u001b[34m\u001b[1mSaved Figure: \n",
      "/home/juanjohn/pool_data/dynev4eo/experiments/walkthrough/aemet/t2max/az_nonstationary_gp_mcmc_redfeten_trainnoise/results/figures/spain/return_level_100/posterior/return_level_100_end_covariates_alt.png\u001b[0m\n"
     ]
    }
   ],
   "source": [
    "subfigures_path = Path(figures_path).joinpath(f\"{PLOT_VARIABLE}/posterior\")\n",
    "subfigures_path.mkdir(parents=True, exist_ok=True)\n",
    "\n",
    "utils_region.plot_dynamic_spatial_variable_postpred(\n",
    "    idata,\n",
    "    figures_path=subfigures_path,\n",
    "    cbar_label=utils_region.VARIABLE_LABELS[PLOT_VARIABLE],\n",
    "    cmap=\"Reds\",\n",
    "    bounds = (25, 10, 50),\n",
    "    covariate = covariate,\n",
    "    units = \"[°C]\"\n",
    ")"
   ]
  },
  {
   "cell_type": "markdown",
   "id": "0fd8233c-217e-4036-ba77-72f780a44726",
   "metadata": {},
   "source": [
    "### 100-Year Return Level - Posterior Predictive"
   ]
  },
  {
   "cell_type": "code",
   "execution_count": 22,
   "id": "55bf489c-4369-4573-9dc6-e9bba33e787b",
   "metadata": {},
   "outputs": [],
   "source": [
    "PLOT_VARIABLE = \"return_level_100\"\n",
    "VARIABLE = \"t2max\"\n",
    "COVARIATE = \"gmst\"\n",
    "num_samples = 2_000"
   ]
  },
  {
   "cell_type": "code",
   "execution_count": 23,
   "id": "1ba8f4a0-0807-4fd4-9e12-1abe8c7691e4",
   "metadata": {},
   "outputs": [],
   "source": [
    "data_results = az.extract(az_ds, group=\"posterior_predictive\", num_samples=num_samples)\n",
    "data_results = data_results.sortby(\"gmst\")\n",
    "data_results = utils_station.calculate_ds_return_periods(data_results, [\"sample\"])\n",
    "idata = data_results[PLOT_VARIABLE].median(dim=[\"sample\"]).load()"
   ]
  },
  {
   "cell_type": "code",
   "execution_count": 24,
   "id": "d58bdcb7-c06f-47b7-bd0d-c9489d647d0e",
   "metadata": {},
   "outputs": [
    {
     "name": "stderr",
     "output_type": "stream",
     "text": [
      "\u001b[32m2024-12-17 11:29:16.146\u001b[0m | \u001b[1mINFO    \u001b[0m | \u001b[36mst_evt._src.modules.models.aemet.utils_region\u001b[0m:\u001b[36mplot_dynamic_spatial_variable_postpred\u001b[0m:\u001b[36m404\u001b[0m - \u001b[1mPlotting RETURN_LEVEL_100 Density...\u001b[0m\n",
      "\u001b[32m2024-12-17 11:29:16.371\u001b[0m | \u001b[34m\u001b[1mDEBUG   \u001b[0m | \u001b[36mst_evt._src.modules.models.aemet.utils_region\u001b[0m:\u001b[36mplot_dynamic_spatial_variable_postpred\u001b[0m:\u001b[36m428\u001b[0m - \u001b[34m\u001b[1mSaved Figure: \n",
      "/home/juanjohn/pool_data/dynev4eo/experiments/walkthrough/aemet/t2max/az_nonstationary_gp_mcmc_redfeten_trainnoise/results/figures/spain/return_level_100/posterior_predictive/return_level_100_density_groups.png\u001b[0m\n",
      "\u001b[32m2024-12-17 11:29:16.371\u001b[0m | \u001b[1mINFO    \u001b[0m | \u001b[36mst_evt._src.modules.models.aemet.utils_region\u001b[0m:\u001b[36mplot_dynamic_spatial_variable_postpred\u001b[0m:\u001b[36m431\u001b[0m - \u001b[1mPlotting Map...\u001b[0m\n",
      "\u001b[32m2024-12-17 11:29:16.372\u001b[0m | \u001b[1mINFO    \u001b[0m | \u001b[36mst_evt._src.modules.models.aemet.utils_region\u001b[0m:\u001b[36mplot_dynamic_spatial_variable_postpred\u001b[0m:\u001b[36m441\u001b[0m - \u001b[1mPlotting Map of Spain...\u001b[0m\n",
      "\u001b[32m2024-12-17 11:29:16.663\u001b[0m | \u001b[34m\u001b[1mDEBUG   \u001b[0m | \u001b[36mst_evt._src.modules.models.aemet.utils_region\u001b[0m:\u001b[36mplot_dynamic_spatial_variable_postpred\u001b[0m:\u001b[36m447\u001b[0m - \u001b[34m\u001b[1mSaved Figure: \n",
      "/home/juanjohn/pool_data/dynev4eo/experiments/walkthrough/aemet/t2max/az_nonstationary_gp_mcmc_redfeten_trainnoise/results/figures/spain/return_level_100/posterior_predictive/return_level_100_map_start.png\u001b[0m\n",
      "\u001b[32m2024-12-17 11:29:16.663\u001b[0m | \u001b[1mINFO    \u001b[0m | \u001b[36mst_evt._src.modules.models.aemet.utils_region\u001b[0m:\u001b[36mplot_dynamic_spatial_variable_postpred\u001b[0m:\u001b[36m450\u001b[0m - \u001b[1mPlotting Covariates...\u001b[0m\n",
      "\u001b[32m2024-12-17 11:29:16.801\u001b[0m | \u001b[34m\u001b[1mDEBUG   \u001b[0m | \u001b[36mst_evt._src.modules.models.aemet.utils_region\u001b[0m:\u001b[36mplot_covariates\u001b[0m:\u001b[36m138\u001b[0m - \u001b[34m\u001b[1mSaved Figure: \n",
      "/home/juanjohn/pool_data/dynev4eo/experiments/walkthrough/aemet/t2max/az_nonstationary_gp_mcmc_redfeten_trainnoise/results/figures/spain/return_level_100/posterior_predictive/return_level_100_start_covariates_lon.png\u001b[0m\n",
      "\u001b[32m2024-12-17 11:29:16.944\u001b[0m | \u001b[34m\u001b[1mDEBUG   \u001b[0m | \u001b[36mst_evt._src.modules.models.aemet.utils_region\u001b[0m:\u001b[36mplot_covariates\u001b[0m:\u001b[36m154\u001b[0m - \u001b[34m\u001b[1mSaved Figure: \n",
      "/home/juanjohn/pool_data/dynev4eo/experiments/walkthrough/aemet/t2max/az_nonstationary_gp_mcmc_redfeten_trainnoise/results/figures/spain/return_level_100/posterior_predictive/return_level_100_start_covariates_lat.png\u001b[0m\n",
      "\u001b[32m2024-12-17 11:29:17.069\u001b[0m | \u001b[34m\u001b[1mDEBUG   \u001b[0m | \u001b[36mst_evt._src.modules.models.aemet.utils_region\u001b[0m:\u001b[36mplot_covariates\u001b[0m:\u001b[36m170\u001b[0m - \u001b[34m\u001b[1mSaved Figure: \n",
      "/home/juanjohn/pool_data/dynev4eo/experiments/walkthrough/aemet/t2max/az_nonstationary_gp_mcmc_redfeten_trainnoise/results/figures/spain/return_level_100/posterior_predictive/return_level_100_start_covariates_alt.png\u001b[0m\n",
      "\u001b[32m2024-12-17 11:29:17.070\u001b[0m | \u001b[1mINFO    \u001b[0m | \u001b[36mst_evt._src.modules.models.aemet.utils_region\u001b[0m:\u001b[36mplot_dynamic_spatial_variable_postpred\u001b[0m:\u001b[36m441\u001b[0m - \u001b[1mPlotting Map of Spain...\u001b[0m\n",
      "\u001b[32m2024-12-17 11:29:17.358\u001b[0m | \u001b[34m\u001b[1mDEBUG   \u001b[0m | \u001b[36mst_evt._src.modules.models.aemet.utils_region\u001b[0m:\u001b[36mplot_dynamic_spatial_variable_postpred\u001b[0m:\u001b[36m447\u001b[0m - \u001b[34m\u001b[1mSaved Figure: \n",
      "/home/juanjohn/pool_data/dynev4eo/experiments/walkthrough/aemet/t2max/az_nonstationary_gp_mcmc_redfeten_trainnoise/results/figures/spain/return_level_100/posterior_predictive/return_level_100_map_end.png\u001b[0m\n",
      "\u001b[32m2024-12-17 11:29:17.358\u001b[0m | \u001b[1mINFO    \u001b[0m | \u001b[36mst_evt._src.modules.models.aemet.utils_region\u001b[0m:\u001b[36mplot_dynamic_spatial_variable_postpred\u001b[0m:\u001b[36m450\u001b[0m - \u001b[1mPlotting Covariates...\u001b[0m\n",
      "\u001b[32m2024-12-17 11:29:17.490\u001b[0m | \u001b[34m\u001b[1mDEBUG   \u001b[0m | \u001b[36mst_evt._src.modules.models.aemet.utils_region\u001b[0m:\u001b[36mplot_covariates\u001b[0m:\u001b[36m138\u001b[0m - \u001b[34m\u001b[1mSaved Figure: \n",
      "/home/juanjohn/pool_data/dynev4eo/experiments/walkthrough/aemet/t2max/az_nonstationary_gp_mcmc_redfeten_trainnoise/results/figures/spain/return_level_100/posterior_predictive/return_level_100_end_covariates_lon.png\u001b[0m\n",
      "\u001b[32m2024-12-17 11:29:17.634\u001b[0m | \u001b[34m\u001b[1mDEBUG   \u001b[0m | \u001b[36mst_evt._src.modules.models.aemet.utils_region\u001b[0m:\u001b[36mplot_covariates\u001b[0m:\u001b[36m154\u001b[0m - \u001b[34m\u001b[1mSaved Figure: \n",
      "/home/juanjohn/pool_data/dynev4eo/experiments/walkthrough/aemet/t2max/az_nonstationary_gp_mcmc_redfeten_trainnoise/results/figures/spain/return_level_100/posterior_predictive/return_level_100_end_covariates_lat.png\u001b[0m\n",
      "\u001b[32m2024-12-17 11:29:17.758\u001b[0m | \u001b[34m\u001b[1mDEBUG   \u001b[0m | \u001b[36mst_evt._src.modules.models.aemet.utils_region\u001b[0m:\u001b[36mplot_covariates\u001b[0m:\u001b[36m170\u001b[0m - \u001b[34m\u001b[1mSaved Figure: \n",
      "/home/juanjohn/pool_data/dynev4eo/experiments/walkthrough/aemet/t2max/az_nonstationary_gp_mcmc_redfeten_trainnoise/results/figures/spain/return_level_100/posterior_predictive/return_level_100_end_covariates_alt.png\u001b[0m\n"
     ]
    }
   ],
   "source": [
    "subfigures_path = Path(figures_path).joinpath(f\"{PLOT_VARIABLE}/posterior_predictive\")\n",
    "subfigures_path.mkdir(parents=True, exist_ok=True)\n",
    "\n",
    "utils_region.plot_dynamic_spatial_variable_postpred(\n",
    "    idata,\n",
    "    figures_path=subfigures_path,\n",
    "    cbar_label=utils_region.VARIABLE_LABELS[PLOT_VARIABLE],\n",
    "    cmap=\"Reds\",\n",
    "    bounds = (25, 10, 50),\n",
    "    covariate = covariate,\n",
    "    units = \"[°C]\"\n",
    ")"
   ]
  },
  {
   "cell_type": "markdown",
   "id": "ffb0d8db-0056-4605-9a16-c62378270e3b",
   "metadata": {},
   "source": [
    "### 100-Year Return Level - Predictions"
   ]
  },
  {
   "cell_type": "code",
   "execution_count": 25,
   "id": "56fe042e-506a-4dbd-9a11-b021cb050514",
   "metadata": {},
   "outputs": [],
   "source": [
    "PLOT_VARIABLE = \"return_level_100\"\n",
    "VARIABLE = \"t2max\"\n",
    "COVARIATE = \"gmst\"\n",
    "num_samples = 1_000"
   ]
  },
  {
   "cell_type": "code",
   "execution_count": 26,
   "id": "0a1ace3e-0aa5-463d-a3c8-70cff4140988",
   "metadata": {},
   "outputs": [],
   "source": [
    "data_results = az.extract(az_ds, group=\"predictions\", num_samples=num_samples)\n",
    "data_results = data_results.sortby(\"gmst\")\n",
    "data_results = utils_station.calculate_ds_return_periods(data_results, [\"sample\"])\n",
    "idata = data_results[PLOT_VARIABLE].median(dim=[\"sample\"]).load()"
   ]
  },
  {
   "cell_type": "code",
   "execution_count": 27,
   "id": "ff7ac02c-08ee-4d8e-8975-1d4c9a65b071",
   "metadata": {},
   "outputs": [
    {
     "name": "stderr",
     "output_type": "stream",
     "text": [
      "\u001b[32m2024-12-17 11:31:47.000\u001b[0m | \u001b[1mINFO    \u001b[0m | \u001b[36mst_evt._src.modules.models.aemet.utils_region\u001b[0m:\u001b[36mplot_dynamic_spatial_variable_gmst_pred\u001b[0m:\u001b[36m547\u001b[0m - \u001b[1mPlotting RETURN_LEVEL_100 Density...\u001b[0m\n",
      "\u001b[32m2024-12-17 11:31:47.972\u001b[0m | \u001b[34m\u001b[1mDEBUG   \u001b[0m | \u001b[36mst_evt._src.modules.models.aemet.utils_region\u001b[0m:\u001b[36mplot_dynamic_spatial_variable_gmst_pred\u001b[0m:\u001b[36m578\u001b[0m - \u001b[34m\u001b[1mSaved Figure: \n",
      "/home/juanjohn/pool_data/dynev4eo/experiments/walkthrough/aemet/t2max/az_nonstationary_gp_mcmc_redfeten_trainnoise/results/figures/spain/return_level_100/predictions/return_level_100_density_groups.png\u001b[0m\n",
      "\u001b[32m2024-12-17 11:31:47.973\u001b[0m | \u001b[1mINFO    \u001b[0m | \u001b[36mst_evt._src.modules.models.aemet.utils_region\u001b[0m:\u001b[36mplot_dynamic_spatial_variable_gmst_pred\u001b[0m:\u001b[36m581\u001b[0m - \u001b[1mPlotting Map...\u001b[0m\n",
      "\u001b[32m2024-12-17 11:31:47.974\u001b[0m | \u001b[1mINFO    \u001b[0m | \u001b[36mst_evt._src.modules.models.aemet.utils_region\u001b[0m:\u001b[36mplot_dynamic_spatial_variable_gmst_pred\u001b[0m:\u001b[36m591\u001b[0m - \u001b[1mPlotting Map of Spain...\u001b[0m\n",
      "\u001b[32m2024-12-17 11:31:48.381\u001b[0m | \u001b[34m\u001b[1mDEBUG   \u001b[0m | \u001b[36mst_evt._src.modules.models.aemet.utils_region\u001b[0m:\u001b[36mplot_dynamic_spatial_variable_gmst_pred\u001b[0m:\u001b[36m597\u001b[0m - \u001b[34m\u001b[1mSaved Figure: \n",
      "/home/juanjohn/pool_data/dynev4eo/experiments/walkthrough/aemet/t2max/az_nonstationary_gp_mcmc_redfeten_trainnoise/results/figures/spain/return_level_100/predictions/return_level_100_map_0.0.png\u001b[0m\n",
      "\u001b[32m2024-12-17 11:31:48.386\u001b[0m | \u001b[1mINFO    \u001b[0m | \u001b[36mst_evt._src.modules.models.aemet.utils_region\u001b[0m:\u001b[36mplot_dynamic_spatial_variable_gmst_pred\u001b[0m:\u001b[36m591\u001b[0m - \u001b[1mPlotting Map of Spain...\u001b[0m\n",
      "\u001b[32m2024-12-17 11:31:48.910\u001b[0m | \u001b[34m\u001b[1mDEBUG   \u001b[0m | \u001b[36mst_evt._src.modules.models.aemet.utils_region\u001b[0m:\u001b[36mplot_dynamic_spatial_variable_gmst_pred\u001b[0m:\u001b[36m597\u001b[0m - \u001b[34m\u001b[1mSaved Figure: \n",
      "/home/juanjohn/pool_data/dynev4eo/experiments/walkthrough/aemet/t2max/az_nonstationary_gp_mcmc_redfeten_trainnoise/results/figures/spain/return_level_100/predictions/return_level_100_map_1.3.png\u001b[0m\n",
      "\u001b[32m2024-12-17 11:31:48.913\u001b[0m | \u001b[1mINFO    \u001b[0m | \u001b[36mst_evt._src.modules.models.aemet.utils_region\u001b[0m:\u001b[36mplot_dynamic_spatial_variable_gmst_pred\u001b[0m:\u001b[36m591\u001b[0m - \u001b[1mPlotting Map of Spain...\u001b[0m\n",
      "\u001b[32m2024-12-17 11:31:49.454\u001b[0m | \u001b[34m\u001b[1mDEBUG   \u001b[0m | \u001b[36mst_evt._src.modules.models.aemet.utils_region\u001b[0m:\u001b[36mplot_dynamic_spatial_variable_gmst_pred\u001b[0m:\u001b[36m597\u001b[0m - \u001b[34m\u001b[1mSaved Figure: \n",
      "/home/juanjohn/pool_data/dynev4eo/experiments/walkthrough/aemet/t2max/az_nonstationary_gp_mcmc_redfeten_trainnoise/results/figures/spain/return_level_100/predictions/return_level_100_map_2.5.png\u001b[0m\n",
      "\u001b[32m2024-12-17 11:31:49.460\u001b[0m | \u001b[1mINFO    \u001b[0m | \u001b[36mst_evt._src.modules.models.aemet.utils_region\u001b[0m:\u001b[36mplot_dynamic_spatial_variable_gmst_pred\u001b[0m:\u001b[36m600\u001b[0m - \u001b[1mPlotting Covariates...\u001b[0m\n",
      "\u001b[32m2024-12-17 11:31:49.747\u001b[0m | \u001b[34m\u001b[1mDEBUG   \u001b[0m | \u001b[36mst_evt._src.modules.models.aemet.utils_region\u001b[0m:\u001b[36mplot_covariates\u001b[0m:\u001b[36m138\u001b[0m - \u001b[34m\u001b[1mSaved Figure: \n",
      "/home/juanjohn/pool_data/dynev4eo/experiments/walkthrough/aemet/t2max/az_nonstationary_gp_mcmc_redfeten_trainnoise/results/figures/spain/return_level_100/predictions/return_level_100_covariates_lon.png\u001b[0m\n",
      "\u001b[32m2024-12-17 11:31:49.957\u001b[0m | \u001b[34m\u001b[1mDEBUG   \u001b[0m | \u001b[36mst_evt._src.modules.models.aemet.utils_region\u001b[0m:\u001b[36mplot_covariates\u001b[0m:\u001b[36m154\u001b[0m - \u001b[34m\u001b[1mSaved Figure: \n",
      "/home/juanjohn/pool_data/dynev4eo/experiments/walkthrough/aemet/t2max/az_nonstationary_gp_mcmc_redfeten_trainnoise/results/figures/spain/return_level_100/predictions/return_level_100_covariates_lat.png\u001b[0m\n",
      "\u001b[32m2024-12-17 11:31:50.126\u001b[0m | \u001b[34m\u001b[1mDEBUG   \u001b[0m | \u001b[36mst_evt._src.modules.models.aemet.utils_region\u001b[0m:\u001b[36mplot_covariates\u001b[0m:\u001b[36m170\u001b[0m - \u001b[34m\u001b[1mSaved Figure: \n",
      "/home/juanjohn/pool_data/dynev4eo/experiments/walkthrough/aemet/t2max/az_nonstationary_gp_mcmc_redfeten_trainnoise/results/figures/spain/return_level_100/predictions/return_level_100_covariates_alt.png\u001b[0m\n"
     ]
    }
   ],
   "source": [
    "subfigures_path = Path(figures_path).joinpath(f\"{PLOT_VARIABLE}/predictions\")\n",
    "subfigures_path.mkdir(parents=True, exist_ok=True)\n",
    "\n",
    "utils_region.plot_dynamic_spatial_variable_gmst_pred(\n",
    "    idata,\n",
    "    figures_path=subfigures_path,\n",
    "    cbar_label=utils_region.VARIABLE_LABELS[PLOT_VARIABLE],\n",
    "    cmap=\"Reds\",\n",
    "    bounds = (25, 10, 50),\n",
    "    covariate = covariate\n",
    ")"
   ]
  },
  {
   "cell_type": "markdown",
   "id": "a7e07de7-39f1-481d-afc4-0c4ab93737c5",
   "metadata": {},
   "source": [
    "### 100-Year Return Level Difference - Posterior"
   ]
  },
  {
   "cell_type": "code",
   "execution_count": null,
   "id": "10c52bf8-c2c2-4c42-be01-d069211b6ee7",
   "metadata": {},
   "outputs": [],
   "source": [
    "PLOT_VARIABLE = \"return_level_100\"\n",
    "VARIABLE = \"t2max\"\n",
    "COVARIATE = \"gmst\"\n",
    "num_samples = 10_000"
   ]
  },
  {
   "cell_type": "code",
   "execution_count": null,
   "id": "e321d186-7fa8-41a4-82c3-89131f9ad8aa",
   "metadata": {},
   "outputs": [],
   "source": [
    "data_results = az.extract(az_ds, group=\"posterior\", num_samples=num_samples)\n",
    "data_results = data_results.sortby(\"gmst\")\n",
    "data_results = utils_station.calculate_ds_return_periods(data_results, [\"sample\"])\n",
    "idata = data_results[PLOT_VARIABLE].median(dim=[\"sample\"]).load()"
   ]
  },
  {
   "cell_type": "code",
   "execution_count": null,
   "id": "accec43d-e651-468f-8c59-ca6e52dedb83",
   "metadata": {},
   "outputs": [],
   "source": [
    "subfigures_path = Path(figures_path).joinpath(f\"{PLOT_VARIABLE}_difference/posterior\")\n",
    "subfigures_path.mkdir(parents=True, exist_ok=True)\n",
    "\n",
    "utils_region.plot_dynamic_spatial_variable_diff_postpred(\n",
    "    idata,\n",
    "    figures_path=subfigures_path,\n",
    "    cbar_label=utils_region.VARIABLE_LABELS[f\"{PLOT_VARIABLE}_difference\"],\n",
    "    cmap=\"Reds\",\n",
    "    bounds = (1.0, 10, 2.5),\n",
    "    covariate = covariate,\n",
    "    units = \"[°C]\"\n",
    ")"
   ]
  },
  {
   "cell_type": "markdown",
   "id": "65487afc-313c-4eaf-aab9-08a0d9770aeb",
   "metadata": {},
   "source": [
    "### 100-Year Return Level Difference - Posterior Predictive"
   ]
  },
  {
   "cell_type": "code",
   "execution_count": null,
   "id": "3af23887-a9ec-4e1c-8e11-4da4883f5a8f",
   "metadata": {},
   "outputs": [],
   "source": [
    "PLOT_VARIABLE = \"return_level_100\"\n",
    "VARIABLE = \"t2max\"\n",
    "COVARIATE = \"gmst\"\n",
    "num_samples = 5_000"
   ]
  },
  {
   "cell_type": "code",
   "execution_count": null,
   "id": "aa4930a4-dada-4338-b066-1d75f5d28a35",
   "metadata": {},
   "outputs": [],
   "source": [
    "data_results = az.extract(az_ds, group=\"posterior_predictive\", num_samples=num_samples)\n",
    "data_results = data_results.sortby(\"gmst\")\n",
    "data_results = utils_station.calculate_ds_return_periods(data_results, [\"sample\"])\n",
    "idata = data_results[PLOT_VARIABLE].median(dim=[\"sample\"]).load()\n",
    "idata"
   ]
  },
  {
   "cell_type": "code",
   "execution_count": null,
   "id": "68646465-e21b-4108-9fb5-77b81e036530",
   "metadata": {},
   "outputs": [],
   "source": [
    "subfigures_path = Path(figures_path).joinpath(f\"{PLOT_VARIABLE}_difference/posterior_predictive\")\n",
    "subfigures_path.mkdir(parents=True, exist_ok=True)\n",
    "\n",
    "utils_region.plot_dynamic_spatial_variable_diff_postpred(\n",
    "    idata,\n",
    "    figures_path=subfigures_path,\n",
    "    cbar_label=utils_region.VARIABLE_LABELS[f\"{PLOT_VARIABLE}_difference\"],\n",
    "    cmap=\"Reds\",\n",
    "    bounds = (1.0, 10, 2.5),\n",
    "    covariate = covariate,\n",
    "    units = \"[°C]\"\n",
    ")"
   ]
  },
  {
   "cell_type": "markdown",
   "id": "83d0243c-53ec-4caf-a52b-fa6c10844010",
   "metadata": {},
   "source": [
    "### 100-Year Return Level Difference - Predictions"
   ]
  },
  {
   "cell_type": "code",
   "execution_count": null,
   "id": "853f9f34-799b-4ba1-a114-0e77a876f7cd",
   "metadata": {},
   "outputs": [],
   "source": [
    "PLOT_VARIABLE = \"return_level_100\"\n",
    "VARIABLE = \"t2max\"\n",
    "COVARIATE = \"gmst\"\n",
    "num_samples = 10_000"
   ]
  },
  {
   "cell_type": "code",
   "execution_count": null,
   "id": "d6b48abb-808f-4d1e-90be-826cfaed26e4",
   "metadata": {},
   "outputs": [],
   "source": [
    "data_results = az.extract(az_ds, group=\"predictions\", num_samples=num_samples)\n",
    "data_results = data_results.sortby(\"gmst\")\n",
    "data_results = utils_station.calculate_ds_return_periods(data_results, [\"sample\"])\n",
    "idata = data_results[PLOT_VARIABLE].median(dim=[\"sample\"]).load()\n",
    "idata"
   ]
  },
  {
   "cell_type": "code",
   "execution_count": null,
   "id": "ef062eed-4210-4b3d-92d8-c37e5b7a9e77",
   "metadata": {},
   "outputs": [],
   "source": [
    "subfigures_path = Path(figures_path).joinpath(f\"{PLOT_VARIABLE}_difference/predictions\")\n",
    "subfigures_path.mkdir(parents=True, exist_ok=True)\n",
    "\n",
    "utils_region.plot_dynamic_spatial_variable_diff_gmst_pred(\n",
    "    idata,\n",
    "    figures_path=subfigures_path,\n",
    "    cbar_label=utils_region.VARIABLE_LABELS[f\"{PLOT_VARIABLE}_difference\"],\n",
    "    cmap=\"Reds\",\n",
    "    bounds = (1.0, 10, 2.5),\n",
    "    covariate = covariate,\n",
    "    periods = [0.0, 1.3, 2.5]\n",
    ")"
   ]
  },
  {
   "cell_type": "code",
   "execution_count": null,
   "id": "703cd61d-3a8f-44f9-9a51-62de04fe5bd1",
   "metadata": {},
   "outputs": [],
   "source": []
  }
 ],
 "metadata": {
  "kernelspec": {
   "display_name": "Python [conda env:dynev4eo_gpu]",
   "language": "python",
   "name": "conda-env-dynev4eo_gpu-py"
  },
  "language_info": {
   "codemirror_mode": {
    "name": "ipython",
    "version": 3
   },
   "file_extension": ".py",
   "mimetype": "text/x-python",
   "name": "python",
   "nbconvert_exporter": "python",
   "pygments_lexer": "ipython3",
   "version": "3.11.10"
  }
 },
 "nbformat": 4,
 "nbformat_minor": 5
}
