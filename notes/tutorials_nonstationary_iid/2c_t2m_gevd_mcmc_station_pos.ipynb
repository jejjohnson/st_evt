{
 "cells": [
  {
   "cell_type": "markdown",
   "id": "8f16d7da-2b7a-45d0-91a9-297855c442df",
   "metadata": {
    "editable": true,
    "slideshow": {
     "slide_type": ""
    },
    "tags": []
   },
   "source": [
    "# Modeling Extremes - Numpyro Pt 2 - MAP"
   ]
  },
  {
   "cell_type": "code",
   "execution_count": 1,
   "id": "47b6a690-2d66-437b-b76d-12750a3f322c",
   "metadata": {
    "editable": true,
    "slideshow": {
     "slide_type": ""
    },
    "tags": []
   },
   "outputs": [],
   "source": [
    "import os\n",
    "os.environ[\"CUDA_VISIBLE_DEVICES\"] = \"\" # first gpu\n",
    "os.environ['XLA_PYTHON_CLIENT_PREALLOCATE'] = 'FALSE'\n",
    "\n",
    "import jax\n",
    "jax.config.update('jax_platform_name', 'cpu')\n",
    "\n",
    "import numpyro\n",
    "import multiprocessing\n",
    "\n",
    "num_devices = multiprocessing.cpu_count()\n",
    "numpyro.set_platform(\"cpu\")\n",
    "numpyro.set_host_device_count(num_devices)\n",
    "jax.config.update(\"jax_enable_x64\", True)"
   ]
  },
  {
   "cell_type": "code",
   "execution_count": 2,
   "id": "9f80b777-1fb0-4154-99e1-287866770c31",
   "metadata": {
    "editable": true,
    "slideshow": {
     "slide_type": ""
    },
    "tags": []
   },
   "outputs": [
    {
     "name": "stderr",
     "output_type": "stream",
     "text": [
      "An NVIDIA GPU may be present on this machine, but a CUDA-enabled jaxlib is not installed. Falling back to cpu.\n"
     ]
    }
   ],
   "source": [
    "import autoroot\n",
    "from pathlib import Path\n",
    "import numpy as np\n",
    "import xarray as xr\n",
    "import pandas as pd\n",
    "import pint_xarray\n",
    "import arviz as az\n",
    "\n",
    "from st_evt.viz import plot_histogram, plot_density\n",
    "from st_evt._src.modules.models.aemet import utils_station\n",
    "from omegaconf import OmegaConf\n",
    "\n",
    "import jax\n",
    "import jax.random as jrandom\n",
    "import jax.numpy as jnp\n",
    "import pandas as pd\n",
    "\n",
    "rng_key = jrandom.PRNGKey(123)\n",
    "\n",
    "from numpyro.infer import Predictive\n",
    "import arviz as az\n",
    "\n",
    "import numpyro\n",
    "from numpyro.diagnostics import hpdi\n",
    "import numpyro.distributions as dist\n",
    "from numpyro import handlers\n",
    "from numpyro.infer import MCMC, NUTS\n",
    "import xarray as xr\n",
    "import regionmask\n",
    "\n",
    "import matplotlib.pyplot as plt\n",
    "from matplotlib.ticker import ScalarFormatter, FuncFormatter\n",
    "import seaborn as sns\n",
    "sns.reset_defaults()\n",
    "sns.set_context(context=\"talk\", font_scale=0.7)\n",
    "\n",
    "%config InlineBackend.figure_format = 'retina'\n",
    "plt.style.use(\n",
    "    \"https://raw.githubusercontent.com/ClimateMatchAcademy/course-content/main/cma.mplstyle\"\n",
    ")\n",
    "\n",
    "from loguru import logger\n",
    "\n",
    "# num_devices = 5\n",
    "# numpyro.set_host_device_count(num_devices)\n",
    "\n",
    "\n",
    "%matplotlib inline\n",
    "%load_ext autoreload\n",
    "%autoreload 2"
   ]
  },
  {
   "cell_type": "markdown",
   "id": "7eb92100-da47-4dd6-8d69-1b5ce0583198",
   "metadata": {},
   "source": [
    "## Paths"
   ]
  },
  {
   "cell_type": "code",
   "execution_count": 3,
   "id": "784faf4b-a3dc-4204-bc3d-4390a099f0fa",
   "metadata": {
    "editable": true,
    "slideshow": {
     "slide_type": ""
    },
    "tags": []
   },
   "outputs": [],
   "source": [
    "results_root_path = \"/home/juanjohn/pool_data/dynev4eo/experiments/walkthrough/aemet/t2max/nonstationary_iid_mcmc_redfeten/results\"\n",
    "results_file_name = \"nonstationary_iid_mcmc_redfeten.zarr\"\n",
    "results_data_path = Path(results_root_path).joinpath(results_file_name)\n",
    "\n",
    "figures_path = Path(results_root_path).joinpath(\"figures/stations\")"
   ]
  },
  {
   "cell_type": "code",
   "execution_count": 4,
   "id": "2ec7e93b-77f3-4b2c-8cfc-2e512fbf239b",
   "metadata": {},
   "outputs": [],
   "source": [
    "# results_data_path = \"/home/juanjohn/pool_data/dynev4eo/temp/results/scratch_pipelines/results/az_nonstationary_gp_lap_redfeten.zarr\"\n",
    "# figures_path = Path(\"/home/juanjohn/pool_data/dynev4eo/temp/scratch_pipelines/figures/nonstationary_gp_lap_redfeten\")"
   ]
  },
  {
   "cell_type": "markdown",
   "id": "61023d79-5d76-43a0-8a69-1f74c08b92bb",
   "metadata": {},
   "source": [
    "## Data"
   ]
  },
  {
   "cell_type": "code",
   "execution_count": 5,
   "id": "f6c0232c-b089-4448-a7fc-3fd2b8ea63c4",
   "metadata": {},
   "outputs": [],
   "source": [
    "DATA_URL = autoroot.root.joinpath(\"data/ml_ready/aemet/t2max_stations_bm_summer.zarr\")\n",
    "variable = \"t2max\"\n",
    "covariate = \"gmst\"\n",
    "spatial_dim_name = \"station_id\"\n",
    "\n",
    "\n",
    "# LOAD DATA\n",
    "with xr.open_dataset(DATA_URL, engine=\"zarr\") as f:\n",
    "    ds_bm = f.load()\n",
    "    # ds_bm = ds_bm.where(ds_bm.red_feten_mask == 1, drop=True)"
   ]
  },
  {
   "cell_type": "markdown",
   "id": "01ff2dbc-b463-4ddf-8858-97bd75359c44",
   "metadata": {},
   "source": [
    "### Likelihood Statistics\n",
    "\n",
    "There are some useful statistics that we can use to evaluate how well our model does.\n",
    "\n",
    "$$\n",
    "\\begin{aligned}\n",
    "\\text{ELPD WAIC}: && && \\\\\n",
    "\\text{ELPD WAIC SE}: && && \\\\\n",
    "\\text{P-Value WAIC}: && && \\\\\n",
    "\\end{aligned}\n",
    "$$"
   ]
  },
  {
   "cell_type": "code",
   "execution_count": 6,
   "id": "10fa477f-25d3-461d-970d-99b699eab496",
   "metadata": {},
   "outputs": [],
   "source": [
    "variable = \"t2max\""
   ]
  },
  {
   "cell_type": "markdown",
   "id": "be2be7c8-f9e1-444c-88da-d0df0796ddf4",
   "metadata": {},
   "source": [
    "## Station Selection"
   ]
  },
  {
   "cell_type": "markdown",
   "id": "a04f58a1-9e74-4b1c-8558-3e8f8467987c",
   "metadata": {},
   "source": [
    "### a - Predetermined Station"
   ]
  },
  {
   "cell_type": "code",
   "execution_count": 34,
   "id": "fc7aca5c-5264-48d3-a695-e1cd63228eb8",
   "metadata": {},
   "outputs": [],
   "source": [
    "from st_evt import AEMET_GOOD_STATIONS, AEMET_BAD_STATIONS"
   ]
  },
  {
   "cell_type": "code",
   "execution_count": 35,
   "id": "2e3298cd-fa40-41b4-b7c7-7fd7bd56a2a7",
   "metadata": {},
   "outputs": [
    {
     "data": {
      "text/plain": [
       "['3407Y', '9677', 'C018J', 'C426R']"
      ]
     },
     "execution_count": 35,
     "metadata": {},
     "output_type": "execute_result"
    }
   ],
   "source": [
    "AEMET_BAD_STATIONS[\"red_feten\"]"
   ]
  },
  {
   "cell_type": "code",
   "execution_count": 36,
   "id": "b0f56281-14d6-47a6-9d01-3c2911b0da5e",
   "metadata": {},
   "outputs": [],
   "source": [
    "candidate_station = '3407Y' #'3129A' # "
   ]
  },
  {
   "cell_type": "code",
   "execution_count": 37,
   "id": "2c889a47-a453-484a-9250-4e56770baaeb",
   "metadata": {},
   "outputs": [],
   "source": [
    "figures_path = figures_path.joinpath(f\"{candidate_station}\")\n",
    "figures_path.mkdir(parents=True, exist_ok=True)"
   ]
  },
  {
   "cell_type": "markdown",
   "id": "d2aff844-ea9e-44f4-b442-1a1161c569e5",
   "metadata": {},
   "source": [
    "### MCMC Results"
   ]
  },
  {
   "cell_type": "code",
   "execution_count": 38,
   "id": "7b2b1132-338e-4ef9-b024-7058d161b655",
   "metadata": {},
   "outputs": [],
   "source": [
    "az_ds = az.from_zarr(store=str(results_data_path))\n",
    "az_ds_station_pred = az_ds.predictions.sel(station_id = candidate_station)\n",
    "# num_samples = 5_000\n",
    "# az_ds_station_pred = az.extract(az_ds, group=\"predictions\", num_samples=num_samples).sel(station_id = candidate_station)\n",
    "y_data = az_ds.posterior_predictive.sel(station_id = candidate_station)[f\"{variable}_true\"]\n",
    "ds_station = ds_bm.sel(station_id = candidate_station)"
   ]
  },
  {
   "cell_type": "markdown",
   "id": "27148dbe-23c7-488f-8fbf-81829e538200",
   "metadata": {},
   "source": [
    "### EDA Stuff"
   ]
  },
  {
   "cell_type": "code",
   "execution_count": 39,
   "id": "a5959073-76c7-45bc-b10c-a0b58474eb6c",
   "metadata": {},
   "outputs": [],
   "source": [
    "from st_evt.viz import plot_scatter_ts, plot_histogram, plot_density"
   ]
  },
  {
   "cell_type": "code",
   "execution_count": 40,
   "id": "1345f9c9-b915-4e85-b570-74eafba4421d",
   "metadata": {},
   "outputs": [
    {
     "name": "stderr",
     "output_type": "stream",
     "text": [
      "\u001b[32m2024-12-16 19:47:14.153\u001b[0m | \u001b[1mINFO    \u001b[0m | \u001b[36mst_evt._src.modules.models.aemet.utils_station\u001b[0m:\u001b[36mplot_eda\u001b[0m:\u001b[36m114\u001b[0m - \u001b[1mPlotting BM Data Time Series...\u001b[0m\n",
      "\u001b[32m2024-12-16 19:47:14.465\u001b[0m | \u001b[34m\u001b[1mDEBUG   \u001b[0m | \u001b[36mst_evt._src.modules.models.aemet.utils_station\u001b[0m:\u001b[36mplot_eda\u001b[0m:\u001b[36m130\u001b[0m - \u001b[34m\u001b[1mSaved Figure:\n",
      "/home/juanjohn/pool_data/dynev4eo/experiments/walkthrough/aemet/t2max/nonstationary_iid_mcmc_redfeten/results/figures/stations/3129A/1391/3407Y/eda/ts_bm_data.pdf\u001b[0m\n",
      "\u001b[32m2024-12-16 19:47:14.472\u001b[0m | \u001b[1mINFO    \u001b[0m | \u001b[36mst_evt._src.modules.models.aemet.utils_station\u001b[0m:\u001b[36mplot_eda\u001b[0m:\u001b[36m132\u001b[0m - \u001b[1mPlotting BM Data Histogram...\u001b[0m\n",
      "\u001b[32m2024-12-16 19:47:14.710\u001b[0m | \u001b[34m\u001b[1mDEBUG   \u001b[0m | \u001b[36mst_evt._src.modules.models.aemet.utils_station\u001b[0m:\u001b[36mplot_eda\u001b[0m:\u001b[36m146\u001b[0m - \u001b[34m\u001b[1mSaved Figure:\n",
      "/home/juanjohn/pool_data/dynev4eo/experiments/walkthrough/aemet/t2max/nonstationary_iid_mcmc_redfeten/results/figures/stations/3129A/1391/3407Y/eda/hist_bm_data.pdf\u001b[0m\n",
      "\u001b[32m2024-12-16 19:47:14.712\u001b[0m | \u001b[1mINFO    \u001b[0m | \u001b[36mst_evt._src.modules.models.aemet.utils_station\u001b[0m:\u001b[36mplot_eda\u001b[0m:\u001b[36m148\u001b[0m - \u001b[1mPlotting BM Data Density...\u001b[0m\n",
      "\u001b[32m2024-12-16 19:47:15.008\u001b[0m | \u001b[34m\u001b[1mDEBUG   \u001b[0m | \u001b[36mst_evt._src.modules.models.aemet.utils_station\u001b[0m:\u001b[36mplot_eda\u001b[0m:\u001b[36m162\u001b[0m - \u001b[34m\u001b[1mSaved Figure:\n",
      "/home/juanjohn/pool_data/dynev4eo/experiments/walkthrough/aemet/t2max/nonstationary_iid_mcmc_redfeten/results/figures/stations/3129A/1391/3407Y/eda/density_bm_data.pdf\u001b[0m\n"
     ]
    }
   ],
   "source": [
    "utils_station.plot_eda(\n",
    "    da=ds_station[variable].squeeze(),\n",
    "    variable_label=\"2m Max Temperature [°C]\",\n",
    "    # figures_path=\"./\", \n",
    "    figures_path=figures_path, \n",
    "    figure_dpi=300,\n",
    ")"
   ]
  },
  {
   "cell_type": "markdown",
   "id": "965d765d-a165-4e6e-be12-927e5e96fca8",
   "metadata": {},
   "source": [
    ":::{figure}\n",
    ":label: my-figure\n",
    ":align: left\n",
    ":width: 20px\n",
    "\n",
    "(my-figure-fruit)=\n",
    "![Here is some fruit 🍏](eda/ts_bm_data.png)\n",
    "\n",
    "![My vacation pics! 🏝](eda/hist_bm_data.png)\n",
    "\n",
    "![My vacation pics! 🏝](eda/density_bm_data.png)\n",
    "\n",
    "\n",
    "Some pictures of fruit and the ocean!\n",
    ":::"
   ]
  },
  {
   "cell_type": "markdown",
   "id": "45ea0073-27bb-4cc1-b660-3c538b8bc7cf",
   "metadata": {},
   "source": [
    "## Posterior Calculations"
   ]
  },
  {
   "cell_type": "markdown",
   "id": "0004bdaa-518f-47fc-9747-59fd394ea649",
   "metadata": {},
   "source": [
    "## Model Inspection"
   ]
  },
  {
   "cell_type": "markdown",
   "id": "4a1babfb-c4e4-4fa1-a8d4-eff44d6ce4d8",
   "metadata": {},
   "source": [
    "### Trace Plot"
   ]
  },
  {
   "cell_type": "code",
   "execution_count": 41,
   "id": "78f1563b-2e47-4658-9872-5283d9c2143c",
   "metadata": {},
   "outputs": [
    {
     "name": "stderr",
     "output_type": "stream",
     "text": [
      "\u001b[32m2024-12-16 19:47:26.595\u001b[0m | \u001b[1mINFO    \u001b[0m | \u001b[36mst_evt._src.modules.models.aemet.utils_station\u001b[0m:\u001b[36mplot_model_params_critique\u001b[0m:\u001b[36m39\u001b[0m - \u001b[1mPlotting Parameter Traces...\u001b[0m\n",
      "\u001b[32m2024-12-16 19:47:28.187\u001b[0m | \u001b[34m\u001b[1mDEBUG   \u001b[0m | \u001b[36mst_evt._src.modules.models.aemet.utils_station\u001b[0m:\u001b[36mplot_model_params_critique\u001b[0m:\u001b[36m53\u001b[0m - \u001b[34m\u001b[1mSaved Figure:\n",
      "/home/juanjohn/pool_data/dynev4eo/experiments/walkthrough/aemet/t2max/nonstationary_iid_mcmc_redfeten/results/figures/stations/3129A/1391/3407Y/params/trace.pdf\u001b[0m\n",
      "\u001b[32m2024-12-16 19:47:28.189\u001b[0m | \u001b[1mINFO    \u001b[0m | \u001b[36mst_evt._src.modules.models.aemet.utils_station\u001b[0m:\u001b[36mplot_model_params_critique\u001b[0m:\u001b[36m55\u001b[0m - \u001b[1mPlotting Parameter Jonts...\u001b[0m\n",
      "\u001b[32m2024-12-16 19:47:30.764\u001b[0m | \u001b[34m\u001b[1mDEBUG   \u001b[0m | \u001b[36mst_evt._src.modules.models.aemet.utils_station\u001b[0m:\u001b[36mplot_model_params_critique\u001b[0m:\u001b[36m76\u001b[0m - \u001b[34m\u001b[1mSaved Figure:\n",
      "/home/juanjohn/pool_data/dynev4eo/experiments/walkthrough/aemet/t2max/nonstationary_iid_mcmc_redfeten/results/figures/stations/3129A/1391/3407Y/params/joint.pdf\u001b[0m\n",
      "\u001b[32m2024-12-16 19:47:30.767\u001b[0m | \u001b[1mINFO    \u001b[0m | \u001b[36mst_evt._src.modules.models.aemet.utils_station\u001b[0m:\u001b[36mplot_model_params_critique\u001b[0m:\u001b[36m77\u001b[0m - \u001b[1mPlotting AutoCorrelation...\u001b[0m\n",
      "\u001b[32m2024-12-16 19:47:31.256\u001b[0m | \u001b[34m\u001b[1mDEBUG   \u001b[0m | \u001b[36mst_evt._src.modules.models.aemet.utils_station\u001b[0m:\u001b[36mplot_model_params_critique\u001b[0m:\u001b[36m89\u001b[0m - \u001b[34m\u001b[1mSaved Figure: \n",
      "/home/juanjohn/pool_data/dynev4eo/experiments/walkthrough/aemet/t2max/nonstationary_iid_mcmc_redfeten/results/figures/stations/3129A/1391/3407Y/autocorr.pdf\u001b[0m\n",
      "\u001b[32m2024-12-16 19:47:31.258\u001b[0m | \u001b[1mINFO    \u001b[0m | \u001b[36mst_evt._src.modules.models.aemet.utils_station\u001b[0m:\u001b[36mplot_model_params_critique\u001b[0m:\u001b[36m92\u001b[0m - \u001b[1mPlotting ESS...\u001b[0m\n",
      "\u001b[32m2024-12-16 19:47:33.328\u001b[0m | \u001b[34m\u001b[1mDEBUG   \u001b[0m | \u001b[36mst_evt._src.modules.models.aemet.utils_station\u001b[0m:\u001b[36mplot_model_params_critique\u001b[0m:\u001b[36m104\u001b[0m - \u001b[34m\u001b[1mSaved Figure: \n",
      "/home/juanjohn/pool_data/dynev4eo/experiments/walkthrough/aemet/t2max/nonstationary_iid_mcmc_redfeten/results/figures/stations/3129A/1391/3407Y/_ess.pdf\u001b[0m\n"
     ]
    }
   ],
   "source": [
    "variables = [\n",
    "    \"concentration\",\n",
    "    \"scale\",\n",
    "    \"location_slope\",\n",
    "    \"location_intercept\",\n",
    "    ]\n",
    "\n",
    "utils_station.plot_model_params_critique(\n",
    "    ds=az_ds_station_pred,\n",
    "    variables=variables,\n",
    "    # figures_path=\"./\", \n",
    "    figures_path=figures_path, \n",
    "    \n",
    ")"
   ]
  },
  {
   "cell_type": "markdown",
   "id": "73960faa-4a72-439c-813f-286d1f51bc40",
   "metadata": {},
   "source": [
    ":::{figure}\n",
    ":label: my-figure\n",
    ":align: left\n",
    ":width: 20px\n",
    "\n",
    "(my-figure-fruit)=\n",
    "![Here is some fruit 🍏](params/trace.png)\n",
    "\n",
    "![My vacation pics! 🏝](params/joint.png)\n",
    "\n",
    "\n",
    "Some pictures of fruit and the ocean!\n",
    ":::"
   ]
  },
  {
   "cell_type": "markdown",
   "id": "50d7cf9d-13cb-4197-b8ca-a634f2bda2f1",
   "metadata": {},
   "source": [
    "## Regression Plot"
   ]
  },
  {
   "cell_type": "code",
   "execution_count": 42,
   "id": "4e9ce6d0-208b-4374-9500-edf6af4a37ba",
   "metadata": {},
   "outputs": [],
   "source": [
    "# calculate model return periods\n",
    "az_ds_station_pred = utils_station.calculate_ds_return_periods(az_ds_station_pred)\n",
    "\n",
    "az_ds_quantiles = az_ds_station_pred.quantile(q=[0.025, 0.5, 0.975], dim=[\"chain\", \"draw\"]).squeeze()\n",
    "locations = az_ds_station_pred[\"location\"].quantile(q=[0.025, 0.5, 0.975], dim=[\"chain\", \"draw\"]).squeeze()\n",
    "scales = az_ds_station_pred[\"scale\"].quantile(q=[0.025, 0.5, 0.975], dim=[\"chain\", \"draw\"]).squeeze()\n",
    "return_level_100 = az_ds_station_pred[\"return_level_100\"].quantile(q=[0.025, 0.5, 0.975], dim=[\"chain\", \"draw\"]).squeeze()\n",
    "observations = ds_station[variable].squeeze()"
   ]
  },
  {
   "cell_type": "code",
   "execution_count": 43,
   "id": "f97764eb-48a5-4bbc-bcce-cc4bf631ea91",
   "metadata": {},
   "outputs": [
    {
     "name": "stderr",
     "output_type": "stream",
     "text": [
      "\u001b[32m2024-12-16 19:48:07.583\u001b[0m | \u001b[34m\u001b[1mDEBUG   \u001b[0m | \u001b[36mst_evt._src.modules.models.aemet.utils_station\u001b[0m:\u001b[36mplot_regression_prediction\u001b[0m:\u001b[36m1021\u001b[0m - \u001b[34m\u001b[1mSaved Figure:\n",
      "/home/juanjohn/pool_data/dynev4eo/experiments/walkthrough/aemet/t2max/nonstationary_iid_mcmc_redfeten/results/figures/stations/3129A/1391/3407Y/regression/regression_pred_location.png\u001b[0m\n",
      "\u001b[32m2024-12-16 19:48:08.131\u001b[0m | \u001b[34m\u001b[1mDEBUG   \u001b[0m | \u001b[36mst_evt._src.modules.models.aemet.utils_station\u001b[0m:\u001b[36mplot_regression_prediction\u001b[0m:\u001b[36m1021\u001b[0m - \u001b[34m\u001b[1mSaved Figure:\n",
      "/home/juanjohn/pool_data/dynev4eo/experiments/walkthrough/aemet/t2max/nonstationary_iid_mcmc_redfeten/results/figures/stations/3129A/1391/3407Y/regression/regression_pred.png\u001b[0m\n"
     ]
    }
   ],
   "source": [
    "utils_station.plot_regression_prediction(\n",
    "    ds_quantiles=az_ds_quantiles,\n",
    "    observations=observations,\n",
    "    # figures_path=\"./\", \n",
    "    figures_path=figures_path, \n",
    "    covariate=covariate,\n",
    "    figure_dpi=300,\n",
    "    y_label=\"2m Max Temperature, $R_a$ [°C]\",\n",
    "    covariate_label=\"Global Mean Surface Temperature Anomaly [°C]\",\n",
    "    location_only=True\n",
    ")\n",
    "\n",
    "utils_station.plot_regression_prediction(\n",
    "    ds_quantiles=az_ds_quantiles,\n",
    "    observations=observations,\n",
    "    # figures_path=\"./\", \n",
    "    figures_path=figures_path, \n",
    "    covariate=covariate,\n",
    "    figure_dpi=300,\n",
    "    y_label=\"2m Max Temperature, $R_a$ [°C]\",\n",
    "    covariate_label=\"Global Mean Surface Temperature Anomaly [°C]\",\n",
    "    location_only=False\n",
    ")"
   ]
  },
  {
   "cell_type": "markdown",
   "id": "fe4dd825-6333-4f7f-aaed-eec96725c641",
   "metadata": {},
   "source": [
    "## Return Levels"
   ]
  },
  {
   "cell_type": "markdown",
   "id": "ac634121-c527-464e-b6ba-e49c13c1adc1",
   "metadata": {},
   "source": [
    "#### Empirical Return Levels"
   ]
  },
  {
   "cell_type": "code",
   "execution_count": 44,
   "id": "29f760b9-6328-4e96-a5c6-2c7981a5da53",
   "metadata": {},
   "outputs": [],
   "source": [
    "# def calculate_empirical_return_level_gevd_ds(\n",
    "#     da: xr.DataArray,\n",
    "#     covariate: str,\n",
    "#     num_samples: int = 1_000,\n",
    "#     seed: int = 123,\n",
    "# ):\n",
    "#     variable = da.name\n",
    "#     # # resample array\n",
    "#     # rng = np.random.RandomState(seed)\n",
    "#     # y_samples = list(\n",
    "#     #     rng.choice(\n",
    "#     #         y_clean.values, size=(y_clean.size), replace=True,\n",
    "#     #     ) for seed in np.arange(0, num_samples)\n",
    "#     # )\n",
    "#     # y_samples = np.stack(y_samples, axis=0)\n",
    "\n",
    "#     # # expand dims\n",
    "#     # da = da.expand_dims(dim={\"samples\": np.arange(0, num_samples)})\n",
    "#     # # assign coordinates\n",
    "    \n",
    "#     # da[variable] = ((\"samples\", covariate), y_samples)\n",
    "    \n",
    "#     from st_evt.extremes import calculate_exceedence_probs\n",
    "#     # add as coordinate\n",
    "#     da[\"return_level\"] = 1/xr.apply_ufunc(\n",
    "#         calculate_exceedence_probs,\n",
    "#         da,\n",
    "#         input_core_dims=[[covariate]],\n",
    "#         output_core_dims=[[covariate]],\n",
    "#         vectorize=True\n",
    "#     )\n",
    "#     # swap dimensions\n",
    "#     # \n",
    "#     # da_rl = da_rl.rename(\"return_level\")\n",
    "#     # print(da_rl)\n",
    "#     # da_rl = da_rl.rename({covariate: \"t2max\"})\n",
    "#     # da_rl[variable] = da[variable]\n",
    "#     da = da.swap_dims({covariate: variable})\n",
    "#     return da"
   ]
  },
  {
   "cell_type": "code",
   "execution_count": 45,
   "id": "b106c041-bf14-4347-8ff8-df96dd8d9691",
   "metadata": {},
   "outputs": [
    {
     "name": "stderr",
     "output_type": "stream",
     "text": [
      "\u001b[32m2024-12-16 19:48:18.431\u001b[0m | \u001b[1mINFO    \u001b[0m | \u001b[36mst_evt._src.modules.models.aemet.utils_station\u001b[0m:\u001b[36mcalculate_empirical_return_level_gevd_ds\u001b[0m:\u001b[36m331\u001b[0m - \u001b[1mCalculating Return Level...\u001b[0m\n",
      "\u001b[32m2024-12-16 19:48:18.436\u001b[0m | \u001b[1mINFO    \u001b[0m | \u001b[36mst_evt._src.modules.models.aemet.utils_station\u001b[0m:\u001b[36mcalculate_empirical_return_level_gevd_ds\u001b[0m:\u001b[36m339\u001b[0m - \u001b[1mSwapping Dims...\u001b[0m\n"
     ]
    }
   ],
   "source": [
    "# select clean data\n",
    "y_clean = ds_station[variable].squeeze()\n",
    "\n",
    "# calculate return period\n",
    "y_clean = utils_station.calculate_empirical_return_level_gevd_ds(y_clean, covariate=covariate)\n",
    "\n",
    "# calculate model return periods\n",
    "az_ds_station_pred = utils_station.calculate_ds_return_periods(az_ds_station_pred)\n",
    "\n",
    "# Calculate Quantiles\n",
    "rl_model_quantiles = az_ds_station_pred[\"return_level\"].quantile(q=[0.025, 0.5, 0.975], dim=[\"chain\", \"draw\"])"
   ]
  },
  {
   "cell_type": "markdown",
   "id": "27045937-d1fb-4009-880f-31d51542ab59",
   "metadata": {},
   "source": [
    "### Viz - Return Level "
   ]
  },
  {
   "cell_type": "code",
   "execution_count": 46,
   "id": "8f09f721-e54d-4ca0-9809-aefdc82cf7a8",
   "metadata": {},
   "outputs": [
    {
     "name": "stderr",
     "output_type": "stream",
     "text": [
      "\u001b[32m2024-12-16 19:48:22.535\u001b[0m | \u001b[1mINFO    \u001b[0m | \u001b[36mst_evt._src.modules.models.aemet.utils_station\u001b[0m:\u001b[36mplot_return_periods_gmst_ds\u001b[0m:\u001b[36m453\u001b[0m - \u001b[1mGetting Appropriate Periods...\u001b[0m\n",
      "\u001b[32m2024-12-16 19:48:22.537\u001b[0m | \u001b[1mINFO    \u001b[0m | \u001b[36mst_evt._src.modules.models.aemet.utils_station\u001b[0m:\u001b[36mplot_return_periods_gmst_ds\u001b[0m:\u001b[36m455\u001b[0m - \u001b[1mIntialize Returns...\u001b[0m\n",
      "\u001b[32m2024-12-16 19:48:22.537\u001b[0m | \u001b[1mINFO    \u001b[0m | \u001b[36mst_evt._src.modules.models.aemet.utils_station\u001b[0m:\u001b[36mplot_return_periods_gmst_ds\u001b[0m:\u001b[36m459\u001b[0m - \u001b[1mCreating Data structures...\u001b[0m\n",
      "\u001b[32m2024-12-16 19:48:22.539\u001b[0m | \u001b[1mINFO    \u001b[0m | \u001b[36mst_evt._src.modules.models.aemet.utils_station\u001b[0m:\u001b[36mplot_return_periods_gmst_ds\u001b[0m:\u001b[36m482\u001b[0m - \u001b[1mPlotting...\u001b[0m\n",
      "\u001b[32m2024-12-16 19:48:24.158\u001b[0m | \u001b[34m\u001b[1mDEBUG   \u001b[0m | \u001b[36mst_evt._src.modules.models.aemet.utils_station\u001b[0m:\u001b[36mplot_return_periods_gmst_ds\u001b[0m:\u001b[36m498\u001b[0m - \u001b[34m\u001b[1mSaved Figure:\n",
      "/home/juanjohn/pool_data/dynev4eo/experiments/walkthrough/aemet/t2max/nonstationary_iid_mcmc_redfeten/results/figures/stations/3129A/1391/3407Y/returns/returns_gmst_prob_posterior_vs_empirical.png\u001b[0m\n"
     ]
    }
   ],
   "source": [
    "# fig, ax = model_eval_station.plot_return_periods_ds(\n",
    "#     rl_model_quantiles=rl_model_quantiles,\n",
    "#     y=y_clean,\n",
    "#     covariate=covariate,\n",
    "#     y_label=\"2m Max Temperature, $R_a$ [°C]\"\n",
    "# )\n",
    "# plt.show()\n",
    "\n",
    "utils_station.plot_return_periods_gmst_ds(\n",
    "    rl_model_quantiles=rl_model_quantiles,\n",
    "    y=y_clean,\n",
    "    covariate=covariate,\n",
    "    # figures_path=\"./\", \n",
    "    figures_path=figures_path, \n",
    "    y_label=\"2m Max Temperature, $R_a$ [°C]\"\n",
    ")"
   ]
  },
  {
   "cell_type": "markdown",
   "id": "3bd1e463-e487-4f68-93e2-bbfa6efe9d23",
   "metadata": {},
   "source": [
    ":::{figure}\n",
    ":label: my-figure\n",
    ":align: left\n",
    ":width: 20px\n",
    "\n",
    "(my-figure-fruit)=\n",
    "![Here is some fruit 🍏](returns/returns_gmst_prob_posterior_vs_empirical.png)\n",
    "\n",
    "Some pictures of fruit and the ocean!\n",
    ":::"
   ]
  },
  {
   "cell_type": "markdown",
   "id": "b88eb754-4b92-4f29-8b77-0bb0c0238b85",
   "metadata": {},
   "source": [
    "### Viz - 100-Year Return Period"
   ]
  },
  {
   "cell_type": "code",
   "execution_count": 47,
   "id": "b806f40c-2f0c-4703-ab82-2f9ef19ee66b",
   "metadata": {},
   "outputs": [],
   "source": [
    "# calculate model return periods\n",
    "az_ds_station_pred = utils_station.calculate_ds_return_periods(az_ds_station_pred)\n",
    "\n",
    "# Calculate Quantiles\n",
    "rl_model_quantiles = az_ds_station_pred[\"return_level_100\"]"
   ]
  },
  {
   "cell_type": "code",
   "execution_count": 48,
   "id": "eafcc4dc-f5ec-4d56-bbcf-bc7c91f8c372",
   "metadata": {},
   "outputs": [
    {
     "name": "stderr",
     "output_type": "stream",
     "text": [
      "\u001b[32m2024-12-16 19:48:25.875\u001b[0m | \u001b[1mINFO    \u001b[0m | \u001b[36mst_evt._src.modules.models.aemet.utils_station\u001b[0m:\u001b[36mplot_return_periods_100_gmst_ds\u001b[0m:\u001b[36m609\u001b[0m - \u001b[1mGetting Appropriate Periods...\u001b[0m\n",
      "\u001b[32m2024-12-16 19:48:25.876\u001b[0m | \u001b[1mINFO    \u001b[0m | \u001b[36mst_evt._src.modules.models.aemet.utils_station\u001b[0m:\u001b[36mplot_return_periods_100_gmst_ds\u001b[0m:\u001b[36m611\u001b[0m - \u001b[1mIntialize Returns...\u001b[0m\n",
      "\u001b[32m2024-12-16 19:48:25.877\u001b[0m | \u001b[1mINFO    \u001b[0m | \u001b[36mst_evt._src.modules.models.aemet.utils_station\u001b[0m:\u001b[36mplot_return_periods_100_gmst_ds\u001b[0m:\u001b[36m615\u001b[0m - \u001b[1mCreating Data structures...\u001b[0m\n",
      "\u001b[32m2024-12-16 19:48:25.880\u001b[0m | \u001b[1mINFO    \u001b[0m | \u001b[36mst_evt._src.modules.models.aemet.utils_station\u001b[0m:\u001b[36mplot_return_periods_100_gmst_ds\u001b[0m:\u001b[36m638\u001b[0m - \u001b[1mPlotting...\u001b[0m\n",
      "\u001b[32m2024-12-16 19:48:26.360\u001b[0m | \u001b[34m\u001b[1mDEBUG   \u001b[0m | \u001b[36mst_evt._src.modules.models.aemet.utils_station\u001b[0m:\u001b[36mplot_return_periods_100_gmst_ds\u001b[0m:\u001b[36m654\u001b[0m - \u001b[34m\u001b[1mSaved Figure:\n",
      "/home/juanjohn/pool_data/dynev4eo/experiments/walkthrough/aemet/t2max/nonstationary_iid_mcmc_redfeten/results/figures/stations/3129A/1391/3407Y/returns/returns_100years_gmst_density.pdf\u001b[0m\n"
     ]
    }
   ],
   "source": [
    "# fig, ax = plot_return_periods_100_ds(\n",
    "#     rl_model_quantiles=rl_model_quantiles,\n",
    "#     covariate=covariate,\n",
    "#     x_label=\"2m Max Temperature, $R_a$ [°C]\"\n",
    "# )\n",
    "# plt.show()\n",
    "\n",
    "utils_station.plot_return_periods_100_gmst_ds(\n",
    "    rl_model=rl_model_quantiles,\n",
    "    covariate=covariate,\n",
    "    # figures_path=\"./\", \n",
    "    figures_path=figures_path, \n",
    "    x_label=r\"2m Max Temperature, $R_{100}$ [°C]\"\n",
    ")"
   ]
  },
  {
   "cell_type": "markdown",
   "id": "f5de80eb-5ff3-4289-8910-37af92ace384",
   "metadata": {},
   "source": [
    ":::{figure}\n",
    ":label: my-figure\n",
    ":align: left\n",
    ":width: 20px\n",
    "\n",
    "(my-figure-fruit)=\n",
    "![Here is some fruit 🍏](returns/returns_100years_gmst_density.png)\n",
    "\n",
    "\n",
    "\n",
    "Some pictures of fruit and the ocean!\n",
    ":::"
   ]
  },
  {
   "cell_type": "markdown",
   "id": "3618e2d8-b792-4559-91f5-3b915180080d",
   "metadata": {},
   "source": [
    "### Viz - 100-Year Return Period Difference"
   ]
  },
  {
   "cell_type": "code",
   "execution_count": 49,
   "id": "ffd6e1cc-99ac-48a4-8d56-993f22f4271f",
   "metadata": {},
   "outputs": [
    {
     "data": {
      "text/html": [
       "<div><svg style=\"position: absolute; width: 0; height: 0; overflow: hidden\">\n",
       "<defs>\n",
       "<symbol id=\"icon-database\" viewBox=\"0 0 32 32\">\n",
       "<path d=\"M16 0c-8.837 0-16 2.239-16 5v4c0 2.761 7.163 5 16 5s16-2.239 16-5v-4c0-2.761-7.163-5-16-5z\"></path>\n",
       "<path d=\"M16 17c-8.837 0-16-2.239-16-5v6c0 2.761 7.163 5 16 5s16-2.239 16-5v-6c0 2.761-7.163 5-16 5z\"></path>\n",
       "<path d=\"M16 26c-8.837 0-16-2.239-16-5v6c0 2.761 7.163 5 16 5s16-2.239 16-5v-6c0 2.761-7.163 5-16 5z\"></path>\n",
       "</symbol>\n",
       "<symbol id=\"icon-file-text2\" viewBox=\"0 0 32 32\">\n",
       "<path d=\"M28.681 7.159c-0.694-0.947-1.662-2.053-2.724-3.116s-2.169-2.030-3.116-2.724c-1.612-1.182-2.393-1.319-2.841-1.319h-15.5c-1.378 0-2.5 1.121-2.5 2.5v27c0 1.378 1.122 2.5 2.5 2.5h23c1.378 0 2.5-1.122 2.5-2.5v-19.5c0-0.448-0.137-1.23-1.319-2.841zM24.543 5.457c0.959 0.959 1.712 1.825 2.268 2.543h-4.811v-4.811c0.718 0.556 1.584 1.309 2.543 2.268zM28 29.5c0 0.271-0.229 0.5-0.5 0.5h-23c-0.271 0-0.5-0.229-0.5-0.5v-27c0-0.271 0.229-0.5 0.5-0.5 0 0 15.499-0 15.5 0v7c0 0.552 0.448 1 1 1h7v19.5z\"></path>\n",
       "<path d=\"M23 26h-14c-0.552 0-1-0.448-1-1s0.448-1 1-1h14c0.552 0 1 0.448 1 1s-0.448 1-1 1z\"></path>\n",
       "<path d=\"M23 22h-14c-0.552 0-1-0.448-1-1s0.448-1 1-1h14c0.552 0 1 0.448 1 1s-0.448 1-1 1z\"></path>\n",
       "<path d=\"M23 18h-14c-0.552 0-1-0.448-1-1s0.448-1 1-1h14c0.552 0 1 0.448 1 1s-0.448 1-1 1z\"></path>\n",
       "</symbol>\n",
       "</defs>\n",
       "</svg>\n",
       "<style>/* CSS stylesheet for displaying xarray objects in jupyterlab.\n",
       " *\n",
       " */\n",
       "\n",
       ":root {\n",
       "  --xr-font-color0: var(--jp-content-font-color0, rgba(0, 0, 0, 1));\n",
       "  --xr-font-color2: var(--jp-content-font-color2, rgba(0, 0, 0, 0.54));\n",
       "  --xr-font-color3: var(--jp-content-font-color3, rgba(0, 0, 0, 0.38));\n",
       "  --xr-border-color: var(--jp-border-color2, #e0e0e0);\n",
       "  --xr-disabled-color: var(--jp-layout-color3, #bdbdbd);\n",
       "  --xr-background-color: var(--jp-layout-color0, white);\n",
       "  --xr-background-color-row-even: var(--jp-layout-color1, white);\n",
       "  --xr-background-color-row-odd: var(--jp-layout-color2, #eeeeee);\n",
       "}\n",
       "\n",
       "html[theme=dark],\n",
       "html[data-theme=dark],\n",
       "body[data-theme=dark],\n",
       "body.vscode-dark {\n",
       "  --xr-font-color0: rgba(255, 255, 255, 1);\n",
       "  --xr-font-color2: rgba(255, 255, 255, 0.54);\n",
       "  --xr-font-color3: rgba(255, 255, 255, 0.38);\n",
       "  --xr-border-color: #1F1F1F;\n",
       "  --xr-disabled-color: #515151;\n",
       "  --xr-background-color: #111111;\n",
       "  --xr-background-color-row-even: #111111;\n",
       "  --xr-background-color-row-odd: #313131;\n",
       "}\n",
       "\n",
       ".xr-wrap {\n",
       "  display: block !important;\n",
       "  min-width: 300px;\n",
       "  max-width: 700px;\n",
       "}\n",
       "\n",
       ".xr-text-repr-fallback {\n",
       "  /* fallback to plain text repr when CSS is not injected (untrusted notebook) */\n",
       "  display: none;\n",
       "}\n",
       "\n",
       ".xr-header {\n",
       "  padding-top: 6px;\n",
       "  padding-bottom: 6px;\n",
       "  margin-bottom: 4px;\n",
       "  border-bottom: solid 1px var(--xr-border-color);\n",
       "}\n",
       "\n",
       ".xr-header > div,\n",
       ".xr-header > ul {\n",
       "  display: inline;\n",
       "  margin-top: 0;\n",
       "  margin-bottom: 0;\n",
       "}\n",
       "\n",
       ".xr-obj-type,\n",
       ".xr-array-name {\n",
       "  margin-left: 2px;\n",
       "  margin-right: 10px;\n",
       "}\n",
       "\n",
       ".xr-obj-type {\n",
       "  color: var(--xr-font-color2);\n",
       "}\n",
       "\n",
       ".xr-sections {\n",
       "  padding-left: 0 !important;\n",
       "  display: grid;\n",
       "  grid-template-columns: 150px auto auto 1fr 0 20px 0 20px;\n",
       "}\n",
       "\n",
       ".xr-section-item {\n",
       "  display: contents;\n",
       "}\n",
       "\n",
       ".xr-section-item input {\n",
       "  display: inline-block;\n",
       "  opacity: 0;\n",
       "}\n",
       "\n",
       ".xr-section-item input + label {\n",
       "  color: var(--xr-disabled-color);\n",
       "}\n",
       "\n",
       ".xr-section-item input:enabled + label {\n",
       "  cursor: pointer;\n",
       "  color: var(--xr-font-color2);\n",
       "}\n",
       "\n",
       ".xr-section-item input:focus + label {\n",
       "  border: 2px solid var(--xr-font-color0);\n",
       "}\n",
       "\n",
       ".xr-section-item input:enabled + label:hover {\n",
       "  color: var(--xr-font-color0);\n",
       "}\n",
       "\n",
       ".xr-section-summary {\n",
       "  grid-column: 1;\n",
       "  color: var(--xr-font-color2);\n",
       "  font-weight: 500;\n",
       "}\n",
       "\n",
       ".xr-section-summary > span {\n",
       "  display: inline-block;\n",
       "  padding-left: 0.5em;\n",
       "}\n",
       "\n",
       ".xr-section-summary-in:disabled + label {\n",
       "  color: var(--xr-font-color2);\n",
       "}\n",
       "\n",
       ".xr-section-summary-in + label:before {\n",
       "  display: inline-block;\n",
       "  content: '►';\n",
       "  font-size: 11px;\n",
       "  width: 15px;\n",
       "  text-align: center;\n",
       "}\n",
       "\n",
       ".xr-section-summary-in:disabled + label:before {\n",
       "  color: var(--xr-disabled-color);\n",
       "}\n",
       "\n",
       ".xr-section-summary-in:checked + label:before {\n",
       "  content: '▼';\n",
       "}\n",
       "\n",
       ".xr-section-summary-in:checked + label > span {\n",
       "  display: none;\n",
       "}\n",
       "\n",
       ".xr-section-summary,\n",
       ".xr-section-inline-details {\n",
       "  padding-top: 4px;\n",
       "  padding-bottom: 4px;\n",
       "}\n",
       "\n",
       ".xr-section-inline-details {\n",
       "  grid-column: 2 / -1;\n",
       "}\n",
       "\n",
       ".xr-section-details {\n",
       "  display: none;\n",
       "  grid-column: 1 / -1;\n",
       "  margin-bottom: 5px;\n",
       "}\n",
       "\n",
       ".xr-section-summary-in:checked ~ .xr-section-details {\n",
       "  display: contents;\n",
       "}\n",
       "\n",
       ".xr-array-wrap {\n",
       "  grid-column: 1 / -1;\n",
       "  display: grid;\n",
       "  grid-template-columns: 20px auto;\n",
       "}\n",
       "\n",
       ".xr-array-wrap > label {\n",
       "  grid-column: 1;\n",
       "  vertical-align: top;\n",
       "}\n",
       "\n",
       ".xr-preview {\n",
       "  color: var(--xr-font-color3);\n",
       "}\n",
       "\n",
       ".xr-array-preview,\n",
       ".xr-array-data {\n",
       "  padding: 0 5px !important;\n",
       "  grid-column: 2;\n",
       "}\n",
       "\n",
       ".xr-array-data,\n",
       ".xr-array-in:checked ~ .xr-array-preview {\n",
       "  display: none;\n",
       "}\n",
       "\n",
       ".xr-array-in:checked ~ .xr-array-data,\n",
       ".xr-array-preview {\n",
       "  display: inline-block;\n",
       "}\n",
       "\n",
       ".xr-dim-list {\n",
       "  display: inline-block !important;\n",
       "  list-style: none;\n",
       "  padding: 0 !important;\n",
       "  margin: 0;\n",
       "}\n",
       "\n",
       ".xr-dim-list li {\n",
       "  display: inline-block;\n",
       "  padding: 0;\n",
       "  margin: 0;\n",
       "}\n",
       "\n",
       ".xr-dim-list:before {\n",
       "  content: '(';\n",
       "}\n",
       "\n",
       ".xr-dim-list:after {\n",
       "  content: ')';\n",
       "}\n",
       "\n",
       ".xr-dim-list li:not(:last-child):after {\n",
       "  content: ',';\n",
       "  padding-right: 5px;\n",
       "}\n",
       "\n",
       ".xr-has-index {\n",
       "  font-weight: bold;\n",
       "}\n",
       "\n",
       ".xr-var-list,\n",
       ".xr-var-item {\n",
       "  display: contents;\n",
       "}\n",
       "\n",
       ".xr-var-item > div,\n",
       ".xr-var-item label,\n",
       ".xr-var-item > .xr-var-name span {\n",
       "  background-color: var(--xr-background-color-row-even);\n",
       "  margin-bottom: 0;\n",
       "}\n",
       "\n",
       ".xr-var-item > .xr-var-name:hover span {\n",
       "  padding-right: 5px;\n",
       "}\n",
       "\n",
       ".xr-var-list > li:nth-child(odd) > div,\n",
       ".xr-var-list > li:nth-child(odd) > label,\n",
       ".xr-var-list > li:nth-child(odd) > .xr-var-name span {\n",
       "  background-color: var(--xr-background-color-row-odd);\n",
       "}\n",
       "\n",
       ".xr-var-name {\n",
       "  grid-column: 1;\n",
       "}\n",
       "\n",
       ".xr-var-dims {\n",
       "  grid-column: 2;\n",
       "}\n",
       "\n",
       ".xr-var-dtype {\n",
       "  grid-column: 3;\n",
       "  text-align: right;\n",
       "  color: var(--xr-font-color2);\n",
       "}\n",
       "\n",
       ".xr-var-preview {\n",
       "  grid-column: 4;\n",
       "}\n",
       "\n",
       ".xr-index-preview {\n",
       "  grid-column: 2 / 5;\n",
       "  color: var(--xr-font-color2);\n",
       "}\n",
       "\n",
       ".xr-var-name,\n",
       ".xr-var-dims,\n",
       ".xr-var-dtype,\n",
       ".xr-preview,\n",
       ".xr-attrs dt {\n",
       "  white-space: nowrap;\n",
       "  overflow: hidden;\n",
       "  text-overflow: ellipsis;\n",
       "  padding-right: 10px;\n",
       "}\n",
       "\n",
       ".xr-var-name:hover,\n",
       ".xr-var-dims:hover,\n",
       ".xr-var-dtype:hover,\n",
       ".xr-attrs dt:hover {\n",
       "  overflow: visible;\n",
       "  width: auto;\n",
       "  z-index: 1;\n",
       "}\n",
       "\n",
       ".xr-var-attrs,\n",
       ".xr-var-data,\n",
       ".xr-index-data {\n",
       "  display: none;\n",
       "  background-color: var(--xr-background-color) !important;\n",
       "  padding-bottom: 5px !important;\n",
       "}\n",
       "\n",
       ".xr-var-attrs-in:checked ~ .xr-var-attrs,\n",
       ".xr-var-data-in:checked ~ .xr-var-data,\n",
       ".xr-index-data-in:checked ~ .xr-index-data {\n",
       "  display: block;\n",
       "}\n",
       "\n",
       ".xr-var-data > table {\n",
       "  float: right;\n",
       "}\n",
       "\n",
       ".xr-var-name span,\n",
       ".xr-var-data,\n",
       ".xr-index-name div,\n",
       ".xr-index-data,\n",
       ".xr-attrs {\n",
       "  padding-left: 25px !important;\n",
       "}\n",
       "\n",
       ".xr-attrs,\n",
       ".xr-var-attrs,\n",
       ".xr-var-data,\n",
       ".xr-index-data {\n",
       "  grid-column: 1 / -1;\n",
       "}\n",
       "\n",
       "dl.xr-attrs {\n",
       "  padding: 0;\n",
       "  margin: 0;\n",
       "  display: grid;\n",
       "  grid-template-columns: 125px auto;\n",
       "}\n",
       "\n",
       ".xr-attrs dt,\n",
       ".xr-attrs dd {\n",
       "  padding: 0;\n",
       "  margin: 0;\n",
       "  float: left;\n",
       "  padding-right: 10px;\n",
       "  width: auto;\n",
       "}\n",
       "\n",
       ".xr-attrs dt {\n",
       "  font-weight: normal;\n",
       "  grid-column: 1;\n",
       "}\n",
       "\n",
       ".xr-attrs dt:hover span {\n",
       "  display: inline-block;\n",
       "  background: var(--xr-background-color);\n",
       "  padding-right: 10px;\n",
       "}\n",
       "\n",
       ".xr-attrs dd {\n",
       "  grid-column: 2;\n",
       "  white-space: pre-wrap;\n",
       "  word-break: break-all;\n",
       "}\n",
       "\n",
       ".xr-icon-database,\n",
       ".xr-icon-file-text2,\n",
       ".xr-no-icon {\n",
       "  display: inline-block;\n",
       "  vertical-align: middle;\n",
       "  width: 1em;\n",
       "  height: 1.5em !important;\n",
       "  stroke-width: 0;\n",
       "  stroke: currentColor;\n",
       "  fill: currentColor;\n",
       "}\n",
       "</style><pre class='xr-text-repr-fallback'>&lt;xarray.DataArray &#x27;return_level_100&#x27; (chain: 1, gmst: 100, draw: 8000)&gt; Size: 6MB\n",
       "array([[[20.66562523, 20.60916477, 20.72528081, ..., 20.73608766,\n",
       "         20.73153436, 20.71214279],\n",
       "        [20.69892181, 20.64093548, 20.75736623, ..., 20.76507936,\n",
       "         20.76068437, 20.74193558],\n",
       "        [20.7322184 , 20.67270428, 20.78945356, ..., 20.79406915,\n",
       "         20.78983438, 20.77172837],\n",
       "        ...,\n",
       "        [23.89544167, 23.69084507, 23.83762746, ..., 23.54822908,\n",
       "         23.55910814, 23.602043  ],\n",
       "        [23.92874016, 23.72261387, 23.86971288, ..., 23.57722078,\n",
       "         23.58826006, 23.63183579],\n",
       "        [23.96203674, 23.75438458, 23.90180021, ..., 23.60621057,\n",
       "         23.61741007, 23.66162857]]])\n",
       "Coordinates:\n",
       "    alt             float32 4B 766.0\n",
       "  * chain           (chain) int64 8B 0\n",
       "  * draw            (draw) int64 64kB 0 1 2 3 4 5 ... 7995 7996 7997 7998 7999\n",
       "  * gmst            (gmst) float64 800B 0.0 0.02525 0.05051 ... 2.449 2.475 2.5\n",
       "    lat             float32 4B 40.22\n",
       "    lon             float32 4B -5.146\n",
       "    red_feten_mask  uint8 1B 1\n",
       "    station_id      &lt;U5 20B &#x27;3407Y&#x27;\n",
       "    station_name    &lt;U23 92B &#x27;guisando (el risquillo)&#x27;</pre><div class='xr-wrap' style='display:none'><div class='xr-header'><div class='xr-obj-type'>xarray.DataArray</div><div class='xr-array-name'>'return_level_100'</div><ul class='xr-dim-list'><li><span class='xr-has-index'>chain</span>: 1</li><li><span class='xr-has-index'>gmst</span>: 100</li><li><span class='xr-has-index'>draw</span>: 8000</li></ul></div><ul class='xr-sections'><li class='xr-section-item'><div class='xr-array-wrap'><input id='section-24bdae76-9199-4644-ad47-ad9c1d59a757' class='xr-array-in' type='checkbox' checked><label for='section-24bdae76-9199-4644-ad47-ad9c1d59a757' title='Show/hide data repr'><svg class='icon xr-icon-database'><use xlink:href='#icon-database'></use></svg></label><div class='xr-array-preview xr-preview'><span>20.67 20.61 20.73 20.73 20.75 20.73 ... 24.29 23.75 23.61 23.62 23.66</span></div><div class='xr-array-data'><pre>array([[[20.66562523, 20.60916477, 20.72528081, ..., 20.73608766,\n",
       "         20.73153436, 20.71214279],\n",
       "        [20.69892181, 20.64093548, 20.75736623, ..., 20.76507936,\n",
       "         20.76068437, 20.74193558],\n",
       "        [20.7322184 , 20.67270428, 20.78945356, ..., 20.79406915,\n",
       "         20.78983438, 20.77172837],\n",
       "        ...,\n",
       "        [23.89544167, 23.69084507, 23.83762746, ..., 23.54822908,\n",
       "         23.55910814, 23.602043  ],\n",
       "        [23.92874016, 23.72261387, 23.86971288, ..., 23.57722078,\n",
       "         23.58826006, 23.63183579],\n",
       "        [23.96203674, 23.75438458, 23.90180021, ..., 23.60621057,\n",
       "         23.61741007, 23.66162857]]])</pre></div></div></li><li class='xr-section-item'><input id='section-1692762b-9e9b-4c36-b533-ae9e5bfe912b' class='xr-section-summary-in' type='checkbox'  checked><label for='section-1692762b-9e9b-4c36-b533-ae9e5bfe912b' class='xr-section-summary' >Coordinates: <span>(9)</span></label><div class='xr-section-inline-details'></div><div class='xr-section-details'><ul class='xr-var-list'><li class='xr-var-item'><div class='xr-var-name'><span>alt</span></div><div class='xr-var-dims'>()</div><div class='xr-var-dtype'>float32</div><div class='xr-var-preview xr-preview'>766.0</div><input id='attrs-3f5df3e1-d14b-46fe-ab2b-4cae33308e19' class='xr-var-attrs-in' type='checkbox' ><label for='attrs-3f5df3e1-d14b-46fe-ab2b-4cae33308e19' title='Show/Hide attributes'><svg class='icon xr-icon-file-text2'><use xlink:href='#icon-file-text2'></use></svg></label><input id='data-fc9eee63-9497-4872-aec1-1e7f5ad02976' class='xr-var-data-in' type='checkbox'><label for='data-fc9eee63-9497-4872-aec1-1e7f5ad02976' title='Show/Hide data repr'><svg class='icon xr-icon-database'><use xlink:href='#icon-database'></use></svg></label><div class='xr-var-attrs'><dl class='xr-attrs'><dt><span>long_name :</span></dt><dd>Altitude</dd><dt><span>standard_name :</span></dt><dd>altitude</dd><dt><span>units :</span></dt><dd>meter</dd></dl></div><div class='xr-var-data'><pre>array(766., dtype=float32)</pre></div></li><li class='xr-var-item'><div class='xr-var-name'><span class='xr-has-index'>chain</span></div><div class='xr-var-dims'>(chain)</div><div class='xr-var-dtype'>int64</div><div class='xr-var-preview xr-preview'>0</div><input id='attrs-fe80f8e1-7e7c-4b2f-8b7b-4cb32ba5696a' class='xr-var-attrs-in' type='checkbox' disabled><label for='attrs-fe80f8e1-7e7c-4b2f-8b7b-4cb32ba5696a' title='Show/Hide attributes'><svg class='icon xr-icon-file-text2'><use xlink:href='#icon-file-text2'></use></svg></label><input id='data-80d4aaae-524c-4ff5-b793-e1432e15a1fa' class='xr-var-data-in' type='checkbox'><label for='data-80d4aaae-524c-4ff5-b793-e1432e15a1fa' title='Show/Hide data repr'><svg class='icon xr-icon-database'><use xlink:href='#icon-database'></use></svg></label><div class='xr-var-attrs'><dl class='xr-attrs'></dl></div><div class='xr-var-data'><pre>array([0])</pre></div></li><li class='xr-var-item'><div class='xr-var-name'><span class='xr-has-index'>draw</span></div><div class='xr-var-dims'>(draw)</div><div class='xr-var-dtype'>int64</div><div class='xr-var-preview xr-preview'>0 1 2 3 4 ... 7996 7997 7998 7999</div><input id='attrs-efffe289-71bd-4e01-8b95-f941c129597d' class='xr-var-attrs-in' type='checkbox' disabled><label for='attrs-efffe289-71bd-4e01-8b95-f941c129597d' title='Show/Hide attributes'><svg class='icon xr-icon-file-text2'><use xlink:href='#icon-file-text2'></use></svg></label><input id='data-cef7ba10-a039-491a-b720-511e834a5771' class='xr-var-data-in' type='checkbox'><label for='data-cef7ba10-a039-491a-b720-511e834a5771' title='Show/Hide data repr'><svg class='icon xr-icon-database'><use xlink:href='#icon-database'></use></svg></label><div class='xr-var-attrs'><dl class='xr-attrs'></dl></div><div class='xr-var-data'><pre>array([   0,    1,    2, ..., 7997, 7998, 7999])</pre></div></li><li class='xr-var-item'><div class='xr-var-name'><span class='xr-has-index'>gmst</span></div><div class='xr-var-dims'>(gmst)</div><div class='xr-var-dtype'>float64</div><div class='xr-var-preview xr-preview'>0.0 0.02525 0.05051 ... 2.475 2.5</div><input id='attrs-bd0e632c-1cb1-4d75-a897-70dcb93d986b' class='xr-var-attrs-in' type='checkbox' disabled><label for='attrs-bd0e632c-1cb1-4d75-a897-70dcb93d986b' title='Show/Hide attributes'><svg class='icon xr-icon-file-text2'><use xlink:href='#icon-file-text2'></use></svg></label><input id='data-d410436c-2d94-434c-960c-acf75c9b2549' class='xr-var-data-in' type='checkbox'><label for='data-d410436c-2d94-434c-960c-acf75c9b2549' title='Show/Hide data repr'><svg class='icon xr-icon-database'><use xlink:href='#icon-database'></use></svg></label><div class='xr-var-attrs'><dl class='xr-attrs'></dl></div><div class='xr-var-data'><pre>array([0.      , 0.025253, 0.050505, 0.075758, 0.10101 , 0.126263, 0.151515,\n",
       "       0.176768, 0.20202 , 0.227273, 0.252525, 0.277778, 0.30303 , 0.328283,\n",
       "       0.353535, 0.378788, 0.40404 , 0.429293, 0.454545, 0.479798, 0.505051,\n",
       "       0.530303, 0.555556, 0.580808, 0.606061, 0.631313, 0.656566, 0.681818,\n",
       "       0.707071, 0.732323, 0.757576, 0.782828, 0.808081, 0.833333, 0.858586,\n",
       "       0.883838, 0.909091, 0.934343, 0.959596, 0.984848, 1.010101, 1.035354,\n",
       "       1.060606, 1.085859, 1.111111, 1.136364, 1.161616, 1.186869, 1.212121,\n",
       "       1.237374, 1.262626, 1.287879, 1.313131, 1.338384, 1.363636, 1.388889,\n",
       "       1.414141, 1.439394, 1.464646, 1.489899, 1.515152, 1.540404, 1.565657,\n",
       "       1.590909, 1.616162, 1.641414, 1.666667, 1.691919, 1.717172, 1.742424,\n",
       "       1.767677, 1.792929, 1.818182, 1.843434, 1.868687, 1.893939, 1.919192,\n",
       "       1.944444, 1.969697, 1.994949, 2.020202, 2.045455, 2.070707, 2.09596 ,\n",
       "       2.121212, 2.146465, 2.171717, 2.19697 , 2.222222, 2.247475, 2.272727,\n",
       "       2.29798 , 2.323232, 2.348485, 2.373737, 2.39899 , 2.424242, 2.449495,\n",
       "       2.474747, 2.5     ])</pre></div></li><li class='xr-var-item'><div class='xr-var-name'><span>lat</span></div><div class='xr-var-dims'>()</div><div class='xr-var-dtype'>float32</div><div class='xr-var-preview xr-preview'>40.22</div><input id='attrs-803a5da7-5dfb-4683-bf08-57b2fb8908f4' class='xr-var-attrs-in' type='checkbox' ><label for='attrs-803a5da7-5dfb-4683-bf08-57b2fb8908f4' title='Show/Hide attributes'><svg class='icon xr-icon-file-text2'><use xlink:href='#icon-file-text2'></use></svg></label><input id='data-6eb67f81-77b2-4ad5-8124-0a749f594d98' class='xr-var-data-in' type='checkbox'><label for='data-6eb67f81-77b2-4ad5-8124-0a749f594d98' title='Show/Hide data repr'><svg class='icon xr-icon-database'><use xlink:href='#icon-database'></use></svg></label><div class='xr-var-attrs'><dl class='xr-attrs'><dt><span>long_name :</span></dt><dd>Latitude</dd><dt><span>standard_name :</span></dt><dd>latitude</dd><dt><span>units :</span></dt><dd>degrees_north</dd></dl></div><div class='xr-var-data'><pre>array(40.21965, dtype=float32)</pre></div></li><li class='xr-var-item'><div class='xr-var-name'><span>lon</span></div><div class='xr-var-dims'>()</div><div class='xr-var-dtype'>float32</div><div class='xr-var-preview xr-preview'>-5.146</div><input id='attrs-c148dfc4-a442-4bde-94b4-524a67d3e419' class='xr-var-attrs-in' type='checkbox' ><label for='attrs-c148dfc4-a442-4bde-94b4-524a67d3e419' title='Show/Hide attributes'><svg class='icon xr-icon-file-text2'><use xlink:href='#icon-file-text2'></use></svg></label><input id='data-4d7b32c3-cce0-4dd8-8ed7-313ccf8b6710' class='xr-var-data-in' type='checkbox'><label for='data-4d7b32c3-cce0-4dd8-8ed7-313ccf8b6710' title='Show/Hide data repr'><svg class='icon xr-icon-database'><use xlink:href='#icon-database'></use></svg></label><div class='xr-var-attrs'><dl class='xr-attrs'><dt><span>long_name :</span></dt><dd>Longitude</dd><dt><span>standard_name :</span></dt><dd>longitude</dd><dt><span>units :</span></dt><dd>degrees_east</dd></dl></div><div class='xr-var-data'><pre>array(-5.14624, dtype=float32)</pre></div></li><li class='xr-var-item'><div class='xr-var-name'><span>red_feten_mask</span></div><div class='xr-var-dims'>()</div><div class='xr-var-dtype'>uint8</div><div class='xr-var-preview xr-preview'>1</div><input id='attrs-1d3bf597-7fbb-4abb-9134-146b157c6fbe' class='xr-var-attrs-in' type='checkbox' disabled><label for='attrs-1d3bf597-7fbb-4abb-9134-146b157c6fbe' title='Show/Hide attributes'><svg class='icon xr-icon-file-text2'><use xlink:href='#icon-file-text2'></use></svg></label><input id='data-4b29cf61-b46d-4e11-a406-f50d8e575ba6' class='xr-var-data-in' type='checkbox'><label for='data-4b29cf61-b46d-4e11-a406-f50d8e575ba6' title='Show/Hide data repr'><svg class='icon xr-icon-database'><use xlink:href='#icon-database'></use></svg></label><div class='xr-var-attrs'><dl class='xr-attrs'></dl></div><div class='xr-var-data'><pre>array(1, dtype=uint8)</pre></div></li><li class='xr-var-item'><div class='xr-var-name'><span>station_id</span></div><div class='xr-var-dims'>()</div><div class='xr-var-dtype'>&lt;U5</div><div class='xr-var-preview xr-preview'>&#x27;3407Y&#x27;</div><input id='attrs-320247ae-668c-401d-b6dc-30b98329be5d' class='xr-var-attrs-in' type='checkbox' disabled><label for='attrs-320247ae-668c-401d-b6dc-30b98329be5d' title='Show/Hide attributes'><svg class='icon xr-icon-file-text2'><use xlink:href='#icon-file-text2'></use></svg></label><input id='data-6f63bd15-bc6e-4c92-8856-9313de4b2909' class='xr-var-data-in' type='checkbox'><label for='data-6f63bd15-bc6e-4c92-8856-9313de4b2909' title='Show/Hide data repr'><svg class='icon xr-icon-database'><use xlink:href='#icon-database'></use></svg></label><div class='xr-var-attrs'><dl class='xr-attrs'></dl></div><div class='xr-var-data'><pre>array(&#x27;3407Y&#x27;, dtype=&#x27;&lt;U5&#x27;)</pre></div></li><li class='xr-var-item'><div class='xr-var-name'><span>station_name</span></div><div class='xr-var-dims'>()</div><div class='xr-var-dtype'>&lt;U23</div><div class='xr-var-preview xr-preview'>&#x27;guisando (el risquillo)&#x27;</div><input id='attrs-e40b84ec-3c99-4e56-bc29-a821290e43bc' class='xr-var-attrs-in' type='checkbox' disabled><label for='attrs-e40b84ec-3c99-4e56-bc29-a821290e43bc' title='Show/Hide attributes'><svg class='icon xr-icon-file-text2'><use xlink:href='#icon-file-text2'></use></svg></label><input id='data-75dbe1e4-bebf-41e3-9c23-11fa417d323c' class='xr-var-data-in' type='checkbox'><label for='data-75dbe1e4-bebf-41e3-9c23-11fa417d323c' title='Show/Hide data repr'><svg class='icon xr-icon-database'><use xlink:href='#icon-database'></use></svg></label><div class='xr-var-attrs'><dl class='xr-attrs'></dl></div><div class='xr-var-data'><pre>array(&#x27;guisando (el risquillo)&#x27;, dtype=&#x27;&lt;U23&#x27;)</pre></div></li></ul></div></li><li class='xr-section-item'><input id='section-c6710fc5-c877-433e-b7d2-13ad068ca62e' class='xr-section-summary-in' type='checkbox'  ><label for='section-c6710fc5-c877-433e-b7d2-13ad068ca62e' class='xr-section-summary' >Indexes: <span>(3)</span></label><div class='xr-section-inline-details'></div><div class='xr-section-details'><ul class='xr-var-list'><li class='xr-var-item'><div class='xr-index-name'><div>chain</div></div><div class='xr-index-preview'>PandasIndex</div><div></div><input id='index-75cad7c0-4d97-4d13-a35f-2cba316ba66e' class='xr-index-data-in' type='checkbox'/><label for='index-75cad7c0-4d97-4d13-a35f-2cba316ba66e' title='Show/Hide index repr'><svg class='icon xr-icon-database'><use xlink:href='#icon-database'></use></svg></label><div class='xr-index-data'><pre>PandasIndex(Index([0], dtype=&#x27;int64&#x27;, name=&#x27;chain&#x27;))</pre></div></li><li class='xr-var-item'><div class='xr-index-name'><div>draw</div></div><div class='xr-index-preview'>PandasIndex</div><div></div><input id='index-bf4a2105-40b3-43ce-9fe4-7cdaea80c1b5' class='xr-index-data-in' type='checkbox'/><label for='index-bf4a2105-40b3-43ce-9fe4-7cdaea80c1b5' title='Show/Hide index repr'><svg class='icon xr-icon-database'><use xlink:href='#icon-database'></use></svg></label><div class='xr-index-data'><pre>PandasIndex(Index([   0,    1,    2,    3,    4,    5,    6,    7,    8,    9,\n",
       "       ...\n",
       "       7990, 7991, 7992, 7993, 7994, 7995, 7996, 7997, 7998, 7999],\n",
       "      dtype=&#x27;int64&#x27;, name=&#x27;draw&#x27;, length=8000))</pre></div></li><li class='xr-var-item'><div class='xr-index-name'><div>gmst</div></div><div class='xr-index-preview'>PandasIndex</div><div></div><input id='index-48461189-5ca5-4626-8845-fb28234a4dc9' class='xr-index-data-in' type='checkbox'/><label for='index-48461189-5ca5-4626-8845-fb28234a4dc9' title='Show/Hide index repr'><svg class='icon xr-icon-database'><use xlink:href='#icon-database'></use></svg></label><div class='xr-index-data'><pre>PandasIndex(Index([                 0.0, 0.025252525252525252, 0.050505050505050504,\n",
       "        0.07575757575757576,  0.10101010101010101,  0.12626262626262627,\n",
       "        0.15151515151515152,  0.17676767676767677,  0.20202020202020202,\n",
       "        0.22727272727272727,  0.25252525252525254,   0.2777777777777778,\n",
       "        0.30303030303030304,   0.3282828282828283,  0.35353535353535354,\n",
       "         0.3787878787878788,  0.40404040404040403,   0.4292929292929293,\n",
       "        0.45454545454545453,   0.4797979797979798,   0.5050505050505051,\n",
       "         0.5303030303030303,   0.5555555555555556,   0.5808080808080808,\n",
       "         0.6060606060606061,   0.6313131313131313,   0.6565656565656566,\n",
       "         0.6818181818181818,   0.7070707070707071,   0.7323232323232323,\n",
       "         0.7575757575757576,   0.7828282828282828,   0.8080808080808081,\n",
       "         0.8333333333333334,   0.8585858585858586,   0.8838383838383839,\n",
       "         0.9090909090909091,   0.9343434343434344,   0.9595959595959596,\n",
       "         0.9848484848484849,   1.0101010101010102,   1.0353535353535352,\n",
       "         1.0606060606060606,   1.0858585858585859,   1.1111111111111112,\n",
       "         1.1363636363636362,   1.1616161616161615,   1.1868686868686869,\n",
       "         1.2121212121212122,   1.2373737373737375,   1.2626262626262625,\n",
       "         1.2878787878787878,   1.3131313131313131,   1.3383838383838385,\n",
       "         1.3636363636363635,   1.3888888888888888,   1.4141414141414141,\n",
       "         1.4393939393939394,   1.4646464646464645,   1.4898989898989898,\n",
       "         1.5151515151515151,   1.5404040404040404,   1.5656565656565655,\n",
       "         1.5909090909090908,   1.6161616161616161,   1.6414141414141414,\n",
       "         1.6666666666666667,   1.6919191919191918,   1.7171717171717171,\n",
       "         1.7424242424242424,   1.7676767676767677,   1.7929292929292928,\n",
       "         1.8181818181818181,   1.8434343434343434,   1.8686868686868687,\n",
       "         1.8939393939393938,   1.9191919191919191,   1.9444444444444444,\n",
       "         1.9696969696969697,   1.9949494949494948,   2.0202020202020203,\n",
       "         2.0454545454545454,   2.0707070707070705,    2.095959595959596,\n",
       "          2.121212121212121,   2.1464646464646466,   2.1717171717171717,\n",
       "          2.196969696969697,   2.2222222222222223,   2.2474747474747474,\n",
       "         2.2727272727272725,    2.297979797979798,    2.323232323232323,\n",
       "         2.3484848484848486,   2.3737373737373737,    2.398989898989899,\n",
       "         2.4242424242424243,   2.4494949494949494,    2.474747474747475,\n",
       "                        2.5],\n",
       "      dtype=&#x27;float64&#x27;, name=&#x27;gmst&#x27;))</pre></div></li></ul></div></li><li class='xr-section-item'><input id='section-ac3992a1-81d0-4598-9b47-b4fdec8ed905' class='xr-section-summary-in' type='checkbox' disabled ><label for='section-ac3992a1-81d0-4598-9b47-b4fdec8ed905' class='xr-section-summary'  title='Expand/collapse section'>Attributes: <span>(0)</span></label><div class='xr-section-inline-details'></div><div class='xr-section-details'><dl class='xr-attrs'></dl></div></li></ul></div></div>"
      ],
      "text/plain": [
       "<xarray.DataArray 'return_level_100' (chain: 1, gmst: 100, draw: 8000)> Size: 6MB\n",
       "array([[[20.66562523, 20.60916477, 20.72528081, ..., 20.73608766,\n",
       "         20.73153436, 20.71214279],\n",
       "        [20.69892181, 20.64093548, 20.75736623, ..., 20.76507936,\n",
       "         20.76068437, 20.74193558],\n",
       "        [20.7322184 , 20.67270428, 20.78945356, ..., 20.79406915,\n",
       "         20.78983438, 20.77172837],\n",
       "        ...,\n",
       "        [23.89544167, 23.69084507, 23.83762746, ..., 23.54822908,\n",
       "         23.55910814, 23.602043  ],\n",
       "        [23.92874016, 23.72261387, 23.86971288, ..., 23.57722078,\n",
       "         23.58826006, 23.63183579],\n",
       "        [23.96203674, 23.75438458, 23.90180021, ..., 23.60621057,\n",
       "         23.61741007, 23.66162857]]])\n",
       "Coordinates:\n",
       "    alt             float32 4B 766.0\n",
       "  * chain           (chain) int64 8B 0\n",
       "  * draw            (draw) int64 64kB 0 1 2 3 4 5 ... 7995 7996 7997 7998 7999\n",
       "  * gmst            (gmst) float64 800B 0.0 0.02525 0.05051 ... 2.449 2.475 2.5\n",
       "    lat             float32 4B 40.22\n",
       "    lon             float32 4B -5.146\n",
       "    red_feten_mask  uint8 1B 1\n",
       "    station_id      <U5 20B '3407Y'\n",
       "    station_name    <U23 92B 'guisando (el risquillo)'"
      ]
     },
     "execution_count": 49,
     "metadata": {},
     "output_type": "execute_result"
    }
   ],
   "source": [
    "# calculate model return periods\n",
    "az_ds_station_pred = utils_station.calculate_ds_return_periods(az_ds_station_pred)\n",
    "\n",
    "# Calculate Quantiles\n",
    "rl_model = az_ds_station_pred[\"return_level_100\"]\n",
    "rl_model"
   ]
  },
  {
   "cell_type": "code",
   "execution_count": null,
   "id": "0a74af9b-e36f-4545-97e1-60d4d2a72674",
   "metadata": {},
   "outputs": [
    {
     "name": "stderr",
     "output_type": "stream",
     "text": [
      "\u001b[32m2024-12-16 19:48:27.934\u001b[0m | \u001b[1mINFO    \u001b[0m | \u001b[36mst_evt._src.modules.models.aemet.utils_station\u001b[0m:\u001b[36mplot_return_periods_100_difference_gmst_ds\u001b[0m:\u001b[36m784\u001b[0m - \u001b[1mGetting Appropriate Periods...\u001b[0m\n",
      "\u001b[32m2024-12-16 19:48:27.935\u001b[0m | \u001b[1mINFO    \u001b[0m | \u001b[36mst_evt._src.modules.models.aemet.utils_station\u001b[0m:\u001b[36mplot_return_periods_100_difference_gmst_ds\u001b[0m:\u001b[36m786\u001b[0m - \u001b[1mCalculating Difference...\u001b[0m\n",
      "\u001b[32m2024-12-16 19:48:27.942\u001b[0m | \u001b[1mINFO    \u001b[0m | \u001b[36mst_evt._src.modules.models.aemet.utils_station\u001b[0m:\u001b[36mplot_return_periods_100_difference_gmst_ds\u001b[0m:\u001b[36m794\u001b[0m - \u001b[1mIntialize Returns...\u001b[0m\n",
      "\u001b[32m2024-12-16 19:48:27.942\u001b[0m | \u001b[1mINFO    \u001b[0m | \u001b[36mst_evt._src.modules.models.aemet.utils_station\u001b[0m:\u001b[36mplot_return_periods_100_difference_gmst_ds\u001b[0m:\u001b[36m797\u001b[0m - \u001b[1mCreating Data structures...\u001b[0m\n",
      "\u001b[32m2024-12-16 19:48:27.943\u001b[0m | \u001b[1mINFO    \u001b[0m | \u001b[36mst_evt._src.modules.models.aemet.utils_station\u001b[0m:\u001b[36mplot_return_periods_100_difference_gmst_ds\u001b[0m:\u001b[36m817\u001b[0m - \u001b[1mPlotting...\u001b[0m\n"
     ]
    }
   ],
   "source": [
    "# fig, ax = plot_return_periods_100_difference_ds(\n",
    "#     rl_model=rl_model,\n",
    "#     covariate=covariate,\n",
    "#     x_label=\"2m Max Temperature, $R_a$ [°C]\",\n",
    "#     units=\"[°C]\",\n",
    "#     color=\"black\"\n",
    "# )\n",
    "# plt.show()\n",
    "\n",
    "utils_station.plot_return_periods_100_difference_gmst_ds(\n",
    "    rl_model=rl_model,\n",
    "    covariate=covariate,\n",
    "    # figures_path=\"./\", \n",
    "    figures_path=figures_path, \n",
    "    x_label=\"2m Max Temperature, $\\Delta R_{100}$ [°C]\",\n",
    "    units=\"[°C]\",\n",
    ")"
   ]
  },
  {
   "cell_type": "markdown",
   "id": "f21bbdef-196c-46e4-a73e-e7be107c5462",
   "metadata": {},
   "source": [
    ":::{figure}\n",
    ":label: my-figure\n",
    ":align: left\n",
    ":width: 20px\n",
    "\n",
    "(my-figure-fruit)=\n",
    "![Here is some fruit 🍏](returns/returns_100years_difference_gmst_density.png)\n",
    "\n",
    "Some pictures of fruit and the ocean!\n",
    ":::"
   ]
  },
  {
   "cell_type": "code",
   "execution_count": null,
   "id": "373575a2-bc5d-46fc-9bd2-10e1a073361a",
   "metadata": {},
   "outputs": [],
   "source": [
    "# fig, ax = plot_return_periods_100_difference_ds(\n",
    "#     rl_model=rl_model,\n",
    "#     covariate=covariate,\n",
    "#     x_label=\"2m Max Temperature, $R_a$ [°C]\",\n",
    "#     units=\"[°C]\",\n",
    "#     color=\"black\"\n",
    "# )\n",
    "# plt.show()\n",
    "\n",
    "utils_station.plot_return_periods_100_difference_prct_gmst_ds(\n",
    "    rl_model=rl_model,\n",
    "    covariate=covariate,\n",
    "    # figures_path=\"./\", \n",
    "    figures_path=figures_path, \n",
    "    x_label=\"2m Max Temperature, $\\Delta R_{100}$ [%]\",\n",
    ")"
   ]
  },
  {
   "cell_type": "markdown",
   "id": "4a670c30-e344-4bf0-9a10-eb78d7c9c74e",
   "metadata": {},
   "source": [
    ":::{figure}\n",
    ":label: my-figure\n",
    ":align: left\n",
    ":width: 20px\n",
    "\n",
    "(my-figure-fruit)=\n",
    "![Here is some fruit 🍏](returns/returns_100years_difference_prcnt_gmst_density.png)\n",
    "\n",
    "\n",
    "Some pictures of fruit and the ocean!\n",
    ":::"
   ]
  },
  {
   "cell_type": "code",
   "execution_count": null,
   "id": "102c5842-4d29-4ba3-a84c-6402b7628bd6",
   "metadata": {},
   "outputs": [],
   "source": []
  },
  {
   "cell_type": "code",
   "execution_count": null,
   "id": "665f454d-f514-4066-9e1e-794841c7ab8f",
   "metadata": {},
   "outputs": [],
   "source": []
  },
  {
   "cell_type": "code",
   "execution_count": null,
   "id": "8746521c-5502-454d-837e-48a246ba08c8",
   "metadata": {},
   "outputs": [],
   "source": []
  }
 ],
 "metadata": {
  "kernelspec": {
   "display_name": "Python [conda env:dynev4eo_gpu]",
   "language": "python",
   "name": "conda-env-dynev4eo_gpu-py"
  },
  "language_info": {
   "codemirror_mode": {
    "name": "ipython",
    "version": 3
   },
   "file_extension": ".py",
   "mimetype": "text/x-python",
   "name": "python",
   "nbconvert_exporter": "python",
   "pygments_lexer": "ipython3",
   "version": "3.11.10"
  }
 },
 "nbformat": 4,
 "nbformat_minor": 5
}
