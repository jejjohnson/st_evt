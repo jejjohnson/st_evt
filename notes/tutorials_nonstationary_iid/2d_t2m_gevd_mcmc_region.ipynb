{
 "cells": [
  {
   "cell_type": "markdown",
   "id": "2a6407e7-b23f-49c5-b092-5871ccc924ed",
   "metadata": {},
   "source": [
    "---\n",
    "title: SpatioTemporal Field - T2M - Stationary - Analysis\n",
    "subject: AEMET T2M\n",
    "short_title: 2c - Analysis Region\n",
    "authors:\n",
    "  - name: J. Emmanuel Johnson\n",
    "    affiliations:\n",
    "      - CSIC\n",
    "      - UCM\n",
    "      - IGEO\n",
    "    orcid: 0000-0002-6739-0053\n",
    "    email: juanjohn@ucm.es\n",
    "license: CC-BY-4.0\n",
    "keywords: notation\n",
    "---"
   ]
  },
  {
   "cell_type": "code",
   "execution_count": null,
   "id": "47b6a690-2d66-437b-b76d-12750a3f322c",
   "metadata": {},
   "outputs": [],
   "source": [
    "import os\n",
    "os.environ[\"CUDA_VISIBLE_DEVICES\"] = \"\" # first gpu\n",
    "os.environ['XLA_PYTHON_CLIENT_PREALLOCATE'] = 'FALSE'\n",
    "\n",
    "import jax\n",
    "jax.config.update('jax_platform_name', 'cpu')\n",
    "\n",
    "import numpyro\n",
    "import multiprocessing\n",
    "\n",
    "num_devices = multiprocessing.cpu_count()\n",
    "numpyro.set_platform(\"cpu\")\n",
    "numpyro.set_host_device_count(num_devices)"
   ]
  },
  {
   "cell_type": "code",
   "execution_count": null,
   "id": "9f80b777-1fb0-4154-99e1-287866770c31",
   "metadata": {
    "tags": []
   },
   "outputs": [],
   "source": [
    "import autoroot\n",
    "from pathlib import Path\n",
    "import numpy as np\n",
    "import xarray as xr\n",
    "import pandas as pd\n",
    "import pint_xarray\n",
    "import arviz as az\n",
    "\n",
    "from st_evt import CANDIDATE_STATIONS\n",
    "from st_evt.utils import ExperimentPath\n",
    "from st_evt.viz import (\n",
    "    plot_scatter_ts,\n",
    "    plot_histogram,\n",
    "    plot_density,\n",
    "    plot_return_level_gevd_manual_unc_multiple,\n",
    "    plot_periods,\n",
    "    plot_periods_diff,\n",
    "    plot_spain,\n",
    "    plot_density_multiple\n",
    ")\n",
    "from st_evt.extremes import estimate_return_level_gevd, calculate_exceedence_probs\n",
    "from omegaconf import OmegaConf\n",
    "\n",
    "import jax\n",
    "import jax.random as jrandom\n",
    "import jax.numpy as jnp\n",
    "import pandas as pd\n",
    "\n",
    "rng_key = jrandom.PRNGKey(123)\n",
    "\n",
    "from numpyro.infer import Predictive\n",
    "import arviz as az\n",
    "\n",
    "import numpyro\n",
    "from numpyro.diagnostics import hpdi\n",
    "import numpyro.distributions as dist\n",
    "from numpyro import handlers\n",
    "from numpyro.infer import MCMC, NUTS\n",
    "import xarray as xr\n",
    "import regionmask\n",
    "\n",
    "import matplotlib.pyplot as plt\n",
    "from matplotlib.ticker import ScalarFormatter, FuncFormatter\n",
    "from st_evt._src.modules.models.aemet import utils_region, utils_station\n",
    "import seaborn as sns\n",
    "from loguru import logger\n",
    "sns.reset_defaults()\n",
    "sns.set_context(context=\"talk\", font_scale=0.7)\n",
    "\n",
    "\n",
    "%config InlineBackend.figure_format = 'retina'\n",
    "plt.style.use(\n",
    "    \"https://raw.githubusercontent.com/ClimateMatchAcademy/course-content/main/cma.mplstyle\"\n",
    ")\n",
    "\n",
    "\n",
    "%matplotlib inline\n",
    "%load_ext autoreload\n",
    "%autoreload 2"
   ]
  },
  {
   "cell_type": "markdown",
   "id": "61023d79-5d76-43a0-8a69-1f74c08b92bb",
   "metadata": {},
   "source": [
    "## Data"
   ]
  },
  {
   "cell_type": "code",
   "execution_count": null,
   "id": "25ce883d-dd7a-4d99-bfca-106f25770ea8",
   "metadata": {
    "editable": true,
    "slideshow": {
     "slide_type": ""
    },
    "tags": []
   },
   "outputs": [],
   "source": [
    "# results_data_path = \"/home/juanjohn/pool_data/dynev4eo/temp/scratch_pipelines/results/az_nonstationary_gp_mcmc_redfeten.zarr\"\n",
    "# figures_path = Path(\"/home/juanjohn/pool_data/dynev4eo/temp/scratch_pipelines/figures/nonstationary_gp_mcmc_redfeten/spain\")"
   ]
  },
  {
   "cell_type": "code",
   "execution_count": null,
   "id": "9ac6e7f8-9fc6-41c2-a2b0-5837c2321151",
   "metadata": {},
   "outputs": [],
   "source": [
    "results_root_path = \"/home/juanjohn/pool_data/dynev4eo/experiments/walkthrough/aemet/t2max/nonstationary_iid_mcmc_redfeten/results\"\n",
    "results_file_name = \"nonstationary_iid_mcmc_redfeten.zarr\"\n",
    "results_data_path = Path(results_root_path).joinpath(results_file_name)\n",
    "\n",
    "figures_path = Path(results_root_path).joinpath(\"figures/spain\")"
   ]
  },
  {
   "cell_type": "markdown",
   "id": "d2aff844-ea9e-44f4-b442-1a1161c569e5",
   "metadata": {},
   "source": [
    "### MCMC Results"
   ]
  },
  {
   "cell_type": "code",
   "execution_count": null,
   "id": "7258c343-8640-4b50-8d95-c9c80f6f4cd7",
   "metadata": {},
   "outputs": [],
   "source": [
    "variable = \"t2max\"\n",
    "covariate = \"gmst\""
   ]
  },
  {
   "cell_type": "markdown",
   "id": "aa9021d9-ffbc-452c-88a4-dead5e47e4ea",
   "metadata": {},
   "source": [
    "## Model Errors - Posterior"
   ]
  },
  {
   "cell_type": "markdown",
   "id": "48c56c2b-d7a0-4f6c-9fa0-307e860e346a",
   "metadata": {},
   "source": [
    "### Negative Log-Likelihood"
   ]
  },
  {
   "cell_type": "code",
   "execution_count": null,
   "id": "d274a0f9-4977-410a-a956-0cdf1a4b4b3d",
   "metadata": {},
   "outputs": [],
   "source": [
    "PLOT_VARIABLE = \"nll\"\n",
    "VARIABLE = \"t2max\"\n",
    "COVARIATE = \"gmst\"\n",
    "num_samples = 5_000"
   ]
  },
  {
   "cell_type": "code",
   "execution_count": null,
   "id": "5e250af4-9363-4e8c-a5f0-22b2005ac2e5",
   "metadata": {},
   "outputs": [],
   "source": [
    "az_ds = az.from_zarr(store=str(results_data_path))\n",
    "data_results = az.extract(az_ds, group=\"log_likelihood\", num_samples=num_samples).median(dim=[\"sample\"]).load()\n",
    "data_results = data_results.sortby(covariate)\n",
    "idata = data_results[VARIABLE].rename(PLOT_VARIABLE).sum(dim=covariate)"
   ]
  },
  {
   "cell_type": "code",
   "execution_count": null,
   "id": "c5b230eb-b52e-4132-8ae7-88472618a58b",
   "metadata": {},
   "outputs": [],
   "source": [
    "subfigures_path = Path(figures_path).joinpath(f\"{PLOT_VARIABLE}/posterior\")\n",
    "subfigures_path.mkdir(parents=True, exist_ok=True)\n",
    "\n",
    "utils_region.plot_static_spatial_variable(\n",
    "    idata,\n",
    "    figures_path=subfigures_path,\n",
    "    cbar_label=utils_region.VARIABLE_LABELS[PLOT_VARIABLE],\n",
    "    cmap=\"Reds_r\",\n",
    "    bounds = (-160, 10, -50)\n",
    ")"
   ]
  },
  {
   "cell_type": "markdown",
   "id": "95b64a57-00ee-40df-b975-9c5dfb2b3f56",
   "metadata": {},
   "source": [
    "## Model Errors - Posterior Predictive"
   ]
  },
  {
   "cell_type": "markdown",
   "id": "5ab93b4e-1afa-47ca-a356-5ae2e1967c05",
   "metadata": {
    "editable": true,
    "slideshow": {
     "slide_type": ""
    },
    "tags": []
   },
   "source": [
    "### I - Negative Log-Likelihood"
   ]
  },
  {
   "cell_type": "code",
   "execution_count": null,
   "id": "d11c13de-6ae5-4a14-a4c3-65c9193a2ff6",
   "metadata": {},
   "outputs": [],
   "source": [
    "PLOT_VARIABLE = \"nll\"\n",
    "VARIABLE = \"t2max\"\n",
    "COVARIATE = \"gmst\"\n",
    "num_samples = 5_000"
   ]
  },
  {
   "cell_type": "code",
   "execution_count": null,
   "id": "a49653b5-d4f1-4ed1-b40b-786b38604441",
   "metadata": {},
   "outputs": [],
   "source": [
    "az_ds = az.from_zarr(store=str(results_data_path))\n",
    "data_results = az.extract(az_ds, group=\"posterior_predictive\", num_samples=num_samples).median(dim=[\"sample\"]).load()\n",
    "data_results = data_results.sortby(covariate)\n",
    "idata = data_results[\"nll\"].rename(PLOT_VARIABLE).sum(dim=covariate)"
   ]
  },
  {
   "cell_type": "code",
   "execution_count": null,
   "id": "fe8b8d39-ba83-4c2c-bbe0-3ff0d582e380",
   "metadata": {},
   "outputs": [],
   "source": [
    "subfigures_path = Path(figures_path).joinpath(f\"{PLOT_VARIABLE}/posterior_predictive\")\n",
    "subfigures_path.mkdir(parents=True, exist_ok=True)\n",
    "\n",
    "utils_region.plot_static_spatial_variable(\n",
    "    idata,\n",
    "    figures_path=subfigures_path,\n",
    "    cbar_label=utils_region.VARIABLE_LABELS[PLOT_VARIABLE],\n",
    "    cmap=\"Reds_r\",\n",
    "    bounds = (-160, 10, -50)\n",
    ")"
   ]
  },
  {
   "cell_type": "markdown",
   "id": "62a7c213-d7ed-407a-813a-fd07ab02cb82",
   "metadata": {},
   "source": [
    "### II - Residuals"
   ]
  },
  {
   "cell_type": "code",
   "execution_count": null,
   "id": "014061cb-569a-4d84-ba5d-ff921336c510",
   "metadata": {},
   "outputs": [],
   "source": [
    "from sklearn.metrics import root_mean_squared_error, mean_absolute_error, r2_score"
   ]
  },
  {
   "cell_type": "code",
   "execution_count": null,
   "id": "d5731377-e056-4415-9c77-d24e32206681",
   "metadata": {},
   "outputs": [],
   "source": [
    "PLOT_VARIABLE = \"residuals\"\n",
    "VARIABLE = \"t2max\"\n",
    "COVARIATE = \"gmst\"\n",
    "num_samples = 5_000"
   ]
  },
  {
   "cell_type": "code",
   "execution_count": null,
   "id": "f138355a-c5fe-4af1-ae4a-9687809ae58b",
   "metadata": {},
   "outputs": [],
   "source": [
    "data_results = az.extract(az_ds, group=\"posterior_predictive\", num_samples=num_samples).median(dim=[\"sample\"]).load()\n",
    "data_results = data_results.sortby(\"gmst\")\n",
    "y_pred = data_results[variable].rename(\"y_pred\")\n",
    "y_true = data_results[f\"{variable}_true\"].rename(\"y_true\")\n",
    "idata = (y_true - y_pred).mean(dim=[covariate]).load().rename(PLOT_VARIABLE)"
   ]
  },
  {
   "cell_type": "code",
   "execution_count": null,
   "id": "8618d328-e298-42ec-afdf-a79a3410bff3",
   "metadata": {},
   "outputs": [],
   "source": [
    "subfigures_path = Path(figures_path).joinpath(f\"{PLOT_VARIABLE}/posterior_predictive\")\n",
    "subfigures_path.mkdir(parents=True, exist_ok=True)\n",
    "\n",
    "utils_region.plot_static_spatial_variable_redfeten(\n",
    "    idata,\n",
    "    figures_path=subfigures_path,\n",
    "    cbar_label=utils_region.VARIABLE_LABELS[PLOT_VARIABLE],\n",
    "    cmap=\"Reds_r\",\n",
    "    bounds = (-7.5, 10, 7.5)\n",
    ")"
   ]
  },
  {
   "cell_type": "markdown",
   "id": "307c0864-630e-4224-935b-e327521cac92",
   "metadata": {},
   "source": [
    "### III - Absolute Residuals"
   ]
  },
  {
   "cell_type": "code",
   "execution_count": null,
   "id": "1de0b148-d934-4faf-b4d0-0622904d538e",
   "metadata": {},
   "outputs": [],
   "source": [
    "PLOT_VARIABLE = \"residuals_abs\"\n",
    "VARIABLE = \"t2max\"\n",
    "COVARIATE = \"gmst\"\n",
    "num_samples = 5_000"
   ]
  },
  {
   "cell_type": "code",
   "execution_count": null,
   "id": "8c53eb4f-85ee-4845-b10d-8d131c21324c",
   "metadata": {},
   "outputs": [],
   "source": [
    "data_results = az.extract(az_ds, group=\"posterior_predictive\", num_samples=num_samples).median(dim=[\"sample\"]).load()\n",
    "data_results = data_results.sortby(\"gmst\")\n",
    "y_pred = data_results[variable].rename(\"y_pred\")\n",
    "y_true = data_results[f\"{variable}_true\"].rename(\"y_true\")\n",
    "idata = np.abs(y_true - y_pred).mean(dim=[covariate]).load().rename(PLOT_VARIABLE)"
   ]
  },
  {
   "cell_type": "code",
   "execution_count": null,
   "id": "a1074ecf-44c9-4ff7-b91e-38393e32ceb8",
   "metadata": {},
   "outputs": [],
   "source": [
    "subfigures_path = Path(figures_path).joinpath(f\"{PLOT_VARIABLE}/posterior_predictive\")\n",
    "subfigures_path.mkdir(parents=True, exist_ok=True)\n",
    "\n",
    "utils_region.plot_static_spatial_variable_redfeten(\n",
    "    idata,\n",
    "    figures_path=subfigures_path,\n",
    "    cbar_label=utils_region.VARIABLE_LABELS[PLOT_VARIABLE],\n",
    "    cmap=\"Reds\",\n",
    "    bounds = (0.0, 10, 7.5)\n",
    ")"
   ]
  },
  {
   "cell_type": "markdown",
   "id": "c2a8d3a6-e568-4c36-adbd-7c3a6420c02c",
   "metadata": {},
   "source": [
    "## Model Errors - All"
   ]
  },
  {
   "cell_type": "markdown",
   "id": "3db19107-9438-4e3d-9cd1-37b7ccaf6dfb",
   "metadata": {
    "editable": true,
    "slideshow": {
     "slide_type": ""
    },
    "tags": []
   },
   "source": [
    "### Negative Log-Likelihood - All"
   ]
  },
  {
   "cell_type": "code",
   "execution_count": null,
   "id": "f9833de0-f0d2-4ceb-bb69-00e8b01987b3",
   "metadata": {},
   "outputs": [],
   "source": [
    "subfigures_path = figures_path.joinpath(\"nll\")\n",
    "subfigures_path.mkdir(parents=True, exist_ok=True)"
   ]
  },
  {
   "cell_type": "markdown",
   "id": "226b847d-3549-4cb1-a164-7106b35757f4",
   "metadata": {},
   "source": [
    "#### Posterior"
   ]
  },
  {
   "cell_type": "code",
   "execution_count": null,
   "id": "9219d584-cccb-4697-a65b-7bd06b3763be",
   "metadata": {},
   "outputs": [],
   "source": [
    "variable = \"t2max\"\n",
    "az_ds = az.from_zarr(store=str(results_data_path))\n",
    "idata = az.extract(az_ds, group=\"log_likelihood\", num_samples=4000).median(dim=[\"sample\"]).load()\n",
    "isub_post = idata.sortby(\"gmst\")[variable].rename(\"nll\").sum(dim=covariate)"
   ]
  },
  {
   "cell_type": "markdown",
   "id": "a6514d31-1e04-49ca-986d-a872cd8f22af",
   "metadata": {},
   "source": [
    "#### Posterior - Predictive"
   ]
  },
  {
   "cell_type": "code",
   "execution_count": null,
   "id": "9a011a67-b120-4469-bde4-8452f941b94a",
   "metadata": {},
   "outputs": [],
   "source": [
    "\n",
    "az_ds = az.from_zarr(store=str(results_data_path))\n",
    "idata = az.extract(az_ds, group=\"posterior_predictive\", num_samples=4000).median(dim=[\"sample\"]).load()\n",
    "isub_postpred = idata.sortby(\"gmst\")[\"nll\"].sum(dim=covariate)"
   ]
  },
  {
   "cell_type": "code",
   "execution_count": null,
   "id": "c51b488f-dce8-48b1-b5c8-fc6673076df9",
   "metadata": {},
   "outputs": [],
   "source": [
    "# labels\n",
    "cbar_label = \"Negative Log Predictive Density\\n\"\n",
    "cbar_label += r\"$\\boldsymbol{L}(\\mathbf{y};\\boldsymbol{\\theta},\\boldsymbol{\\phi},\\mathcal{D})$\""
   ]
  },
  {
   "cell_type": "markdown",
   "id": "b8ae9586-6c89-4bd2-bf34-964ad0c4c260",
   "metadata": {},
   "source": [
    "#### Density"
   ]
  },
  {
   "cell_type": "code",
   "execution_count": null,
   "id": "724c83c7-e4bd-4ed3-995f-cbf1d66b057b",
   "metadata": {},
   "outputs": [],
   "source": [
    "returns = []\n",
    "\n",
    "returns.append({\n",
    "    \"period\": \"Red Feten (Posterior)\",\n",
    "    \"color\": \"gray\",\n",
    "    \"values\":  isub_post.values.ravel(),\n",
    "    \"linestyle\": \"-\",\n",
    "    \"values_units\": \"\", # \"[mm/day]\",\n",
    "})\n",
    "\n",
    "returns.append({\n",
    "    \"period\": \"Red Feten (Posterior Predictive)\",\n",
    "    \"color\": \"tab:blue\",\n",
    "    \"values\":  isub_postpred.where(isub_postpred.red_feten_mask == 1, drop=True).values.ravel(),\n",
    "    \"linestyle\": \"-\",\n",
    "    \"values_units\": \"\", # \"[mm/day]\",\n",
    "})\n",
    "returns.append({\n",
    "    \"period\": \"Not Red Feten (Posterior Predictive)\",\n",
    "    \"color\": \"tab:red\",\n",
    "    \"linestyle\": \"--\",\n",
    "    \"values\":  isub_postpred.where(isub_postpred.red_feten_mask == 0, drop=True).values.ravel(),\n",
    "    \"values_units\": \"\", # \"[mm/day]\",\n",
    "})"
   ]
  },
  {
   "cell_type": "code",
   "execution_count": null,
   "id": "f85c176c-49e6-4375-a19b-5189b0857c2a",
   "metadata": {
    "editable": true,
    "slideshow": {
     "slide_type": ""
    },
    "tags": []
   },
   "outputs": [],
   "source": [
    "fig, ax = plot_density_multiple(returns, log_bins=False)\n",
    "fig.set_size_inches(6, 5)\n",
    "# fig.set_size_inches(8, 4.5)\n",
    "ax.set(\n",
    "    dpi=100,\n",
    "    xlabel=cbar_label,\n",
    ")\n",
    "\n",
    "formatter = ScalarFormatter()\n",
    "formatter.set_scientific(False)\n",
    "ax.xaxis.set_major_formatter(formatter)\n",
    "plt.legend(fontsize=10, loc=\"upper left\")\n",
    "plt.tight_layout()\n",
    "fig.savefig(subfigures_path.joinpath(\"density_all.png\"))\n",
    "plt.show()"
   ]
  },
  {
   "cell_type": "markdown",
   "id": "b1639cfd-d126-47a8-acf3-9029c36f7faf",
   "metadata": {},
   "source": [
    "## Static Spatial Variables"
   ]
  },
  {
   "cell_type": "markdown",
   "id": "cf8c5a1e-59cc-4c0e-9d63-7df331406db3",
   "metadata": {},
   "source": [
    "### Concentration - Posterior"
   ]
  },
  {
   "cell_type": "code",
   "execution_count": null,
   "id": "efd7cb53-c557-4d4e-8270-06f4a833c25a",
   "metadata": {},
   "outputs": [],
   "source": [
    "PLOT_VARIABLE = \"concentration\"\n",
    "VARIABLE = \"t2max\"\n",
    "COVARIATE = \"gmst\"\n",
    "num_samples = 5_000"
   ]
  },
  {
   "cell_type": "code",
   "execution_count": null,
   "id": "4a1463f9-ef70-44b7-9338-46ac61e0d480",
   "metadata": {},
   "outputs": [],
   "source": [
    "az_ds = az.from_zarr(store=str(results_data_path))\n",
    "idata = az.extract(az_ds, group=\"posterior\", num_samples=num_samples)\n",
    "idata = idata.sortby(\"gmst\")\n",
    "idata = data_results[PLOT_VARIABLE]"
   ]
  },
  {
   "cell_type": "code",
   "execution_count": null,
   "id": "c3bec900-9805-403a-9e30-95a4866f0b55",
   "metadata": {},
   "outputs": [],
   "source": [
    "subfigures_path = Path(figures_path).joinpath(f\"{PLOT_VARIABLE}/posterior\")\n",
    "subfigures_path.mkdir(parents=True, exist_ok=True)\n",
    "\n",
    "utils_region.plot_static_spatial_variable(\n",
    "    idata,\n",
    "    figures_path=subfigures_path,\n",
    "    cbar_label=utils_region.VARIABLE_LABELS[PLOT_VARIABLE],\n",
    "    cmap=\"Reds\",\n",
    "    bounds = (-1.0, 10, 0.0)\n",
    ")"
   ]
  },
  {
   "cell_type": "markdown",
   "id": "b1709174-4d19-4639-861d-4703699a92af",
   "metadata": {},
   "source": [
    "### Concentration - Posterior Predictive"
   ]
  },
  {
   "cell_type": "code",
   "execution_count": null,
   "id": "221f25e4-1ba7-4845-9158-462620919059",
   "metadata": {},
   "outputs": [],
   "source": [
    "PLOT_VARIABLE = \"concentration\"\n",
    "VARIABLE = \"t2max\"\n",
    "COVARIATE = \"gmst\"\n",
    "num_samples = 5_000"
   ]
  },
  {
   "cell_type": "code",
   "execution_count": null,
   "id": "486503d0-183e-477e-b11c-b8fe8c8cd766",
   "metadata": {},
   "outputs": [],
   "source": [
    "az_ds = az.from_zarr(store=str(results_data_path))\n",
    "idata = az.extract(az_ds, group=\"posterior_predictive\", num_samples=4000)\n",
    "# idata = idata.sortby(\"gmst\")\n",
    "idata = data_results[PLOT_VARIABLE]"
   ]
  },
  {
   "cell_type": "code",
   "execution_count": null,
   "id": "7c2384e9-9170-441d-871f-5d63a94c67ef",
   "metadata": {},
   "outputs": [],
   "source": [
    "subfigures_path = Path(figures_path).joinpath(f\"{PLOT_VARIABLE}/posterior_predictive\")\n",
    "subfigures_path.mkdir(parents=True, exist_ok=True)\n",
    "\n",
    "utils_region.plot_static_spatial_variable(\n",
    "    idata,\n",
    "    figures_path=subfigures_path,\n",
    "    cbar_label=utils_region.VARIABLE_LABELS[PLOT_VARIABLE],\n",
    "    cmap=\"Reds\",\n",
    "    bounds = (-1.0, 10, 0.0)\n",
    ")"
   ]
  },
  {
   "cell_type": "markdown",
   "id": "fd51c6a8-687c-4e45-8fa6-093434b35d25",
   "metadata": {},
   "source": [
    "### Scale - Posterior"
   ]
  },
  {
   "cell_type": "code",
   "execution_count": null,
   "id": "7ab41842-ca25-4193-89c2-7c94effe115c",
   "metadata": {},
   "outputs": [],
   "source": [
    "PLOT_VARIABLE = \"scale\"\n",
    "VARIABLE = \"t2max\"\n",
    "COVARIATE = \"gmst\"\n",
    "num_samples = 5_000"
   ]
  },
  {
   "cell_type": "code",
   "execution_count": null,
   "id": "9736fe7f-decc-46a3-8532-619cb4812330",
   "metadata": {},
   "outputs": [],
   "source": [
    "az_ds = az.from_zarr(store=str(results_data_path))\n",
    "idata = az.extract(az_ds, group=\"posterior\", num_samples=4000)\n",
    "idata = idata.sortby(\"gmst\")\n",
    "idata = data_results[PLOT_VARIABLE]"
   ]
  },
  {
   "cell_type": "code",
   "execution_count": null,
   "id": "925e0673-5b4a-47c6-b531-af366ba2033c",
   "metadata": {},
   "outputs": [],
   "source": [
    "subfigures_path = Path(figures_path).joinpath(f\"{PLOT_VARIABLE}/posterior\")\n",
    "subfigures_path.mkdir(parents=True, exist_ok=True)\n",
    "\n",
    "utils_region.plot_static_spatial_variable(\n",
    "    idata,\n",
    "    figures_path=subfigures_path,\n",
    "    cbar_label=utils_region.VARIABLE_LABELS[PLOT_VARIABLE],\n",
    "    cmap=\"Reds\",\n",
    "    bounds = (0.5, 10, 3.0)\n",
    ")"
   ]
  },
  {
   "cell_type": "markdown",
   "id": "c92e3490-5c43-4870-9ca5-645d66d29a0d",
   "metadata": {},
   "source": [
    "### Scale - Posterior Predictive"
   ]
  },
  {
   "cell_type": "code",
   "execution_count": null,
   "id": "e169e554-a0a3-48b3-a136-fd3820fe0eb2",
   "metadata": {},
   "outputs": [],
   "source": [
    "PLOT_VARIABLE = \"scale\"\n",
    "VARIABLE = \"t2max\"\n",
    "COVARIATE = \"gmst\"\n",
    "num_samples = 5_000"
   ]
  },
  {
   "cell_type": "code",
   "execution_count": null,
   "id": "4cf564db-e794-426c-b8eb-11e0ac89ac66",
   "metadata": {},
   "outputs": [],
   "source": [
    "az_ds = az.from_zarr(store=str(results_data_path))\n",
    "idata = az.extract(az_ds, group=\"posterior_predictive\", num_samples=4000)\n",
    "idata = idata.sortby(\"gmst\")\n",
    "idata = data_results[PLOT_VARIABLE]"
   ]
  },
  {
   "cell_type": "code",
   "execution_count": null,
   "id": "fe8ff32f-22ae-4829-a824-435a64d39fd2",
   "metadata": {},
   "outputs": [],
   "source": [
    "subfigures_path = Path(figures_path).joinpath(f\"{PLOT_VARIABLE}/posterior_predictive\")\n",
    "subfigures_path.mkdir(parents=True, exist_ok=True)\n",
    "\n",
    "utils_region.plot_static_spatial_variable(\n",
    "    idata,\n",
    "    figures_path=subfigures_path,\n",
    "    cbar_label=utils_region.VARIABLE_LABELS[PLOT_VARIABLE],\n",
    "    cmap=\"Reds\",\n",
    "    bounds = (0.5, 10, 3.0)\n",
    ")"
   ]
  },
  {
   "cell_type": "markdown",
   "id": "db87e0d4-2e1d-4797-b5f5-b03eca001fc1",
   "metadata": {},
   "source": [
    "### Location Intercept - Posterior"
   ]
  },
  {
   "cell_type": "code",
   "execution_count": null,
   "id": "24128aa9-62eb-4a42-abbd-bd63d1723d9b",
   "metadata": {},
   "outputs": [],
   "source": [
    "PLOT_VARIABLE = \"location_intercept\"\n",
    "VARIABLE = \"t2max\"\n",
    "COVARIATE = \"gmst\"\n",
    "num_samples = 5_000"
   ]
  },
  {
   "cell_type": "code",
   "execution_count": null,
   "id": "bafa4430-818e-4013-b8e0-b88265175570",
   "metadata": {},
   "outputs": [],
   "source": [
    "az_ds = az.from_zarr(store=str(results_data_path))\n",
    "idata = az.extract(az_ds, group=\"posterior\", num_samples=4000)\n",
    "idata = idata.sortby(\"gmst\")\n",
    "idata = data_results[PLOT_VARIABLE]"
   ]
  },
  {
   "cell_type": "code",
   "execution_count": null,
   "id": "cd6d1eb5-878a-454e-85f8-558c5a850a57",
   "metadata": {},
   "outputs": [],
   "source": [
    "subfigures_path = Path(figures_path).joinpath(f\"{PLOT_VARIABLE}/posterior\")\n",
    "subfigures_path.mkdir(parents=True, exist_ok=True)\n",
    "\n",
    "utils_region.plot_static_spatial_variable(\n",
    "    idata,\n",
    "    figures_path=subfigures_path,\n",
    "    cbar_label=utils_region.VARIABLE_LABELS[PLOT_VARIABLE],\n",
    "    cmap=\"Reds\",\n",
    "    bounds = (20.0, 10, 45.0)\n",
    ")"
   ]
  },
  {
   "cell_type": "markdown",
   "id": "36ea00f2-3ed2-4a29-bafb-52bd9e67112b",
   "metadata": {},
   "source": [
    "### Location Intercept - Posterior Predictive"
   ]
  },
  {
   "cell_type": "code",
   "execution_count": null,
   "id": "e763b309-f345-4507-aa27-232fddb4c4e8",
   "metadata": {},
   "outputs": [],
   "source": [
    "PLOT_VARIABLE = \"location_intercept\"\n",
    "VARIABLE = \"t2max\"\n",
    "COVARIATE = \"gmst\"\n",
    "num_samples = 5_000"
   ]
  },
  {
   "cell_type": "code",
   "execution_count": null,
   "id": "f3faf371-cbd5-443b-9fd7-7d5c44e25153",
   "metadata": {},
   "outputs": [],
   "source": [
    "az_ds = az.from_zarr(store=str(results_data_path))\n",
    "idata = az.extract(az_ds, group=\"posterior_predictive\", num_samples=num_samples)\n",
    "idata = idata.sortby(\"gmst\")\n",
    "idata = data_results[PLOT_VARIABLE]"
   ]
  },
  {
   "cell_type": "code",
   "execution_count": null,
   "id": "8275e21d-2545-49e5-bca4-583103bb9989",
   "metadata": {},
   "outputs": [],
   "source": [
    "subfigures_path = Path(figures_path).joinpath(f\"{PLOT_VARIABLE}/posterior_predictive\")\n",
    "subfigures_path.mkdir(parents=True, exist_ok=True)\n",
    "\n",
    "utils_region.plot_static_spatial_variable(\n",
    "    idata,\n",
    "    figures_path=subfigures_path,\n",
    "    cbar_label=utils_region.VARIABLE_LABELS[PLOT_VARIABLE],\n",
    "    cmap=\"Reds\",\n",
    "    bounds = (20.0, 10, 45.0)\n",
    ")"
   ]
  },
  {
   "cell_type": "markdown",
   "id": "6ae94b7f-8b1c-432d-b971-f69e73d54e39",
   "metadata": {},
   "source": [
    "### Location Slope - Posterior"
   ]
  },
  {
   "cell_type": "code",
   "execution_count": null,
   "id": "3ff756c1-5a43-4257-aa10-ab01cd15c61e",
   "metadata": {},
   "outputs": [],
   "source": [
    "PLOT_VARIABLE = \"location_slope\"\n",
    "VARIABLE = \"t2max\"\n",
    "COVARIATE = \"gmst\"\n",
    "num_samples = 5_000"
   ]
  },
  {
   "cell_type": "code",
   "execution_count": null,
   "id": "43e9b4bd-6dd1-463d-88b2-4081b368722d",
   "metadata": {},
   "outputs": [],
   "source": [
    "az_ds = az.from_zarr(store=str(results_data_path))\n",
    "idata = az.extract(az_ds, group=\"posterior\", num_samples=num_samples)\n",
    "idata = idata.sortby(\"gmst\")\n",
    "idata = data_results[PLOT_VARIABLE]"
   ]
  },
  {
   "cell_type": "code",
   "execution_count": null,
   "id": "a413815a-b9fd-4df7-a192-360aaa9235f2",
   "metadata": {},
   "outputs": [],
   "source": [
    "subfigures_path = Path(figures_path).joinpath(f\"{PLOT_VARIABLE}/posterior\")\n",
    "subfigures_path.mkdir(parents=True, exist_ok=True)\n",
    "\n",
    "utils_region.plot_static_spatial_variable(\n",
    "    idata,\n",
    "    figures_path=subfigures_path,\n",
    "    cbar_label=utils_region.VARIABLE_LABELS[PLOT_VARIABLE],\n",
    "    cmap=\"Reds\",\n",
    "    bounds = (0.0, 8, 2.5)\n",
    ")"
   ]
  },
  {
   "cell_type": "markdown",
   "id": "a8be2bc3-bfca-4020-9101-c326c099d5fc",
   "metadata": {},
   "source": [
    "### Location Slope - Posterior Predictive"
   ]
  },
  {
   "cell_type": "code",
   "execution_count": null,
   "id": "d9b7c704-6026-42a1-947b-c87750e81739",
   "metadata": {},
   "outputs": [],
   "source": [
    "PLOT_VARIABLE = \"location_slope\"\n",
    "VARIABLE = \"t2max\"\n",
    "COVARIATE = \"gmst\"\n",
    "num_samples = 5_000"
   ]
  },
  {
   "cell_type": "code",
   "execution_count": null,
   "id": "6acf427b-3bb7-4b6b-ba25-127d6e78131a",
   "metadata": {},
   "outputs": [],
   "source": [
    "az_ds = az.from_zarr(store=str(results_data_path))\n",
    "idata = az.extract(az_ds, group=\"posterior_predictive\", num_samples=num_samples)\n",
    "idata = idata.sortby(\"gmst\")\n",
    "idata = data_results[PLOT_VARIABLE]"
   ]
  },
  {
   "cell_type": "code",
   "execution_count": null,
   "id": "bbae6586-ca4a-442a-8575-826c77cf450f",
   "metadata": {},
   "outputs": [],
   "source": [
    "subfigures_path = Path(figures_path).joinpath(f\"{PLOT_VARIABLE}/posterior_predictive\")\n",
    "subfigures_path.mkdir(parents=True, exist_ok=True)\n",
    "\n",
    "utils_region.plot_static_spatial_variable(\n",
    "    idata,\n",
    "    figures_path=subfigures_path,\n",
    "    cbar_label=utils_region.VARIABLE_LABELS[PLOT_VARIABLE],\n",
    "    cmap=\"Reds\",\n",
    "    bounds = (0.0, 8, 2.5)\n",
    ")"
   ]
  },
  {
   "cell_type": "markdown",
   "id": "09f56714-291b-46ea-ac88-75f0880fefe8",
   "metadata": {},
   "source": [
    "## Dynamic Spatial Variables"
   ]
  },
  {
   "cell_type": "markdown",
   "id": "0b706c48-d653-465e-9177-af26efcacd9a",
   "metadata": {},
   "source": [
    "### Locaiton - Posterior"
   ]
  },
  {
   "cell_type": "code",
   "execution_count": null,
   "id": "45960fe6-fb24-4df9-965e-3531ff188609",
   "metadata": {},
   "outputs": [],
   "source": [
    "PLOT_VARIABLE = \"location\"\n",
    "VARIABLE = \"t2max\"\n",
    "COVARIATE = \"gmst\"\n",
    "num_samples = 5_000"
   ]
  },
  {
   "cell_type": "code",
   "execution_count": null,
   "id": "d5877da3-f7ca-4cc9-a04e-e94ccf7aed2c",
   "metadata": {},
   "outputs": [],
   "source": [
    "data_results = az.extract(az_ds, group=\"posterior\", num_samples=num_samples).median(dim=[\"sample\"]).load()\n",
    "data_results = data_results.sortby(\"gmst\")\n",
    "idata = data_results[PLOT_VARIABLE]"
   ]
  },
  {
   "cell_type": "code",
   "execution_count": null,
   "id": "7d69e8b9-db00-4826-aff5-70dedb30e17f",
   "metadata": {},
   "outputs": [],
   "source": [
    "subfigures_path = Path(figures_path).joinpath(f\"{PLOT_VARIABLE}/posterior\")\n",
    "subfigures_path.mkdir(parents=True, exist_ok=True)\n",
    "\n",
    "utils_region.plot_dynamic_spatial_variable_postpred(\n",
    "    idata,\n",
    "    figures_path=subfigures_path,\n",
    "    cbar_label=utils_region.VARIABLE_LABELS[PLOT_VARIABLE],\n",
    "    cmap=\"Reds\",\n",
    "    bounds = (20, 10, 45),\n",
    "    covariate = covariate,\n",
    "    units = \"[°C]\"\n",
    ")"
   ]
  },
  {
   "cell_type": "markdown",
   "id": "cbf19454-1818-433e-80c5-64d67a13de27",
   "metadata": {},
   "source": [
    "### Locaiton - Posterior Predictive"
   ]
  },
  {
   "cell_type": "code",
   "execution_count": null,
   "id": "717b04ad-1aa0-4fec-8999-2e7a25a5b283",
   "metadata": {},
   "outputs": [],
   "source": [
    "PLOT_VARIABLE = \"location\"\n",
    "VARIABLE = \"t2max\"\n",
    "COVARIATE = \"gmst\"\n",
    "num_samples = 5_000"
   ]
  },
  {
   "cell_type": "code",
   "execution_count": null,
   "id": "dd5efbae-2d0b-432f-bd1e-44b70f12aab3",
   "metadata": {},
   "outputs": [],
   "source": [
    "data_results = az.extract(az_ds, group=\"posterior_predictive\", num_samples=num_samples).median(dim=[\"sample\"]).load()\n",
    "data_results = data_results.sortby(\"gmst\")\n",
    "idata = data_results[PLOT_VARIABLE]"
   ]
  },
  {
   "cell_type": "code",
   "execution_count": null,
   "id": "bb41c727-26cb-4884-8131-e753d3660d46",
   "metadata": {},
   "outputs": [],
   "source": [
    "subfigures_path = Path(figures_path).joinpath(f\"{PLOT_VARIABLE}/posterior_predictive\")\n",
    "subfigures_path.mkdir(parents=True, exist_ok=True)\n",
    "\n",
    "utils_region.plot_dynamic_spatial_variable_postpred(\n",
    "    idata,\n",
    "    figures_path=subfigures_path,\n",
    "    cbar_label=utils_region.VARIABLE_LABELS[PLOT_VARIABLE],\n",
    "    cmap=\"Reds\",\n",
    "    bounds = (20, 10, 45),\n",
    "    covariate = covariate,\n",
    "    units = \"[°C]\"\n",
    ")"
   ]
  },
  {
   "cell_type": "markdown",
   "id": "4c889879-f6bb-4daa-8361-57b5b5a22a5c",
   "metadata": {},
   "source": [
    "### Locaiton - Predictions"
   ]
  },
  {
   "cell_type": "code",
   "execution_count": null,
   "id": "71eb3e59-cdb3-4d15-a3de-9bcb8c193b2d",
   "metadata": {},
   "outputs": [],
   "source": [
    "PLOT_VARIABLE = \"location\"\n",
    "VARIABLE = \"t2max\"\n",
    "COVARIATE = \"gmst\"\n",
    "num_samples = 5_000"
   ]
  },
  {
   "cell_type": "code",
   "execution_count": null,
   "id": "68941f7b-6c04-471b-bdde-9149979d693f",
   "metadata": {},
   "outputs": [],
   "source": [
    "data_results = az.extract(az_ds, group=\"predictions\", num_samples=num_samples).median(dim=[\"sample\"]).load()\n",
    "data_results = data_results.sortby(\"gmst\")\n",
    "idata = data_results[PLOT_VARIABLE]"
   ]
  },
  {
   "cell_type": "code",
   "execution_count": null,
   "id": "571195a8-c481-44dd-abd6-9395decf57c5",
   "metadata": {},
   "outputs": [],
   "source": [
    "subfigures_path = Path(figures_path).joinpath(f\"{PLOT_VARIABLE}/predictions\")\n",
    "subfigures_path.mkdir(parents=True, exist_ok=True)\n",
    "\n",
    "utils_region.plot_dynamic_spatial_variable_gmst_pred(\n",
    "    idata,\n",
    "    figures_path=subfigures_path,\n",
    "    cbar_label=utils_region.VARIABLE_LABELS[PLOT_VARIABLE],\n",
    "    cmap=\"Reds\",\n",
    "    bounds = (20, 10, 45),\n",
    "    covariate = covariate\n",
    ")"
   ]
  },
  {
   "cell_type": "markdown",
   "id": "840b52de-bfda-484f-bd13-4536249d2be3",
   "metadata": {},
   "source": [
    "### Locaiton Difference - Posterior"
   ]
  },
  {
   "cell_type": "code",
   "execution_count": null,
   "id": "cf37fd95-cf2b-4e5d-b40e-59d19dbb8c2b",
   "metadata": {},
   "outputs": [],
   "source": [
    "PLOT_VARIABLE = \"location\"\n",
    "VARIABLE = \"t2max\"\n",
    "COVARIATE = \"gmst\"\n",
    "num_samples = 5_000"
   ]
  },
  {
   "cell_type": "code",
   "execution_count": null,
   "id": "5ffea0c5-9705-4ade-a2d3-147333d70812",
   "metadata": {},
   "outputs": [],
   "source": [
    "data_results = az.extract(az_ds, group=\"posterior\", num_samples=num_samples).median(dim=[\"sample\"]).load()\n",
    "data_results = data_results.sortby(\"gmst\")\n",
    "idata = data_results[PLOT_VARIABLE]"
   ]
  },
  {
   "cell_type": "code",
   "execution_count": null,
   "id": "29598e91-51e5-4c0a-87ec-0dcc4faac03b",
   "metadata": {},
   "outputs": [],
   "source": [
    "subfigures_path = Path(figures_path).joinpath(f\"{PLOT_VARIABLE}_difference/posterior\")\n",
    "subfigures_path.mkdir(parents=True, exist_ok=True)\n",
    "\n",
    "utils_region.plot_dynamic_spatial_variable_diff_postpred(\n",
    "    idata,\n",
    "    figures_path=subfigures_path,\n",
    "    cbar_label=utils_region.VARIABLE_LABELS[f\"{PLOT_VARIABLE}_difference\"],\n",
    "    cmap=\"Reds\",\n",
    "    bounds = (1.0, 10, 2.5),\n",
    "    covariate = covariate,\n",
    "    units = \"[°C]\"\n",
    ")"
   ]
  },
  {
   "cell_type": "markdown",
   "id": "6e4c09bb-b133-4c1d-8490-7f86287367f2",
   "metadata": {},
   "source": [
    "### Locaiton Difference - Posterior Predictive"
   ]
  },
  {
   "cell_type": "code",
   "execution_count": null,
   "id": "226b09a3-4a4b-42fd-a38d-b163076437ee",
   "metadata": {},
   "outputs": [],
   "source": [
    "PLOT_VARIABLE = \"location\"\n",
    "VARIABLE = \"t2max\"\n",
    "COVARIATE = \"gmst\"\n",
    "num_samples = 5_000"
   ]
  },
  {
   "cell_type": "code",
   "execution_count": null,
   "id": "9c3c78bb-0e7b-47b3-9e26-be853d4f1056",
   "metadata": {},
   "outputs": [],
   "source": [
    "data_results = az.extract(az_ds, group=\"posterior_predictive\", num_samples=num_samples).median(dim=[\"sample\"]).load()\n",
    "data_results = data_results.sortby(\"gmst\")\n",
    "idata = data_results[PLOT_VARIABLE]"
   ]
  },
  {
   "cell_type": "code",
   "execution_count": null,
   "id": "5326b30f-631f-4523-8e2f-4a473e4e1a56",
   "metadata": {},
   "outputs": [],
   "source": [
    "subfigures_path = Path(figures_path).joinpath(f\"{PLOT_VARIABLE}_difference/posterior_predictive\")\n",
    "subfigures_path.mkdir(parents=True, exist_ok=True)\n",
    "\n",
    "utils_region.plot_dynamic_spatial_variable_diff_postpred(\n",
    "    idata,\n",
    "    figures_path=subfigures_path,\n",
    "    cbar_label=utils_region.VARIABLE_LABELS[f\"{PLOT_VARIABLE}_difference\"],\n",
    "    cmap=\"Reds\",\n",
    "    bounds = (1.0, 10, 2.5),\n",
    "    covariate = covariate,\n",
    "    units = \"[°C]\"\n",
    ")"
   ]
  },
  {
   "cell_type": "markdown",
   "id": "2472b393-1935-4c0f-b5a6-9e646573c112",
   "metadata": {},
   "source": [
    "### Locaiton Difference - Predictions"
   ]
  },
  {
   "cell_type": "code",
   "execution_count": null,
   "id": "da396600-5088-4768-81fb-d30fa1159129",
   "metadata": {},
   "outputs": [],
   "source": [
    "PLOT_VARIABLE = \"location\"\n",
    "VARIABLE = \"t2max\"\n",
    "COVARIATE = \"gmst\"\n",
    "num_samples = 5_000"
   ]
  },
  {
   "cell_type": "code",
   "execution_count": null,
   "id": "5eaaa671-7590-403f-8354-afc75cc925f1",
   "metadata": {},
   "outputs": [],
   "source": [
    "data_results = az.extract(az_ds, group=\"predictions\", num_samples=num_samples).median(dim=[\"sample\"]).load()\n",
    "data_results = data_results.sortby(\"gmst\")\n",
    "idata = data_results[PLOT_VARIABLE]"
   ]
  },
  {
   "cell_type": "code",
   "execution_count": null,
   "id": "a16994cc-3a30-42e6-8e82-603de7bcf817",
   "metadata": {},
   "outputs": [],
   "source": [
    "subfigures_path = Path(figures_path).joinpath(f\"{PLOT_VARIABLE}_difference/predictions\")\n",
    "subfigures_path.mkdir(parents=True, exist_ok=True)\n",
    "\n",
    "utils_region.plot_dynamic_spatial_variable_diff_gmst_pred(\n",
    "    idata,\n",
    "    figures_path=subfigures_path,\n",
    "    cbar_label=utils_region.VARIABLE_LABELS[f\"{PLOT_VARIABLE}_difference\"],\n",
    "    cmap=\"Reds\",\n",
    "    bounds = (1.0, 10, 2.5),\n",
    "    covariate = covariate,\n",
    "    periods = [0.0, 1.3, 2.5]\n",
    ")"
   ]
  },
  {
   "cell_type": "markdown",
   "id": "2e0f6b3f-6b9b-405c-9777-ac2f23646f9f",
   "metadata": {},
   "source": [
    "## Dynamic Spatial Variables - Post Processing"
   ]
  },
  {
   "cell_type": "markdown",
   "id": "2525fab2-b276-4a20-bbfd-897fb2647083",
   "metadata": {},
   "source": [
    "### 100-Year Return Period - Posterior"
   ]
  },
  {
   "cell_type": "code",
   "execution_count": null,
   "id": "c60948bf-904b-4df8-9bde-1ff58c34782d",
   "metadata": {},
   "outputs": [],
   "source": [
    "PLOT_VARIABLE = \"return_level_100\"\n",
    "VARIABLE = \"t2max\"\n",
    "COVARIATE = \"gmst\"\n",
    "num_samples = 5_000"
   ]
  },
  {
   "cell_type": "code",
   "execution_count": null,
   "id": "c0a87e36-1637-4418-bb97-a202b73b937f",
   "metadata": {},
   "outputs": [],
   "source": [
    "data_results = az.extract(az_ds, group=\"posterior\", num_samples=num_samples)\n",
    "data_results = data_results.sortby(\"gmst\")\n",
    "data_results = utils_station.calculate_ds_return_periods(data_results, [\"sample\"])\n",
    "idata = data_results[PLOT_VARIABLE].median(dim=[\"sample\"]).load()"
   ]
  },
  {
   "cell_type": "code",
   "execution_count": null,
   "id": "18476247-467a-4e5e-8b6b-b6e48a25ce41",
   "metadata": {},
   "outputs": [],
   "source": [
    "subfigures_path = Path(figures_path).joinpath(f\"{PLOT_VARIABLE}/posterior\")\n",
    "subfigures_path.mkdir(parents=True, exist_ok=True)\n",
    "\n",
    "utils_region.plot_dynamic_spatial_variable_postpred(\n",
    "    idata,\n",
    "    figures_path=subfigures_path,\n",
    "    cbar_label=utils_region.VARIABLE_LABELS[PLOT_VARIABLE],\n",
    "    cmap=\"Reds\",\n",
    "    bounds = (25, 10, 50),\n",
    "    covariate = covariate,\n",
    "    units = \"[°C]\"\n",
    ")"
   ]
  },
  {
   "cell_type": "markdown",
   "id": "0fd8233c-217e-4036-ba77-72f780a44726",
   "metadata": {},
   "source": [
    "### 100-Year Return Level - Posterior Predictive"
   ]
  },
  {
   "cell_type": "code",
   "execution_count": null,
   "id": "55bf489c-4369-4573-9dc6-e9bba33e787b",
   "metadata": {},
   "outputs": [],
   "source": [
    "PLOT_VARIABLE = \"return_level_100\"\n",
    "VARIABLE = \"t2max\"\n",
    "COVARIATE = \"gmst\"\n",
    "num_samples = 5_000"
   ]
  },
  {
   "cell_type": "code",
   "execution_count": null,
   "id": "1ba8f4a0-0807-4fd4-9e12-1abe8c7691e4",
   "metadata": {},
   "outputs": [],
   "source": [
    "data_results = az.extract(az_ds, group=\"posterior_predictive\", num_samples=num_samples)\n",
    "data_results = data_results.sortby(\"gmst\")\n",
    "data_results = utils_station.calculate_ds_return_periods(data_results, [\"sample\"])\n",
    "idata = data_results[PLOT_VARIABLE].median(dim=[\"sample\"]).load()"
   ]
  },
  {
   "cell_type": "code",
   "execution_count": null,
   "id": "d58bdcb7-c06f-47b7-bd0d-c9489d647d0e",
   "metadata": {},
   "outputs": [],
   "source": [
    "subfigures_path = Path(figures_path).joinpath(f\"{PLOT_VARIABLE}/posterior_predictive\")\n",
    "subfigures_path.mkdir(parents=True, exist_ok=True)\n",
    "\n",
    "utils_region.plot_dynamic_spatial_variable_postpred(\n",
    "    idata,\n",
    "    figures_path=subfigures_path,\n",
    "    cbar_label=utils_region.VARIABLE_LABELS[PLOT_VARIABLE],\n",
    "    cmap=\"Reds\",\n",
    "    bounds = (25, 10, 50),\n",
    "    covariate = covariate,\n",
    "    units = \"[°C]\"\n",
    ")"
   ]
  },
  {
   "cell_type": "markdown",
   "id": "ffb0d8db-0056-4605-9a16-c62378270e3b",
   "metadata": {},
   "source": [
    "### 100-Year Return Level - Predictions"
   ]
  },
  {
   "cell_type": "code",
   "execution_count": null,
   "id": "56fe042e-506a-4dbd-9a11-b021cb050514",
   "metadata": {},
   "outputs": [],
   "source": [
    "PLOT_VARIABLE = \"return_level_100\"\n",
    "VARIABLE = \"t2max\"\n",
    "COVARIATE = \"gmst\"\n",
    "num_samples = 5_000"
   ]
  },
  {
   "cell_type": "code",
   "execution_count": null,
   "id": "0a1ace3e-0aa5-463d-a3c8-70cff4140988",
   "metadata": {},
   "outputs": [],
   "source": [
    "data_results = az.extract(az_ds, group=\"predictions\", num_samples=num_samples)\n",
    "data_results = data_results.sortby(\"gmst\")\n",
    "data_results = utils_station.calculate_ds_return_periods(data_results, [\"sample\"])\n",
    "idata = data_results[PLOT_VARIABLE].median(dim=[\"sample\"]).load()"
   ]
  },
  {
   "cell_type": "code",
   "execution_count": null,
   "id": "ff7ac02c-08ee-4d8e-8975-1d4c9a65b071",
   "metadata": {},
   "outputs": [],
   "source": [
    "subfigures_path = Path(figures_path).joinpath(f\"{PLOT_VARIABLE}/predictions\")\n",
    "subfigures_path.mkdir(parents=True, exist_ok=True)\n",
    "\n",
    "utils_region.plot_dynamic_spatial_variable_gmst_pred(\n",
    "    idata,\n",
    "    figures_path=subfigures_path,\n",
    "    cbar_label=utils_region.VARIABLE_LABELS[PLOT_VARIABLE],\n",
    "    cmap=\"Reds\",\n",
    "    bounds = (25, 10, 50),\n",
    "    covariate = covariate\n",
    ")"
   ]
  },
  {
   "cell_type": "markdown",
   "id": "a7e07de7-39f1-481d-afc4-0c4ab93737c5",
   "metadata": {},
   "source": [
    "### 100-Year Return Level Difference - Posterior"
   ]
  },
  {
   "cell_type": "code",
   "execution_count": null,
   "id": "10c52bf8-c2c2-4c42-be01-d069211b6ee7",
   "metadata": {},
   "outputs": [],
   "source": [
    "PLOT_VARIABLE = \"return_level_100\"\n",
    "VARIABLE = \"t2max\"\n",
    "COVARIATE = \"gmst\"\n",
    "num_samples = 5_000"
   ]
  },
  {
   "cell_type": "code",
   "execution_count": null,
   "id": "e321d186-7fa8-41a4-82c3-89131f9ad8aa",
   "metadata": {},
   "outputs": [],
   "source": [
    "data_results = az.extract(az_ds, group=\"posterior\", num_samples=num_samples)\n",
    "data_results = data_results.sortby(\"gmst\")\n",
    "data_results = utils_station.calculate_ds_return_periods(data_results, [\"sample\"])\n",
    "idata = data_results[PLOT_VARIABLE].median(dim=[\"sample\"]).load()"
   ]
  },
  {
   "cell_type": "code",
   "execution_count": null,
   "id": "accec43d-e651-468f-8c59-ca6e52dedb83",
   "metadata": {},
   "outputs": [],
   "source": [
    "subfigures_path = Path(figures_path).joinpath(f\"{PLOT_VARIABLE}_difference/posterior\")\n",
    "subfigures_path.mkdir(parents=True, exist_ok=True)\n",
    "\n",
    "utils_region.plot_dynamic_spatial_variable_diff_postpred(\n",
    "    idata,\n",
    "    figures_path=subfigures_path,\n",
    "    cbar_label=utils_region.VARIABLE_LABELS[f\"{PLOT_VARIABLE}_difference\"],\n",
    "    cmap=\"Reds\",\n",
    "    bounds = (1.0, 10, 2.5),\n",
    "    covariate = covariate,\n",
    "    units = \"[°C]\"\n",
    ")"
   ]
  },
  {
   "cell_type": "markdown",
   "id": "65487afc-313c-4eaf-aab9-08a0d9770aeb",
   "metadata": {},
   "source": [
    "### 100-Year Return Level Difference - Posterior Predictive"
   ]
  },
  {
   "cell_type": "code",
   "execution_count": null,
   "id": "3af23887-a9ec-4e1c-8e11-4da4883f5a8f",
   "metadata": {},
   "outputs": [],
   "source": [
    "PLOT_VARIABLE = \"return_level_100\"\n",
    "VARIABLE = \"t2max\"\n",
    "COVARIATE = \"gmst\"\n",
    "num_samples = 5_000"
   ]
  },
  {
   "cell_type": "code",
   "execution_count": null,
   "id": "aa4930a4-dada-4338-b066-1d75f5d28a35",
   "metadata": {},
   "outputs": [],
   "source": [
    "data_results = az.extract(az_ds, group=\"posterior_predictive\", num_samples=num_samples)\n",
    "data_results = data_results.sortby(\"gmst\")\n",
    "data_results = utils_station.calculate_ds_return_periods(data_results, [\"sample\"])\n",
    "idata = data_results[PLOT_VARIABLE].median(dim=[\"sample\"]).load()"
   ]
  },
  {
   "cell_type": "code",
   "execution_count": null,
   "id": "68646465-e21b-4108-9fb5-77b81e036530",
   "metadata": {},
   "outputs": [],
   "source": [
    "subfigures_path = Path(figures_path).joinpath(f\"{PLOT_VARIABLE}_difference/posterior_predictive\")\n",
    "subfigures_path.mkdir(parents=True, exist_ok=True)\n",
    "\n",
    "utils_region.plot_dynamic_spatial_variable_diff_postpred(\n",
    "    idata,\n",
    "    figures_path=subfigures_path,\n",
    "    cbar_label=utils_region.VARIABLE_LABELS[f\"{PLOT_VARIABLE}_difference\"],\n",
    "    cmap=\"Reds\",\n",
    "    bounds = (1.0, 10, 2.5),\n",
    "    covariate = covariate,\n",
    "    units = \"[°C]\"\n",
    ")"
   ]
  },
  {
   "cell_type": "markdown",
   "id": "83d0243c-53ec-4caf-a52b-fa6c10844010",
   "metadata": {},
   "source": [
    "### 100-Year Return Level Difference - Predictions"
   ]
  },
  {
   "cell_type": "code",
   "execution_count": null,
   "id": "853f9f34-799b-4ba1-a114-0e77a876f7cd",
   "metadata": {},
   "outputs": [],
   "source": [
    "PLOT_VARIABLE = \"return_level_100\"\n",
    "VARIABLE = \"t2max\"\n",
    "COVARIATE = \"gmst\"\n",
    "num_samples = 5_000"
   ]
  },
  {
   "cell_type": "code",
   "execution_count": null,
   "id": "d6b48abb-808f-4d1e-90be-826cfaed26e4",
   "metadata": {},
   "outputs": [],
   "source": [
    "data_results = az.extract(az_ds, group=\"predictions\", num_samples=num_samples)\n",
    "data_results = data_results.sortby(\"gmst\")\n",
    "data_results = utils_station.calculate_ds_return_periods(data_results, [\"sample\"])\n",
    "idata = data_results[PLOT_VARIABLE].median(dim=[\"sample\"]).load()"
   ]
  },
  {
   "cell_type": "code",
   "execution_count": null,
   "id": "ef062eed-4210-4b3d-92d8-c37e5b7a9e77",
   "metadata": {},
   "outputs": [],
   "source": [
    "subfigures_path = Path(figures_path).joinpath(f\"{PLOT_VARIABLE}_difference/predictions\")\n",
    "subfigures_path.mkdir(parents=True, exist_ok=True)\n",
    "\n",
    "utils_region.plot_dynamic_spatial_variable_diff_gmst_pred(\n",
    "    idata,\n",
    "    figures_path=subfigures_path,\n",
    "    cbar_label=utils_region.VARIABLE_LABELS[f\"{PLOT_VARIABLE}_difference\"],\n",
    "    cmap=\"Reds\",\n",
    "    bounds = (1.0, 10, 2.5),\n",
    "    covariate = covariate,\n",
    "    periods = [0.0, 1.3, 2.5]\n",
    ")"
   ]
  },
  {
   "cell_type": "code",
   "execution_count": null,
   "id": "cc7a9f1a-993c-4afb-b2a6-1e27a4ae709a",
   "metadata": {},
   "outputs": [],
   "source": []
  },
  {
   "cell_type": "code",
   "execution_count": null,
   "id": "28b3f82f-bcc6-4261-bf2e-78b0091f22cc",
   "metadata": {},
   "outputs": [],
   "source": []
  },
  {
   "cell_type": "code",
   "execution_count": null,
   "id": "43d02491-018a-4edf-ad42-fef3d4692a8e",
   "metadata": {},
   "outputs": [],
   "source": []
  },
  {
   "cell_type": "code",
   "execution_count": null,
   "id": "4f84b2fb-6774-4639-9b6b-e61d4549d114",
   "metadata": {},
   "outputs": [],
   "source": []
  }
 ],
 "metadata": {
  "kernelspec": {
   "display_name": "Python [conda env:dynev4eo_gpu]",
   "language": "python",
   "name": "conda-env-dynev4eo_gpu-py"
  },
  "language_info": {
   "codemirror_mode": {
    "name": "ipython",
    "version": 3
   },
   "file_extension": ".py",
   "mimetype": "text/x-python",
   "name": "python",
   "nbconvert_exporter": "python",
   "pygments_lexer": "ipython3",
   "version": "3.11.10"
  }
 },
 "nbformat": 4,
 "nbformat_minor": 5
}
